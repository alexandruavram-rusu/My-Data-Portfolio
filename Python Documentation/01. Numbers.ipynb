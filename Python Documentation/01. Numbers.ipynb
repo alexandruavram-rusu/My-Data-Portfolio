{
 "cells": [
  {
   "cell_type": "markdown",
   "id": "a9517fcd",
   "metadata": {
    "papermill": {
     "duration": 0.014458,
     "end_time": "2021-12-08T17:02:00.518114",
     "exception": false,
     "start_time": "2021-12-08T17:02:00.503656",
     "status": "completed"
    },
    "tags": []
   },
   "source": [
    "# Numbers in Python\n",
    "\n",
    "This first notebook contains simple operations with numbers, first lesson. At least I didn't started with \"Hello World\". That will be in the second lesson."
   ]
  },
  {
   "cell_type": "markdown",
   "id": "ce37fb91",
   "metadata": {
    "papermill": {
     "duration": 0.013197,
     "end_time": "2021-12-08T17:02:00.544344",
     "exception": false,
     "start_time": "2021-12-08T17:02:00.531147",
     "status": "completed"
    },
    "tags": []
   },
   "source": [
    "# Types of Numbers\n",
    "\n",
    "Unlike SQL which can get you confused with various data types, Python uses mainly two numerical data types:\n",
    "\n",
    "* **Integers** - whole numbers, like 2,3,4,5 or -2\n",
    "* **Floating** - numbers that have a decimal point, like: 2.3, 2.902 or even 2.0"
   ]
  },
  {
   "cell_type": "markdown",
   "id": "95de14f2",
   "metadata": {
    "papermill": {
     "duration": 0.013413,
     "end_time": "2021-12-08T17:02:00.570606",
     "exception": false,
     "start_time": "2021-12-08T17:02:00.557193",
     "status": "completed"
    },
    "tags": []
   },
   "source": [
    "# Simple Arithmetic\n",
    "\n",
    "So, lets start with the basics:"
   ]
  },
  {
   "cell_type": "code",
   "execution_count": 1,
   "id": "bd55fee7",
   "metadata": {
    "execution": {
     "iopub.execute_input": "2021-12-08T17:02:00.601151Z",
     "iopub.status.busy": "2021-12-08T17:02:00.599797Z",
     "iopub.status.idle": "2021-12-08T17:02:00.613092Z",
     "shell.execute_reply": "2021-12-08T17:02:00.612243Z",
     "shell.execute_reply.started": "2021-12-08T17:01:08.949504Z"
    },
    "papermill": {
     "duration": 0.02977,
     "end_time": "2021-12-08T17:02:00.613286",
     "exception": false,
     "start_time": "2021-12-08T17:02:00.583516",
     "status": "completed"
    },
    "tags": []
   },
   "outputs": [
    {
     "name": "stdout",
     "output_type": "stream",
     "text": [
      "8\n",
      "4\n",
      "12\n",
      "2.0\n"
     ]
    }
   ],
   "source": [
    "#The Basics: Addition, Substraction, Multiplication and Division\n",
    "\n",
    "print(6 + 2)\n",
    "print(6 - 2)\n",
    "print(6 * 2)\n",
    "print(6 / 3)"
   ]
  },
  {
   "cell_type": "code",
   "execution_count": 2,
   "id": "77f19acd",
   "metadata": {
    "execution": {
     "iopub.execute_input": "2021-12-08T17:02:00.643274Z",
     "iopub.status.busy": "2021-12-08T17:02:00.642514Z",
     "iopub.status.idle": "2021-12-08T17:02:00.651652Z",
     "shell.execute_reply": "2021-12-08T17:02:00.651063Z",
     "shell.execute_reply.started": "2021-12-08T17:01:08.979226Z"
    },
    "papermill": {
     "duration": 0.025136,
     "end_time": "2021-12-08T17:02:00.651810",
     "exception": false,
     "start_time": "2021-12-08T17:02:00.626674",
     "status": "completed"
    },
    "tags": []
   },
   "outputs": [
    {
     "data": {
      "text/plain": [
       "48"
      ]
     },
     "execution_count": 2,
     "metadata": {},
     "output_type": "execute_result"
    }
   ],
   "source": [
    "#The Basics part 2: using paranthesis\n",
    "\n",
    "(6 + 2) * (2 * 3)"
   ]
  },
  {
   "cell_type": "code",
   "execution_count": 3,
   "id": "7a7419f9",
   "metadata": {
    "execution": {
     "iopub.execute_input": "2021-12-08T17:02:00.682529Z",
     "iopub.status.busy": "2021-12-08T17:02:00.681793Z",
     "iopub.status.idle": "2021-12-08T17:02:00.688863Z",
     "shell.execute_reply": "2021-12-08T17:02:00.688296Z",
     "shell.execute_reply.started": "2021-12-08T17:01:08.988720Z"
    },
    "papermill": {
     "duration": 0.023604,
     "end_time": "2021-12-08T17:02:00.689049",
     "exception": false,
     "start_time": "2021-12-08T17:02:00.665445",
     "status": "completed"
    },
    "tags": []
   },
   "outputs": [
    {
     "name": "stdout",
     "output_type": "stream",
     "text": [
      "36\n",
      "2.449489742783178\n",
      "6\n",
      "1\n"
     ]
    }
   ],
   "source": [
    "#The Basics part 3:\n",
    "\n",
    "#Power\n",
    "print(6**2)\n",
    "\n",
    "#Square roots\n",
    "print(6**0.5)\n",
    "\n",
    "#Floor division\n",
    "print(13//2)\n",
    "\n",
    "#Division remainder\n",
    "print(13%2)"
   ]
  },
  {
   "cell_type": "markdown",
   "id": "3f1a1ff8",
   "metadata": {
    "papermill": {
     "duration": 0.013636,
     "end_time": "2021-12-08T17:02:00.716514",
     "exception": false,
     "start_time": "2021-12-08T17:02:00.702878",
     "status": "completed"
    },
    "tags": []
   },
   "source": [
    "# Variables\n",
    "\n",
    "Variables are objects which are asgined values in order to be used in calculations.\n",
    "\n",
    "## Variable Naming rules\n",
    "\n",
    "The names you use when creating these labels need to follow a few rules:\n",
    "\n",
    "1. Can't start with a number.\n",
    "2. No spaces.\n",
    "3. Symbols that cannot be used :'\",<>/?|\\()!@#$%^&*~-+\n",
    "4. Best practice is using lowercase.\n",
    "5. Avoid using words that have special meaning in Python like \"list\" and \"str\"\n",
    "\n",
    "\n",
    "\n",
    "### Assigment\n",
    "\n",
    "In order to assign a value, use \"=\""
   ]
  },
  {
   "cell_type": "code",
   "execution_count": 4,
   "id": "5114c069",
   "metadata": {
    "execution": {
     "iopub.execute_input": "2021-12-08T17:02:00.748605Z",
     "iopub.status.busy": "2021-12-08T17:02:00.747860Z",
     "iopub.status.idle": "2021-12-08T17:02:00.751811Z",
     "shell.execute_reply": "2021-12-08T17:02:00.752414Z",
     "shell.execute_reply.started": "2021-12-08T17:01:09.001859Z"
    },
    "papermill": {
     "duration": 0.022141,
     "end_time": "2021-12-08T17:02:00.752607",
     "exception": false,
     "start_time": "2021-12-08T17:02:00.730466",
     "status": "completed"
    },
    "tags": []
   },
   "outputs": [],
   "source": [
    "a = 2.0\n",
    "b = 2\n",
    "c = a + b"
   ]
  },
  {
   "cell_type": "code",
   "execution_count": 5,
   "id": "7dd50aaf",
   "metadata": {
    "execution": {
     "iopub.execute_input": "2021-12-08T17:02:00.785455Z",
     "iopub.status.busy": "2021-12-08T17:02:00.784758Z",
     "iopub.status.idle": "2021-12-08T17:02:00.790425Z",
     "shell.execute_reply": "2021-12-08T17:02:00.791050Z",
     "shell.execute_reply.started": "2021-12-08T17:01:09.010963Z"
    },
    "papermill": {
     "duration": 0.024842,
     "end_time": "2021-12-08T17:02:00.791250",
     "exception": false,
     "start_time": "2021-12-08T17:02:00.766408",
     "status": "completed"
    },
    "tags": []
   },
   "outputs": [
    {
     "name": "stdout",
     "output_type": "stream",
     "text": [
      "<class 'float'>\n",
      "<class 'int'>\n",
      "<class 'float'>\n"
     ]
    }
   ],
   "source": [
    "#In order to determine the type of a variable: type()\n",
    "\n",
    "print(type(a))\n",
    "print(type(b))\n",
    "print(type(c))"
   ]
  },
  {
   "cell_type": "code",
   "execution_count": 6,
   "id": "2a7b1f93",
   "metadata": {
    "execution": {
     "iopub.execute_input": "2021-12-08T17:02:00.823850Z",
     "iopub.status.busy": "2021-12-08T17:02:00.823065Z",
     "iopub.status.idle": "2021-12-08T17:02:00.828303Z",
     "shell.execute_reply": "2021-12-08T17:02:00.828913Z",
     "shell.execute_reply.started": "2021-12-08T17:01:09.024476Z"
    },
    "papermill": {
     "duration": 0.023849,
     "end_time": "2021-12-08T17:02:00.829226",
     "exception": false,
     "start_time": "2021-12-08T17:02:00.805377",
     "status": "completed"
    },
    "tags": []
   },
   "outputs": [
    {
     "data": {
      "text/plain": [
       "4.0"
      ]
     },
     "execution_count": 6,
     "metadata": {},
     "output_type": "execute_result"
    }
   ],
   "source": [
    "c"
   ]
  },
  {
   "cell_type": "code",
   "execution_count": 7,
   "id": "8fe465ef",
   "metadata": {
    "execution": {
     "iopub.execute_input": "2021-12-08T17:02:00.864310Z",
     "iopub.status.busy": "2021-12-08T17:02:00.863531Z",
     "iopub.status.idle": "2021-12-08T17:02:00.868864Z",
     "shell.execute_reply": "2021-12-08T17:02:00.869500Z",
     "shell.execute_reply.started": "2021-12-08T17:01:09.036187Z"
    },
    "papermill": {
     "duration": 0.024278,
     "end_time": "2021-12-08T17:02:00.869696",
     "exception": false,
     "start_time": "2021-12-08T17:02:00.845418",
     "status": "completed"
    },
    "tags": []
   },
   "outputs": [
    {
     "data": {
      "text/plain": [
       "60"
      ]
     },
     "execution_count": 7,
     "metadata": {},
     "output_type": "execute_result"
    }
   ],
   "source": [
    "#A variable can be reassigned\n",
    "\n",
    "a = 60\n",
    "a"
   ]
  },
  {
   "cell_type": "code",
   "execution_count": 8,
   "id": "95ec1785",
   "metadata": {
    "execution": {
     "iopub.execute_input": "2021-12-08T17:02:00.904223Z",
     "iopub.status.busy": "2021-12-08T17:02:00.903507Z",
     "iopub.status.idle": "2021-12-08T17:02:00.908190Z",
     "shell.execute_reply": "2021-12-08T17:02:00.908737Z",
     "shell.execute_reply.started": "2021-12-08T17:01:09.047379Z"
    },
    "papermill": {
     "duration": 0.024129,
     "end_time": "2021-12-08T17:02:00.908926",
     "exception": false,
     "start_time": "2021-12-08T17:02:00.884797",
     "status": "completed"
    },
    "tags": []
   },
   "outputs": [
    {
     "data": {
      "text/plain": [
       "120"
      ]
     },
     "execution_count": 8,
     "metadata": {},
     "output_type": "execute_result"
    }
   ],
   "source": [
    "#An object can be added to itself\n",
    "\n",
    "a+a"
   ]
  },
  {
   "cell_type": "code",
   "execution_count": 9,
   "id": "2d37389a",
   "metadata": {
    "execution": {
     "iopub.execute_input": "2021-12-08T17:02:00.946079Z",
     "iopub.status.busy": "2021-12-08T17:02:00.945300Z",
     "iopub.status.idle": "2021-12-08T17:02:00.948294Z",
     "shell.execute_reply": "2021-12-08T17:02:00.948837Z",
     "shell.execute_reply.started": "2021-12-08T17:01:09.060178Z"
    },
    "papermill": {
     "duration": 0.024471,
     "end_time": "2021-12-08T17:02:00.949057",
     "exception": false,
     "start_time": "2021-12-08T17:02:00.924586",
     "status": "completed"
    },
    "tags": []
   },
   "outputs": [
    {
     "data": {
      "text/plain": [
       "120"
      ]
     },
     "execution_count": 9,
     "metadata": {},
     "output_type": "execute_result"
    }
   ],
   "source": [
    "#You can even use a variable to determine its new value\n",
    "\n",
    "a = a + a\n",
    "a"
   ]
  },
  {
   "cell_type": "markdown",
   "id": "08ce8cae",
   "metadata": {
    "papermill": {
     "duration": 0.015576,
     "end_time": "2021-12-08T17:02:00.980760",
     "exception": false,
     "start_time": "2021-12-08T17:02:00.965184",
     "status": "completed"
    },
    "tags": []
   },
   "source": [
    "## Calculating Net Income\n",
    "\n",
    "*** based on the Romanian Tax Code"
   ]
  },
  {
   "cell_type": "code",
   "execution_count": 10,
   "id": "0390f0bc",
   "metadata": {
    "execution": {
     "iopub.execute_input": "2021-12-08T17:02:01.017155Z",
     "iopub.status.busy": "2021-12-08T17:02:01.016430Z",
     "iopub.status.idle": "2021-12-08T17:02:01.022331Z",
     "shell.execute_reply": "2021-12-08T17:02:01.022885Z",
     "shell.execute_reply.started": "2021-12-08T17:01:09.075482Z"
    },
    "papermill": {
     "duration": 0.026193,
     "end_time": "2021-12-08T17:02:01.023130",
     "exception": false,
     "start_time": "2021-12-08T17:02:00.996937",
     "status": "completed"
    },
    "tags": []
   },
   "outputs": [
    {
     "data": {
      "text/plain": [
       "58.5"
      ]
     },
     "execution_count": 10,
     "metadata": {},
     "output_type": "execute_result"
    }
   ],
   "source": [
    "gross_income = 100\n",
    "pensions = 0.25\n",
    "healthcare = 0.1\n",
    "income_tax = 0.1\n",
    "\n",
    "\n",
    "net_income = (gross_income - (gross_income * (pensions + healthcare))) * (1 - income_tax)\n",
    "\n",
    "net_income"
   ]
  }
 ],
 "metadata": {
  "kernelspec": {
   "display_name": "Python 3",
   "language": "python",
   "name": "python3"
  },
  "language_info": {
   "codemirror_mode": {
    "name": "ipython",
    "version": 3
   },
   "file_extension": ".py",
   "mimetype": "text/x-python",
   "name": "python",
   "nbconvert_exporter": "python",
   "pygments_lexer": "ipython3",
   "version": "3.7.10"
  },
  "papermill": {
   "default_parameters": {},
   "duration": 10.614737,
   "end_time": "2021-12-08T17:02:01.649902",
   "environment_variables": {},
   "exception": null,
   "input_path": "__notebook__.ipynb",
   "output_path": "__notebook__.ipynb",
   "parameters": {},
   "start_time": "2021-12-08T17:01:51.035165",
   "version": "2.3.3"
  }
 },
 "nbformat": 4,
 "nbformat_minor": 5
}
