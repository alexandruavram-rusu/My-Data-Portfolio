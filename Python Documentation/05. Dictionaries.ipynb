{
 "cells": [
  {
   "cell_type": "markdown",
   "id": "295a6fd9",
   "metadata": {
    "papermill": {
     "duration": 0.014779,
     "end_time": "2021-10-12T10:12:56.820819",
     "exception": false,
     "start_time": "2021-10-12T10:12:56.806040",
     "status": "completed"
    },
    "tags": []
   },
   "source": [
    "# Dictionaries\n",
    "\n",
    "#### {'key1':'Value1','key2':'Value2'}\n",
    "\n",
    "While strings and lists rely on *sequencing*, dictionaries use *mapping*. Mappings are a collection of objects that are stored by a key, unlike a sequence that stored objects by their relative position. This is an important distinction, since mappings won't retain order since they have objects defined by a key.\n",
    "\n",
    "Dictionaries are created by using {...} and they consist of keys and their associated value."
   ]
  },
  {
   "cell_type": "code",
   "execution_count": 1,
   "id": "839335c2",
   "metadata": {
    "execution": {
     "iopub.execute_input": "2021-10-12T10:12:56.861354Z",
     "iopub.status.busy": "2021-10-12T10:12:56.860337Z",
     "iopub.status.idle": "2021-10-12T10:12:56.867858Z",
     "shell.execute_reply": "2021-10-12T10:12:56.867245Z",
     "shell.execute_reply.started": "2021-10-12T10:11:22.198346Z"
    },
    "papermill": {
     "duration": 0.032981,
     "end_time": "2021-10-12T10:12:56.868043",
     "exception": false,
     "start_time": "2021-10-12T10:12:56.835062",
     "status": "completed"
    },
    "tags": []
   },
   "outputs": [
    {
     "data": {
      "text/plain": [
       "{'apples': 1.99, 'oranges': 3.5, 'lemons': 2.49}"
      ]
     },
     "execution_count": 1,
     "metadata": {},
     "output_type": "execute_result"
    }
   ],
   "source": [
    "#Creating a dictionary\n",
    "\n",
    "fruits = {\"apples\": 1.99,\"oranges\":3.5,\"lemons\":2.49}\n",
    "fruits"
   ]
  },
  {
   "cell_type": "code",
   "execution_count": 2,
   "id": "d030924f",
   "metadata": {
    "execution": {
     "iopub.execute_input": "2021-10-12T10:12:56.901727Z",
     "iopub.status.busy": "2021-10-12T10:12:56.900074Z",
     "iopub.status.idle": "2021-10-12T10:12:56.904111Z",
     "shell.execute_reply": "2021-10-12T10:12:56.904639Z",
     "shell.execute_reply.started": "2021-10-12T10:11:22.227789Z"
    },
    "papermill": {
     "duration": 0.022178,
     "end_time": "2021-10-12T10:12:56.904799",
     "exception": false,
     "start_time": "2021-10-12T10:12:56.882621",
     "status": "completed"
    },
    "tags": []
   },
   "outputs": [
    {
     "data": {
      "text/plain": [
       "1.99"
      ]
     },
     "execution_count": 2,
     "metadata": {},
     "output_type": "execute_result"
    }
   ],
   "source": [
    "#Finding the value of a key: dictionary[key]\n",
    "\n",
    "fruits[\"apples\"]"
   ]
  },
  {
   "cell_type": "markdown",
   "id": "e9c7f51b",
   "metadata": {
    "papermill": {
     "duration": 0.014152,
     "end_time": "2021-10-12T10:12:56.933371",
     "exception": false,
     "start_time": "2021-10-12T10:12:56.919219",
     "status": "completed"
    },
    "tags": []
   },
   "source": [
    "Dictionaries can hold multiple data types and can even include lists or other dictionaries, as nesting is allowed, same as with lists."
   ]
  },
  {
   "cell_type": "code",
   "execution_count": 3,
   "id": "90c73225",
   "metadata": {
    "execution": {
     "iopub.execute_input": "2021-10-12T10:12:56.968392Z",
     "iopub.status.busy": "2021-10-12T10:12:56.967784Z",
     "iopub.status.idle": "2021-10-12T10:12:56.970908Z",
     "shell.execute_reply": "2021-10-12T10:12:56.971458Z",
     "shell.execute_reply.started": "2021-10-12T10:11:22.235229Z"
    },
    "papermill": {
     "duration": 0.023952,
     "end_time": "2021-10-12T10:12:56.971621",
     "exception": false,
     "start_time": "2021-10-12T10:12:56.947669",
     "status": "completed"
    },
    "tags": []
   },
   "outputs": [
    {
     "data": {
      "text/plain": [
       "['white', 'full grain']"
      ]
     },
     "execution_count": 3,
     "metadata": {},
     "output_type": "execute_result"
    }
   ],
   "source": [
    "#Dictionaries & lists can be insterted in a dictionary\n",
    "\n",
    "store = {\"drinks\":{\"Beer\":0.99,\"Water\":1.59,\"Wine\":6,'Gin':9.99},'breads':[\"white\",\"full grain\"]}\n",
    "store[\"breads\"]"
   ]
  },
  {
   "cell_type": "code",
   "execution_count": 4,
   "id": "42f58e49",
   "metadata": {
    "execution": {
     "iopub.execute_input": "2021-10-12T10:12:57.005687Z",
     "iopub.status.busy": "2021-10-12T10:12:57.005070Z",
     "iopub.status.idle": "2021-10-12T10:12:57.009173Z",
     "shell.execute_reply": "2021-10-12T10:12:57.009595Z",
     "shell.execute_reply.started": "2021-10-12T10:11:22.248682Z"
    },
    "papermill": {
     "duration": 0.02355,
     "end_time": "2021-10-12T10:12:57.009764",
     "exception": false,
     "start_time": "2021-10-12T10:12:56.986214",
     "status": "completed"
    },
    "tags": []
   },
   "outputs": [
    {
     "data": {
      "text/plain": [
       "6"
      ]
     },
     "execution_count": 4,
     "metadata": {},
     "output_type": "execute_result"
    }
   ],
   "source": [
    "#Looking for an item from a dictionary, inside a dictionary: dictionary[dictionary2][key]\n",
    "\n",
    "store[\"drinks\"][\"Wine\"]"
   ]
  },
  {
   "cell_type": "markdown",
   "id": "cd3afb76",
   "metadata": {
    "papermill": {
     "duration": 0.01418,
     "end_time": "2021-10-12T10:12:57.038501",
     "exception": false,
     "start_time": "2021-10-12T10:12:57.024321",
     "status": "completed"
    },
    "tags": []
   },
   "source": [
    "In the case of a nested dictionary, it can be extracted and used as it's own dictionary. It goes the same for any value from a dictionary, which can be assigned to a variable."
   ]
  },
  {
   "cell_type": "code",
   "execution_count": 5,
   "id": "8519c5b7",
   "metadata": {
    "execution": {
     "iopub.execute_input": "2021-10-12T10:12:57.074014Z",
     "iopub.status.busy": "2021-10-12T10:12:57.073346Z",
     "iopub.status.idle": "2021-10-12T10:12:57.077465Z",
     "shell.execute_reply": "2021-10-12T10:12:57.076966Z",
     "shell.execute_reply.started": "2021-10-12T10:11:22.259181Z"
    },
    "papermill": {
     "duration": 0.023395,
     "end_time": "2021-10-12T10:12:57.077602",
     "exception": false,
     "start_time": "2021-10-12T10:12:57.054207",
     "status": "completed"
    },
    "tags": []
   },
   "outputs": [
    {
     "data": {
      "text/plain": [
       "{'Beer': 0.99, 'Water': 1.59, 'Wine': 6, 'Gin': 9.99}"
      ]
     },
     "execution_count": 5,
     "metadata": {},
     "output_type": "execute_result"
    }
   ],
   "source": [
    "#Creating new dictionary from nested dictionary\n",
    "\n",
    "my_drinks = store[\"drinks\"]\n",
    "my_drinks"
   ]
  },
  {
   "cell_type": "markdown",
   "id": "89258f0e",
   "metadata": {
    "papermill": {
     "duration": 0.014434,
     "end_time": "2021-10-12T10:12:57.107501",
     "exception": false,
     "start_time": "2021-10-12T10:12:57.093067",
     "status": "completed"
    },
    "tags": []
   },
   "source": [
    "# Key Assigments\n",
    "\n",
    "Multiple operations can be done with dictionary keys."
   ]
  },
  {
   "cell_type": "code",
   "execution_count": 6,
   "id": "83cb898e",
   "metadata": {
    "execution": {
     "iopub.execute_input": "2021-10-12T10:12:57.142415Z",
     "iopub.status.busy": "2021-10-12T10:12:57.141715Z",
     "iopub.status.idle": "2021-10-12T10:12:57.145527Z",
     "shell.execute_reply": "2021-10-12T10:12:57.145039Z",
     "shell.execute_reply.started": "2021-10-12T10:11:22.271029Z"
    },
    "papermill": {
     "duration": 0.023151,
     "end_time": "2021-10-12T10:12:57.145660",
     "exception": false,
     "start_time": "2021-10-12T10:12:57.122509",
     "status": "completed"
    },
    "tags": []
   },
   "outputs": [
    {
     "data": {
      "text/plain": [
       "6"
      ]
     },
     "execution_count": 6,
     "metadata": {},
     "output_type": "execute_result"
    }
   ],
   "source": [
    "#Assigning value from dictionary to a variable\n",
    "\n",
    "wine_price = my_drinks['Wine'] \n",
    "wine_price"
   ]
  },
  {
   "cell_type": "code",
   "execution_count": 7,
   "id": "03697483",
   "metadata": {
    "execution": {
     "iopub.execute_input": "2021-10-12T10:12:57.180951Z",
     "iopub.status.busy": "2021-10-12T10:12:57.180287Z",
     "iopub.status.idle": "2021-10-12T10:12:57.184346Z",
     "shell.execute_reply": "2021-10-12T10:12:57.183737Z",
     "shell.execute_reply.started": "2021-10-12T10:11:22.281083Z"
    },
    "papermill": {
     "duration": 0.023705,
     "end_time": "2021-10-12T10:12:57.184485",
     "exception": false,
     "start_time": "2021-10-12T10:12:57.160780",
     "status": "completed"
    },
    "tags": []
   },
   "outputs": [
    {
     "data": {
      "text/plain": [
       "{'Beer': 0.99, 'Water': 1.59, 'Wine': 6, 'Gin': 9.99, 'Vodka': 3.9}"
      ]
     },
     "execution_count": 7,
     "metadata": {},
     "output_type": "execute_result"
    }
   ],
   "source": [
    "#Adding new key: dictionary['key'] = 'Value'\n",
    "\n",
    "my_drinks[\"Vodka\"] = 3.9\n",
    "my_drinks"
   ]
  },
  {
   "cell_type": "code",
   "execution_count": 8,
   "id": "7d05353d",
   "metadata": {
    "execution": {
     "iopub.execute_input": "2021-10-12T10:12:57.220221Z",
     "iopub.status.busy": "2021-10-12T10:12:57.219568Z",
     "iopub.status.idle": "2021-10-12T10:12:57.223257Z",
     "shell.execute_reply": "2021-10-12T10:12:57.223733Z",
     "shell.execute_reply.started": "2021-10-12T10:11:22.291541Z"
    },
    "papermill": {
     "duration": 0.024098,
     "end_time": "2021-10-12T10:12:57.223942",
     "exception": false,
     "start_time": "2021-10-12T10:12:57.199844",
     "status": "completed"
    },
    "tags": []
   },
   "outputs": [
    {
     "data": {
      "text/plain": [
       "{'Beer': 0.99, 'Water': 100, 'Wine': 6, 'Gin': 9.99, 'Vodka': 3.9}"
      ]
     },
     "execution_count": 8,
     "metadata": {},
     "output_type": "execute_result"
    }
   ],
   "source": [
    "#Changing value for a key: dictionary['key'] = 'New_Value'\n",
    "\n",
    "my_drinks[\"Water\"] = 100\n",
    "my_drinks"
   ]
  },
  {
   "cell_type": "code",
   "execution_count": 9,
   "id": "9d48cc1d",
   "metadata": {
    "execution": {
     "iopub.execute_input": "2021-10-12T10:12:57.260073Z",
     "iopub.status.busy": "2021-10-12T10:12:57.259428Z",
     "iopub.status.idle": "2021-10-12T10:12:57.263675Z",
     "shell.execute_reply": "2021-10-12T10:12:57.263194Z",
     "shell.execute_reply.started": "2021-10-12T10:11:22.301598Z"
    },
    "papermill": {
     "duration": 0.024333,
     "end_time": "2021-10-12T10:12:57.263811",
     "exception": false,
     "start_time": "2021-10-12T10:12:57.239478",
     "status": "completed"
    },
    "tags": []
   },
   "outputs": [
    {
     "data": {
      "text/plain": [
       "0"
      ]
     },
     "execution_count": 9,
     "metadata": {},
     "output_type": "execute_result"
    }
   ],
   "source": [
    "#Substracting value: dictionary[key] = dictionary[key] -  value\n",
    "\n",
    "my_drinks['Wine'] = my_drinks['Wine'] - wine_price\n",
    "my_drinks['Wine']"
   ]
  },
  {
   "cell_type": "code",
   "execution_count": 10,
   "id": "9d6f4e14",
   "metadata": {
    "execution": {
     "iopub.execute_input": "2021-10-12T10:12:57.300374Z",
     "iopub.status.busy": "2021-10-12T10:12:57.299759Z",
     "iopub.status.idle": "2021-10-12T10:12:57.303931Z",
     "shell.execute_reply": "2021-10-12T10:12:57.303443Z",
     "shell.execute_reply.started": "2021-10-12T10:11:22.314484Z"
    },
    "papermill": {
     "duration": 0.024433,
     "end_time": "2021-10-12T10:12:57.304068",
     "exception": false,
     "start_time": "2021-10-12T10:12:57.279635",
     "status": "completed"
    },
    "tags": []
   },
   "outputs": [
    {
     "data": {
      "text/plain": [
       "0.0"
      ]
     },
     "execution_count": 10,
     "metadata": {},
     "output_type": "execute_result"
    }
   ],
   "source": [
    "# We could have also used += or -= for the above statement\n",
    "\n",
    "my_drinks['Gin'] -= 9.99\n",
    "my_drinks['Gin']"
   ]
  },
  {
   "cell_type": "markdown",
   "id": "77149bfa",
   "metadata": {
    "papermill": {
     "duration": 0.0161,
     "end_time": "2021-10-12T10:12:57.336408",
     "exception": false,
     "start_time": "2021-10-12T10:12:57.320308",
     "status": "completed"
    },
    "tags": []
   },
   "source": [
    "We can also create a dictionary by usig key assigments."
   ]
  },
  {
   "cell_type": "code",
   "execution_count": 11,
   "id": "f7be24f1",
   "metadata": {
    "execution": {
     "iopub.execute_input": "2021-10-12T10:12:57.373999Z",
     "iopub.status.busy": "2021-10-12T10:12:57.373120Z",
     "iopub.status.idle": "2021-10-12T10:12:57.377227Z",
     "shell.execute_reply": "2021-10-12T10:12:57.376729Z",
     "shell.execute_reply.started": "2021-10-12T10:11:22.322863Z"
    },
    "papermill": {
     "duration": 0.024117,
     "end_time": "2021-10-12T10:12:57.377366",
     "exception": false,
     "start_time": "2021-10-12T10:12:57.353249",
     "status": "completed"
    },
    "tags": []
   },
   "outputs": [],
   "source": [
    "#Using an empty dictionary\n",
    "\n",
    "d ={}"
   ]
  },
  {
   "cell_type": "code",
   "execution_count": 12,
   "id": "a1cd3109",
   "metadata": {
    "execution": {
     "iopub.execute_input": "2021-10-12T10:12:57.413159Z",
     "iopub.status.busy": "2021-10-12T10:12:57.412566Z",
     "iopub.status.idle": "2021-10-12T10:12:57.419181Z",
     "shell.execute_reply": "2021-10-12T10:12:57.419614Z",
     "shell.execute_reply.started": "2021-10-12T10:11:22.331226Z"
    },
    "papermill": {
     "duration": 0.026219,
     "end_time": "2021-10-12T10:12:57.419773",
     "exception": false,
     "start_time": "2021-10-12T10:12:57.393554",
     "status": "completed"
    },
    "tags": []
   },
   "outputs": [
    {
     "data": {
      "text/plain": [
       "{'object': 'chair'}"
      ]
     },
     "execution_count": 12,
     "metadata": {},
     "output_type": "execute_result"
    }
   ],
   "source": [
    "#Adding a simple string\n",
    "\n",
    "d['object'] = 'chair'\n",
    "d"
   ]
  },
  {
   "cell_type": "code",
   "execution_count": 13,
   "id": "87a86d71",
   "metadata": {
    "execution": {
     "iopub.execute_input": "2021-10-12T10:12:57.456594Z",
     "iopub.status.busy": "2021-10-12T10:12:57.455677Z",
     "iopub.status.idle": "2021-10-12T10:12:57.460577Z",
     "shell.execute_reply": "2021-10-12T10:12:57.461129Z",
     "shell.execute_reply.started": "2021-10-12T10:11:22.342867Z"
    },
    "papermill": {
     "duration": 0.025225,
     "end_time": "2021-10-12T10:12:57.461293",
     "exception": false,
     "start_time": "2021-10-12T10:12:57.436068",
     "status": "completed"
    },
    "tags": []
   },
   "outputs": [
    {
     "data": {
      "text/plain": [
       "{'object': 'chair', 'age': 4}"
      ]
     },
     "execution_count": 13,
     "metadata": {},
     "output_type": "execute_result"
    }
   ],
   "source": [
    "#Adding a number\n",
    "d['age'] = 4\n",
    "d"
   ]
  },
  {
   "cell_type": "code",
   "execution_count": 14,
   "id": "5701ed3a",
   "metadata": {
    "execution": {
     "iopub.execute_input": "2021-10-12T10:12:57.498237Z",
     "iopub.status.busy": "2021-10-12T10:12:57.497310Z",
     "iopub.status.idle": "2021-10-12T10:12:57.503182Z",
     "shell.execute_reply": "2021-10-12T10:12:57.503620Z",
     "shell.execute_reply.started": "2021-10-12T10:11:22.353071Z"
    },
    "papermill": {
     "duration": 0.026062,
     "end_time": "2021-10-12T10:12:57.503778",
     "exception": false,
     "start_time": "2021-10-12T10:12:57.477716",
     "status": "completed"
    },
    "tags": []
   },
   "outputs": [
    {
     "data": {
      "text/plain": [
       "{'object': 'chair', 'age': 4, 'answers': ['1a', '2c', '4d', '4a', '5a']}"
      ]
     },
     "execution_count": 14,
     "metadata": {},
     "output_type": "execute_result"
    }
   ],
   "source": [
    "#Adding a list\n",
    "d['answers'] = ['1a', '2c', '4d', '4a', '5a']\n",
    "d"
   ]
  },
  {
   "cell_type": "markdown",
   "id": "a88c5534",
   "metadata": {
    "papermill": {
     "duration": 0.016355,
     "end_time": "2021-10-12T10:12:57.537169",
     "exception": false,
     "start_time": "2021-10-12T10:12:57.520814",
     "status": "completed"
    },
    "tags": []
   },
   "source": [
    "# Basic Methods\n",
    "\n",
    "There are a few basic methods which can be applied to a dictionary. Some of them are common to lists as well."
   ]
  },
  {
   "cell_type": "code",
   "execution_count": 15,
   "id": "90f57d11",
   "metadata": {
    "execution": {
     "iopub.execute_input": "2021-10-12T10:12:57.574791Z",
     "iopub.status.busy": "2021-10-12T10:12:57.573856Z",
     "iopub.status.idle": "2021-10-12T10:12:57.579046Z",
     "shell.execute_reply": "2021-10-12T10:12:57.579477Z",
     "shell.execute_reply.started": "2021-10-12T10:12:30.292495Z"
    },
    "papermill": {
     "duration": 0.025614,
     "end_time": "2021-10-12T10:12:57.579633",
     "exception": false,
     "start_time": "2021-10-12T10:12:57.554019",
     "status": "completed"
    },
    "tags": []
   },
   "outputs": [
    {
     "data": {
      "text/plain": [
       "{'k1': ['a', 'b', 'c'], 'k2': 100, 'k3': 'FL'}"
      ]
     },
     "execution_count": 15,
     "metadata": {},
     "output_type": "execute_result"
    }
   ],
   "source": [
    "#Creating a new dictionary\n",
    "\n",
    "d = {'k1': ['a', 'b', 'c'], 'k2': 100, 'k3': 'FL'}\n",
    "d"
   ]
  },
  {
   "cell_type": "code",
   "execution_count": 16,
   "id": "93ff1c47",
   "metadata": {
    "execution": {
     "iopub.execute_input": "2021-10-12T10:12:57.617230Z",
     "iopub.status.busy": "2021-10-12T10:12:57.616304Z",
     "iopub.status.idle": "2021-10-12T10:12:57.622386Z",
     "shell.execute_reply": "2021-10-12T10:12:57.621788Z",
     "shell.execute_reply.started": "2021-10-12T10:12:32.450970Z"
    },
    "papermill": {
     "duration": 0.026033,
     "end_time": "2021-10-12T10:12:57.622534",
     "exception": false,
     "start_time": "2021-10-12T10:12:57.596501",
     "status": "completed"
    },
    "tags": []
   },
   "outputs": [
    {
     "name": "stdout",
     "output_type": "stream",
     "text": [
      "C\n",
      "f\n"
     ]
    }
   ],
   "source": [
    "#Upper case: dictionary['key']['Value'].upper\n",
    "\n",
    "print(d['k1'][2].upper())\n",
    "\n",
    "#Lower case: dictionary['key']['Value'].upper\n",
    "\n",
    "print(d['k3'][0].lower())"
   ]
  },
  {
   "cell_type": "code",
   "execution_count": 17,
   "id": "f7a1d42a",
   "metadata": {
    "execution": {
     "iopub.execute_input": "2021-10-12T10:12:57.665820Z",
     "iopub.status.busy": "2021-10-12T10:12:57.665248Z",
     "iopub.status.idle": "2021-10-12T10:12:57.667470Z",
     "shell.execute_reply": "2021-10-12T10:12:57.667888Z",
     "shell.execute_reply.started": "2021-10-12T10:12:35.015104Z"
    },
    "papermill": {
     "duration": 0.02722,
     "end_time": "2021-10-12T10:12:57.668099",
     "exception": false,
     "start_time": "2021-10-12T10:12:57.640879",
     "status": "completed"
    },
    "tags": []
   },
   "outputs": [
    {
     "name": "stdout",
     "output_type": "stream",
     "text": [
      "dict_keys(['k1', 'k2', 'k3'])\n",
      "dict_values([['a', 'b', 'c'], 100, 'FL'])\n"
     ]
    }
   ],
   "source": [
    "#Checking keys: dictionary.keys()\n",
    "\n",
    "print(d.keys())\n",
    "\n",
    "#Checking values: dictionary.values()\n",
    "\n",
    "print(d.values())"
   ]
  },
  {
   "cell_type": "code",
   "execution_count": 18,
   "id": "bcc32b25",
   "metadata": {
    "execution": {
     "iopub.execute_input": "2021-10-12T10:12:57.716815Z",
     "iopub.status.busy": "2021-10-12T10:12:57.715947Z",
     "iopub.status.idle": "2021-10-12T10:12:57.723144Z",
     "shell.execute_reply": "2021-10-12T10:12:57.722510Z",
     "shell.execute_reply.started": "2021-10-12T10:12:36.984408Z"
    },
    "papermill": {
     "duration": 0.031795,
     "end_time": "2021-10-12T10:12:57.723313",
     "exception": false,
     "start_time": "2021-10-12T10:12:57.691518",
     "status": "completed"
    },
    "tags": []
   },
   "outputs": [
    {
     "data": {
      "text/plain": [
       "dict_items([('k1', ['a', 'b', 'c']), ('k2', 100), ('k3', 'FL')])"
      ]
     },
     "execution_count": 18,
     "metadata": {},
     "output_type": "execute_result"
    }
   ],
   "source": [
    "#See items paired: dictionary.items()\n",
    "\n",
    "d.items()"
   ]
  }
 ],
 "metadata": {
  "kernelspec": {
   "display_name": "Python 3",
   "language": "python",
   "name": "python3"
  },
  "language_info": {
   "codemirror_mode": {
    "name": "ipython",
    "version": 3
   },
   "file_extension": ".py",
   "mimetype": "text/x-python",
   "name": "python",
   "nbconvert_exporter": "python",
   "pygments_lexer": "ipython3",
   "version": "3.7.10"
  },
  "papermill": {
   "default_parameters": {},
   "duration": 9.752532,
   "end_time": "2021-10-12T10:12:59.349261",
   "environment_variables": {},
   "exception": null,
   "input_path": "__notebook__.ipynb",
   "output_path": "__notebook__.ipynb",
   "parameters": {},
   "start_time": "2021-10-12T10:12:49.596729",
   "version": "2.3.3"
  }
 },
 "nbformat": 4,
 "nbformat_minor": 5
}
