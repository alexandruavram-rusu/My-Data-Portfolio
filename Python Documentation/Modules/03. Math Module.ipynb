{
 "cells": [
  {
   "cell_type": "markdown",
   "id": "512e99fc",
   "metadata": {
    "papermill": {
     "duration": 0.014351,
     "end_time": "2022-01-03T10:26:12.843403",
     "exception": false,
     "start_time": "2022-01-03T10:26:12.829052",
     "status": "completed"
    },
    "tags": []
   },
   "source": [
    "# Math Module\n",
    "\n",
    "This module provides access to more mathematical functions. These functions cannot be used with complex numbers; use the functions of the same name from the cmath module if you require support for complex numbers. \n",
    "\n",
    "[Documentation](https://docs.python.org/3/library/math.html)\n",
    "\n",
    "**Numpy** is the best math module to learn and use for complex data analysis mathematical functions."
   ]
  },
  {
   "cell_type": "code",
   "execution_count": 1,
   "id": "01019d4f",
   "metadata": {
    "execution": {
     "iopub.execute_input": "2022-01-03T10:26:12.877189Z",
     "iopub.status.busy": "2022-01-03T10:26:12.875281Z",
     "iopub.status.idle": "2022-01-03T10:26:12.886284Z",
     "shell.execute_reply": "2022-01-03T10:26:12.886809Z",
     "shell.execute_reply.started": "2022-01-03T10:11:28.826901Z"
    },
    "papermill": {
     "duration": 0.030028,
     "end_time": "2022-01-03T10:26:12.887072",
     "exception": false,
     "start_time": "2022-01-03T10:26:12.857044",
     "status": "completed"
    },
    "tags": []
   },
   "outputs": [],
   "source": [
    "import math"
   ]
  },
  {
   "cell_type": "code",
   "execution_count": 2,
   "id": "09f7063b",
   "metadata": {
    "execution": {
     "iopub.execute_input": "2022-01-03T10:26:12.917892Z",
     "iopub.status.busy": "2022-01-03T10:26:12.916178Z",
     "iopub.status.idle": "2022-01-03T10:26:12.921393Z",
     "shell.execute_reply": "2022-01-03T10:26:12.922033Z",
     "shell.execute_reply.started": "2022-01-03T10:14:40.752619Z"
    },
    "papermill": {
     "duration": 0.022614,
     "end_time": "2022-01-03T10:26:12.922275",
     "exception": false,
     "start_time": "2022-01-03T10:26:12.899661",
     "status": "completed"
    },
    "tags": []
   },
   "outputs": [],
   "source": [
    "# Number we are going to use for functions\n",
    "\n",
    "n = 3.451610651"
   ]
  },
  {
   "cell_type": "markdown",
   "id": "54121097",
   "metadata": {
    "papermill": {
     "duration": 0.014236,
     "end_time": "2022-01-03T10:26:12.951108",
     "exception": false,
     "start_time": "2022-01-03T10:26:12.936872",
     "status": "completed"
    },
    "tags": []
   },
   "source": [
    "# Rounding Numbers\n",
    "\n",
    "#### math.floor()\n",
    "returns the floor of the number as an int, as a round down"
   ]
  },
  {
   "cell_type": "code",
   "execution_count": 3,
   "id": "07493b5a",
   "metadata": {
    "execution": {
     "iopub.execute_input": "2022-01-03T10:26:12.990942Z",
     "iopub.status.busy": "2022-01-03T10:26:12.989924Z",
     "iopub.status.idle": "2022-01-03T10:26:12.998714Z",
     "shell.execute_reply": "2022-01-03T10:26:12.999353Z",
     "shell.execute_reply.started": "2022-01-03T10:18:31.975538Z"
    },
    "papermill": {
     "duration": 0.030127,
     "end_time": "2022-01-03T10:26:12.999530",
     "exception": false,
     "start_time": "2022-01-03T10:26:12.969403",
     "status": "completed"
    },
    "tags": []
   },
   "outputs": [
    {
     "data": {
      "text/plain": [
       "3"
      ]
     },
     "execution_count": 3,
     "metadata": {},
     "output_type": "execute_result"
    }
   ],
   "source": [
    "#floor\n",
    "\n",
    "math.floor(n)"
   ]
  },
  {
   "cell_type": "markdown",
   "id": "98d8fec5",
   "metadata": {
    "papermill": {
     "duration": 0.013191,
     "end_time": "2022-01-03T10:26:13.030503",
     "exception": false,
     "start_time": "2022-01-03T10:26:13.017312",
     "status": "completed"
    },
    "tags": []
   },
   "source": [
    "#### math.ceil()\n",
    "returns the ceiling of the number as an int, as a round up"
   ]
  },
  {
   "cell_type": "code",
   "execution_count": 4,
   "id": "76810af7",
   "metadata": {
    "execution": {
     "iopub.execute_input": "2022-01-03T10:26:13.060457Z",
     "iopub.status.busy": "2022-01-03T10:26:13.059539Z",
     "iopub.status.idle": "2022-01-03T10:26:13.064321Z",
     "shell.execute_reply": "2022-01-03T10:26:13.064860Z",
     "shell.execute_reply.started": "2022-01-03T10:18:33.769966Z"
    },
    "papermill": {
     "duration": 0.021359,
     "end_time": "2022-01-03T10:26:13.065024",
     "exception": false,
     "start_time": "2022-01-03T10:26:13.043665",
     "status": "completed"
    },
    "tags": []
   },
   "outputs": [
    {
     "data": {
      "text/plain": [
       "4"
      ]
     },
     "execution_count": 4,
     "metadata": {},
     "output_type": "execute_result"
    }
   ],
   "source": [
    "#ceil\n",
    "\n",
    "math.ceil(n)"
   ]
  },
  {
   "cell_type": "code",
   "execution_count": 5,
   "id": "79067a23",
   "metadata": {
    "execution": {
     "iopub.execute_input": "2022-01-03T10:26:13.095006Z",
     "iopub.status.busy": "2022-01-03T10:26:13.094403Z",
     "iopub.status.idle": "2022-01-03T10:26:13.099799Z",
     "shell.execute_reply": "2022-01-03T10:26:13.099213Z",
     "shell.execute_reply.started": "2022-01-03T10:18:43.551096Z"
    },
    "papermill": {
     "duration": 0.021324,
     "end_time": "2022-01-03T10:26:13.099927",
     "exception": false,
     "start_time": "2022-01-03T10:26:13.078603",
     "status": "completed"
    },
    "tags": []
   },
   "outputs": [
    {
     "data": {
      "text/plain": [
       "3"
      ]
     },
     "execution_count": 5,
     "metadata": {},
     "output_type": "execute_result"
    }
   ],
   "source": [
    "# We can also use the Python built-in round() function\n",
    "\n",
    "round(n)"
   ]
  },
  {
   "cell_type": "markdown",
   "id": "d2945274",
   "metadata": {
    "papermill": {
     "duration": 0.013686,
     "end_time": "2022-01-03T10:26:13.128222",
     "exception": false,
     "start_time": "2022-01-03T10:26:13.114536",
     "status": "completed"
    },
    "tags": []
   },
   "source": [
    "# Logarithmic Values\n",
    "\n",
    "#### math.log()\n",
    "returns the base 2 logarithm of a number"
   ]
  },
  {
   "cell_type": "code",
   "execution_count": 6,
   "id": "edcee993",
   "metadata": {
    "execution": {
     "iopub.execute_input": "2022-01-03T10:26:13.161102Z",
     "iopub.status.busy": "2022-01-03T10:26:13.160453Z",
     "iopub.status.idle": "2022-01-03T10:26:13.163911Z",
     "shell.execute_reply": "2022-01-03T10:26:13.163393Z",
     "shell.execute_reply.started": "2022-01-03T10:23:23.602224Z"
    },
    "papermill": {
     "duration": 0.022071,
     "end_time": "2022-01-03T10:26:13.164043",
     "exception": false,
     "start_time": "2022-01-03T10:26:13.141972",
     "status": "completed"
    },
    "tags": []
   },
   "outputs": [
    {
     "data": {
      "text/plain": [
       "2.302585092994046"
      ]
     },
     "execution_count": 6,
     "metadata": {},
     "output_type": "execute_result"
    }
   ],
   "source": [
    "math.log(10)"
   ]
  },
  {
   "cell_type": "code",
   "execution_count": 7,
   "id": "7822eec7",
   "metadata": {
    "execution": {
     "iopub.execute_input": "2022-01-03T10:26:13.197819Z",
     "iopub.status.busy": "2022-01-03T10:26:13.197070Z",
     "iopub.status.idle": "2022-01-03T10:26:13.201044Z",
     "shell.execute_reply": "2022-01-03T10:26:13.201576Z",
     "shell.execute_reply.started": "2022-01-03T10:22:20.166119Z"
    },
    "papermill": {
     "duration": 0.023429,
     "end_time": "2022-01-03T10:26:13.201745",
     "exception": false,
     "start_time": "2022-01-03T10:26:13.178316",
     "status": "completed"
    },
    "tags": []
   },
   "outputs": [
    {
     "data": {
      "text/plain": [
       "2.0"
      ]
     },
     "execution_count": 7,
     "metadata": {},
     "output_type": "execute_result"
    }
   ],
   "source": [
    "math.log(100,10)"
   ]
  },
  {
   "cell_type": "markdown",
   "id": "2397bf30",
   "metadata": {
    "papermill": {
     "duration": 0.014438,
     "end_time": "2022-01-03T10:26:13.231286",
     "exception": false,
     "start_time": "2022-01-03T10:26:13.216848",
     "status": "completed"
    },
    "tags": []
   },
   "source": [
    "# Mathematical Constants\n",
    "\n",
    "Sometimes, you might work with constants such as *pi* or *tau*."
   ]
  },
  {
   "cell_type": "code",
   "execution_count": 8,
   "id": "be663e88",
   "metadata": {
    "execution": {
     "iopub.execute_input": "2022-01-03T10:26:13.265008Z",
     "iopub.status.busy": "2022-01-03T10:26:13.264400Z",
     "iopub.status.idle": "2022-01-03T10:26:13.268386Z",
     "shell.execute_reply": "2022-01-03T10:26:13.267877Z",
     "shell.execute_reply.started": "2022-01-03T10:24:51.828359Z"
    },
    "papermill": {
     "duration": 0.022819,
     "end_time": "2022-01-03T10:26:13.268512",
     "exception": false,
     "start_time": "2022-01-03T10:26:13.245693",
     "status": "completed"
    },
    "tags": []
   },
   "outputs": [
    {
     "data": {
      "text/plain": [
       "3.141592653589793"
      ]
     },
     "execution_count": 8,
     "metadata": {},
     "output_type": "execute_result"
    }
   ],
   "source": [
    "math.pi"
   ]
  },
  {
   "cell_type": "code",
   "execution_count": 9,
   "id": "3a12af7a",
   "metadata": {
    "execution": {
     "iopub.execute_input": "2022-01-03T10:26:13.303024Z",
     "iopub.status.busy": "2022-01-03T10:26:13.302338Z",
     "iopub.status.idle": "2022-01-03T10:26:13.306407Z",
     "shell.execute_reply": "2022-01-03T10:26:13.305753Z",
     "shell.execute_reply.started": "2022-01-03T10:24:56.311671Z"
    },
    "papermill": {
     "duration": 0.023227,
     "end_time": "2022-01-03T10:26:13.306557",
     "exception": false,
     "start_time": "2022-01-03T10:26:13.283330",
     "status": "completed"
    },
    "tags": []
   },
   "outputs": [
    {
     "data": {
      "text/plain": [
       "6.283185307179586"
      ]
     },
     "execution_count": 9,
     "metadata": {},
     "output_type": "execute_result"
    }
   ],
   "source": [
    "math.tau"
   ]
  },
  {
   "cell_type": "code",
   "execution_count": 10,
   "id": "a7ab0b48",
   "metadata": {
    "execution": {
     "iopub.execute_input": "2022-01-03T10:26:13.341908Z",
     "iopub.status.busy": "2022-01-03T10:26:13.341352Z",
     "iopub.status.idle": "2022-01-03T10:26:13.344391Z",
     "shell.execute_reply": "2022-01-03T10:26:13.344857Z",
     "shell.execute_reply.started": "2022-01-03T10:25:03.033524Z"
    },
    "papermill": {
     "duration": 0.023178,
     "end_time": "2022-01-03T10:26:13.345040",
     "exception": false,
     "start_time": "2022-01-03T10:26:13.321862",
     "status": "completed"
    },
    "tags": []
   },
   "outputs": [
    {
     "data": {
      "text/plain": [
       "2.718281828459045"
      ]
     },
     "execution_count": 10,
     "metadata": {},
     "output_type": "execute_result"
    }
   ],
   "source": [
    "math.e"
   ]
  },
  {
   "cell_type": "code",
   "execution_count": 11,
   "id": "9673ef30",
   "metadata": {
    "execution": {
     "iopub.execute_input": "2022-01-03T10:26:13.380630Z",
     "iopub.status.busy": "2022-01-03T10:26:13.379990Z",
     "iopub.status.idle": "2022-01-03T10:26:13.383820Z",
     "shell.execute_reply": "2022-01-03T10:26:13.384275Z",
     "shell.execute_reply.started": "2022-01-03T10:25:37.498141Z"
    },
    "papermill": {
     "duration": 0.024499,
     "end_time": "2022-01-03T10:26:13.384442",
     "exception": false,
     "start_time": "2022-01-03T10:26:13.359943",
     "status": "completed"
    },
    "tags": []
   },
   "outputs": [
    {
     "data": {
      "text/plain": [
       "1.0"
      ]
     },
     "execution_count": 11,
     "metadata": {},
     "output_type": "execute_result"
    }
   ],
   "source": [
    "# Log Base e\n",
    "math.log(math.e)"
   ]
  },
  {
   "cell_type": "code",
   "execution_count": 12,
   "id": "d52f1804",
   "metadata": {
    "execution": {
     "iopub.execute_input": "2022-01-03T10:26:13.438524Z",
     "iopub.status.busy": "2022-01-03T10:26:13.424460Z",
     "iopub.status.idle": "2022-01-03T10:26:13.444642Z",
     "shell.execute_reply": "2022-01-03T10:26:13.443675Z",
     "shell.execute_reply.started": "2022-01-03T10:25:44.573212Z"
    },
    "papermill": {
     "duration": 0.044319,
     "end_time": "2022-01-03T10:26:13.444846",
     "exception": false,
     "start_time": "2022-01-03T10:26:13.400527",
     "status": "completed"
    },
    "tags": []
   },
   "outputs": [
    {
     "name": "stdout",
     "output_type": "stream",
     "text": [
      "Help on module math:\n",
      "\n",
      "NAME\n",
      "    math\n",
      "\n",
      "MODULE REFERENCE\n",
      "    https://docs.python.org/3.7/library/math\n",
      "    \n",
      "    The following documentation is automatically generated from the Python\n",
      "    source files.  It may be incomplete, incorrect or include features that\n",
      "    are considered implementation detail and may vary between Python\n",
      "    implementations.  When in doubt, consult the module reference at the\n",
      "    location listed above.\n",
      "\n",
      "DESCRIPTION\n",
      "    This module provides access to the mathematical functions\n",
      "    defined by the C standard.\n",
      "\n",
      "FUNCTIONS\n",
      "    acos(x, /)\n",
      "        Return the arc cosine (measured in radians) of x.\n",
      "    \n",
      "    acosh(x, /)\n",
      "        Return the inverse hyperbolic cosine of x.\n",
      "    \n",
      "    asin(x, /)\n",
      "        Return the arc sine (measured in radians) of x.\n",
      "    \n",
      "    asinh(x, /)\n",
      "        Return the inverse hyperbolic sine of x.\n",
      "    \n",
      "    atan(x, /)\n",
      "        Return the arc tangent (measured in radians) of x.\n",
      "    \n",
      "    atan2(y, x, /)\n",
      "        Return the arc tangent (measured in radians) of y/x.\n",
      "        \n",
      "        Unlike atan(y/x), the signs of both x and y are considered.\n",
      "    \n",
      "    atanh(x, /)\n",
      "        Return the inverse hyperbolic tangent of x.\n",
      "    \n",
      "    ceil(x, /)\n",
      "        Return the ceiling of x as an Integral.\n",
      "        \n",
      "        This is the smallest integer >= x.\n",
      "    \n",
      "    copysign(x, y, /)\n",
      "        Return a float with the magnitude (absolute value) of x but the sign of y.\n",
      "        \n",
      "        On platforms that support signed zeros, copysign(1.0, -0.0)\n",
      "        returns -1.0.\n",
      "    \n",
      "    cos(x, /)\n",
      "        Return the cosine of x (measured in radians).\n",
      "    \n",
      "    cosh(x, /)\n",
      "        Return the hyperbolic cosine of x.\n",
      "    \n",
      "    degrees(x, /)\n",
      "        Convert angle x from radians to degrees.\n",
      "    \n",
      "    erf(x, /)\n",
      "        Error function at x.\n",
      "    \n",
      "    erfc(x, /)\n",
      "        Complementary error function at x.\n",
      "    \n",
      "    exp(x, /)\n",
      "        Return e raised to the power of x.\n",
      "    \n",
      "    expm1(x, /)\n",
      "        Return exp(x)-1.\n",
      "        \n",
      "        This function avoids the loss of precision involved in the direct evaluation of exp(x)-1 for small x.\n",
      "    \n",
      "    fabs(x, /)\n",
      "        Return the absolute value of the float x.\n",
      "    \n",
      "    factorial(x, /)\n",
      "        Find x!.\n",
      "        \n",
      "        Raise a ValueError if x is negative or non-integral.\n",
      "    \n",
      "    floor(x, /)\n",
      "        Return the floor of x as an Integral.\n",
      "        \n",
      "        This is the largest integer <= x.\n",
      "    \n",
      "    fmod(x, y, /)\n",
      "        Return fmod(x, y), according to platform C.\n",
      "        \n",
      "        x % y may differ.\n",
      "    \n",
      "    frexp(x, /)\n",
      "        Return the mantissa and exponent of x, as pair (m, e).\n",
      "        \n",
      "        m is a float and e is an int, such that x = m * 2.**e.\n",
      "        If x is 0, m and e are both 0.  Else 0.5 <= abs(m) < 1.0.\n",
      "    \n",
      "    fsum(seq, /)\n",
      "        Return an accurate floating point sum of values in the iterable seq.\n",
      "        \n",
      "        Assumes IEEE-754 floating point arithmetic.\n",
      "    \n",
      "    gamma(x, /)\n",
      "        Gamma function at x.\n",
      "    \n",
      "    gcd(x, y, /)\n",
      "        greatest common divisor of x and y\n",
      "    \n",
      "    hypot(x, y, /)\n",
      "        Return the Euclidean distance, sqrt(x*x + y*y).\n",
      "    \n",
      "    isclose(a, b, *, rel_tol=1e-09, abs_tol=0.0)\n",
      "        Determine whether two floating point numbers are close in value.\n",
      "        \n",
      "          rel_tol\n",
      "            maximum difference for being considered \"close\", relative to the\n",
      "            magnitude of the input values\n",
      "          abs_tol\n",
      "            maximum difference for being considered \"close\", regardless of the\n",
      "            magnitude of the input values\n",
      "        \n",
      "        Return True if a is close in value to b, and False otherwise.\n",
      "        \n",
      "        For the values to be considered close, the difference between them\n",
      "        must be smaller than at least one of the tolerances.\n",
      "        \n",
      "        -inf, inf and NaN behave similarly to the IEEE 754 Standard.  That\n",
      "        is, NaN is not close to anything, even itself.  inf and -inf are\n",
      "        only close to themselves.\n",
      "    \n",
      "    isfinite(x, /)\n",
      "        Return True if x is neither an infinity nor a NaN, and False otherwise.\n",
      "    \n",
      "    isinf(x, /)\n",
      "        Return True if x is a positive or negative infinity, and False otherwise.\n",
      "    \n",
      "    isnan(x, /)\n",
      "        Return True if x is a NaN (not a number), and False otherwise.\n",
      "    \n",
      "    ldexp(x, i, /)\n",
      "        Return x * (2**i).\n",
      "        \n",
      "        This is essentially the inverse of frexp().\n",
      "    \n",
      "    lgamma(x, /)\n",
      "        Natural logarithm of absolute value of Gamma function at x.\n",
      "    \n",
      "    log(...)\n",
      "        log(x, [base=math.e])\n",
      "        Return the logarithm of x to the given base.\n",
      "        \n",
      "        If the base not specified, returns the natural logarithm (base e) of x.\n",
      "    \n",
      "    log10(x, /)\n",
      "        Return the base 10 logarithm of x.\n",
      "    \n",
      "    log1p(x, /)\n",
      "        Return the natural logarithm of 1+x (base e).\n",
      "        \n",
      "        The result is computed in a way which is accurate for x near zero.\n",
      "    \n",
      "    log2(x, /)\n",
      "        Return the base 2 logarithm of x.\n",
      "    \n",
      "    modf(x, /)\n",
      "        Return the fractional and integer parts of x.\n",
      "        \n",
      "        Both results carry the sign of x and are floats.\n",
      "    \n",
      "    pow(x, y, /)\n",
      "        Return x**y (x to the power of y).\n",
      "    \n",
      "    radians(x, /)\n",
      "        Convert angle x from degrees to radians.\n",
      "    \n",
      "    remainder(x, y, /)\n",
      "        Difference between x and the closest integer multiple of y.\n",
      "        \n",
      "        Return x - n*y where n*y is the closest integer multiple of y.\n",
      "        In the case where x is exactly halfway between two multiples of\n",
      "        y, the nearest even value of n is used. The result is always exact.\n",
      "    \n",
      "    sin(x, /)\n",
      "        Return the sine of x (measured in radians).\n",
      "    \n",
      "    sinh(x, /)\n",
      "        Return the hyperbolic sine of x.\n",
      "    \n",
      "    sqrt(x, /)\n",
      "        Return the square root of x.\n",
      "    \n",
      "    tan(x, /)\n",
      "        Return the tangent of x (measured in radians).\n",
      "    \n",
      "    tanh(x, /)\n",
      "        Return the hyperbolic tangent of x.\n",
      "    \n",
      "    trunc(x, /)\n",
      "        Truncates the Real x to the nearest Integral toward 0.\n",
      "        \n",
      "        Uses the __trunc__ magic method.\n",
      "\n",
      "DATA\n",
      "    e = 2.718281828459045\n",
      "    inf = inf\n",
      "    nan = nan\n",
      "    pi = 3.141592653589793\n",
      "    tau = 6.283185307179586\n",
      "\n",
      "FILE\n",
      "    /opt/conda/lib/python3.7/lib-dynload/math.cpython-37m-x86_64-linux-gnu.so\n",
      "\n",
      "\n"
     ]
    }
   ],
   "source": [
    "help(math)"
   ]
  }
 ],
 "metadata": {
  "kernelspec": {
   "display_name": "Python 3",
   "language": "python",
   "name": "python3"
  },
  "language_info": {
   "codemirror_mode": {
    "name": "ipython",
    "version": 3
   },
   "file_extension": ".py",
   "mimetype": "text/x-python",
   "name": "python",
   "nbconvert_exporter": "python",
   "pygments_lexer": "ipython3",
   "version": "3.7.12"
  },
  "papermill": {
   "default_parameters": {},
   "duration": 13.608568,
   "end_time": "2022-01-03T10:26:16.672232",
   "environment_variables": {},
   "exception": null,
   "input_path": "__notebook__.ipynb",
   "output_path": "__notebook__.ipynb",
   "parameters": {},
   "start_time": "2022-01-03T10:26:03.063664",
   "version": "2.3.3"
  }
 },
 "nbformat": 4,
 "nbformat_minor": 5
}
