{
 "cells": [
  {
   "cell_type": "markdown",
   "id": "b416b667",
   "metadata": {
    "papermill": {
     "duration": 0.015572,
     "end_time": "2022-01-03T11:06:56.096337",
     "exception": false,
     "start_time": "2022-01-03T11:06:56.080765",
     "status": "completed"
    },
    "tags": []
   },
   "source": [
    "# Random\n",
    "\n",
    "The `Random` module allows us to create random numbers. We can even set a seed to produce the same random set every time.\n",
    "\n",
    "[Documentation](https://docs.python.org/3/library/random.html)\n",
    "\n",
    "\n",
    "Setting a seed allows us to start from a seeded psuedorandom number generator, which means the same random numbers will show up in a series. Getting a same set of random numbers can be important in situations where you will be trying different variations of functions and want to compare their performance on random values.\n",
    "\n",
    "**Note:** you need the seed to be in the same cell if your using notebooks to guarantee the same results each time. "
   ]
  },
  {
   "cell_type": "code",
   "execution_count": 1,
   "id": "27d3c1bb",
   "metadata": {
    "execution": {
     "iopub.execute_input": "2022-01-03T11:06:56.128946Z",
     "iopub.status.busy": "2022-01-03T11:06:56.127776Z",
     "iopub.status.idle": "2022-01-03T11:06:56.137181Z",
     "shell.execute_reply": "2022-01-03T11:06:56.137749Z",
     "shell.execute_reply.started": "2022-01-03T10:41:17.396567Z"
    },
    "papermill": {
     "duration": 0.027418,
     "end_time": "2022-01-03T11:06:56.138068",
     "exception": false,
     "start_time": "2022-01-03T11:06:56.110650",
     "status": "completed"
    },
    "tags": []
   },
   "outputs": [],
   "source": [
    "import random"
   ]
  },
  {
   "cell_type": "markdown",
   "id": "0d4724fd",
   "metadata": {
    "papermill": {
     "duration": 0.01342,
     "end_time": "2022-01-03T11:06:56.165869",
     "exception": false,
     "start_time": "2022-01-03T11:06:56.152449",
     "status": "completed"
    },
    "tags": []
   },
   "source": [
    "#### randint(number1,number2)\n",
    "returns a random integer between two values."
   ]
  },
  {
   "cell_type": "code",
   "execution_count": 2,
   "id": "85ae2fe1",
   "metadata": {
    "execution": {
     "iopub.execute_input": "2022-01-03T11:06:56.197364Z",
     "iopub.status.busy": "2022-01-03T11:06:56.196306Z",
     "iopub.status.idle": "2022-01-03T11:06:56.204751Z",
     "shell.execute_reply": "2022-01-03T11:06:56.205232Z",
     "shell.execute_reply.started": "2022-01-03T10:48:21.509059Z"
    },
    "papermill": {
     "duration": 0.025862,
     "end_time": "2022-01-03T11:06:56.205425",
     "exception": false,
     "start_time": "2022-01-03T11:06:56.179563",
     "status": "completed"
    },
    "tags": []
   },
   "outputs": [
    {
     "data": {
      "text/plain": [
       "53"
      ]
     },
     "execution_count": 2,
     "metadata": {},
     "output_type": "execute_result"
    }
   ],
   "source": [
    "random.randint(0,101)"
   ]
  },
  {
   "cell_type": "markdown",
   "id": "7b87c33c",
   "metadata": {
    "papermill": {
     "duration": 0.013885,
     "end_time": "2022-01-03T11:06:56.234268",
     "exception": false,
     "start_time": "2022-01-03T11:06:56.220383",
     "status": "completed"
    },
    "tags": []
   },
   "source": [
    "#### seed(number)\n",
    "\n",
    "initialize the random number generator."
   ]
  },
  {
   "cell_type": "code",
   "execution_count": 3,
   "id": "6f4cdf07",
   "metadata": {
    "execution": {
     "iopub.execute_input": "2022-01-03T11:06:56.269249Z",
     "iopub.status.busy": "2022-01-03T11:06:56.268508Z",
     "iopub.status.idle": "2022-01-03T11:06:56.271190Z",
     "shell.execute_reply": "2022-01-03T11:06:56.271690Z",
     "shell.execute_reply.started": "2022-01-03T10:50:23.517304Z"
    },
    "papermill": {
     "duration": 0.02347,
     "end_time": "2022-01-03T11:06:56.271877",
     "exception": false,
     "start_time": "2022-01-03T11:06:56.248407",
     "status": "completed"
    },
    "tags": []
   },
   "outputs": [
    {
     "data": {
      "text/plain": [
       "74"
      ]
     },
     "execution_count": 3,
     "metadata": {},
     "output_type": "execute_result"
    }
   ],
   "source": [
    "# You can run this cell as many times as you want, it will always return the same number\n",
    "\n",
    "random.seed(58)\n",
    "random.randint(0,100)"
   ]
  },
  {
   "cell_type": "code",
   "execution_count": 4,
   "id": "6b81d48e",
   "metadata": {
    "execution": {
     "iopub.execute_input": "2022-01-03T11:06:56.308223Z",
     "iopub.status.busy": "2022-01-03T11:06:56.307434Z",
     "iopub.status.idle": "2022-01-03T11:06:56.311653Z",
     "shell.execute_reply": "2022-01-03T11:06:56.312157Z",
     "shell.execute_reply.started": "2022-01-03T10:51:34.746359Z"
    },
    "papermill": {
     "duration": 0.025062,
     "end_time": "2022-01-03T11:06:56.312353",
     "exception": false,
     "start_time": "2022-01-03T11:06:56.287291",
     "status": "completed"
    },
    "tags": []
   },
   "outputs": [
    {
     "name": "stdout",
     "output_type": "stream",
     "text": [
      "74\n",
      "25\n",
      "26\n",
      "94\n",
      "82\n"
     ]
    }
   ],
   "source": [
    "random.seed(58)\n",
    "\n",
    "print(random.randint(0,100))\n",
    "print(random.randint(0,100))\n",
    "print(random.randint(0,100))\n",
    "print(random.randint(0,100))\n",
    "print(random.randint(0,100))"
   ]
  },
  {
   "cell_type": "markdown",
   "id": "6cb78270",
   "metadata": {
    "papermill": {
     "duration": 0.015375,
     "end_time": "2022-01-03T11:06:56.344335",
     "exception": false,
     "start_time": "2022-01-03T11:06:56.328960",
     "status": "completed"
    },
    "tags": []
   },
   "source": [
    "#### random.choice(list)\n",
    "grab a random number from a list"
   ]
  },
  {
   "cell_type": "code",
   "execution_count": 5,
   "id": "6fd099a7",
   "metadata": {
    "execution": {
     "iopub.execute_input": "2022-01-03T11:06:56.380695Z",
     "iopub.status.busy": "2022-01-03T11:06:56.379820Z",
     "iopub.status.idle": "2022-01-03T11:06:56.383335Z",
     "shell.execute_reply": "2022-01-03T11:06:56.383800Z",
     "shell.execute_reply.started": "2022-01-03T10:53:34.539033Z"
    },
    "papermill": {
     "duration": 0.024436,
     "end_time": "2022-01-03T11:06:56.383984",
     "exception": false,
     "start_time": "2022-01-03T11:06:56.359548",
     "status": "completed"
    },
    "tags": []
   },
   "outputs": [
    {
     "data": {
      "text/plain": [
       "6"
      ]
     },
     "execution_count": 5,
     "metadata": {},
     "output_type": "execute_result"
    }
   ],
   "source": [
    "mylist = list(range(0,20))\n",
    "\n",
    "random.choice(mylist)"
   ]
  },
  {
   "cell_type": "code",
   "execution_count": 6,
   "id": "12fc0926",
   "metadata": {
    "execution": {
     "iopub.execute_input": "2022-01-03T11:06:56.420165Z",
     "iopub.status.busy": "2022-01-03T11:06:56.419406Z",
     "iopub.status.idle": "2022-01-03T11:06:56.422166Z",
     "shell.execute_reply": "2022-01-03T11:06:56.422666Z",
     "shell.execute_reply.started": "2022-01-03T10:53:59.395204Z"
    },
    "papermill": {
     "duration": 0.023795,
     "end_time": "2022-01-03T11:06:56.422857",
     "exception": false,
     "start_time": "2022-01-03T11:06:56.399062",
     "status": "completed"
    },
    "tags": []
   },
   "outputs": [
    {
     "data": {
      "text/plain": [
       "[0, 2, 3, 4, 5, 6, 7, 8, 9, 10, 11, 12, 13, 14, 15, 16, 17, 18, 19]"
      ]
     },
     "execution_count": 6,
     "metadata": {},
     "output_type": "execute_result"
    }
   ],
   "source": [
    "#You can also pop a random number from the list\n",
    "\n",
    "mylist.pop(random.choice(mylist))\n",
    "\n",
    "mylist"
   ]
  },
  {
   "cell_type": "markdown",
   "id": "4abf9b4a",
   "metadata": {
    "papermill": {
     "duration": 0.015069,
     "end_time": "2022-01-03T11:06:56.453232",
     "exception": false,
     "start_time": "2022-01-03T11:06:56.438163",
     "status": "completed"
    },
    "tags": []
   },
   "source": [
    "#### random.shuffle(list)\n",
    "will shuffle a list"
   ]
  },
  {
   "cell_type": "code",
   "execution_count": 7,
   "id": "53a4fea7",
   "metadata": {
    "execution": {
     "iopub.execute_input": "2022-01-03T11:06:56.488659Z",
     "iopub.status.busy": "2022-01-03T11:06:56.487619Z",
     "iopub.status.idle": "2022-01-03T11:06:56.493662Z",
     "shell.execute_reply": "2022-01-03T11:06:56.494271Z",
     "shell.execute_reply.started": "2022-01-03T10:57:06.814032Z"
    },
    "papermill": {
     "duration": 0.025261,
     "end_time": "2022-01-03T11:06:56.494455",
     "exception": false,
     "start_time": "2022-01-03T11:06:56.469194",
     "status": "completed"
    },
    "tags": []
   },
   "outputs": [
    {
     "data": {
      "text/plain": [
       "[3, 9, 11, 6, 16, 4, 0, 2, 14, 19, 10, 8, 18, 17, 5, 12, 13, 15, 7]"
      ]
     },
     "execution_count": 7,
     "metadata": {},
     "output_type": "execute_result"
    }
   ],
   "source": [
    "random.shuffle(mylist)\n",
    "mylist"
   ]
  },
  {
   "cell_type": "markdown",
   "id": "888876c4",
   "metadata": {
    "papermill": {
     "duration": 0.015896,
     "end_time": "2022-01-03T11:06:56.526703",
     "exception": false,
     "start_time": "2022-01-03T11:06:56.510807",
     "status": "completed"
    },
    "tags": []
   },
   "source": [
    "# Sample\n",
    "\n",
    "Take a sample size, allowing picking elements more than once. \n",
    "\n",
    "#### with replacement: random.choices(population,k)\n",
    "In this case, you extract a random population, then put it back in the list."
   ]
  },
  {
   "cell_type": "code",
   "execution_count": 8,
   "id": "c13d3e56",
   "metadata": {
    "execution": {
     "iopub.execute_input": "2022-01-03T11:06:56.562146Z",
     "iopub.status.busy": "2022-01-03T11:06:56.561119Z",
     "iopub.status.idle": "2022-01-03T11:06:56.566960Z",
     "shell.execute_reply": "2022-01-03T11:06:56.567775Z",
     "shell.execute_reply.started": "2022-01-03T11:02:06.525506Z"
    },
    "papermill": {
     "duration": 0.02551,
     "end_time": "2022-01-03T11:06:56.568038",
     "exception": false,
     "start_time": "2022-01-03T11:06:56.542528",
     "status": "completed"
    },
    "tags": []
   },
   "outputs": [
    {
     "data": {
      "text/plain": [
       "[10, 2, 0, 9, 18]"
      ]
     },
     "execution_count": 8,
     "metadata": {},
     "output_type": "execute_result"
    }
   ],
   "source": [
    "random.choices(population=mylist,k=5)"
   ]
  },
  {
   "cell_type": "markdown",
   "id": "7dd0c229",
   "metadata": {
    "papermill": {
     "duration": 0.016739,
     "end_time": "2022-01-03T11:06:56.601137",
     "exception": false,
     "start_time": "2022-01-03T11:06:56.584398",
     "status": "completed"
    },
    "tags": []
   },
   "source": [
    "#### without replacement: random.sample(population,k)\n",
    "\n",
    "Once an item has been randomly picked, it can't be picked again."
   ]
  },
  {
   "cell_type": "code",
   "execution_count": 9,
   "id": "89b9036a",
   "metadata": {
    "execution": {
     "iopub.execute_input": "2022-01-03T11:06:56.637599Z",
     "iopub.status.busy": "2022-01-03T11:06:56.636530Z",
     "iopub.status.idle": "2022-01-03T11:06:56.642871Z",
     "shell.execute_reply": "2022-01-03T11:06:56.642350Z",
     "shell.execute_reply.started": "2022-01-03T11:01:41.685930Z"
    },
    "papermill": {
     "duration": 0.025672,
     "end_time": "2022-01-03T11:06:56.643052",
     "exception": false,
     "start_time": "2022-01-03T11:06:56.617380",
     "status": "completed"
    },
    "tags": []
   },
   "outputs": [
    {
     "data": {
      "text/plain": [
       "[16, 19, 9, 4, 17]"
      ]
     },
     "execution_count": 9,
     "metadata": {},
     "output_type": "execute_result"
    }
   ],
   "source": [
    "random.sample(population=mylist,k=5)"
   ]
  },
  {
   "cell_type": "markdown",
   "id": "7e33ec81",
   "metadata": {
    "papermill": {
     "duration": 0.015894,
     "end_time": "2022-01-03T11:06:56.675403",
     "exception": false,
     "start_time": "2022-01-03T11:06:56.659509",
     "status": "completed"
    },
    "tags": []
   },
   "source": [
    "# Random Distributions\n",
    "\n",
    "In probability theory and statistics, a probability distribution is the mathematical function that gives the probabilities of occurrence of different possible outcomes for an experiment. It is a mathematical description of a random phenomenon in terms of its sample space and the probabilities of events (subsets of the sample space)."
   ]
  },
  {
   "cell_type": "code",
   "execution_count": 10,
   "id": "44b211b4",
   "metadata": {
    "execution": {
     "iopub.execute_input": "2022-01-03T11:06:56.712485Z",
     "iopub.status.busy": "2022-01-03T11:06:56.711444Z",
     "iopub.status.idle": "2022-01-03T11:06:56.717135Z",
     "shell.execute_reply": "2022-01-03T11:06:56.717724Z",
     "shell.execute_reply.started": "2022-01-03T11:04:26.805675Z"
    },
    "papermill": {
     "duration": 0.026179,
     "end_time": "2022-01-03T11:06:56.717899",
     "exception": false,
     "start_time": "2022-01-03T11:06:56.691720",
     "status": "completed"
    },
    "tags": []
   },
   "outputs": [
    {
     "data": {
      "text/plain": [
       "29.356813661959556"
      ]
     },
     "execution_count": 10,
     "metadata": {},
     "output_type": "execute_result"
    }
   ],
   "source": [
    "# Uniform distribution\n",
    "# Continuous, random picks a value between a and b, each value has equal change of being picked.\n",
    "\n",
    "random.uniform(a=0,b=100)"
   ]
  },
  {
   "cell_type": "code",
   "execution_count": 11,
   "id": "d5a23c81",
   "metadata": {
    "execution": {
     "iopub.execute_input": "2022-01-03T11:06:56.755619Z",
     "iopub.status.busy": "2022-01-03T11:06:56.754624Z",
     "iopub.status.idle": "2022-01-03T11:06:56.763183Z",
     "shell.execute_reply": "2022-01-03T11:06:56.762507Z",
     "shell.execute_reply.started": "2022-01-03T11:06:16.775429Z"
    },
    "papermill": {
     "duration": 0.028953,
     "end_time": "2022-01-03T11:06:56.763328",
     "exception": false,
     "start_time": "2022-01-03T11:06:56.734375",
     "status": "completed"
    },
    "tags": []
   },
   "outputs": [
    {
     "data": {
      "text/plain": [
       "0.6401604759945649"
      ]
     },
     "execution_count": 11,
     "metadata": {},
     "output_type": "execute_result"
    }
   ],
   "source": [
    "#Normal/Gaussian Distribution\n",
    "#Takes in a mean and a standard deviation\n",
    "\n",
    "random.gauss(mu=0,sigma=1)"
   ]
  }
 ],
 "metadata": {
  "kernelspec": {
   "display_name": "Python 3",
   "language": "python",
   "name": "python3"
  },
  "language_info": {
   "codemirror_mode": {
    "name": "ipython",
    "version": 3
   },
   "file_extension": ".py",
   "mimetype": "text/x-python",
   "name": "python",
   "nbconvert_exporter": "python",
   "pygments_lexer": "ipython3",
   "version": "3.7.12"
  },
  "papermill": {
   "default_parameters": {},
   "duration": 12.577951,
   "end_time": "2022-01-03T11:06:57.394629",
   "environment_variables": {},
   "exception": null,
   "input_path": "__notebook__.ipynb",
   "output_path": "__notebook__.ipynb",
   "parameters": {},
   "start_time": "2022-01-03T11:06:44.816678",
   "version": "2.3.3"
  }
 },
 "nbformat": 4,
 "nbformat_minor": 5
}
