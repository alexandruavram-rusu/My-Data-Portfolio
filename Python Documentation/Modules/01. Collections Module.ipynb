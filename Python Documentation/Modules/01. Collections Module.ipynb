{
 "cells": [
  {
   "cell_type": "markdown",
   "id": "2de10625",
   "metadata": {
    "papermill": {
     "duration": 0.033003,
     "end_time": "2021-12-16T14:10:26.430826",
     "exception": false,
     "start_time": "2021-12-16T14:10:26.397823",
     "status": "completed"
    },
    "tags": []
   },
   "source": [
    "# Collections Module\n",
    "\n",
    "The collections module is a built-in module that implements specialized container data types providing alternatives to Python’s general purpose built-in containers. We've already gone over the basics: dict, list, set, and tuple.\n",
    "\n",
    "\n",
    "<table class=\"table table-bordered\">\n",
    "<tr>\n",
    "<th style=\"width:10%\">Subclass</th><th style=\"width:45%\">Description</th>\n",
    "</tr>\n",
    "\n",
    "\n",
    "<tr>\n",
    "<td>Counter</td>\n",
    "<td>Dict subclass for counting hashable objects</td>\n",
    "</tr>     \n",
    "    \n",
    "<tr>\n",
    "<td>defaultdict</td>\n",
    "<td>Dict subclass that calls a factory function to supply missing values</td>\n",
    "</tr>\n",
    "\n",
    "<tr>\n",
    "<td>namedtuple</td>\n",
    "<td>Factory function for creating tuple subclasses with named fields</td>\n",
    "</tr>\n",
    "\n",
    "<tr>\n",
    "<td>deque</td>\n",
    "<td>List-like container with fast appends and pops on either end</td>\n",
    "</tr>\n",
    "    \n",
    "<tr>\n",
    "<td>ChainMap</td>\n",
    "<td>Dict-like class for creating a single view of multiple mappings</td>\n",
    "</tr>   \n",
    "\n",
    "<tr>\n",
    "<td>OrderedDict</td>\n",
    "<td>Dict subclass that remembers the order entries were added</td>\n",
    "</tr>\n",
    "\n",
    "<tr>\n",
    "<td>UserDict</td>\n",
    "<td>Wrapper around dictionary objects for easier dict subclassing</td>\n",
    "</tr>\n",
    "\n",
    "<tr>\n",
    "<td>UserList</td>\n",
    "<td>Wrapper around list objects for easier list subclassingg</td>\n",
    "</tr>\n",
    "    \n",
    "<tr>\n",
    "<td>UserString</td>\n",
    "<td>Wrapper around string objects for easier string subclassing</td>\n",
    "</tr> \n",
    "</table>"
   ]
  },
  {
   "cell_type": "markdown",
   "id": "3abf75fa",
   "metadata": {
    "papermill": {
     "duration": 0.030891,
     "end_time": "2021-12-16T14:10:26.493822",
     "exception": false,
     "start_time": "2021-12-16T14:10:26.462931",
     "status": "completed"
    },
    "tags": []
   },
   "source": [
    "# Table of contents\n",
    "\n",
    "1. [Counter](#Counter)\n",
    "2. [defaultdict](#defaultdict)\n",
    "3. [namedtuple](#namedtuple)\n",
    "4. [deque](#deque)\n",
    "5. [ChainMap](#ChainMap)\n",
    "6. [OrderedDict](#OrderedDict)\n",
    "7. [UserDict / UserList / UserString](#user_collection_modules)\n",
    "     1. [UserDict](#UserDict)\n",
    "     2. [UserList](#UserList)\n",
    "     3. [UserString](#UserString)\n",
    "\n",
    "\n",
    "Further documentation on [python.org - collections — Container datatypes](https://docs.python.org/3/library/collections.html)"
   ]
  },
  {
   "cell_type": "markdown",
   "id": "9082f7f8",
   "metadata": {
    "papermill": {
     "duration": 0.030913,
     "end_time": "2021-12-16T14:10:26.556434",
     "exception": false,
     "start_time": "2021-12-16T14:10:26.525521",
     "status": "completed"
    },
    "tags": []
   },
   "source": [
    "# Counter\n",
    "\n",
    "**Counter** is a *dict subclass* which helps count hashable objects. Inside of it elements are stored as dictionary keys and the counts of the objects are stored as the value.\n",
    "\n",
    "Common patterns when using the Counter object:\n",
    "\n",
    "<table class=\"table table-bordered\">\n",
    "\n",
    "<tr>\n",
    "<td>sum(c.values())</td>\n",
    "<td># total of all counts</td>\n",
    "</tr>    \n",
    "<tr>\n",
    "<td>c.clear() </td>\n",
    "<td># reset all counts</td>\n",
    "</tr>\n",
    "<tr>\n",
    "<td>list(c) </td>\n",
    "<td># list unique elements</td>\n",
    "</tr>                 \n",
    "<tr>\n",
    "<td>set(c) </td>\n",
    "<td># convert to a set</td>\n",
    "</tr>                       \n",
    "<tr>\n",
    "<td>dict(c) </td>\n",
    "<td># convert to a regular dictionary</td>\n",
    "</tr>                           \n",
    "<tr>\n",
    "<td>c.items()  </td>\n",
    "<td># convert to a list of (elem, cnt) pairs</td>\n",
    "</tr>                           \n",
    "<tr>\n",
    "<td>Counter(dict(list_of_pairs))  </td>\n",
    "<td># convert from a list of (elem, cnt) pairs</td>\n",
    "</tr>                           \n",
    "<tr>\n",
    "<td>c.most_common()[:-n-1:-1]  </td>\n",
    "<td># n least common elements</td>\n",
    "</tr>                         \n",
    "<tr>\n",
    "<td>c += Counter()  </td>\n",
    "<td># remove zero and negative counts</td>\n",
    "</tr>   \n",
    "</table>       \n",
    "                  "
   ]
  },
  {
   "cell_type": "code",
   "execution_count": 1,
   "id": "b39720d6",
   "metadata": {
    "execution": {
     "iopub.execute_input": "2021-12-16T14:10:26.627606Z",
     "iopub.status.busy": "2021-12-16T14:10:26.625789Z",
     "iopub.status.idle": "2021-12-16T14:10:26.637544Z",
     "shell.execute_reply": "2021-12-16T14:10:26.638165Z",
     "shell.execute_reply.started": "2021-12-16T14:08:31.000369Z"
    },
    "papermill": {
     "duration": 0.049942,
     "end_time": "2021-12-16T14:10:26.638537",
     "exception": false,
     "start_time": "2021-12-16T14:10:26.588595",
     "status": "completed"
    },
    "tags": []
   },
   "outputs": [],
   "source": [
    "from collections import Counter"
   ]
  },
  {
   "cell_type": "code",
   "execution_count": 2,
   "id": "11036a3c",
   "metadata": {
    "execution": {
     "iopub.execute_input": "2021-12-16T14:10:26.706073Z",
     "iopub.status.busy": "2021-12-16T14:10:26.704919Z",
     "iopub.status.idle": "2021-12-16T14:10:26.715395Z",
     "shell.execute_reply": "2021-12-16T14:10:26.715985Z",
     "shell.execute_reply.started": "2021-12-16T14:08:32.679997Z"
    },
    "papermill": {
     "duration": 0.046144,
     "end_time": "2021-12-16T14:10:26.716230",
     "exception": false,
     "start_time": "2021-12-16T14:10:26.670086",
     "status": "completed"
    },
    "tags": []
   },
   "outputs": [
    {
     "data": {
      "text/plain": [
       "Counter({1: 3, 2: 5, 3: 3})"
      ]
     },
     "execution_count": 2,
     "metadata": {},
     "output_type": "execute_result"
    }
   ],
   "source": [
    "#Counter with list\n",
    "\n",
    "my_list = [1,2,2,2,2,3,3,3,1,2,1]\n",
    "\n",
    "Counter(my_list)"
   ]
  },
  {
   "cell_type": "code",
   "execution_count": 3,
   "id": "911a9b21",
   "metadata": {
    "execution": {
     "iopub.execute_input": "2021-12-16T14:10:26.786123Z",
     "iopub.status.busy": "2021-12-16T14:10:26.785446Z",
     "iopub.status.idle": "2021-12-16T14:10:26.790562Z",
     "shell.execute_reply": "2021-12-16T14:10:26.791199Z",
     "shell.execute_reply.started": "2021-12-16T14:08:34.535327Z"
    },
    "papermill": {
     "duration": 0.042363,
     "end_time": "2021-12-16T14:10:26.791400",
     "exception": false,
     "start_time": "2021-12-16T14:10:26.749037",
     "status": "completed"
    },
    "tags": []
   },
   "outputs": [
    {
     "data": {
      "text/plain": [
       "Counter({'a': 2, 'b': 5, 'c': 7, 'd': 2})"
      ]
     },
     "execution_count": 3,
     "metadata": {},
     "output_type": "execute_result"
    }
   ],
   "source": [
    "#Counter with strings\n",
    "\n",
    "Counter('aabbbbbcccccccdd')"
   ]
  },
  {
   "cell_type": "code",
   "execution_count": 4,
   "id": "e7f54105",
   "metadata": {
    "execution": {
     "iopub.execute_input": "2021-12-16T14:10:26.861375Z",
     "iopub.status.busy": "2021-12-16T14:10:26.860582Z",
     "iopub.status.idle": "2021-12-16T14:10:26.867215Z",
     "shell.execute_reply": "2021-12-16T14:10:26.867811Z",
     "shell.execute_reply.started": "2021-12-16T14:08:36.253732Z"
    },
    "papermill": {
     "duration": 0.042519,
     "end_time": "2021-12-16T14:10:26.868038",
     "exception": false,
     "start_time": "2021-12-16T14:10:26.825519",
     "status": "completed"
    },
    "tags": []
   },
   "outputs": [
    {
     "data": {
      "text/plain": [
       "Counter({'Nory': 1,\n",
       "         'was': 6,\n",
       "         'a': 6,\n",
       "         'Catholic': 3,\n",
       "         'because': 3,\n",
       "         'her': 3,\n",
       "         'mother': 3,\n",
       "         'Catholic,': 3,\n",
       "         'and': 2,\n",
       "         'Nory’s': 1,\n",
       "         'father': 2,\n",
       "         'his': 1,\n",
       "         'or': 1,\n",
       "         'had': 1,\n",
       "         'been.': 1})"
      ]
     },
     "execution_count": 4,
     "metadata": {},
     "output_type": "execute_result"
    }
   ],
   "source": [
    "#Counter words in a sentence\n",
    "\n",
    "s = \"Nory was a Catholic because her mother was a Catholic, and Nory’s mother was a Catholic because her father was a Catholic, and her father was a Catholic because his mother was a Catholic, or had been.\"\n",
    "\n",
    "words = s.split()\n",
    "\n",
    "Counter(words)"
   ]
  },
  {
   "cell_type": "code",
   "execution_count": 5,
   "id": "4c003e48",
   "metadata": {
    "execution": {
     "iopub.execute_input": "2021-12-16T14:10:26.937010Z",
     "iopub.status.busy": "2021-12-16T14:10:26.936264Z",
     "iopub.status.idle": "2021-12-16T14:10:26.942425Z",
     "shell.execute_reply": "2021-12-16T14:10:26.943054Z",
     "shell.execute_reply.started": "2021-12-16T14:08:39.134436Z"
    },
    "papermill": {
     "duration": 0.04293,
     "end_time": "2021-12-16T14:10:26.943259",
     "exception": false,
     "start_time": "2021-12-16T14:10:26.900329",
     "status": "completed"
    },
    "tags": []
   },
   "outputs": [
    {
     "data": {
      "text/plain": [
       "[('was', 6), ('a', 6)]"
      ]
     },
     "execution_count": 5,
     "metadata": {},
     "output_type": "execute_result"
    }
   ],
   "source": [
    "# Getting the 2 most common words out of the previous sentence\n",
    "\n",
    "c = Counter(words)\n",
    "\n",
    "c.most_common(2)"
   ]
  },
  {
   "cell_type": "code",
   "execution_count": 6,
   "id": "6d4e2ac5",
   "metadata": {
    "execution": {
     "iopub.execute_input": "2021-12-16T14:10:27.012479Z",
     "iopub.status.busy": "2021-12-16T14:10:27.011797Z",
     "iopub.status.idle": "2021-12-16T14:10:27.018807Z",
     "shell.execute_reply": "2021-12-16T14:10:27.019466Z",
     "shell.execute_reply.started": "2021-12-16T14:08:41.043883Z"
    },
    "papermill": {
     "duration": 0.043755,
     "end_time": "2021-12-16T14:10:27.019667",
     "exception": false,
     "start_time": "2021-12-16T14:10:26.975912",
     "status": "completed"
    },
    "tags": []
   },
   "outputs": [
    {
     "data": {
      "text/plain": [
       "Counter({'a': 3, 'b': 0, 'c': -3, 'd': -6})"
      ]
     },
     "execution_count": 6,
     "metadata": {},
     "output_type": "execute_result"
    }
   ],
   "source": [
    "# subtract()\n",
    "\n",
    "c = Counter(a=4, b=2, c=0, d=-2)\n",
    "d = Counter(a=1, b=2, c=3, d=4)\n",
    "\n",
    "c.subtract(d)\n",
    "c"
   ]
  },
  {
   "cell_type": "code",
   "execution_count": 7,
   "id": "40266407",
   "metadata": {
    "execution": {
     "iopub.execute_input": "2021-12-16T14:10:27.092526Z",
     "iopub.status.busy": "2021-12-16T14:10:27.091746Z",
     "iopub.status.idle": "2021-12-16T14:10:27.096227Z",
     "shell.execute_reply": "2021-12-16T14:10:27.095631Z",
     "shell.execute_reply.started": "2021-12-16T14:08:43.226768Z"
    },
    "papermill": {
     "duration": 0.043852,
     "end_time": "2021-12-16T14:10:27.096409",
     "exception": false,
     "start_time": "2021-12-16T14:10:27.052557",
     "status": "completed"
    },
    "tags": []
   },
   "outputs": [
    {
     "data": {
      "text/plain": [
       "9"
      ]
     },
     "execution_count": 7,
     "metadata": {},
     "output_type": "execute_result"
    }
   ],
   "source": [
    "#Sum\n",
    "\n",
    "sum(Counter([1,2,3,4,5,1,2,1,6]).values())"
   ]
  },
  {
   "cell_type": "markdown",
   "id": "0c548e69",
   "metadata": {
    "papermill": {
     "duration": 0.033149,
     "end_time": "2021-12-16T14:10:27.164183",
     "exception": false,
     "start_time": "2021-12-16T14:10:27.131034",
     "status": "completed"
    },
    "tags": []
   },
   "source": [
    "# defaultdict\n",
    "\n",
    "**defaultdict** is a dictionary-like object which provides all methods provided by a dictionary but takes a first argument (default_factory) as a default data type for the dictionary. Using defaultdict is faster than doing the same using dict.set_default method."
   ]
  },
  {
   "cell_type": "code",
   "execution_count": 8,
   "id": "3f440fa9",
   "metadata": {
    "execution": {
     "iopub.execute_input": "2021-12-16T14:10:27.236266Z",
     "iopub.status.busy": "2021-12-16T14:10:27.235566Z",
     "iopub.status.idle": "2021-12-16T14:10:27.238326Z",
     "shell.execute_reply": "2021-12-16T14:10:27.237679Z",
     "shell.execute_reply.started": "2021-12-16T14:08:45.520163Z"
    },
    "papermill": {
     "duration": 0.041014,
     "end_time": "2021-12-16T14:10:27.238478",
     "exception": false,
     "start_time": "2021-12-16T14:10:27.197464",
     "status": "completed"
    },
    "tags": []
   },
   "outputs": [],
   "source": [
    "from collections import defaultdict"
   ]
  },
  {
   "cell_type": "code",
   "execution_count": 9,
   "id": "c4f5aa46",
   "metadata": {
    "execution": {
     "iopub.execute_input": "2021-12-16T14:10:27.309358Z",
     "iopub.status.busy": "2021-12-16T14:10:27.308648Z",
     "iopub.status.idle": "2021-12-16T14:10:27.313464Z",
     "shell.execute_reply": "2021-12-16T14:10:27.313971Z",
     "shell.execute_reply.started": "2021-12-16T14:08:47.242114Z"
    },
    "papermill": {
     "duration": 0.041984,
     "end_time": "2021-12-16T14:10:27.314182",
     "exception": false,
     "start_time": "2021-12-16T14:10:27.272198",
     "status": "completed"
    },
    "tags": []
   },
   "outputs": [
    {
     "data": {
      "text/plain": [
       "{5, 'a'}"
      ]
     },
     "execution_count": 9,
     "metadata": {},
     "output_type": "execute_result"
    }
   ],
   "source": [
    "#Creating a simple dictionary\n",
    "\n",
    "d = {\"a\", 5}\n",
    "\n",
    "d"
   ]
  },
  {
   "cell_type": "markdown",
   "id": "d7cd4063",
   "metadata": {
    "papermill": {
     "duration": 0.033097,
     "end_time": "2021-12-16T14:10:27.380836",
     "exception": false,
     "start_time": "2021-12-16T14:10:27.347739",
     "status": "completed"
    },
    "tags": []
   },
   "source": [
    "Calling the wrong key (ex: `d['WRONG']` will result in an error. Using `defaultdict`, you will assign a default value."
   ]
  },
  {
   "cell_type": "code",
   "execution_count": 10,
   "id": "5beab060",
   "metadata": {
    "execution": {
     "iopub.execute_input": "2021-12-16T14:10:27.453285Z",
     "iopub.status.busy": "2021-12-16T14:10:27.451197Z",
     "iopub.status.idle": "2021-12-16T14:10:27.455767Z",
     "shell.execute_reply": "2021-12-16T14:10:27.455119Z",
     "shell.execute_reply.started": "2021-12-16T14:08:49.354633Z"
    },
    "papermill": {
     "duration": 0.041133,
     "end_time": "2021-12-16T14:10:27.455924",
     "exception": false,
     "start_time": "2021-12-16T14:10:27.414791",
     "status": "completed"
    },
    "tags": []
   },
   "outputs": [],
   "source": [
    "#Setting a default value\n",
    "\n",
    "d = defaultdict(lambda: 0)"
   ]
  },
  {
   "cell_type": "code",
   "execution_count": 11,
   "id": "a6688dec",
   "metadata": {
    "execution": {
     "iopub.execute_input": "2021-12-16T14:10:27.527550Z",
     "iopub.status.busy": "2021-12-16T14:10:27.526491Z",
     "iopub.status.idle": "2021-12-16T14:10:27.532769Z",
     "shell.execute_reply": "2021-12-16T14:10:27.533421Z",
     "shell.execute_reply.started": "2021-12-16T14:08:51.104497Z"
    },
    "papermill": {
     "duration": 0.044026,
     "end_time": "2021-12-16T14:10:27.533623",
     "exception": false,
     "start_time": "2021-12-16T14:10:27.489597",
     "status": "completed"
    },
    "tags": []
   },
   "outputs": [
    {
     "data": {
      "text/plain": [
       "defaultdict(<function __main__.<lambda>()>, {'a': 100})"
      ]
     },
     "execution_count": 11,
     "metadata": {},
     "output_type": "execute_result"
    }
   ],
   "source": [
    "#Checking out d dictionary\n",
    "\n",
    "d['a'] = 100\n",
    "\n",
    "d"
   ]
  },
  {
   "cell_type": "code",
   "execution_count": 12,
   "id": "ce2cfbb4",
   "metadata": {
    "execution": {
     "iopub.execute_input": "2021-12-16T14:10:27.607964Z",
     "iopub.status.busy": "2021-12-16T14:10:27.607132Z",
     "iopub.status.idle": "2021-12-16T14:10:27.610473Z",
     "shell.execute_reply": "2021-12-16T14:10:27.611284Z",
     "shell.execute_reply.started": "2021-12-16T14:08:54.125111Z"
    },
    "papermill": {
     "duration": 0.044263,
     "end_time": "2021-12-16T14:10:27.611509",
     "exception": false,
     "start_time": "2021-12-16T14:10:27.567246",
     "status": "completed"
    },
    "tags": []
   },
   "outputs": [
    {
     "data": {
      "text/plain": [
       "0"
      ]
     },
     "execution_count": 12,
     "metadata": {},
     "output_type": "execute_result"
    }
   ],
   "source": [
    "#Passing a wrong value will result in a 0, not an error\n",
    "\n",
    "d['WRONG']"
   ]
  },
  {
   "cell_type": "code",
   "execution_count": 13,
   "id": "c49dff8e",
   "metadata": {
    "execution": {
     "iopub.execute_input": "2021-12-16T14:10:27.684092Z",
     "iopub.status.busy": "2021-12-16T14:10:27.682984Z",
     "iopub.status.idle": "2021-12-16T14:10:27.688627Z",
     "shell.execute_reply": "2021-12-16T14:10:27.689235Z",
     "shell.execute_reply.started": "2021-12-16T14:08:55.948978Z"
    },
    "papermill": {
     "duration": 0.043909,
     "end_time": "2021-12-16T14:10:27.689443",
     "exception": false,
     "start_time": "2021-12-16T14:10:27.645534",
     "status": "completed"
    },
    "tags": []
   },
   "outputs": [
    {
     "data": {
      "text/plain": [
       "defaultdict(<function __main__.<lambda>()>, {'a': 100, 'WRONG': 0})"
      ]
     },
     "execution_count": 13,
     "metadata": {},
     "output_type": "execute_result"
    }
   ],
   "source": [
    "# Calling the dictionary again, we will get \"WRONG\" with a 0 value\n",
    "\n",
    "d"
   ]
  },
  {
   "cell_type": "markdown",
   "id": "42ee3612",
   "metadata": {
    "papermill": {
     "duration": 0.033997,
     "end_time": "2021-12-16T14:10:27.757833",
     "exception": false,
     "start_time": "2021-12-16T14:10:27.723836",
     "status": "completed"
    },
    "tags": []
   },
   "source": [
    "# namedtuple\n",
    "\n",
    "**namedtuple** is a very short and quick way of creating a new object/class type with some attribute fields. We construct the namedtuple by first passing the object type name and then passing a string with the variety of fields as a string with spaces between the field names."
   ]
  },
  {
   "cell_type": "code",
   "execution_count": 14,
   "id": "73bb98cc",
   "metadata": {
    "execution": {
     "iopub.execute_input": "2021-12-16T14:10:27.831091Z",
     "iopub.status.busy": "2021-12-16T14:10:27.830035Z",
     "iopub.status.idle": "2021-12-16T14:10:27.833937Z",
     "shell.execute_reply": "2021-12-16T14:10:27.834587Z",
     "shell.execute_reply.started": "2021-12-16T14:09:27.223125Z"
    },
    "papermill": {
     "duration": 0.042455,
     "end_time": "2021-12-16T14:10:27.834781",
     "exception": false,
     "start_time": "2021-12-16T14:10:27.792326",
     "status": "completed"
    },
    "tags": []
   },
   "outputs": [],
   "source": [
    "from collections import namedtuple"
   ]
  },
  {
   "cell_type": "code",
   "execution_count": 15,
   "id": "5f12afd4",
   "metadata": {
    "execution": {
     "iopub.execute_input": "2021-12-16T14:10:27.908400Z",
     "iopub.status.busy": "2021-12-16T14:10:27.907361Z",
     "iopub.status.idle": "2021-12-16T14:10:27.912584Z",
     "shell.execute_reply": "2021-12-16T14:10:27.913169Z",
     "shell.execute_reply.started": "2021-12-16T14:09:29.582536Z"
    },
    "papermill": {
     "duration": 0.04423,
     "end_time": "2021-12-16T14:10:27.913364",
     "exception": false,
     "start_time": "2021-12-16T14:10:27.869134",
     "status": "completed"
    },
    "tags": []
   },
   "outputs": [],
   "source": [
    "#Constructing a namedtuple\n",
    "\n",
    "Dog = namedtuple('Dog',['age','breed','name'])\n",
    "\n",
    "sam = Dog(age=2,breed='Lab',name='Sammy')\n",
    "\n",
    "frank = Dog(age=2,breed='Shepard',name=\"Frankie\")"
   ]
  },
  {
   "cell_type": "code",
   "execution_count": 16,
   "id": "bdb0631a",
   "metadata": {
    "execution": {
     "iopub.execute_input": "2021-12-16T14:10:27.986781Z",
     "iopub.status.busy": "2021-12-16T14:10:27.985790Z",
     "iopub.status.idle": "2021-12-16T14:10:27.992280Z",
     "shell.execute_reply": "2021-12-16T14:10:27.991725Z",
     "shell.execute_reply.started": "2021-12-16T14:09:32.892905Z"
    },
    "papermill": {
     "duration": 0.044258,
     "end_time": "2021-12-16T14:10:27.992447",
     "exception": false,
     "start_time": "2021-12-16T14:10:27.948189",
     "status": "completed"
    },
    "tags": []
   },
   "outputs": [
    {
     "name": "stdout",
     "output_type": "stream",
     "text": [
      "Dog(age=2, breed='Lab', name='Sammy')\n",
      "2\n",
      "Lab\n"
     ]
    }
   ],
   "source": [
    "#Call an attributes\n",
    "\n",
    "print(sam)\n",
    "print(sam.age)\n",
    "print(sam.breed)"
   ]
  },
  {
   "cell_type": "code",
   "execution_count": 17,
   "id": "9f37536c",
   "metadata": {
    "execution": {
     "iopub.execute_input": "2021-12-16T14:10:28.069409Z",
     "iopub.status.busy": "2021-12-16T14:10:28.068722Z",
     "iopub.status.idle": "2021-12-16T14:10:28.071298Z",
     "shell.execute_reply": "2021-12-16T14:10:28.071892Z",
     "shell.execute_reply.started": "2021-12-16T14:09:35.020739Z"
    },
    "papermill": {
     "duration": 0.044613,
     "end_time": "2021-12-16T14:10:28.072099",
     "exception": false,
     "start_time": "2021-12-16T14:10:28.027486",
     "status": "completed"
    },
    "tags": []
   },
   "outputs": [
    {
     "data": {
      "text/plain": [
       "__main__.Dog"
      ]
     },
     "execution_count": 17,
     "metadata": {},
     "output_type": "execute_result"
    }
   ],
   "source": [
    "#It's almost like creating a class object.\n",
    "\n",
    "Dog"
   ]
  },
  {
   "cell_type": "markdown",
   "id": "f8949349",
   "metadata": {
    "papermill": {
     "duration": 0.035254,
     "end_time": "2021-12-16T14:10:28.142620",
     "exception": false,
     "start_time": "2021-12-16T14:10:28.107366",
     "status": "completed"
    },
    "tags": []
   },
   "source": [
    "# deque\n",
    "\n",
    "**Deques** are a generalization of stacks and queues (the name is pronounced “deck” and is short for “double-ended queue”). Deques support thread-safe, memory efficient appends and pops from either side of the deque."
   ]
  },
  {
   "cell_type": "code",
   "execution_count": 18,
   "id": "dc187b06",
   "metadata": {
    "execution": {
     "iopub.execute_input": "2021-12-16T14:10:28.217045Z",
     "iopub.status.busy": "2021-12-16T14:10:28.216394Z",
     "iopub.status.idle": "2021-12-16T14:10:28.219665Z",
     "shell.execute_reply": "2021-12-16T14:10:28.220257Z",
     "shell.execute_reply.started": "2021-12-16T14:09:37.146146Z"
    },
    "papermill": {
     "duration": 0.042374,
     "end_time": "2021-12-16T14:10:28.220445",
     "exception": false,
     "start_time": "2021-12-16T14:10:28.178071",
     "status": "completed"
    },
    "tags": []
   },
   "outputs": [],
   "source": [
    "from collections import deque"
   ]
  },
  {
   "cell_type": "code",
   "execution_count": 19,
   "id": "1929049e",
   "metadata": {
    "execution": {
     "iopub.execute_input": "2021-12-16T14:10:28.295398Z",
     "iopub.status.busy": "2021-12-16T14:10:28.294597Z",
     "iopub.status.idle": "2021-12-16T14:10:28.298474Z",
     "shell.execute_reply": "2021-12-16T14:10:28.299090Z",
     "shell.execute_reply.started": "2021-12-16T14:09:39.189293Z"
    },
    "papermill": {
     "duration": 0.042732,
     "end_time": "2021-12-16T14:10:28.299273",
     "exception": false,
     "start_time": "2021-12-16T14:10:28.256541",
     "status": "completed"
    },
    "tags": []
   },
   "outputs": [],
   "source": [
    "d = deque('ghi')"
   ]
  },
  {
   "cell_type": "code",
   "execution_count": 20,
   "id": "459aff0f",
   "metadata": {
    "execution": {
     "iopub.execute_input": "2021-12-16T14:10:28.373124Z",
     "iopub.status.busy": "2021-12-16T14:10:28.372379Z",
     "iopub.status.idle": "2021-12-16T14:10:28.377253Z",
     "shell.execute_reply": "2021-12-16T14:10:28.377768Z",
     "shell.execute_reply.started": "2021-12-16T14:09:41.031572Z"
    },
    "papermill": {
     "duration": 0.043762,
     "end_time": "2021-12-16T14:10:28.377942",
     "exception": false,
     "start_time": "2021-12-16T14:10:28.334180",
     "status": "completed"
    },
    "tags": []
   },
   "outputs": [
    {
     "name": "stdout",
     "output_type": "stream",
     "text": [
      "G\n",
      "H\n",
      "I\n"
     ]
    }
   ],
   "source": [
    "# iterate over the deque's elements\n",
    "\n",
    "for elem in d:                   \n",
    "    print(elem.upper())"
   ]
  },
  {
   "cell_type": "code",
   "execution_count": 21,
   "id": "4c7e222f",
   "metadata": {
    "execution": {
     "iopub.execute_input": "2021-12-16T14:10:28.454241Z",
     "iopub.status.busy": "2021-12-16T14:10:28.453490Z",
     "iopub.status.idle": "2021-12-16T14:10:28.456100Z",
     "shell.execute_reply": "2021-12-16T14:10:28.456674Z",
     "shell.execute_reply.started": "2021-12-16T14:09:42.457589Z"
    },
    "papermill": {
     "duration": 0.043726,
     "end_time": "2021-12-16T14:10:28.456842",
     "exception": false,
     "start_time": "2021-12-16T14:10:28.413116",
     "status": "completed"
    },
    "tags": []
   },
   "outputs": [
    {
     "data": {
      "text/plain": [
       "deque(['f', 'g', 'h', 'i', 'j'])"
      ]
     },
     "execution_count": 21,
     "metadata": {},
     "output_type": "execute_result"
    }
   ],
   "source": [
    "#Appending elements\n",
    "d.append('j')\n",
    "d.appendleft('f')\n",
    "\n",
    "d"
   ]
  },
  {
   "cell_type": "code",
   "execution_count": 22,
   "id": "eb1e6cda",
   "metadata": {
    "execution": {
     "iopub.execute_input": "2021-12-16T14:10:28.533385Z",
     "iopub.status.busy": "2021-12-16T14:10:28.532695Z",
     "iopub.status.idle": "2021-12-16T14:10:28.537586Z",
     "shell.execute_reply": "2021-12-16T14:10:28.538130Z",
     "shell.execute_reply.started": "2021-12-16T14:09:44.686110Z"
    },
    "papermill": {
     "duration": 0.046035,
     "end_time": "2021-12-16T14:10:28.538301",
     "exception": false,
     "start_time": "2021-12-16T14:10:28.492266",
     "status": "completed"
    },
    "tags": []
   },
   "outputs": [
    {
     "data": {
      "text/plain": [
       "deque(['f', 'g', 'h', 'i'])"
      ]
     },
     "execution_count": 22,
     "metadata": {},
     "output_type": "execute_result"
    }
   ],
   "source": [
    "#We can pop items\n",
    "\n",
    "d.pop() \n",
    "d"
   ]
  },
  {
   "cell_type": "markdown",
   "id": "5db2b060",
   "metadata": {
    "papermill": {
     "duration": 0.035402,
     "end_time": "2021-12-16T14:10:28.609477",
     "exception": false,
     "start_time": "2021-12-16T14:10:28.574075",
     "status": "completed"
    },
    "tags": []
   },
   "source": [
    "# ChainMap\n",
    "\n",
    "A **ChainMap** groups multiple dicts or other mappings together to create a single, updateable view. If no *maps* are specified, a single empty dictionary is provided so that a new chain always has at least one mapping.\n",
    "\n",
    "The underlying mappings are stored in a list. That list is public and can be accessed or updated using the maps attribute. There is no other state.\n",
    "\n",
    "Lookups search the underlying mappings successively until a key is found. In contrast, writes, updates, and deletions only operate on the first mapping.\n",
    "\n",
    "Note that the iteration order of a `ChainMap()` is determined by scanning the mappings last to first."
   ]
  },
  {
   "cell_type": "code",
   "execution_count": 23,
   "id": "999afc4f",
   "metadata": {
    "execution": {
     "iopub.execute_input": "2021-12-16T14:10:28.687384Z",
     "iopub.status.busy": "2021-12-16T14:10:28.685674Z",
     "iopub.status.idle": "2021-12-16T14:10:28.689195Z",
     "shell.execute_reply": "2021-12-16T14:10:28.689711Z",
     "shell.execute_reply.started": "2021-12-16T14:09:47.259080Z"
    },
    "papermill": {
     "duration": 0.042711,
     "end_time": "2021-12-16T14:10:28.689877",
     "exception": false,
     "start_time": "2021-12-16T14:10:28.647166",
     "status": "completed"
    },
    "tags": []
   },
   "outputs": [],
   "source": [
    "from collections import ChainMap"
   ]
  },
  {
   "cell_type": "code",
   "execution_count": 24,
   "id": "4c85c97c",
   "metadata": {
    "execution": {
     "iopub.execute_input": "2021-12-16T14:10:28.764528Z",
     "iopub.status.busy": "2021-12-16T14:10:28.763855Z",
     "iopub.status.idle": "2021-12-16T14:10:28.769113Z",
     "shell.execute_reply": "2021-12-16T14:10:28.769620Z",
     "shell.execute_reply.started": "2021-12-16T14:09:48.583573Z"
    },
    "papermill": {
     "duration": 0.04415,
     "end_time": "2021-12-16T14:10:28.769791",
     "exception": false,
     "start_time": "2021-12-16T14:10:28.725641",
     "status": "completed"
    },
    "tags": []
   },
   "outputs": [
    {
     "data": {
      "text/plain": [
       "['music', 'art', 'opera']"
      ]
     },
     "execution_count": 24,
     "metadata": {},
     "output_type": "execute_result"
    }
   ],
   "source": [
    "baseline = {'music': 'bach', 'art': 'rembrandt'}\n",
    "adjustments = {'art': 'van gogh', 'opera': 'carmen'}\n",
    "list(ChainMap(adjustments, baseline))"
   ]
  },
  {
   "cell_type": "code",
   "execution_count": 25,
   "id": "3419497d",
   "metadata": {
    "execution": {
     "iopub.execute_input": "2021-12-16T14:10:28.845174Z",
     "iopub.status.busy": "2021-12-16T14:10:28.844481Z",
     "iopub.status.idle": "2021-12-16T14:10:28.850715Z",
     "shell.execute_reply": "2021-12-16T14:10:28.851241Z",
     "shell.execute_reply.started": "2021-12-16T14:09:50.394361Z"
    },
    "papermill": {
     "duration": 0.045607,
     "end_time": "2021-12-16T14:10:28.851443",
     "exception": false,
     "start_time": "2021-12-16T14:10:28.805836",
     "status": "completed"
    },
    "tags": []
   },
   "outputs": [
    {
     "data": {
      "text/plain": [
       "ChainMap({})"
      ]
     },
     "execution_count": 25,
     "metadata": {},
     "output_type": "execute_result"
    }
   ],
   "source": [
    "c = ChainMap()        # Create root context\n",
    "d = c.new_child()     # Create nested child context\n",
    "e = c.new_child()     # Child of c, independent from d\n",
    "e.maps[0]             # Current context dictionary -- like Python's locals()\n",
    "e.maps[-1]            # Root context -- like Python's globals()\n",
    "e.parents             # Enclosing context chain -- like Python's nonlocals"
   ]
  },
  {
   "cell_type": "code",
   "execution_count": 26,
   "id": "d2f1371c",
   "metadata": {
    "execution": {
     "iopub.execute_input": "2021-12-16T14:10:28.928426Z",
     "iopub.status.busy": "2021-12-16T14:10:28.927766Z",
     "iopub.status.idle": "2021-12-16T14:10:28.933679Z",
     "shell.execute_reply": "2021-12-16T14:10:28.933111Z",
     "shell.execute_reply.started": "2021-12-16T14:09:52.534257Z"
    },
    "papermill": {
     "duration": 0.045216,
     "end_time": "2021-12-16T14:10:28.933822",
     "exception": false,
     "start_time": "2021-12-16T14:10:28.888606",
     "status": "completed"
    },
    "tags": []
   },
   "outputs": [
    {
     "data": {
      "text/plain": [
       "['x']"
      ]
     },
     "execution_count": 26,
     "metadata": {},
     "output_type": "execute_result"
    }
   ],
   "source": [
    "d['x'] = 1            # Set value in current context\n",
    "d['x']                # Get first key in the chain of contexts\n",
    "list(d)               # All nested values"
   ]
  },
  {
   "cell_type": "code",
   "execution_count": 27,
   "id": "212734a5",
   "metadata": {
    "execution": {
     "iopub.execute_input": "2021-12-16T14:10:29.013822Z",
     "iopub.status.busy": "2021-12-16T14:10:29.011522Z",
     "iopub.status.idle": "2021-12-16T14:10:29.016850Z",
     "shell.execute_reply": "2021-12-16T14:10:29.017389Z",
     "shell.execute_reply.started": "2021-12-16T14:09:54.226814Z"
    },
    "papermill": {
     "duration": 0.046836,
     "end_time": "2021-12-16T14:10:29.017580",
     "exception": false,
     "start_time": "2021-12-16T14:10:28.970744",
     "status": "completed"
    },
    "tags": []
   },
   "outputs": [
    {
     "data": {
      "text/plain": [
       "{'x': 1}"
      ]
     },
     "execution_count": 27,
     "metadata": {},
     "output_type": "execute_result"
    }
   ],
   "source": [
    "len(d)                # Number of nested values\n",
    "d.items()             # All nested items\n",
    "dict(d)               # Flatten into a regular dictionarys"
   ]
  },
  {
   "cell_type": "markdown",
   "id": "ab39958b",
   "metadata": {
    "papermill": {
     "duration": 0.036741,
     "end_time": "2021-12-16T14:10:29.091679",
     "exception": false,
     "start_time": "2021-12-16T14:10:29.054938",
     "status": "completed"
    },
    "tags": []
   },
   "source": [
    "# OrderedDict\n",
    "\n",
    "Ordered dictionaries are just like regular dictionaries but have some extra capabilities relating to ordering operations. They have become less important now that the built-in dict class gained the ability to remember insertion order."
   ]
  },
  {
   "cell_type": "code",
   "execution_count": 28,
   "id": "e0819302",
   "metadata": {
    "execution": {
     "iopub.execute_input": "2021-12-16T14:10:29.169152Z",
     "iopub.status.busy": "2021-12-16T14:10:29.168388Z",
     "iopub.status.idle": "2021-12-16T14:10:29.171175Z",
     "shell.execute_reply": "2021-12-16T14:10:29.171690Z",
     "shell.execute_reply.started": "2021-12-16T14:09:56.457853Z"
    },
    "papermill": {
     "duration": 0.043259,
     "end_time": "2021-12-16T14:10:29.171860",
     "exception": false,
     "start_time": "2021-12-16T14:10:29.128601",
     "status": "completed"
    },
    "tags": []
   },
   "outputs": [],
   "source": [
    "from collections import OrderedDict"
   ]
  },
  {
   "cell_type": "code",
   "execution_count": 29,
   "id": "ff653fa2",
   "metadata": {
    "execution": {
     "iopub.execute_input": "2021-12-16T14:10:29.250949Z",
     "iopub.status.busy": "2021-12-16T14:10:29.250224Z",
     "iopub.status.idle": "2021-12-16T14:10:29.255922Z",
     "shell.execute_reply": "2021-12-16T14:10:29.256464Z",
     "shell.execute_reply.started": "2021-12-16T14:09:58.307965Z"
    },
    "papermill": {
     "duration": 0.04728,
     "end_time": "2021-12-16T14:10:29.256666",
     "exception": false,
     "start_time": "2021-12-16T14:10:29.209386",
     "status": "completed"
    },
    "tags": []
   },
   "outputs": [
    {
     "data": {
      "text/plain": [
       "'acdeb'"
      ]
     },
     "execution_count": 29,
     "metadata": {},
     "output_type": "execute_result"
    }
   ],
   "source": [
    "#Creating an OrderedDict and moving an ellement to the end\n",
    "\n",
    "d = OrderedDict.fromkeys('abcde')\n",
    "d.move_to_end('b')\n",
    "''.join(d.keys())"
   ]
  },
  {
   "cell_type": "code",
   "execution_count": 30,
   "id": "d2e611e6",
   "metadata": {
    "execution": {
     "iopub.execute_input": "2021-12-16T14:10:29.339412Z",
     "iopub.status.busy": "2021-12-16T14:10:29.338645Z",
     "iopub.status.idle": "2021-12-16T14:10:29.344404Z",
     "shell.execute_reply": "2021-12-16T14:10:29.345055Z",
     "shell.execute_reply.started": "2021-12-16T14:10:00.028971Z"
    },
    "papermill": {
     "duration": 0.049748,
     "end_time": "2021-12-16T14:10:29.345279",
     "exception": false,
     "start_time": "2021-12-16T14:10:29.295531",
     "status": "completed"
    },
    "tags": []
   },
   "outputs": [
    {
     "data": {
      "text/plain": [
       "'bacde'"
      ]
     },
     "execution_count": 30,
     "metadata": {},
     "output_type": "execute_result"
    }
   ],
   "source": [
    "#Moving the b in the front\n",
    "\n",
    "d.move_to_end('b', last=False)\n",
    "''.join(d.keys())"
   ]
  },
  {
   "cell_type": "markdown",
   "id": "5889d929",
   "metadata": {
    "papermill": {
     "duration": 0.038331,
     "end_time": "2021-12-16T14:10:29.423111",
     "exception": false,
     "start_time": "2021-12-16T14:10:29.384780",
     "status": "completed"
    },
    "tags": []
   },
   "source": [
    "# User Collections Modules <a name=\"user_collection_modules\"></a>\n",
    "\n",
    "At the end, we have three classes of collections objects that simulate usual objects. Their usefulness has been somewhat eroded since Python has been constatly updated."
   ]
  },
  {
   "cell_type": "markdown",
   "id": "e7a79730",
   "metadata": {
    "papermill": {
     "duration": 0.038604,
     "end_time": "2021-12-16T14:10:29.500294",
     "exception": false,
     "start_time": "2021-12-16T14:10:29.461690",
     "status": "completed"
    },
    "tags": []
   },
   "source": [
    "## UserDict\n",
    "\n",
    "The class, UserDict acts as a wrapper around dictionary objects. \n",
    "\n",
    "Class that simulates a dictionary. The instance’s contents are kept in a regular dictionary, which is accessible via the data attribute of UserDict instances. If initialdata is provided, data is initialized with its contents; note that a reference to initialdata will not be kept, allowing it to be used for other purposes."
   ]
  },
  {
   "cell_type": "markdown",
   "id": "96b7102a",
   "metadata": {
    "papermill": {
     "duration": 0.038022,
     "end_time": "2021-12-16T14:10:29.576973",
     "exception": false,
     "start_time": "2021-12-16T14:10:29.538951",
     "status": "completed"
    },
    "tags": []
   },
   "source": [
    "## UserList\n",
    "\n",
    "This class acts as a wrapper around list objects. It is a useful base class for your own list-like classes which can inherit from them and override existing methods or add new ones. In this way, one can add new behaviors to lists."
   ]
  },
  {
   "cell_type": "markdown",
   "id": "344bcc1c",
   "metadata": {
    "papermill": {
     "duration": 0.039411,
     "end_time": "2021-12-16T14:10:29.655069",
     "exception": false,
     "start_time": "2021-12-16T14:10:29.615658",
     "status": "completed"
    },
    "tags": []
   },
   "source": [
    "## UserString\n",
    "\n",
    "The class, UserString acts as a wrapper around string objects. The need for this class has been partially supplanted by the ability to subclass directly from str; however, this class can be easier to work with because the underlying string is accessible as an attribute."
   ]
  }
 ],
 "metadata": {
  "kernelspec": {
   "display_name": "Python 3",
   "language": "python",
   "name": "python3"
  },
  "language_info": {
   "codemirror_mode": {
    "name": "ipython",
    "version": 3
   },
   "file_extension": ".py",
   "mimetype": "text/x-python",
   "name": "python",
   "nbconvert_exporter": "python",
   "pygments_lexer": "ipython3",
   "version": "3.7.12"
  },
  "papermill": {
   "default_parameters": {},
   "duration": 14.87993,
   "end_time": "2021-12-16T14:10:30.607612",
   "environment_variables": {},
   "exception": null,
   "input_path": "__notebook__.ipynb",
   "output_path": "__notebook__.ipynb",
   "parameters": {},
   "start_time": "2021-12-16T14:10:15.727682",
   "version": "2.3.3"
  }
 },
 "nbformat": 4,
 "nbformat_minor": 5
}
