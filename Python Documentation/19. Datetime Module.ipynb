{
 "cells": [
  {
   "cell_type": "markdown",
   "id": "47d098d7",
   "metadata": {
    "papermill": {
     "duration": 0.022272,
     "end_time": "2021-12-21T12:29:25.650838",
     "exception": false,
     "start_time": "2021-12-21T12:29:25.628566",
     "status": "completed"
    },
    "tags": []
   },
   "source": [
    "# Datetime Module\n",
    "\n",
    "In data analytics, it is important to be able to work and manipulate (not in an evil matter) date, time and datetime data. Python has a `datetime` module that helps in dealing with timestamps."
   ]
  },
  {
   "cell_type": "code",
   "execution_count": 1,
   "id": "99a10c6d",
   "metadata": {
    "execution": {
     "iopub.execute_input": "2021-12-21T12:29:25.700912Z",
     "iopub.status.busy": "2021-12-21T12:29:25.699950Z",
     "iopub.status.idle": "2021-12-21T12:29:25.705836Z",
     "shell.execute_reply": "2021-12-21T12:29:25.706347Z",
     "shell.execute_reply.started": "2021-12-21T12:28:03.552656Z"
    },
    "papermill": {
     "duration": 0.035112,
     "end_time": "2021-12-21T12:29:25.706660",
     "exception": false,
     "start_time": "2021-12-21T12:29:25.671548",
     "status": "completed"
    },
    "tags": []
   },
   "outputs": [],
   "source": [
    "import datetime"
   ]
  },
  {
   "cell_type": "markdown",
   "id": "44cae8f9",
   "metadata": {
    "papermill": {
     "duration": 0.019129,
     "end_time": "2021-12-21T12:29:25.745518",
     "exception": false,
     "start_time": "2021-12-21T12:29:25.726389",
     "status": "completed"
    },
    "tags": []
   },
   "source": [
    "# Time\n",
    "\n",
    "#### datetime.time(hour,minute,second,microsecond)\n",
    "\n",
    "Times have attributes for hour, minute, second, and microsecond. They can also include time zone information. The arguments to initialize a time instance are optional, but the default of 0 is unlikely to be what you want."
   ]
  },
  {
   "cell_type": "code",
   "execution_count": 2,
   "id": "0054eb61",
   "metadata": {
    "execution": {
     "iopub.execute_input": "2021-12-21T12:29:25.791414Z",
     "iopub.status.busy": "2021-12-21T12:29:25.790621Z",
     "iopub.status.idle": "2021-12-21T12:29:25.795841Z",
     "shell.execute_reply": "2021-12-21T12:29:25.796359Z",
     "shell.execute_reply.started": "2021-12-21T12:28:18.976291Z"
    },
    "papermill": {
     "duration": 0.031157,
     "end_time": "2021-12-21T12:29:25.796545",
     "exception": false,
     "start_time": "2021-12-21T12:29:25.765388",
     "status": "completed"
    },
    "tags": []
   },
   "outputs": [
    {
     "name": "stdout",
     "output_type": "stream",
     "text": [
      "10:42:58.564646\n"
     ]
    }
   ],
   "source": [
    "#Creating a time variable of the current time\n",
    "\n",
    "my_time = datetime.time(10,42,58,564646)\n",
    "print(my_time)"
   ]
  },
  {
   "cell_type": "code",
   "execution_count": 3,
   "id": "d6fb069f",
   "metadata": {
    "execution": {
     "iopub.execute_input": "2021-12-21T12:29:25.845139Z",
     "iopub.status.busy": "2021-12-21T12:29:25.844169Z",
     "iopub.status.idle": "2021-12-21T12:29:25.847499Z",
     "shell.execute_reply": "2021-12-21T12:29:25.848145Z",
     "shell.execute_reply.started": "2021-12-21T12:28:20.847643Z"
    },
    "papermill": {
     "duration": 0.031261,
     "end_time": "2021-12-21T12:29:25.848324",
     "exception": false,
     "start_time": "2021-12-21T12:29:25.817063",
     "status": "completed"
    },
    "tags": []
   },
   "outputs": [
    {
     "name": "stdout",
     "output_type": "stream",
     "text": [
      "Hour  : 10\n",
      "Minute: 42\n",
      "Second: 58\n",
      "Microsecond: 564646\n",
      "Time Zone: None\n"
     ]
    }
   ],
   "source": [
    "#Extracting time information\n",
    "\n",
    "print('Hour  :', my_time.hour)\n",
    "print('Minute:', my_time.minute)\n",
    "print('Second:', my_time.second)\n",
    "print('Microsecond:', my_time.microsecond)\n",
    "print('Time Zone:', my_time.tzinfo)"
   ]
  },
  {
   "cell_type": "code",
   "execution_count": 4,
   "id": "4b51a8e4",
   "metadata": {
    "execution": {
     "iopub.execute_input": "2021-12-21T12:29:25.892403Z",
     "iopub.status.busy": "2021-12-21T12:29:25.891378Z",
     "iopub.status.idle": "2021-12-21T12:29:25.898486Z",
     "shell.execute_reply": "2021-12-21T12:29:25.897967Z",
     "shell.execute_reply.started": "2021-12-21T12:28:23.339931Z"
    },
    "papermill": {
     "duration": 0.030137,
     "end_time": "2021-12-21T12:29:25.898656",
     "exception": false,
     "start_time": "2021-12-21T12:29:25.868519",
     "status": "completed"
    },
    "tags": []
   },
   "outputs": [
    {
     "name": "stdout",
     "output_type": "stream",
     "text": [
      "Earliest  : 00:00:00\n",
      "Latest    : 23:59:59.999999\n",
      "Resolution: 0:00:00.000001\n"
     ]
    }
   ],
   "source": [
    "#We can also check the min and max values a time of day\n",
    "\n",
    "print('Earliest  :', datetime.time.min)\n",
    "print('Latest    :', datetime.time.max)\n",
    "print('Resolution:', datetime.time.resolution)"
   ]
  },
  {
   "cell_type": "markdown",
   "id": "e01b5bc9",
   "metadata": {
    "papermill": {
     "duration": 0.021953,
     "end_time": "2021-12-21T12:29:25.941979",
     "exception": false,
     "start_time": "2021-12-21T12:29:25.920026",
     "status": "completed"
    },
    "tags": []
   },
   "source": [
    "# Date\n",
    "\n",
    "#### datetime.date(year, month, day)\n",
    "\n",
    "Calendar date values are represented with the date class. Instances have attributes for year, month, and day."
   ]
  },
  {
   "cell_type": "code",
   "execution_count": 5,
   "id": "bf320f48",
   "metadata": {
    "execution": {
     "iopub.execute_input": "2021-12-21T12:29:25.988721Z",
     "iopub.status.busy": "2021-12-21T12:29:25.988010Z",
     "iopub.status.idle": "2021-12-21T12:29:25.993162Z",
     "shell.execute_reply": "2021-12-21T12:29:25.993832Z",
     "shell.execute_reply.started": "2021-12-21T12:28:25.450934Z"
    },
    "papermill": {
     "duration": 0.030674,
     "end_time": "2021-12-21T12:29:25.994032",
     "exception": false,
     "start_time": "2021-12-21T12:29:25.963358",
     "status": "completed"
    },
    "tags": []
   },
   "outputs": [
    {
     "name": "stdout",
     "output_type": "stream",
     "text": [
      "2021-12-23\n"
     ]
    }
   ],
   "source": [
    "#Creating a date variable of the current time\n",
    "\n",
    "my_day = datetime.date(2021,12,23)\n",
    "print(my_day)"
   ]
  },
  {
   "cell_type": "code",
   "execution_count": 6,
   "id": "3a3076af",
   "metadata": {
    "execution": {
     "iopub.execute_input": "2021-12-21T12:29:26.042100Z",
     "iopub.status.busy": "2021-12-21T12:29:26.041354Z",
     "iopub.status.idle": "2021-12-21T12:29:26.049700Z",
     "shell.execute_reply": "2021-12-21T12:29:26.050601Z",
     "shell.execute_reply.started": "2021-12-21T12:28:27.264143Z"
    },
    "papermill": {
     "duration": 0.034533,
     "end_time": "2021-12-21T12:29:26.050855",
     "exception": false,
     "start_time": "2021-12-21T12:29:26.016322",
     "status": "completed"
    },
    "tags": []
   },
   "outputs": [
    {
     "name": "stdout",
     "output_type": "stream",
     "text": [
      "Year : 2021\n",
      "Month: 12\n",
      "Day  : 23\n"
     ]
    }
   ],
   "source": [
    "print('Year :', my_day.year)\n",
    "print('Month:', my_day.month)\n",
    "print('Day  :', my_day.day)"
   ]
  },
  {
   "cell_type": "code",
   "execution_count": 7,
   "id": "85f80996",
   "metadata": {
    "execution": {
     "iopub.execute_input": "2021-12-21T12:29:26.103242Z",
     "iopub.status.busy": "2021-12-21T12:29:26.102144Z",
     "iopub.status.idle": "2021-12-21T12:29:26.105533Z",
     "shell.execute_reply": "2021-12-21T12:29:26.106071Z",
     "shell.execute_reply.started": "2021-12-21T12:28:28.834821Z"
    },
    "papermill": {
     "duration": 0.031315,
     "end_time": "2021-12-21T12:29:26.106263",
     "exception": false,
     "start_time": "2021-12-21T12:29:26.074948",
     "status": "completed"
    },
    "tags": []
   },
   "outputs": [
    {
     "name": "stdout",
     "output_type": "stream",
     "text": [
      "Earliest  : 0001-01-01\n",
      "Latest    : 9999-12-31\n",
      "Resolution: 1 day, 0:00:00\n"
     ]
    }
   ],
   "source": [
    "#We can also check the min and max values of days available\n",
    "\n",
    "print('Earliest  :', datetime.date.min)\n",
    "print('Latest    :', datetime.date.max)\n",
    "print('Resolution:', datetime.date.resolution)"
   ]
  },
  {
   "cell_type": "markdown",
   "id": "eec51a5b",
   "metadata": {
    "papermill": {
     "duration": 0.021205,
     "end_time": "2021-12-21T12:29:26.149107",
     "exception": false,
     "start_time": "2021-12-21T12:29:26.127902",
     "status": "completed"
    },
    "tags": []
   },
   "source": [
    "# Datetime Methods\n",
    "\n",
    "It is easy to create a date representing today’s date using the `today()` class method. A timestamp is possible using `now()`."
   ]
  },
  {
   "cell_type": "code",
   "execution_count": 8,
   "id": "87797563",
   "metadata": {
    "execution": {
     "iopub.execute_input": "2021-12-21T12:29:26.197410Z",
     "iopub.status.busy": "2021-12-21T12:29:26.196550Z",
     "iopub.status.idle": "2021-12-21T12:29:26.199371Z",
     "shell.execute_reply": "2021-12-21T12:29:26.198857Z",
     "shell.execute_reply.started": "2021-12-21T12:28:30.645917Z"
    },
    "papermill": {
     "duration": 0.028876,
     "end_time": "2021-12-21T12:29:26.199512",
     "exception": false,
     "start_time": "2021-12-21T12:29:26.170636",
     "status": "completed"
    },
    "tags": []
   },
   "outputs": [],
   "source": [
    "from datetime import date\n",
    "from datetime import datetime"
   ]
  },
  {
   "cell_type": "markdown",
   "id": "5b18c790",
   "metadata": {
    "papermill": {
     "duration": 0.021194,
     "end_time": "2021-12-21T12:29:26.242395",
     "exception": false,
     "start_time": "2021-12-21T12:29:26.221201",
     "status": "completed"
    },
    "tags": []
   },
   "source": [
    "We imported the date class from the datetime module. Then, we used the `date.today()` method to get the current local date.\n",
    "\n"
   ]
  },
  {
   "cell_type": "code",
   "execution_count": 9,
   "id": "d6207f7c",
   "metadata": {
    "execution": {
     "iopub.execute_input": "2021-12-21T12:29:26.291922Z",
     "iopub.status.busy": "2021-12-21T12:29:26.291058Z",
     "iopub.status.idle": "2021-12-21T12:29:26.295104Z",
     "shell.execute_reply": "2021-12-21T12:29:26.294219Z",
     "shell.execute_reply.started": "2021-12-21T12:28:35.866266Z"
    },
    "papermill": {
     "duration": 0.030563,
     "end_time": "2021-12-21T12:29:26.295294",
     "exception": false,
     "start_time": "2021-12-21T12:29:26.264731",
     "status": "completed"
    },
    "tags": []
   },
   "outputs": [
    {
     "name": "stdout",
     "output_type": "stream",
     "text": [
      "Today's date: 2021-12-21\n"
     ]
    }
   ],
   "source": [
    "today = date.today()\n",
    "print(\"Today's date:\", today)"
   ]
  },
  {
   "cell_type": "markdown",
   "id": "5e5ef455",
   "metadata": {
    "papermill": {
     "duration": 0.021668,
     "end_time": "2021-12-21T12:29:26.340076",
     "exception": false,
     "start_time": "2021-12-21T12:29:26.318408",
     "status": "completed"
    },
    "tags": []
   },
   "source": [
    "We can use different formats by using the `strftime()` method."
   ]
  },
  {
   "cell_type": "code",
   "execution_count": 10,
   "id": "6c931c42",
   "metadata": {
    "execution": {
     "iopub.execute_input": "2021-12-21T12:29:26.390570Z",
     "iopub.status.busy": "2021-12-21T12:29:26.389889Z",
     "iopub.status.idle": "2021-12-21T12:29:26.392682Z",
     "shell.execute_reply": "2021-12-21T12:29:26.393420Z",
     "shell.execute_reply.started": "2021-12-21T12:28:38.646261Z"
    },
    "papermill": {
     "duration": 0.031464,
     "end_time": "2021-12-21T12:29:26.393663",
     "exception": false,
     "start_time": "2021-12-21T12:29:26.362199",
     "status": "completed"
    },
    "tags": []
   },
   "outputs": [
    {
     "name": "stdout",
     "output_type": "stream",
     "text": [
      "12/21'21\n",
      "December 21, 2021\n",
      "21.12.2021\n",
      "Dec-21-2021\n"
     ]
    }
   ],
   "source": [
    "today = date.today()\n",
    "\n",
    "# mm/dd/yy\n",
    "print(today.strftime(\"%m/%d'%y\"))\n",
    "\n",
    "# Textual month, day and year\n",
    "print(today.strftime(\"%B %d, %Y\"))\n",
    "\n",
    "# dd.mm.yy\n",
    "print(today.strftime(\"%d.%m.%Y\"))\n",
    "\n",
    "# Month abbreviation, day and year\n",
    "print(today.strftime(\"%b-%d-%Y\"))"
   ]
  },
  {
   "cell_type": "markdown",
   "id": "e4f42e21",
   "metadata": {
    "papermill": {
     "duration": 0.022075,
     "end_time": "2021-12-21T12:29:26.439265",
     "exception": false,
     "start_time": "2021-12-21T12:29:26.417190",
     "status": "completed"
    },
    "tags": []
   },
   "source": [
    "We can use `datetime.now()` to get the current date and time. Then, we used `strftime()` to create a string representing date and time in another format."
   ]
  },
  {
   "cell_type": "code",
   "execution_count": 11,
   "id": "cd1ff9f3",
   "metadata": {
    "execution": {
     "iopub.execute_input": "2021-12-21T12:29:26.488009Z",
     "iopub.status.busy": "2021-12-21T12:29:26.487264Z",
     "iopub.status.idle": "2021-12-21T12:29:26.493434Z",
     "shell.execute_reply": "2021-12-21T12:29:26.492509Z",
     "shell.execute_reply.started": "2021-12-21T12:28:40.967556Z"
    },
    "papermill": {
     "duration": 0.032085,
     "end_time": "2021-12-21T12:29:26.493644",
     "exception": false,
     "start_time": "2021-12-21T12:29:26.461559",
     "status": "completed"
    },
    "tags": []
   },
   "outputs": [
    {
     "name": "stdout",
     "output_type": "stream",
     "text": [
      "2021-12-21 12:29:26.487636\n",
      "21.12.2021 12:29:26\n"
     ]
    }
   ],
   "source": [
    "# datetime object containing current date and time\n",
    "now = datetime.now()\n",
    "print(now)\n",
    "\n",
    "# dd.mm.YY H:M:S\n",
    "print(now.strftime(\"%d.%m.%Y %H:%M:%S\"))"
   ]
  },
  {
   "cell_type": "markdown",
   "id": "f4c380ca",
   "metadata": {
    "papermill": {
     "duration": 0.022422,
     "end_time": "2021-12-21T12:29:26.539505",
     "exception": false,
     "start_time": "2021-12-21T12:29:26.517083",
     "status": "completed"
    },
    "tags": []
   },
   "source": [
    "Another way to create new date instances uses the `replace()` method of an existing date. For example, you can change the year, leaving the day and month alone."
   ]
  },
  {
   "cell_type": "code",
   "execution_count": 12,
   "id": "9a0fa83d",
   "metadata": {
    "execution": {
     "iopub.execute_input": "2021-12-21T12:29:26.591208Z",
     "iopub.status.busy": "2021-12-21T12:29:26.590435Z",
     "iopub.status.idle": "2021-12-21T12:29:26.593592Z",
     "shell.execute_reply": "2021-12-21T12:29:26.592987Z",
     "shell.execute_reply.started": "2021-12-21T12:28:55.156759Z"
    },
    "papermill": {
     "duration": 0.0315,
     "end_time": "2021-12-21T12:29:26.593735",
     "exception": false,
     "start_time": "2021-12-21T12:29:26.562235",
     "status": "completed"
    },
    "tags": []
   },
   "outputs": [
    {
     "name": "stdout",
     "output_type": "stream",
     "text": [
      "d1: 2015-03-11\n",
      "d2: 2022-03-11\n"
     ]
    }
   ],
   "source": [
    "import datetime\n",
    "\n",
    "d1 = datetime.date(2015, 3, 11)\n",
    "print('d1:', d1)\n",
    "\n",
    "d2 = d1.replace(year=2022)\n",
    "print('d2:', d2)"
   ]
  },
  {
   "cell_type": "markdown",
   "id": "827a6799",
   "metadata": {
    "papermill": {
     "duration": 0.02352,
     "end_time": "2021-12-21T12:29:26.640160",
     "exception": false,
     "start_time": "2021-12-21T12:29:26.616640",
     "status": "completed"
    },
    "tags": []
   },
   "source": [
    "# Timedelta \n",
    "\n",
    "A `timedelta` object represents a duration, the difference between two dates or times."
   ]
  },
  {
   "cell_type": "code",
   "execution_count": 13,
   "id": "1a0e9706",
   "metadata": {
    "execution": {
     "iopub.execute_input": "2021-12-21T12:29:26.692265Z",
     "iopub.status.busy": "2021-12-21T12:29:26.691543Z",
     "iopub.status.idle": "2021-12-21T12:29:26.693875Z",
     "shell.execute_reply": "2021-12-21T12:29:26.693248Z",
     "shell.execute_reply.started": "2021-12-21T12:28:57.546527Z"
    },
    "papermill": {
     "duration": 0.029489,
     "end_time": "2021-12-21T12:29:26.694034",
     "exception": false,
     "start_time": "2021-12-21T12:29:26.664545",
     "status": "completed"
    },
    "tags": []
   },
   "outputs": [],
   "source": [
    "from datetime import timedelta"
   ]
  },
  {
   "cell_type": "code",
   "execution_count": 14,
   "id": "aa66193d",
   "metadata": {
    "execution": {
     "iopub.execute_input": "2021-12-21T12:29:26.747926Z",
     "iopub.status.busy": "2021-12-21T12:29:26.747219Z",
     "iopub.status.idle": "2021-12-21T12:29:26.750301Z",
     "shell.execute_reply": "2021-12-21T12:29:26.749684Z",
     "shell.execute_reply.started": "2021-12-21T12:28:59.125614Z"
    },
    "papermill": {
     "duration": 0.032019,
     "end_time": "2021-12-21T12:29:26.750438",
     "exception": false,
     "start_time": "2021-12-21T12:29:26.718419",
     "status": "completed"
    },
    "tags": []
   },
   "outputs": [
    {
     "name": "stdout",
     "output_type": "stream",
     "text": [
      "2021-12-21\n",
      "1990-05-21\n"
     ]
    }
   ],
   "source": [
    "d1 = date.today()\n",
    "d2 = d1.replace(year = 1990, month = 5)\n",
    "\n",
    "print(d1)\n",
    "print(d2)"
   ]
  },
  {
   "cell_type": "markdown",
   "id": "e273c091",
   "metadata": {
    "papermill": {
     "duration": 0.024378,
     "end_time": "2021-12-21T12:29:26.799121",
     "exception": false,
     "start_time": "2021-12-21T12:29:26.774743",
     "status": "completed"
    },
    "tags": []
   },
   "source": [
    "We can make a simple arithmetic equation to find out the time between two dates."
   ]
  },
  {
   "cell_type": "code",
   "execution_count": 15,
   "id": "ef9c614a",
   "metadata": {
    "execution": {
     "iopub.execute_input": "2021-12-21T12:29:26.851207Z",
     "iopub.status.busy": "2021-12-21T12:29:26.850499Z",
     "iopub.status.idle": "2021-12-21T12:29:26.854228Z",
     "shell.execute_reply": "2021-12-21T12:29:26.853472Z",
     "shell.execute_reply.started": "2021-12-21T12:25:23.664744Z"
    },
    "papermill": {
     "duration": 0.032021,
     "end_time": "2021-12-21T12:29:26.854388",
     "exception": false,
     "start_time": "2021-12-21T12:29:26.822367",
     "status": "completed"
    },
    "tags": []
   },
   "outputs": [
    {
     "name": "stdout",
     "output_type": "stream",
     "text": [
      "Days: -11537 days, 0:00:00\n",
      "Seconds:  -996796800.0\n",
      "Minutes:  -16613280\n"
     ]
    }
   ],
   "source": [
    "delta = d2 - d1\n",
    "\n",
    "print(\"Days:\", delta)\n",
    "print(\"Seconds: \", delta.total_seconds())\n",
    "print(\"Minutes: \", int(delta / timedelta(minutes=1)))"
   ]
  },
  {
   "cell_type": "code",
   "execution_count": 16,
   "id": "6a67a11b",
   "metadata": {
    "execution": {
     "iopub.execute_input": "2021-12-21T12:29:26.910523Z",
     "iopub.status.busy": "2021-12-21T12:29:26.909850Z",
     "iopub.status.idle": "2021-12-21T12:29:26.912873Z",
     "shell.execute_reply": "2021-12-21T12:29:26.913363Z",
     "shell.execute_reply.started": "2021-12-21T12:25:23.666392Z"
    },
    "papermill": {
     "duration": 0.035498,
     "end_time": "2021-12-21T12:29:26.913535",
     "exception": false,
     "start_time": "2021-12-21T12:29:26.878037",
     "status": "completed"
    },
    "tags": []
   },
   "outputs": [
    {
     "data": {
      "text/plain": [
       "datetime.timedelta(days=1, seconds=3545)"
      ]
     },
     "execution_count": 16,
     "metadata": {},
     "output_type": "execute_result"
    }
   ],
   "source": [
    "#Timedelta arithmetic\n",
    "\n",
    "delta1 = timedelta(seconds=57)\n",
    "delta2 = timedelta(hours=25, seconds=2)\n",
    "\n",
    "delta2 - delta1"
   ]
  },
  {
   "cell_type": "code",
   "execution_count": 17,
   "id": "8c7986a3",
   "metadata": {
    "execution": {
     "iopub.execute_input": "2021-12-21T12:29:26.966705Z",
     "iopub.status.busy": "2021-12-21T12:29:26.965942Z",
     "iopub.status.idle": "2021-12-21T12:29:26.969257Z",
     "shell.execute_reply": "2021-12-21T12:29:26.969758Z",
     "shell.execute_reply.started": "2021-12-21T12:25:23.667962Z"
    },
    "papermill": {
     "duration": 0.032595,
     "end_time": "2021-12-21T12:29:26.969956",
     "exception": false,
     "start_time": "2021-12-21T12:29:26.937361",
     "status": "completed"
    },
    "tags": []
   },
   "outputs": [
    {
     "name": "stdout",
     "output_type": "stream",
     "text": [
      "2021-12-24 12:29:26.964430\n",
      "2021-12-18 12:29:26.964430\n"
     ]
    }
   ],
   "source": [
    "now = datetime.datetime.now()\n",
    "print(now + timedelta(days=3))\n",
    "print(now + timedelta(days=-3))"
   ]
  }
 ],
 "metadata": {
  "kernelspec": {
   "display_name": "Python 3",
   "language": "python",
   "name": "python3"
  },
  "language_info": {
   "codemirror_mode": {
    "name": "ipython",
    "version": 3
   },
   "file_extension": ".py",
   "mimetype": "text/x-python",
   "name": "python",
   "nbconvert_exporter": "python",
   "pygments_lexer": "ipython3",
   "version": "3.7.12"
  },
  "papermill": {
   "default_parameters": {},
   "duration": 12.416406,
   "end_time": "2021-12-21T12:29:27.604110",
   "environment_variables": {},
   "exception": null,
   "input_path": "__notebook__.ipynb",
   "output_path": "__notebook__.ipynb",
   "parameters": {},
   "start_time": "2021-12-21T12:29:15.187704",
   "version": "2.3.3"
  }
 },
 "nbformat": 4,
 "nbformat_minor": 5
}
