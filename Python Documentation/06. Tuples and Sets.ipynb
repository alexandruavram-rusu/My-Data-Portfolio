{
 "cells": [
  {
   "cell_type": "markdown",
   "id": "6f8af06f",
   "metadata": {
    "papermill": {
     "duration": 0.010134,
     "end_time": "2021-12-08T17:15:21.956425",
     "exception": false,
     "start_time": "2021-12-08T17:15:21.946291",
     "status": "completed"
    },
    "tags": []
   },
   "source": [
    "# Tuples\n",
    "\n",
    "### tuple = (1,2,3,4..)\n",
    "\n",
    "Tuples are sequences of characters, just like lists. The difference is that tuples are immutable. After a touple is created, you cannot change an item from it. You can only do that if you decide to create another tuple with the same name, which will overwrite the touple created.\n",
    "\n",
    "For example, the following line of code will result in an error:\n",
    "    *t[0] = 'NEW'*"
   ]
  },
  {
   "cell_type": "code",
   "execution_count": 1,
   "id": "e2931cbe",
   "metadata": {
    "execution": {
     "iopub.execute_input": "2021-12-08T17:15:21.979347Z",
     "iopub.status.busy": "2021-12-08T17:15:21.978214Z",
     "iopub.status.idle": "2021-12-08T17:15:21.992531Z",
     "shell.execute_reply": "2021-12-08T17:15:21.993121Z",
     "shell.execute_reply.started": "2021-12-08T17:14:01.035300Z"
    },
    "papermill": {
     "duration": 0.027139,
     "end_time": "2021-12-08T17:15:21.993397",
     "exception": false,
     "start_time": "2021-12-08T17:15:21.966258",
     "status": "completed"
    },
    "tags": []
   },
   "outputs": [
    {
     "data": {
      "text/plain": [
       "(1, 2, 3, 1, 1, 1, 2)"
      ]
     },
     "execution_count": 1,
     "metadata": {},
     "output_type": "execute_result"
    }
   ],
   "source": [
    "#Creating a tuple\n",
    "\n",
    "t = (1,2,3,1,1,1,2)\n",
    "t"
   ]
  },
  {
   "cell_type": "code",
   "execution_count": 2,
   "id": "62a76ec4",
   "metadata": {
    "execution": {
     "iopub.execute_input": "2021-12-08T17:15:22.015298Z",
     "iopub.status.busy": "2021-12-08T17:15:22.014695Z",
     "iopub.status.idle": "2021-12-08T17:15:22.019413Z",
     "shell.execute_reply": "2021-12-08T17:15:22.020022Z",
     "shell.execute_reply.started": "2021-12-08T17:14:01.066383Z"
    },
    "papermill": {
     "duration": 0.017083,
     "end_time": "2021-12-08T17:15:22.020184",
     "exception": false,
     "start_time": "2021-12-08T17:15:22.003101",
     "status": "completed"
    },
    "tags": []
   },
   "outputs": [
    {
     "data": {
      "text/plain": [
       "7"
      ]
     },
     "execution_count": 2,
     "metadata": {},
     "output_type": "execute_result"
    }
   ],
   "source": [
    "len(t)"
   ]
  },
  {
   "cell_type": "code",
   "execution_count": 3,
   "id": "4b8ec70e",
   "metadata": {
    "execution": {
     "iopub.execute_input": "2021-12-08T17:15:22.042524Z",
     "iopub.status.busy": "2021-12-08T17:15:22.041904Z",
     "iopub.status.idle": "2021-12-08T17:15:22.047431Z",
     "shell.execute_reply": "2021-12-08T17:15:22.047928Z",
     "shell.execute_reply.started": "2021-12-08T17:14:01.073796Z"
    },
    "papermill": {
     "duration": 0.018269,
     "end_time": "2021-12-08T17:15:22.048172",
     "exception": false,
     "start_time": "2021-12-08T17:15:22.029903",
     "status": "completed"
    },
    "tags": []
   },
   "outputs": [
    {
     "data": {
      "text/plain": [
       "4"
      ]
     },
     "execution_count": 3,
     "metadata": {},
     "output_type": "execute_result"
    }
   ],
   "source": [
    "t.count(1)"
   ]
  },
  {
   "cell_type": "markdown",
   "id": "492d14d1",
   "metadata": {
    "papermill": {
     "duration": 0.009641,
     "end_time": "2021-12-08T17:15:22.068079",
     "exception": false,
     "start_time": "2021-12-08T17:15:22.058438",
     "status": "completed"
    },
    "tags": []
   },
   "source": [
    "## Tuple Unpacking\n",
    "\n",
    "In order to use tuples, we have to extract the values back into variables. This is called *unpacking*."
   ]
  },
  {
   "cell_type": "code",
   "execution_count": 4,
   "id": "45d3d24a",
   "metadata": {
    "execution": {
     "iopub.execute_input": "2021-12-08T17:15:22.093625Z",
     "iopub.status.busy": "2021-12-08T17:15:22.092921Z",
     "iopub.status.idle": "2021-12-08T17:15:22.097142Z",
     "shell.execute_reply": "2021-12-08T17:15:22.096633Z",
     "shell.execute_reply.started": "2021-12-08T17:14:01.086118Z"
    },
    "papermill": {
     "duration": 0.019194,
     "end_time": "2021-12-08T17:15:22.097273",
     "exception": false,
     "start_time": "2021-12-08T17:15:22.078079",
     "status": "completed"
    },
    "tags": []
   },
   "outputs": [
    {
     "data": {
      "text/plain": [
       "3"
      ]
     },
     "execution_count": 4,
     "metadata": {},
     "output_type": "execute_result"
    }
   ],
   "source": [
    "#Create simple tuple\n",
    "t = (1,2)\n",
    "\n",
    "#Unpacking the tuple into two variables\n",
    "x, y = t\n",
    "\n",
    "#Using the unpacked variables in a simple equation\n",
    "x + y"
   ]
  },
  {
   "cell_type": "markdown",
   "id": "c9e08a8a",
   "metadata": {
    "papermill": {
     "duration": 0.010002,
     "end_time": "2021-12-08T17:15:22.117613",
     "exception": false,
     "start_time": "2021-12-08T17:15:22.107611",
     "status": "completed"
    },
    "tags": []
   },
   "source": [
    "# Sets\n",
    "\n",
    "### set()\n",
    "\n",
    "Sets are like lists of items, the difference being that sets can include only unique values.\n",
    "Creating a set is done by *= set()*"
   ]
  },
  {
   "cell_type": "code",
   "execution_count": 5,
   "id": "28ae48f4",
   "metadata": {
    "execution": {
     "iopub.execute_input": "2021-12-08T17:15:22.142875Z",
     "iopub.status.busy": "2021-12-08T17:15:22.141062Z",
     "iopub.status.idle": "2021-12-08T17:15:22.145391Z",
     "shell.execute_reply": "2021-12-08T17:15:22.145877Z",
     "shell.execute_reply.started": "2021-12-08T17:14:01.096886Z"
    },
    "papermill": {
     "duration": 0.017988,
     "end_time": "2021-12-08T17:15:22.146054",
     "exception": false,
     "start_time": "2021-12-08T17:15:22.128066",
     "status": "completed"
    },
    "tags": []
   },
   "outputs": [
    {
     "data": {
      "text/plain": [
       "set()"
      ]
     },
     "execution_count": 5,
     "metadata": {},
     "output_type": "execute_result"
    }
   ],
   "source": [
    "#Creating a set\n",
    "\n",
    "myset = set()\n",
    "myset"
   ]
  },
  {
   "cell_type": "code",
   "execution_count": 6,
   "id": "6b8f2a91",
   "metadata": {
    "execution": {
     "iopub.execute_input": "2021-12-08T17:15:22.172605Z",
     "iopub.status.busy": "2021-12-08T17:15:22.171913Z",
     "iopub.status.idle": "2021-12-08T17:15:22.174523Z",
     "shell.execute_reply": "2021-12-08T17:15:22.175035Z",
     "shell.execute_reply.started": "2021-12-08T17:14:01.110550Z"
    },
    "papermill": {
     "duration": 0.018692,
     "end_time": "2021-12-08T17:15:22.175203",
     "exception": false,
     "start_time": "2021-12-08T17:15:22.156511",
     "status": "completed"
    },
    "tags": []
   },
   "outputs": [
    {
     "data": {
      "text/plain": [
       "{1}"
      ]
     },
     "execution_count": 6,
     "metadata": {},
     "output_type": "execute_result"
    }
   ],
   "source": [
    "#Adding items to a set\n",
    "\n",
    "myset.add(1)\n",
    "myset"
   ]
  },
  {
   "cell_type": "code",
   "execution_count": 7,
   "id": "00d77790",
   "metadata": {
    "execution": {
     "iopub.execute_input": "2021-12-08T17:15:22.201373Z",
     "iopub.status.busy": "2021-12-08T17:15:22.199624Z",
     "iopub.status.idle": "2021-12-08T17:15:22.206160Z",
     "shell.execute_reply": "2021-12-08T17:15:22.206762Z",
     "shell.execute_reply.started": "2021-12-08T17:14:01.123460Z"
    },
    "papermill": {
     "duration": 0.020722,
     "end_time": "2021-12-08T17:15:22.206934",
     "exception": false,
     "start_time": "2021-12-08T17:15:22.186212",
     "status": "completed"
    },
    "tags": []
   },
   "outputs": [
    {
     "data": {
      "text/plain": [
       "{1, 2}"
      ]
     },
     "execution_count": 7,
     "metadata": {},
     "output_type": "execute_result"
    }
   ],
   "source": [
    "#You can only add one item at a time\n",
    "\n",
    "myset.add(2)\n",
    "myset"
   ]
  },
  {
   "cell_type": "code",
   "execution_count": 8,
   "id": "a44ed1bc",
   "metadata": {
    "execution": {
     "iopub.execute_input": "2021-12-08T17:15:22.233269Z",
     "iopub.status.busy": "2021-12-08T17:15:22.232326Z",
     "iopub.status.idle": "2021-12-08T17:15:22.238859Z",
     "shell.execute_reply": "2021-12-08T17:15:22.239386Z",
     "shell.execute_reply.started": "2021-12-08T17:14:01.137445Z"
    },
    "papermill": {
     "duration": 0.021197,
     "end_time": "2021-12-08T17:15:22.239584",
     "exception": false,
     "start_time": "2021-12-08T17:15:22.218387",
     "status": "completed"
    },
    "tags": []
   },
   "outputs": [
    {
     "name": "stdout",
     "output_type": "stream",
     "text": [
      "[1, 2, 3, 4, 5, 6, 1, 1, 2, 6, 7, 4, 9, 8]\n",
      "\n",
      "\n",
      "{1, 2, 3, 4, 5, 6, 7, 8, 9}\n"
     ]
    }
   ],
   "source": [
    "#A list can be casted as a set in order to get unique values\n",
    "\n",
    "mylist = [1,2,3,4,5,6,1,1,2,6,7,4,9,8]\n",
    "print(mylist)\n",
    "\n",
    "print('\\n')\n",
    "\n",
    "myset = set(mylist)\n",
    "print(myset)"
   ]
  }
 ],
 "metadata": {
  "kernelspec": {
   "display_name": "Python 3",
   "language": "python",
   "name": "python3"
  },
  "language_info": {
   "codemirror_mode": {
    "name": "ipython",
    "version": 3
   },
   "file_extension": ".py",
   "mimetype": "text/x-python",
   "name": "python",
   "nbconvert_exporter": "python",
   "pygments_lexer": "ipython3",
   "version": "3.7.10"
  },
  "papermill": {
   "default_parameters": {},
   "duration": 9.771923,
   "end_time": "2021-12-08T17:15:23.584549",
   "environment_variables": {},
   "exception": null,
   "input_path": "__notebook__.ipynb",
   "output_path": "__notebook__.ipynb",
   "parameters": {},
   "start_time": "2021-12-08T17:15:13.812626",
   "version": "2.3.3"
  }
 },
 "nbformat": 4,
 "nbformat_minor": 5
}
