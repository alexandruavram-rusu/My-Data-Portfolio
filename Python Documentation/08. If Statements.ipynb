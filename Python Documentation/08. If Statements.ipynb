{
 "cells": [
  {
   "cell_type": "markdown",
   "id": "82bfbeb5",
   "metadata": {
    "papermill": {
     "duration": 0.01048,
     "end_time": "2021-10-13T13:20:52.422190",
     "exception": false,
     "start_time": "2021-10-13T13:20:52.411710",
     "status": "completed"
    },
    "tags": []
   },
   "source": [
    "# If Statements\n",
    "\n",
    ">     If some_condition:\n",
    ">          execute code\n",
    ">      Elif another_condition:\n",
    ">          execute another code\n",
    ">      Else:\n",
    ">          do something else\n",
    "\n",
    "*If* statements allow Python to instruct on performing an action or an alternative to that action based on a set of rules and conditions. It can also be expanded to perform another action if thoes conditions are not met, or perform no action at all. It is common around most programming languages.\n",
    "\n",
    "\n",
    "## Indentation\n",
    "\n",
    "Before we begin with our first examples, it's worth to mention that Python relies on the use of whitespace and indentation. Even if a language does not require it (like SQL for example), it's still common practice to ensure identation as it allows for a better organized code. \n",
    "\n",
    "# Single Branched\n",
    "*If* statements begin with a simple if, followed by a condition and a simple result."
   ]
  },
  {
   "cell_type": "code",
   "execution_count": 1,
   "id": "7e550e61",
   "metadata": {
    "execution": {
     "iopub.execute_input": "2021-10-13T13:20:52.449414Z",
     "iopub.status.busy": "2021-10-13T13:20:52.448886Z",
     "iopub.status.idle": "2021-10-13T13:20:52.457051Z",
     "shell.execute_reply": "2021-10-13T13:20:52.457808Z",
     "shell.execute_reply.started": "2021-10-13T13:10:39.696690Z"
    },
    "papermill": {
     "duration": 0.025594,
     "end_time": "2021-10-13T13:20:52.458203",
     "exception": false,
     "start_time": "2021-10-13T13:20:52.432609",
     "status": "completed"
    },
    "tags": []
   },
   "outputs": [
    {
     "name": "stdout",
     "output_type": "stream",
     "text": [
      "2 is greater than 1\n"
     ]
    }
   ],
   "source": [
    "#If condition:\n",
    "    #execute code\n",
    "    \n",
    "if 1 < 2:\n",
    "    print('2 is greater than 1')"
   ]
  },
  {
   "cell_type": "code",
   "execution_count": 2,
   "id": "b0071ed6",
   "metadata": {
    "execution": {
     "iopub.execute_input": "2021-10-13T13:20:52.479173Z",
     "iopub.status.busy": "2021-10-13T13:20:52.478584Z",
     "iopub.status.idle": "2021-10-13T13:20:52.482794Z",
     "shell.execute_reply": "2021-10-13T13:20:52.483753Z",
     "shell.execute_reply.started": "2021-10-13T13:11:16.878194Z"
    },
    "papermill": {
     "duration": 0.016265,
     "end_time": "2021-10-13T13:20:52.484026",
     "exception": false,
     "start_time": "2021-10-13T13:20:52.467761",
     "status": "completed"
    },
    "tags": []
   },
   "outputs": [
    {
     "name": "stdout",
     "output_type": "stream",
     "text": [
      "It's true\n"
     ]
    }
   ],
   "source": [
    "#Using boolean\n",
    "\n",
    "x = True\n",
    "\n",
    "if x:\n",
    "    print(\"It's true\")"
   ]
  },
  {
   "cell_type": "code",
   "execution_count": 3,
   "id": "659ffc74",
   "metadata": {
    "execution": {
     "iopub.execute_input": "2021-10-13T13:20:52.504144Z",
     "iopub.status.busy": "2021-10-13T13:20:52.503576Z",
     "iopub.status.idle": "2021-10-13T13:20:52.506700Z",
     "shell.execute_reply": "2021-10-13T13:20:52.507185Z",
     "shell.execute_reply.started": "2021-10-13T13:11:41.496610Z"
    },
    "papermill": {
     "duration": 0.014423,
     "end_time": "2021-10-13T13:20:52.507332",
     "exception": false,
     "start_time": "2021-10-13T13:20:52.492909",
     "status": "completed"
    },
    "tags": []
   },
   "outputs": [],
   "source": [
    "#In case it's false\n",
    "\n",
    "y = False\n",
    "\n",
    "if y:\n",
    "    print(\"It's true\")"
   ]
  },
  {
   "cell_type": "markdown",
   "id": "6144984e",
   "metadata": {
    "papermill": {
     "duration": 0.008425,
     "end_time": "2021-10-13T13:20:52.525872",
     "exception": false,
     "start_time": "2021-10-13T13:20:52.517447",
     "status": "completed"
    },
    "tags": []
   },
   "source": [
    "# Multiple Branches\n",
    "\n",
    "We can employ a multiple branch by using *else* or *elif* inside a nested structure.\n",
    "In case that the conditions are not met, other checks are performed further down the statement."
   ]
  },
  {
   "cell_type": "code",
   "execution_count": 4,
   "id": "77b2bba2",
   "metadata": {
    "execution": {
     "iopub.execute_input": "2021-10-13T13:20:52.552263Z",
     "iopub.status.busy": "2021-10-13T13:20:52.551274Z",
     "iopub.status.idle": "2021-10-13T13:20:52.554634Z",
     "shell.execute_reply": "2021-10-13T13:20:52.555348Z",
     "shell.execute_reply.started": "2021-10-13T13:13:19.381570Z"
    },
    "papermill": {
     "duration": 0.02026,
     "end_time": "2021-10-13T13:20:52.555595",
     "exception": false,
     "start_time": "2021-10-13T13:20:52.535335",
     "status": "completed"
    },
    "tags": []
   },
   "outputs": [
    {
     "name": "stdout",
     "output_type": "stream",
     "text": [
      "It's False\n"
     ]
    }
   ],
   "source": [
    "#Else\n",
    "\n",
    "if y:\n",
    "    print(\"It's True\")\n",
    "else:\n",
    "    print(\"It's False\")"
   ]
  },
  {
   "cell_type": "code",
   "execution_count": 5,
   "id": "15150170",
   "metadata": {
    "execution": {
     "iopub.execute_input": "2021-10-13T13:20:52.580174Z",
     "iopub.status.busy": "2021-10-13T13:20:52.579399Z",
     "iopub.status.idle": "2021-10-13T13:20:52.584271Z",
     "shell.execute_reply": "2021-10-13T13:20:52.584980Z",
     "shell.execute_reply.started": "2021-10-13T13:14:35.709579Z"
    },
    "papermill": {
     "duration": 0.020646,
     "end_time": "2021-10-13T13:20:52.585219",
     "exception": false,
     "start_time": "2021-10-13T13:20:52.564573",
     "status": "completed"
    },
    "tags": []
   },
   "outputs": [
    {
     "name": "stdout",
     "output_type": "stream",
     "text": [
      "At least 'x' is True\n"
     ]
    }
   ],
   "source": [
    "#Elif\n",
    "\n",
    "if y:\n",
    "    print(\"It's True\")\n",
    "elif x:\n",
    "    print(\"At least 'x' is True\")\n",
    "else:\n",
    "    print(\"It's False\")"
   ]
  },
  {
   "cell_type": "code",
   "execution_count": 6,
   "id": "749343eb",
   "metadata": {
    "execution": {
     "iopub.execute_input": "2021-10-13T13:20:52.609277Z",
     "iopub.status.busy": "2021-10-13T13:20:52.608674Z",
     "iopub.status.idle": "2021-10-13T13:20:52.611052Z",
     "shell.execute_reply": "2021-10-13T13:20:52.611719Z",
     "shell.execute_reply.started": "2021-10-13T13:16:35.242202Z"
    },
    "papermill": {
     "duration": 0.016511,
     "end_time": "2021-10-13T13:20:52.611915",
     "exception": false,
     "start_time": "2021-10-13T13:20:52.595404",
     "status": "completed"
    },
    "tags": []
   },
   "outputs": [
    {
     "name": "stdout",
     "output_type": "stream",
     "text": [
      "The final statement is True\n"
     ]
    }
   ],
   "source": [
    "#A multiple Elif structure can be employed\n",
    "\n",
    "if y:\n",
    "    print(\"Y is True\")\n",
    "elif 1 > 2:\n",
    "    print(\"At least this is true\")\n",
    "elif x:\n",
    "    print('The final statement is True')\n",
    "else:\n",
    "    print('Liars!')"
   ]
  },
  {
   "cell_type": "markdown",
   "id": "ee1fb942",
   "metadata": {
    "papermill": {
     "duration": 0.009416,
     "end_time": "2021-10-13T13:20:52.631798",
     "exception": false,
     "start_time": "2021-10-13T13:20:52.622382",
     "status": "completed"
    },
    "tags": []
   },
   "source": [
    "# Multiple conditions\n",
    "We can employ different comparison operators, *and/or* and sets of conditions in order to create a further, more complex, *if* statement.\n",
    "While it's not necessary to use parenthesis, I usually employ them because it makes the cood easier to read."
   ]
  },
  {
   "cell_type": "code",
   "execution_count": 7,
   "id": "d2141f79",
   "metadata": {
    "execution": {
     "iopub.execute_input": "2021-10-13T13:20:52.664482Z",
     "iopub.status.busy": "2021-10-13T13:20:52.663389Z",
     "iopub.status.idle": "2021-10-13T13:20:52.666683Z",
     "shell.execute_reply": "2021-10-13T13:20:52.667178Z",
     "shell.execute_reply.started": "2021-10-13T13:19:42.217034Z"
    },
    "papermill": {
     "duration": 0.023526,
     "end_time": "2021-10-13T13:20:52.667335",
     "exception": false,
     "start_time": "2021-10-13T13:20:52.643809",
     "status": "completed"
    },
    "tags": []
   },
   "outputs": [
    {
     "name": "stdout",
     "output_type": "stream",
     "text": [
      "3rd\n"
     ]
    }
   ],
   "source": [
    "#Using and/or\n",
    "\n",
    "if (1 > 2) and (1 != 1):\n",
    "    print('1st')\n",
    "elif (1 > 2) and (1 == 1):\n",
    "    print('2nd')\n",
    "elif (1 > 2) or (1 == 1):\n",
    "    print(\"3rd\")"
   ]
  }
 ],
 "metadata": {
  "kernelspec": {
   "display_name": "Python 3",
   "language": "python",
   "name": "python3"
  },
  "language_info": {
   "codemirror_mode": {
    "name": "ipython",
    "version": 3
   },
   "file_extension": ".py",
   "mimetype": "text/x-python",
   "name": "python",
   "nbconvert_exporter": "python",
   "pygments_lexer": "ipython3",
   "version": "3.7.10"
  },
  "papermill": {
   "default_parameters": {},
   "duration": 8.066917,
   "end_time": "2021-10-13T13:20:53.189167",
   "environment_variables": {},
   "exception": null,
   "input_path": "__notebook__.ipynb",
   "output_path": "__notebook__.ipynb",
   "parameters": {},
   "start_time": "2021-10-13T13:20:45.122250",
   "version": "2.3.3"
  }
 },
 "nbformat": 4,
 "nbformat_minor": 5
}
