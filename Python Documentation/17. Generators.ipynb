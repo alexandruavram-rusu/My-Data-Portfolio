{
 "cells": [
  {
   "cell_type": "markdown",
   "id": "6a101e28",
   "metadata": {
    "papermill": {
     "duration": 0.01516,
     "end_time": "2021-12-15T11:18:57.480161",
     "exception": false,
     "start_time": "2021-12-15T11:18:57.465001",
     "status": "completed"
    },
    "tags": []
   },
   "source": [
    "# Generators\n",
    "\n",
    "Generators are functions that allow us to write a function that can send back a value and later resume to pick up were it left off. The basic idea is that they allow us to generate a sequnce of value over time. The main difference between a normal function and a generator is that, instead of finishing it with a `return`, we should use a `yield` statement.\n",
    "\n",
    "The main difference is when a generator function is compiled they become an object that supports an iteration protocol. That means when they are called in your code they don't actually return a value and then exit. Instead, generator functions will automatically suspend and resume their execution and state around the last point of value generation. The main advantage here is that instead of having to compute an entire series of values up front, the generator computes one value and then suspends its activity awaiting the next instruction. This feature is known as **state suspension**."
   ]
  },
  {
   "cell_type": "code",
   "execution_count": 1,
   "id": "3a002a03",
   "metadata": {
    "execution": {
     "iopub.execute_input": "2021-12-15T11:18:57.522883Z",
     "iopub.status.busy": "2021-12-15T11:18:57.521815Z",
     "iopub.status.idle": "2021-12-15T11:18:57.528212Z",
     "shell.execute_reply": "2021-12-15T11:18:57.528756Z",
     "shell.execute_reply.started": "2021-12-15T11:17:14.066554Z"
    },
    "papermill": {
     "duration": 0.034019,
     "end_time": "2021-12-15T11:18:57.529048",
     "exception": false,
     "start_time": "2021-12-15T11:18:57.495029",
     "status": "completed"
    },
    "tags": []
   },
   "outputs": [
    {
     "name": "stdout",
     "output_type": "stream",
     "text": [
      "10\n",
      "9\n",
      "8\n",
      "7\n",
      "6\n",
      "5\n",
      "4\n",
      "3\n",
      "2\n",
      "1\n",
      "0\n"
     ]
    }
   ],
   "source": [
    "# Creating a simple generator that countdowns from 10 to 0\n",
    "\n",
    "def countdown():\n",
    "    i = 10\n",
    "    \n",
    "    while i >= 0:\n",
    "        yield i\n",
    "        i -= 1\n",
    "        \n",
    "# Calling a generator using a for loop\n",
    "\n",
    "for i in countdown():\n",
    "    print(i)"
   ]
  },
  {
   "cell_type": "markdown",
   "id": "69c60261",
   "metadata": {
    "papermill": {
     "duration": 0.01317,
     "end_time": "2021-12-15T11:18:57.555855",
     "exception": false,
     "start_time": "2021-12-15T11:18:57.542685",
     "status": "completed"
    },
    "tags": []
   },
   "source": [
    "Generators can be used to replace lists, in order to save space and memory, since they will not be stored. However, unlike lists, they are not indexable. But, they can still be iterated through with *for loops*."
   ]
  },
  {
   "cell_type": "code",
   "execution_count": 2,
   "id": "af344c67",
   "metadata": {
    "execution": {
     "iopub.execute_input": "2021-12-15T11:18:57.587684Z",
     "iopub.status.busy": "2021-12-15T11:18:57.586639Z",
     "iopub.status.idle": "2021-12-15T11:18:57.593866Z",
     "shell.execute_reply": "2021-12-15T11:18:57.593171Z",
     "shell.execute_reply.started": "2021-12-15T11:17:14.095820Z"
    },
    "papermill": {
     "duration": 0.024479,
     "end_time": "2021-12-15T11:18:57.594064",
     "exception": false,
     "start_time": "2021-12-15T11:18:57.569585",
     "status": "completed"
    },
    "tags": []
   },
   "outputs": [
    {
     "name": "stdout",
     "output_type": "stream",
     "text": [
      "[0, 1, 8, 27, 64, 125, 216, 343, 512, 729]\n"
     ]
    }
   ],
   "source": [
    "#Generating a list\n",
    "\n",
    "def create_cubes(n):\n",
    "    result = []\n",
    "    \n",
    "    for x in range(n):\n",
    "        result.append(x**3)\n",
    "    yield result\n",
    "    \n",
    "# Calling out the generator\n",
    "for n in create_cubes(10):\n",
    "    print(n)"
   ]
  },
  {
   "cell_type": "code",
   "execution_count": 3,
   "id": "c2b17c75",
   "metadata": {
    "execution": {
     "iopub.execute_input": "2021-12-15T11:18:57.632261Z",
     "iopub.status.busy": "2021-12-15T11:18:57.631560Z",
     "iopub.status.idle": "2021-12-15T11:18:57.634827Z",
     "shell.execute_reply": "2021-12-15T11:18:57.635305Z",
     "shell.execute_reply.started": "2021-12-15T11:17:14.103792Z"
    },
    "papermill": {
     "duration": 0.025711,
     "end_time": "2021-12-15T11:18:57.635489",
     "exception": false,
     "start_time": "2021-12-15T11:18:57.609778",
     "status": "completed"
    },
    "tags": []
   },
   "outputs": [
    {
     "data": {
      "text/plain": [
       "<generator object create_cubes at 0x7f4c87fc7ad0>"
      ]
     },
     "execution_count": 3,
     "metadata": {},
     "output_type": "execute_result"
    }
   ],
   "source": [
    "#Calling out create_cubes(10)\n",
    "\n",
    "create_cubes(10)"
   ]
  },
  {
   "cell_type": "code",
   "execution_count": 4,
   "id": "b2c155ae",
   "metadata": {
    "execution": {
     "iopub.execute_input": "2021-12-15T11:18:57.671558Z",
     "iopub.status.busy": "2021-12-15T11:18:57.670855Z",
     "iopub.status.idle": "2021-12-15T11:18:57.674886Z",
     "shell.execute_reply": "2021-12-15T11:18:57.675448Z",
     "shell.execute_reply.started": "2021-12-15T11:17:14.119878Z"
    },
    "papermill": {
     "duration": 0.023199,
     "end_time": "2021-12-15T11:18:57.675634",
     "exception": false,
     "start_time": "2021-12-15T11:18:57.652435",
     "status": "completed"
    },
    "tags": []
   },
   "outputs": [],
   "source": [
    "# Generating a fibonacci sequence\n",
    "\n",
    "def fibon(n):\n",
    "    \n",
    "    \n",
    "    a = 1\n",
    "    b = 1\n",
    "    \n",
    "    for i in range(n):\n",
    "        yield a\n",
    "        a,b = b,a+b #a is reseted to be equal to b, while b is equal to the previous a + b"
   ]
  },
  {
   "cell_type": "code",
   "execution_count": 5,
   "id": "31d1aadf",
   "metadata": {
    "execution": {
     "iopub.execute_input": "2021-12-15T11:18:57.710957Z",
     "iopub.status.busy": "2021-12-15T11:18:57.710138Z",
     "iopub.status.idle": "2021-12-15T11:18:57.715083Z",
     "shell.execute_reply": "2021-12-15T11:18:57.716137Z",
     "shell.execute_reply.started": "2021-12-15T11:17:14.128086Z"
    },
    "papermill": {
     "duration": 0.024849,
     "end_time": "2021-12-15T11:18:57.716395",
     "exception": false,
     "start_time": "2021-12-15T11:18:57.691546",
     "status": "completed"
    },
    "tags": []
   },
   "outputs": [
    {
     "name": "stdout",
     "output_type": "stream",
     "text": [
      "1\n",
      "1\n",
      "2\n",
      "3\n",
      "5\n",
      "8\n",
      "13\n",
      "21\n",
      "34\n",
      "55\n"
     ]
    }
   ],
   "source": [
    "#Generating\n",
    "\n",
    "for n in fibon(10):\n",
    "    print(n)"
   ]
  },
  {
   "cell_type": "markdown",
   "id": "7ac3aa18",
   "metadata": {
    "papermill": {
     "duration": 0.01566,
     "end_time": "2021-12-15T11:18:57.748240",
     "exception": false,
     "start_time": "2021-12-15T11:18:57.732580",
     "status": "completed"
    },
    "tags": []
   },
   "source": [
    "If we want to, we can store a generator output in a list. It is advisable to do this only with finite generators, which won't overload you memory."
   ]
  },
  {
   "cell_type": "code",
   "execution_count": 6,
   "id": "b0990a45",
   "metadata": {
    "execution": {
     "iopub.execute_input": "2021-12-15T11:18:57.782567Z",
     "iopub.status.busy": "2021-12-15T11:18:57.781786Z",
     "iopub.status.idle": "2021-12-15T11:18:57.787780Z",
     "shell.execute_reply": "2021-12-15T11:18:57.788427Z",
     "shell.execute_reply.started": "2021-12-15T11:17:14.141004Z"
    },
    "papermill": {
     "duration": 0.024744,
     "end_time": "2021-12-15T11:18:57.788603",
     "exception": false,
     "start_time": "2021-12-15T11:18:57.763859",
     "status": "completed"
    },
    "tags": []
   },
   "outputs": [
    {
     "name": "stdout",
     "output_type": "stream",
     "text": [
      "[5, 4, 3, 2, 1, 0]\n"
     ]
    }
   ],
   "source": [
    "#Simple generator, countdown from 5 to 0\n",
    "\n",
    "def numbs():\n",
    "    n = 5\n",
    "    \n",
    "    while n >= 0:\n",
    "        yield n\n",
    "        n -= 1\n",
    "\n",
    "#Storing the result in a list\n",
    "nums = list(numbs())\n",
    "\n",
    "#Printing the list\n",
    "print(nums)"
   ]
  },
  {
   "cell_type": "markdown",
   "id": "b1dc3796",
   "metadata": {
    "papermill": {
     "duration": 0.015418,
     "end_time": "2021-12-15T11:18:57.819430",
     "exception": false,
     "start_time": "2021-12-15T11:18:57.804012",
     "status": "completed"
    },
    "tags": []
   },
   "source": [
    "# next() and iter()\n",
    "\n",
    "In order to fully understand generators, we should have an understanding of `next()` and `iter()`.\n",
    "\n",
    "The `next()` function allows us to access the next element in a sequence. "
   ]
  },
  {
   "cell_type": "code",
   "execution_count": 7,
   "id": "7ae7b367",
   "metadata": {
    "execution": {
     "iopub.execute_input": "2021-12-15T11:18:57.854516Z",
     "iopub.status.busy": "2021-12-15T11:18:57.853815Z",
     "iopub.status.idle": "2021-12-15T11:18:57.857972Z",
     "shell.execute_reply": "2021-12-15T11:18:57.858640Z",
     "shell.execute_reply.started": "2021-12-15T11:17:14.150350Z"
    },
    "papermill": {
     "duration": 0.024189,
     "end_time": "2021-12-15T11:18:57.858846",
     "exception": false,
     "start_time": "2021-12-15T11:18:57.834657",
     "status": "completed"
    },
    "tags": []
   },
   "outputs": [],
   "source": [
    "#Simple generator, number from 0 to 2\n",
    "\n",
    "def simple_gen():\n",
    "    for x in range(3):\n",
    "        yield x\n",
    "        \n",
    "# Assign simple_gen \n",
    "g = simple_gen()"
   ]
  },
  {
   "cell_type": "code",
   "execution_count": 8,
   "id": "ca79eeff",
   "metadata": {
    "execution": {
     "iopub.execute_input": "2021-12-15T11:18:57.896639Z",
     "iopub.status.busy": "2021-12-15T11:18:57.895883Z",
     "iopub.status.idle": "2021-12-15T11:18:57.899944Z",
     "shell.execute_reply": "2021-12-15T11:18:57.899407Z",
     "shell.execute_reply.started": "2021-12-15T11:17:14.161352Z"
    },
    "papermill": {
     "duration": 0.025292,
     "end_time": "2021-12-15T11:18:57.900119",
     "exception": false,
     "start_time": "2021-12-15T11:18:57.874827",
     "status": "completed"
    },
    "tags": []
   },
   "outputs": [
    {
     "name": "stdout",
     "output_type": "stream",
     "text": [
      "0\n",
      "1\n",
      "2\n"
     ]
    }
   ],
   "source": [
    "#Printing the next(g)\n",
    "\n",
    "print(next(g))\n",
    "\n",
    "#Printing the next(g)\n",
    "\n",
    "print(next(g))\n",
    "\n",
    "#Printing the next(g)\n",
    "\n",
    "print(next(g))"
   ]
  },
  {
   "cell_type": "code",
   "execution_count": 9,
   "id": "462c0b8b",
   "metadata": {
    "execution": {
     "iopub.execute_input": "2021-12-15T11:18:57.937474Z",
     "iopub.status.busy": "2021-12-15T11:18:57.935165Z",
     "iopub.status.idle": "2021-12-15T11:18:58.006313Z",
     "shell.execute_reply": "2021-12-15T11:18:58.004964Z",
     "shell.execute_reply.started": "2021-12-15T11:17:14.173758Z"
    },
    "papermill": {
     "duration": 0.090648,
     "end_time": "2021-12-15T11:18:58.006649",
     "exception": true,
     "start_time": "2021-12-15T11:18:57.916001",
     "status": "failed"
    },
    "tags": []
   },
   "outputs": [
    {
     "ename": "StopIteration",
     "evalue": "",
     "output_type": "error",
     "traceback": [
      "\u001b[0;31m---------------------------------------------------------------------------\u001b[0m",
      "\u001b[0;31mStopIteration\u001b[0m                             Traceback (most recent call last)",
      "\u001b[0;32m/tmp/ipykernel_20/3229184384.py\u001b[0m in \u001b[0;36m<module>\u001b[0;34m\u001b[0m\n\u001b[1;32m      2\u001b[0m \u001b[0;31m#It informs us of is that all the values have been yielded.\u001b[0m\u001b[0;34m\u001b[0m\u001b[0;34m\u001b[0m\u001b[0;34m\u001b[0m\u001b[0m\n\u001b[1;32m      3\u001b[0m \u001b[0;34m\u001b[0m\u001b[0m\n\u001b[0;32m----> 4\u001b[0;31m \u001b[0mprint\u001b[0m\u001b[0;34m(\u001b[0m\u001b[0mnext\u001b[0m\u001b[0;34m(\u001b[0m\u001b[0mg\u001b[0m\u001b[0;34m)\u001b[0m\u001b[0;34m)\u001b[0m\u001b[0;34m\u001b[0m\u001b[0;34m\u001b[0m\u001b[0m\n\u001b[0m",
      "\u001b[0;31mStopIteration\u001b[0m: "
     ]
    }
   ],
   "source": [
    "#After yielding all the values next() caused a StopIteration error. \n",
    "#It informs us of is that all the values have been yielded.\n",
    "\n",
    "print(next(g))"
   ]
  },
  {
   "cell_type": "markdown",
   "id": "293254e3",
   "metadata": {
    "papermill": {
     "duration": null,
     "end_time": null,
     "exception": null,
     "start_time": null,
     "status": "pending"
    },
    "tags": []
   },
   "source": [
    "The `iter()` function returns an iterator for the given object (array, set, tuple, etc. or custom objects). It creates an object that can be accessed one element at a time using the `next()` function, which generally comes in handy when dealing with loops."
   ]
  },
  {
   "cell_type": "code",
   "execution_count": null,
   "id": "4034b7a5",
   "metadata": {
    "execution": {
     "iopub.status.busy": "2021-12-15T11:17:14.250495Z",
     "iopub.status.idle": "2021-12-15T11:17:14.250893Z",
     "shell.execute_reply": "2021-12-15T11:17:14.250724Z",
     "shell.execute_reply.started": "2021-12-15T11:17:14.250695Z"
    },
    "papermill": {
     "duration": null,
     "end_time": null,
     "exception": null,
     "start_time": null,
     "status": "pending"
    },
    "tags": []
   },
   "outputs": [],
   "source": [
    "#Creating a simple string\n",
    "s = 'hello'\n",
    "\n",
    "#Iterate over string\n",
    "for let in s:\n",
    "    print(let)"
   ]
  },
  {
   "cell_type": "markdown",
   "id": "cbedd3e9",
   "metadata": {
    "papermill": {
     "duration": null,
     "end_time": null,
     "exception": null,
     "start_time": null,
     "status": "pending"
    },
    "tags": []
   },
   "source": [
    "While strings are *iterable*, they are not *iterators*. We cannot use a `next()` function here, as we would have an error. But, we can use `iter()`."
   ]
  },
  {
   "cell_type": "code",
   "execution_count": null,
   "id": "afbb20cf",
   "metadata": {
    "execution": {
     "iopub.status.busy": "2021-12-15T11:17:14.252709Z",
     "iopub.status.idle": "2021-12-15T11:17:14.253274Z",
     "shell.execute_reply": "2021-12-15T11:17:14.253005Z",
     "shell.execute_reply.started": "2021-12-15T11:17:14.252974Z"
    },
    "papermill": {
     "duration": null,
     "end_time": null,
     "exception": null,
     "start_time": null,
     "status": "pending"
    },
    "tags": []
   },
   "outputs": [],
   "source": [
    "#s becomes an iterator in s_iter\n",
    "\n",
    "s_iter = iter(s)\n",
    "\n",
    "#Lets print some\n",
    "print(next(s_iter))\n",
    "print(next(s_iter))"
   ]
  }
 ],
 "metadata": {
  "kernelspec": {
   "display_name": "Python 3",
   "language": "python",
   "name": "python3"
  },
  "language_info": {
   "codemirror_mode": {
    "name": "ipython",
    "version": 3
   },
   "file_extension": ".py",
   "mimetype": "text/x-python",
   "name": "python",
   "nbconvert_exporter": "python",
   "pygments_lexer": "ipython3",
   "version": "3.7.12"
  },
  "papermill": {
   "default_parameters": {},
   "duration": 11.364256,
   "end_time": "2021-12-15T11:18:58.633191",
   "environment_variables": {},
   "exception": true,
   "input_path": "__notebook__.ipynb",
   "output_path": "__notebook__.ipynb",
   "parameters": {},
   "start_time": "2021-12-15T11:18:47.268935",
   "version": "2.3.3"
  }
 },
 "nbformat": 4,
 "nbformat_minor": 5
}
