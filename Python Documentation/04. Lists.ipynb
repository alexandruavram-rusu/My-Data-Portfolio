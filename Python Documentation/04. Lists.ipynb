{
 "cells": [
  {
   "cell_type": "markdown",
   "id": "d004ef19",
   "metadata": {
    "papermill": {
     "duration": 0.0272,
     "end_time": "2021-12-08T17:08:40.190445",
     "exception": false,
     "start_time": "2021-12-08T17:08:40.163245",
     "status": "completed"
    },
    "tags": []
   },
   "source": [
    "# Lists\n",
    "\n",
    "#### [1,2,3,4,5]\n",
    "\n",
    "Like strings, lists are a sequence of characters. They can be indexed, sliced and, unlike strings they are mutable, meaning the elements inside a list can be changed.\n",
    "\n",
    "Lists are created by using brackets [...] and commas to separate elements between them. "
   ]
  },
  {
   "cell_type": "code",
   "execution_count": 1,
   "id": "18acb871",
   "metadata": {
    "execution": {
     "iopub.execute_input": "2021-12-08T17:08:40.244874Z",
     "iopub.status.busy": "2021-12-08T17:08:40.243641Z",
     "iopub.status.idle": "2021-12-08T17:08:40.253931Z",
     "shell.execute_reply": "2021-12-08T17:08:40.254468Z",
     "shell.execute_reply.started": "2021-10-10T10:11:00.471474Z"
    },
    "papermill": {
     "duration": 0.038873,
     "end_time": "2021-12-08T17:08:40.254841",
     "exception": false,
     "start_time": "2021-12-08T17:08:40.215968",
     "status": "completed"
    },
    "tags": []
   },
   "outputs": [],
   "source": [
    "#Creating a list\n",
    "\n",
    "my_list = [1,2,3,4,5]"
   ]
  },
  {
   "cell_type": "code",
   "execution_count": 2,
   "id": "f142bf41",
   "metadata": {
    "execution": {
     "iopub.execute_input": "2021-12-08T17:08:40.311420Z",
     "iopub.status.busy": "2021-12-08T17:08:40.306784Z",
     "iopub.status.idle": "2021-12-08T17:08:40.315086Z",
     "shell.execute_reply": "2021-12-08T17:08:40.314566Z",
     "shell.execute_reply.started": "2021-10-10T10:11:00.499064Z"
    },
    "papermill": {
     "duration": 0.035287,
     "end_time": "2021-12-08T17:08:40.315251",
     "exception": false,
     "start_time": "2021-12-08T17:08:40.279964",
     "status": "completed"
    },
    "tags": []
   },
   "outputs": [
    {
     "data": {
      "text/plain": [
       "[1, 2, 3, 4, 5]"
      ]
     },
     "execution_count": 2,
     "metadata": {},
     "output_type": "execute_result"
    }
   ],
   "source": [
    "my_list"
   ]
  },
  {
   "cell_type": "markdown",
   "id": "e3678f7d",
   "metadata": {
    "papermill": {
     "duration": 0.024854,
     "end_time": "2021-12-08T17:08:40.365419",
     "exception": false,
     "start_time": "2021-12-08T17:08:40.340565",
     "status": "completed"
    },
    "tags": []
   },
   "source": [
    "Lists can incorporate different type of objects, including integers, decimals, strings and booleans."
   ]
  },
  {
   "cell_type": "code",
   "execution_count": 3,
   "id": "247e8c7e",
   "metadata": {
    "execution": {
     "iopub.execute_input": "2021-12-08T17:08:40.422876Z",
     "iopub.status.busy": "2021-12-08T17:08:40.422147Z",
     "iopub.status.idle": "2021-12-08T17:08:40.425676Z",
     "shell.execute_reply": "2021-12-08T17:08:40.425029Z",
     "shell.execute_reply.started": "2021-10-10T10:13:13.286857Z"
    },
    "papermill": {
     "duration": 0.032943,
     "end_time": "2021-12-08T17:08:40.425834",
     "exception": false,
     "start_time": "2021-12-08T17:08:40.392891",
     "status": "completed"
    },
    "tags": []
   },
   "outputs": [
    {
     "name": "stdout",
     "output_type": "stream",
     "text": [
      "[1, 100.1, 'String', 'This is also a string', True]\n"
     ]
    }
   ],
   "source": [
    "#Lists can have different types\n",
    "\n",
    "another_list = [1, 100.1, \"String\", \"This is also a string\",True]\n",
    "print(another_list)"
   ]
  },
  {
   "cell_type": "code",
   "execution_count": 4,
   "id": "4a2b28dc",
   "metadata": {
    "execution": {
     "iopub.execute_input": "2021-12-08T17:08:40.481635Z",
     "iopub.status.busy": "2021-12-08T17:08:40.480907Z",
     "iopub.status.idle": "2021-12-08T17:08:40.483705Z",
     "shell.execute_reply": "2021-12-08T17:08:40.484192Z",
     "shell.execute_reply.started": "2021-10-10T10:13:17.377442Z"
    },
    "papermill": {
     "duration": 0.033696,
     "end_time": "2021-12-08T17:08:40.484406",
     "exception": false,
     "start_time": "2021-12-08T17:08:40.450710",
     "status": "completed"
    },
    "tags": []
   },
   "outputs": [
    {
     "data": {
      "text/plain": [
       "5"
      ]
     },
     "execution_count": 4,
     "metadata": {},
     "output_type": "execute_result"
    }
   ],
   "source": [
    "#Number items in list: len(list)\n",
    "\n",
    "len(my_list)"
   ]
  },
  {
   "cell_type": "markdown",
   "id": "e62e5379",
   "metadata": {
    "papermill": {
     "duration": 0.029317,
     "end_time": "2021-12-08T17:08:40.543315",
     "exception": false,
     "start_time": "2021-12-08T17:08:40.513998",
     "status": "completed"
    },
    "tags": []
   },
   "source": [
    "# List Indexing\n",
    "\n",
    "Works the same way as String Indexing.\n",
    "The difference is that they will be printed with [ , , ] in them."
   ]
  },
  {
   "cell_type": "code",
   "execution_count": 5,
   "id": "c8fade72",
   "metadata": {
    "execution": {
     "iopub.execute_input": "2021-12-08T17:08:40.604431Z",
     "iopub.status.busy": "2021-12-08T17:08:40.603527Z",
     "iopub.status.idle": "2021-12-08T17:08:40.609012Z",
     "shell.execute_reply": "2021-12-08T17:08:40.609668Z",
     "shell.execute_reply.started": "2021-10-10T10:13:58.840663Z"
    },
    "papermill": {
     "duration": 0.036723,
     "end_time": "2021-12-08T17:08:40.609850",
     "exception": false,
     "start_time": "2021-12-08T17:08:40.573127",
     "status": "completed"
    },
    "tags": []
   },
   "outputs": [
    {
     "data": {
      "text/plain": [
       "1"
      ]
     },
     "execution_count": 5,
     "metadata": {},
     "output_type": "execute_result"
    }
   ],
   "source": [
    "#First item is at 0\n",
    "\n",
    "my_list[0]"
   ]
  },
  {
   "cell_type": "code",
   "execution_count": 6,
   "id": "0281b618",
   "metadata": {
    "execution": {
     "iopub.execute_input": "2021-12-08T17:08:40.673420Z",
     "iopub.status.busy": "2021-12-08T17:08:40.672352Z",
     "iopub.status.idle": "2021-12-08T17:08:40.678979Z",
     "shell.execute_reply": "2021-12-08T17:08:40.678461Z",
     "shell.execute_reply.started": "2021-10-10T10:14:12.729863Z"
    },
    "papermill": {
     "duration": 0.038528,
     "end_time": "2021-12-08T17:08:40.679142",
     "exception": false,
     "start_time": "2021-12-08T17:08:40.640614",
     "status": "completed"
    },
    "tags": []
   },
   "outputs": [
    {
     "data": {
      "text/plain": [
       "5"
      ]
     },
     "execution_count": 6,
     "metadata": {},
     "output_type": "execute_result"
    }
   ],
   "source": [
    "#Last item is at -1\n",
    "\n",
    "my_list[-1]"
   ]
  },
  {
   "cell_type": "code",
   "execution_count": 7,
   "id": "0d4ce26b",
   "metadata": {
    "execution": {
     "iopub.execute_input": "2021-12-08T17:08:40.735890Z",
     "iopub.status.busy": "2021-12-08T17:08:40.734917Z",
     "iopub.status.idle": "2021-12-08T17:08:40.740223Z",
     "shell.execute_reply": "2021-12-08T17:08:40.740822Z",
     "shell.execute_reply.started": "2021-10-10T10:13:36.132597Z"
    },
    "papermill": {
     "duration": 0.03542,
     "end_time": "2021-12-08T17:08:40.741009",
     "exception": false,
     "start_time": "2021-12-08T17:08:40.705589",
     "status": "completed"
    },
    "tags": []
   },
   "outputs": [
    {
     "data": {
      "text/plain": [
       "[2, 3]"
      ]
     },
     "execution_count": 7,
     "metadata": {},
     "output_type": "execute_result"
    }
   ],
   "source": [
    "my_list[1:3]"
   ]
  },
  {
   "cell_type": "code",
   "execution_count": 8,
   "id": "c28cbf6f",
   "metadata": {
    "execution": {
     "iopub.execute_input": "2021-12-08T17:08:40.798529Z",
     "iopub.status.busy": "2021-12-08T17:08:40.797827Z",
     "iopub.status.idle": "2021-12-08T17:08:40.802908Z",
     "shell.execute_reply": "2021-12-08T17:08:40.803521Z",
     "shell.execute_reply.started": "2021-10-10T10:14:17.4816Z"
    },
    "papermill": {
     "duration": 0.035735,
     "end_time": "2021-12-08T17:08:40.803694",
     "exception": false,
     "start_time": "2021-12-08T17:08:40.767959",
     "status": "completed"
    },
    "tags": []
   },
   "outputs": [
    {
     "data": {
      "text/plain": [
       "[5, 4, 3, 2, 1]"
      ]
     },
     "execution_count": 8,
     "metadata": {},
     "output_type": "execute_result"
    }
   ],
   "source": [
    "my_list[::-1]"
   ]
  },
  {
   "cell_type": "markdown",
   "id": "fc04f31d",
   "metadata": {
    "papermill": {
     "duration": 0.025979,
     "end_time": "2021-12-08T17:08:40.855665",
     "exception": false,
     "start_time": "2021-12-08T17:08:40.829686",
     "status": "completed"
    },
    "tags": []
   },
   "source": [
    "# Basic Methods\n",
    "\n",
    "Just like with strings, there are different types of methods that can be used on lists. The basics are explored bellow."
   ]
  },
  {
   "cell_type": "code",
   "execution_count": 9,
   "id": "a5f0c05e",
   "metadata": {
    "execution": {
     "iopub.execute_input": "2021-12-08T17:08:40.913802Z",
     "iopub.status.busy": "2021-12-08T17:08:40.913128Z",
     "iopub.status.idle": "2021-12-08T17:08:40.914726Z",
     "shell.execute_reply": "2021-12-08T17:08:40.915309Z",
     "shell.execute_reply.started": "2021-10-01T13:29:25.335563Z"
    },
    "papermill": {
     "duration": 0.033569,
     "end_time": "2021-12-08T17:08:40.915475",
     "exception": false,
     "start_time": "2021-12-08T17:08:40.881906",
     "status": "completed"
    },
    "tags": []
   },
   "outputs": [],
   "source": [
    "#First, we should create new lists\n",
    "\n",
    "my_list1 = [\"One\", \"Two\", \"Three\"]\n",
    "my_list2 = [\"Four\", \"Five\"]"
   ]
  },
  {
   "cell_type": "code",
   "execution_count": 10,
   "id": "104b0d47",
   "metadata": {
    "execution": {
     "iopub.execute_input": "2021-12-08T17:08:40.974055Z",
     "iopub.status.busy": "2021-12-08T17:08:40.973444Z",
     "iopub.status.idle": "2021-12-08T17:08:40.976153Z",
     "shell.execute_reply": "2021-12-08T17:08:40.976860Z",
     "shell.execute_reply.started": "2021-10-01T13:29:27.845912Z"
    },
    "papermill": {
     "duration": 0.035525,
     "end_time": "2021-12-08T17:08:40.977079",
     "exception": false,
     "start_time": "2021-12-08T17:08:40.941554",
     "status": "completed"
    },
    "tags": []
   },
   "outputs": [
    {
     "name": "stdout",
     "output_type": "stream",
     "text": [
      "['One', 'Two', 'Three', 'Four', 'Five']\n"
     ]
    }
   ],
   "source": [
    "#Lists can be added to create a new list\n",
    "\n",
    "new_list = my_list1 + my_list2\n",
    "print(new_list)"
   ]
  },
  {
   "cell_type": "code",
   "execution_count": 11,
   "id": "0294ad99",
   "metadata": {
    "execution": {
     "iopub.execute_input": "2021-12-08T17:08:41.043672Z",
     "iopub.status.busy": "2021-12-08T17:08:41.042973Z",
     "iopub.status.idle": "2021-12-08T17:08:41.049458Z",
     "shell.execute_reply": "2021-12-08T17:08:41.049967Z",
     "shell.execute_reply.started": "2021-10-01T13:29:29.814198Z"
    },
    "papermill": {
     "duration": 0.040481,
     "end_time": "2021-12-08T17:08:41.050141",
     "exception": false,
     "start_time": "2021-12-08T17:08:41.009660",
     "status": "completed"
    },
    "tags": []
   },
   "outputs": [
    {
     "data": {
      "text/plain": [
       "['Zero', 'Two', 'Three', 'Four', 'Five']"
      ]
     },
     "execution_count": 11,
     "metadata": {},
     "output_type": "execute_result"
    }
   ],
   "source": [
    "#Change list elements: list[x] =\"\"\n",
    "\n",
    "new_list[0] = \"Zero\"\n",
    "new_list"
   ]
  },
  {
   "cell_type": "code",
   "execution_count": 12,
   "id": "f6eed82e",
   "metadata": {
    "execution": {
     "iopub.execute_input": "2021-12-08T17:08:41.116368Z",
     "iopub.status.busy": "2021-12-08T17:08:41.115744Z",
     "iopub.status.idle": "2021-12-08T17:08:41.120717Z",
     "shell.execute_reply": "2021-12-08T17:08:41.121180Z",
     "shell.execute_reply.started": "2021-10-01T13:29:32.093089Z"
    },
    "papermill": {
     "duration": 0.038828,
     "end_time": "2021-12-08T17:08:41.121368",
     "exception": false,
     "start_time": "2021-12-08T17:08:41.082540",
     "status": "completed"
    },
    "tags": []
   },
   "outputs": [
    {
     "data": {
      "text/plain": [
       "['Zero', 'Two', 'Three', 'Four', 'Five', 'Six']"
      ]
     },
     "execution_count": 12,
     "metadata": {},
     "output_type": "execute_result"
    }
   ],
   "source": [
    "#Append, add item to the end of the list: list.append(\"\")\n",
    "\n",
    "new_list.append('Six')\n",
    "new_list"
   ]
  },
  {
   "cell_type": "code",
   "execution_count": 13,
   "id": "556aa551",
   "metadata": {
    "execution": {
     "iopub.execute_input": "2021-12-08T17:08:41.178961Z",
     "iopub.status.busy": "2021-12-08T17:08:41.178289Z",
     "iopub.status.idle": "2021-12-08T17:08:41.183880Z",
     "shell.execute_reply": "2021-12-08T17:08:41.184380Z",
     "shell.execute_reply.started": "2021-10-01T13:29:41.424157Z"
    },
    "papermill": {
     "duration": 0.036211,
     "end_time": "2021-12-08T17:08:41.184551",
     "exception": false,
     "start_time": "2021-12-08T17:08:41.148340",
     "status": "completed"
    },
    "tags": []
   },
   "outputs": [
    {
     "data": {
      "text/plain": [
       "'Six'"
      ]
     },
     "execution_count": 13,
     "metadata": {},
     "output_type": "execute_result"
    }
   ],
   "source": [
    "#Pop off, remove last item from list: list.pop(x)\n",
    "\n",
    "new_list.pop()"
   ]
  },
  {
   "cell_type": "code",
   "execution_count": 14,
   "id": "557a2118",
   "metadata": {
    "execution": {
     "iopub.execute_input": "2021-12-08T17:08:41.245749Z",
     "iopub.status.busy": "2021-12-08T17:08:41.245019Z",
     "iopub.status.idle": "2021-12-08T17:08:41.248670Z",
     "shell.execute_reply": "2021-12-08T17:08:41.248032Z",
     "shell.execute_reply.started": "2021-10-01T13:29:44.278098Z"
    },
    "papermill": {
     "duration": 0.036544,
     "end_time": "2021-12-08T17:08:41.248812",
     "exception": false,
     "start_time": "2021-12-08T17:08:41.212268",
     "status": "completed"
    },
    "tags": []
   },
   "outputs": [
    {
     "name": "stdout",
     "output_type": "stream",
     "text": [
      "Three\n",
      "['Zero', 'Two', 'Four', 'Five']\n"
     ]
    }
   ],
   "source": [
    "#Popped item can be saved\n",
    "\n",
    "popped_item = new_list.pop(2)\n",
    "\n",
    "print(popped_item)\n",
    "print(new_list)"
   ]
  },
  {
   "cell_type": "code",
   "execution_count": 15,
   "id": "cd065ae0",
   "metadata": {
    "execution": {
     "iopub.execute_input": "2021-12-08T17:08:41.308441Z",
     "iopub.status.busy": "2021-12-08T17:08:41.307781Z",
     "iopub.status.idle": "2021-12-08T17:08:41.312822Z",
     "shell.execute_reply": "2021-12-08T17:08:41.313347Z",
     "shell.execute_reply.started": "2021-10-01T13:32:22.098693Z"
    },
    "papermill": {
     "duration": 0.036616,
     "end_time": "2021-12-08T17:08:41.313522",
     "exception": false,
     "start_time": "2021-12-08T17:08:41.276906",
     "status": "completed"
    },
    "tags": []
   },
   "outputs": [
    {
     "data": {
      "text/plain": [
       "['Five', 'Four', 'Two', 'Zero']"
      ]
     },
     "execution_count": 15,
     "metadata": {},
     "output_type": "execute_result"
    }
   ],
   "source": [
    "#Sorting... either by number of alphabetical: list.sort()\n",
    "\n",
    "new_list.sort()\n",
    "new_list"
   ]
  },
  {
   "cell_type": "code",
   "execution_count": 16,
   "id": "1920054e",
   "metadata": {
    "execution": {
     "iopub.execute_input": "2021-12-08T17:08:41.378157Z",
     "iopub.status.busy": "2021-12-08T17:08:41.377356Z",
     "iopub.status.idle": "2021-12-08T17:08:41.380635Z",
     "shell.execute_reply": "2021-12-08T17:08:41.381084Z",
     "shell.execute_reply.started": "2021-10-01T13:33:04.106735Z"
    },
    "papermill": {
     "duration": 0.038766,
     "end_time": "2021-12-08T17:08:41.381259",
     "exception": false,
     "start_time": "2021-12-08T17:08:41.342493",
     "status": "completed"
    },
    "tags": []
   },
   "outputs": [
    {
     "data": {
      "text/plain": [
       "['Zero', 'Two', 'Four', 'Five']"
      ]
     },
     "execution_count": 16,
     "metadata": {},
     "output_type": "execute_result"
    }
   ],
   "source": [
    "#Reverse... sorting in reverse: list.reverse\n",
    "\n",
    "new_list.reverse()\n",
    "new_list"
   ]
  },
  {
   "cell_type": "code",
   "execution_count": 17,
   "id": "b7b89b6d",
   "metadata": {
    "execution": {
     "iopub.execute_input": "2021-12-08T17:08:41.441928Z",
     "iopub.status.busy": "2021-12-08T17:08:41.441014Z",
     "iopub.status.idle": "2021-12-08T17:08:41.446224Z",
     "shell.execute_reply": "2021-12-08T17:08:41.446683Z",
     "shell.execute_reply.started": "2021-10-01T13:34:11.789711Z"
    },
    "papermill": {
     "duration": 0.037119,
     "end_time": "2021-12-08T17:08:41.446860",
     "exception": false,
     "start_time": "2021-12-08T17:08:41.409741",
     "status": "completed"
    },
    "tags": []
   },
   "outputs": [
    {
     "data": {
      "text/plain": [
       "1"
      ]
     },
     "execution_count": 17,
     "metadata": {},
     "output_type": "execute_result"
    }
   ],
   "source": [
    "#Return index position of an item in a list: list.index(\"x\")\n",
    "\n",
    "new_list.index(\"Two\")"
   ]
  },
  {
   "cell_type": "code",
   "execution_count": 18,
   "id": "8e01fa72",
   "metadata": {
    "execution": {
     "iopub.execute_input": "2021-12-08T17:08:41.507846Z",
     "iopub.status.busy": "2021-12-08T17:08:41.506906Z",
     "iopub.status.idle": "2021-12-08T17:08:41.512190Z",
     "shell.execute_reply": "2021-12-08T17:08:41.512646Z",
     "shell.execute_reply.started": "2021-10-01T13:35:14.62454Z"
    },
    "papermill": {
     "duration": 0.037436,
     "end_time": "2021-12-08T17:08:41.512828",
     "exception": false,
     "start_time": "2021-12-08T17:08:41.475392",
     "status": "completed"
    },
    "tags": []
   },
   "outputs": [
    {
     "data": {
      "text/plain": [
       "2"
      ]
     },
     "execution_count": 18,
     "metadata": {},
     "output_type": "execute_result"
    }
   ],
   "source": [
    "#Conting number of items in a list: list.count(\"x\")\n",
    "\n",
    "new_list.append(\"Zero\")\n",
    "new_list.count(\"Zero\")"
   ]
  },
  {
   "cell_type": "code",
   "execution_count": 19,
   "id": "7d19b9f5",
   "metadata": {
    "execution": {
     "iopub.execute_input": "2021-12-08T17:08:41.577137Z",
     "iopub.status.busy": "2021-12-08T17:08:41.575697Z",
     "iopub.status.idle": "2021-12-08T17:08:41.582846Z",
     "shell.execute_reply": "2021-12-08T17:08:41.583608Z",
     "shell.execute_reply.started": "2021-10-01T13:36:37.939075Z"
    },
    "papermill": {
     "duration": 0.042188,
     "end_time": "2021-12-08T17:08:41.583833",
     "exception": false,
     "start_time": "2021-12-08T17:08:41.541645",
     "status": "completed"
    },
    "tags": []
   },
   "outputs": [
    {
     "data": {
      "text/plain": [
       "['Zero', 'Two', 'Four', 'Zero']"
      ]
     },
     "execution_count": 19,
     "metadata": {},
     "output_type": "execute_result"
    }
   ],
   "source": [
    "#Remove item from a list... similar to pop: list.remove(\"x\")\n",
    "\n",
    "new_list.remove(\"Five\")\n",
    "new_list"
   ]
  },
  {
   "cell_type": "code",
   "execution_count": 20,
   "id": "44a23b3b",
   "metadata": {
    "execution": {
     "iopub.execute_input": "2021-12-08T17:08:41.648472Z",
     "iopub.status.busy": "2021-12-08T17:08:41.647449Z",
     "iopub.status.idle": "2021-12-08T17:08:41.653415Z",
     "shell.execute_reply": "2021-12-08T17:08:41.653918Z",
     "shell.execute_reply.started": "2021-10-01T13:40:31.470456Z"
    },
    "papermill": {
     "duration": 0.039905,
     "end_time": "2021-12-08T17:08:41.654113",
     "exception": false,
     "start_time": "2021-12-08T17:08:41.614208",
     "status": "completed"
    },
    "tags": []
   },
   "outputs": [
    {
     "data": {
      "text/plain": [
       "['Zero', 'Two', 'Seven', 'Four', 'Zero']"
      ]
     },
     "execution_count": 20,
     "metadata": {},
     "output_type": "execute_result"
    }
   ],
   "source": [
    "#Inserting an elemen: list(index, element)\n",
    "\n",
    "new_list.insert(2, \"Seven\")\n",
    "new_list"
   ]
  },
  {
   "cell_type": "code",
   "execution_count": 21,
   "id": "1be8b272",
   "metadata": {
    "execution": {
     "iopub.execute_input": "2021-12-08T17:08:41.720433Z",
     "iopub.status.busy": "2021-12-08T17:08:41.719440Z",
     "iopub.status.idle": "2021-12-08T17:08:41.725506Z",
     "shell.execute_reply": "2021-12-08T17:08:41.726000Z",
     "shell.execute_reply.started": "2021-10-01T13:42:41.731692Z"
    },
    "papermill": {
     "duration": 0.040411,
     "end_time": "2021-12-08T17:08:41.726192",
     "exception": false,
     "start_time": "2021-12-08T17:08:41.685781",
     "status": "completed"
    },
    "tags": []
   },
   "outputs": [
    {
     "data": {
      "text/plain": [
       "['Zero', ['Four', 'Five'], 'Two', 'Seven', 'Four', 'Zero']"
      ]
     },
     "execution_count": 21,
     "metadata": {},
     "output_type": "execute_result"
    }
   ],
   "source": [
    "#Items from another list can be inserted into another\n",
    "\n",
    "new_list.insert(1,my_list2)\n",
    "new_list"
   ]
  },
  {
   "cell_type": "code",
   "execution_count": 22,
   "id": "866c8e43",
   "metadata": {
    "execution": {
     "iopub.execute_input": "2021-12-08T17:08:41.794216Z",
     "iopub.status.busy": "2021-12-08T17:08:41.793025Z",
     "iopub.status.idle": "2021-12-08T17:08:41.797856Z",
     "shell.execute_reply": "2021-12-08T17:08:41.797312Z",
     "shell.execute_reply.started": "2021-10-01T13:44:01.712602Z"
    },
    "papermill": {
     "duration": 0.041253,
     "end_time": "2021-12-08T17:08:41.798024",
     "exception": false,
     "start_time": "2021-12-08T17:08:41.756771",
     "status": "completed"
    },
    "tags": []
   },
   "outputs": [
    {
     "data": {
      "text/plain": [
       "['Zero',\n",
       " ['Four', 'Five'],\n",
       " 'Two',\n",
       " 'Seven',\n",
       " 'Four',\n",
       " 'Zero',\n",
       " 'Ten',\n",
       " 'Eleven',\n",
       " 'Nine']"
      ]
     },
     "execution_count": 22,
     "metadata": {},
     "output_type": "execute_result"
    }
   ],
   "source": [
    "#Adding multiple items at the end of the list: list.extend([x,y,z,...])\n",
    "\n",
    "new_list.extend([\"Ten\",\"Eleven\",\"Nine\"])\n",
    "new_list"
   ]
  },
  {
   "cell_type": "code",
   "execution_count": 23,
   "id": "9e83c0b0",
   "metadata": {
    "execution": {
     "iopub.execute_input": "2021-12-08T17:08:41.868812Z",
     "iopub.status.busy": "2021-12-08T17:08:41.867874Z",
     "iopub.status.idle": "2021-12-08T17:08:41.871162Z",
     "shell.execute_reply": "2021-12-08T17:08:41.871669Z",
     "shell.execute_reply.started": "2021-10-10T10:37:07.960352Z"
    },
    "papermill": {
     "duration": 0.042118,
     "end_time": "2021-12-08T17:08:41.871869",
     "exception": false,
     "start_time": "2021-12-08T17:08:41.829751",
     "status": "completed"
    },
    "tags": []
   },
   "outputs": [
    {
     "data": {
      "text/plain": [
       "[]"
      ]
     },
     "execution_count": 23,
     "metadata": {},
     "output_type": "execute_result"
    }
   ],
   "source": [
    "#Clearing list: list.clear()\n",
    "\n",
    "my_list.clear()\n",
    "my_list"
   ]
  },
  {
   "cell_type": "markdown",
   "id": "c03dd8f8",
   "metadata": {
    "papermill": {
     "duration": 0.031914,
     "end_time": "2021-12-08T17:08:41.934797",
     "exception": false,
     "start_time": "2021-12-08T17:08:41.902883",
     "status": "completed"
    },
    "tags": []
   },
   "source": [
    "# List Nesting\n",
    "\n",
    "Lists in Python support *nesting*, meaning that they can contain lists of lists of lists..."
   ]
  },
  {
   "cell_type": "code",
   "execution_count": 24,
   "id": "98bcd909",
   "metadata": {
    "execution": {
     "iopub.execute_input": "2021-12-08T17:08:42.003233Z",
     "iopub.status.busy": "2021-12-08T17:08:42.000324Z",
     "iopub.status.idle": "2021-12-08T17:08:42.006102Z",
     "shell.execute_reply": "2021-12-08T17:08:42.005574Z",
     "shell.execute_reply.started": "2021-10-10T10:21:58.915119Z"
    },
    "papermill": {
     "duration": 0.040201,
     "end_time": "2021-12-08T17:08:42.006252",
     "exception": false,
     "start_time": "2021-12-08T17:08:41.966051",
     "status": "completed"
    },
    "tags": []
   },
   "outputs": [],
   "source": [
    "# First, creating a set of new lists\n",
    "\n",
    "mylist1 = [1,2,3]\n",
    "mylist2 = [4,5,6]\n",
    "mylist3 = [7,8,9]"
   ]
  },
  {
   "cell_type": "code",
   "execution_count": 25,
   "id": "4467f504",
   "metadata": {
    "execution": {
     "iopub.execute_input": "2021-12-08T17:08:42.078136Z",
     "iopub.status.busy": "2021-12-08T17:08:42.077102Z",
     "iopub.status.idle": "2021-12-08T17:08:42.081204Z",
     "shell.execute_reply": "2021-12-08T17:08:42.081735Z",
     "shell.execute_reply.started": "2021-10-10T10:22:34.110085Z"
    },
    "papermill": {
     "duration": 0.044714,
     "end_time": "2021-12-08T17:08:42.081923",
     "exception": false,
     "start_time": "2021-12-08T17:08:42.037209",
     "status": "completed"
    },
    "tags": []
   },
   "outputs": [
    {
     "data": {
      "text/plain": [
       "[[1, 2, 3], [4, 5, 6], [7, 8, 9]]"
      ]
     },
     "execution_count": 25,
     "metadata": {},
     "output_type": "execute_result"
    }
   ],
   "source": [
    "#Incorporate the lists above in a matrix\n",
    "\n",
    "matrix = [mylist1,mylist2,mylist3]\n",
    "matrix"
   ]
  },
  {
   "cell_type": "markdown",
   "id": "4a9b3a1d",
   "metadata": {
    "papermill": {
     "duration": 0.039973,
     "end_time": "2021-12-08T17:08:42.155687",
     "exception": false,
     "start_time": "2021-12-08T17:08:42.115714",
     "status": "completed"
    },
    "tags": []
   },
   "source": [
    "We can use indexing with this *matrix*, the difference beeing that there are now two levels for the index. The items in the matrix object, and then the items inside that list."
   ]
  },
  {
   "cell_type": "code",
   "execution_count": 26,
   "id": "c941f550",
   "metadata": {
    "execution": {
     "iopub.execute_input": "2021-12-08T17:08:42.230580Z",
     "iopub.status.busy": "2021-12-08T17:08:42.229855Z",
     "iopub.status.idle": "2021-12-08T17:08:42.235352Z",
     "shell.execute_reply": "2021-12-08T17:08:42.235828Z",
     "shell.execute_reply.started": "2021-10-10T10:24:35.545773Z"
    },
    "papermill": {
     "duration": 0.040533,
     "end_time": "2021-12-08T17:08:42.235997",
     "exception": false,
     "start_time": "2021-12-08T17:08:42.195464",
     "status": "completed"
    },
    "tags": []
   },
   "outputs": [
    {
     "name": "stdout",
     "output_type": "stream",
     "text": [
      "[1, 2, 3]\n",
      "1\n"
     ]
    }
   ],
   "source": [
    "#First element in a matrix\n",
    "\n",
    "print(matrix[0])\n",
    "\n",
    "#First element of the first element in a matrix\n",
    "\n",
    "print(matrix[0][0])"
   ]
  }
 ],
 "metadata": {
  "kernelspec": {
   "display_name": "Python 3",
   "language": "python",
   "name": "python3"
  },
  "language_info": {
   "codemirror_mode": {
    "name": "ipython",
    "version": 3
   },
   "file_extension": ".py",
   "mimetype": "text/x-python",
   "name": "python",
   "nbconvert_exporter": "python",
   "pygments_lexer": "ipython3",
   "version": "3.7.10"
  },
  "papermill": {
   "default_parameters": {},
   "duration": 11.789958,
   "end_time": "2021-12-08T17:08:43.670490",
   "environment_variables": {},
   "exception": null,
   "input_path": "__notebook__.ipynb",
   "output_path": "__notebook__.ipynb",
   "parameters": {},
   "start_time": "2021-12-08T17:08:31.880532",
   "version": "2.3.3"
  }
 },
 "nbformat": 4,
 "nbformat_minor": 5
}
