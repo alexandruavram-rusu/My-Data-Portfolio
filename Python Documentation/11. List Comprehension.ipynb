{
 "cells": [
  {
   "cell_type": "markdown",
   "id": "56fb0473",
   "metadata": {
    "papermill": {
     "duration": 0.01459,
     "end_time": "2021-10-17T23:13:13.374077",
     "exception": false,
     "start_time": "2021-10-17T23:13:13.359487",
     "status": "completed"
    },
    "tags": []
   },
   "source": [
    "# List Comprehension\n",
    "\n",
    "An important tool that Python deploys in designing lists is using <code>list comprehension</code>, which is essentially using a loop code inside brackets in order to create a list."
   ]
  },
  {
   "cell_type": "code",
   "execution_count": 1,
   "id": "8cd58ed5",
   "metadata": {
    "execution": {
     "iopub.execute_input": "2021-10-17T23:13:13.413979Z",
     "iopub.status.busy": "2021-10-17T23:13:13.412959Z",
     "iopub.status.idle": "2021-10-17T23:13:13.418890Z",
     "shell.execute_reply": "2021-10-17T23:13:13.419655Z",
     "shell.execute_reply.started": "2021-10-17T22:59:46.035362Z"
    },
    "papermill": {
     "duration": 0.031175,
     "end_time": "2021-10-17T23:13:13.420305",
     "exception": false,
     "start_time": "2021-10-17T23:13:13.389130",
     "status": "completed"
    },
    "tags": []
   },
   "outputs": [
    {
     "name": "stdout",
     "output_type": "stream",
     "text": [
      "['H', 'e', 'l', 'l', 'o']\n"
     ]
    }
   ],
   "source": [
    "#For loop method\n",
    "\n",
    "mylist = []\n",
    "\n",
    "for letter in \"Hello\":\n",
    "    mylist.append(letter)\n",
    "\n",
    "print(mylist)"
   ]
  },
  {
   "cell_type": "code",
   "execution_count": 2,
   "id": "7fd57b77",
   "metadata": {
    "execution": {
     "iopub.execute_input": "2021-10-17T23:13:13.443966Z",
     "iopub.status.busy": "2021-10-17T23:13:13.443313Z",
     "iopub.status.idle": "2021-10-17T23:13:13.450781Z",
     "shell.execute_reply": "2021-10-17T23:13:13.451235Z",
     "shell.execute_reply.started": "2021-10-17T22:59:50.974822Z"
    },
    "papermill": {
     "duration": 0.020562,
     "end_time": "2021-10-17T23:13:13.451402",
     "exception": false,
     "start_time": "2021-10-17T23:13:13.430840",
     "status": "completed"
    },
    "tags": []
   },
   "outputs": [
    {
     "data": {
      "text/plain": [
       "['H', 'e', 'l', 'l', 'o', ' ', 'W', 'o', 'r', 'l', 'd']"
      ]
     },
     "execution_count": 2,
     "metadata": {},
     "output_type": "execute_result"
    }
   ],
   "source": [
    "# list = [variable for loop/while loop]\n",
    "\n",
    "mylist = [letter for letter in \"Hello World\"]\n",
    "mylist"
   ]
  },
  {
   "cell_type": "code",
   "execution_count": 3,
   "id": "6ccf5cf8",
   "metadata": {
    "execution": {
     "iopub.execute_input": "2021-10-17T23:13:13.476176Z",
     "iopub.status.busy": "2021-10-17T23:13:13.473034Z",
     "iopub.status.idle": "2021-10-17T23:13:13.478985Z",
     "shell.execute_reply": "2021-10-17T23:13:13.479555Z",
     "shell.execute_reply.started": "2021-10-17T22:59:55.075818Z"
    },
    "papermill": {
     "duration": 0.018928,
     "end_time": "2021-10-17T23:13:13.479753",
     "exception": false,
     "start_time": "2021-10-17T23:13:13.460825",
     "status": "completed"
    },
    "tags": []
   },
   "outputs": [
    {
     "data": {
      "text/plain": [
       "[0, 1, 2, 3, 4, 5, 6, 7, 8, 9, 10]"
      ]
     },
     "execution_count": 3,
     "metadata": {},
     "output_type": "execute_result"
    }
   ],
   "source": [
    "#Using range\n",
    "\n",
    "mylist = [num for num in range(0,11)]\n",
    "mylist"
   ]
  },
  {
   "cell_type": "code",
   "execution_count": 4,
   "id": "609ac764",
   "metadata": {
    "execution": {
     "iopub.execute_input": "2021-10-17T23:13:13.508608Z",
     "iopub.status.busy": "2021-10-17T23:13:13.505172Z",
     "iopub.status.idle": "2021-10-17T23:13:13.511441Z",
     "shell.execute_reply": "2021-10-17T23:13:13.511945Z",
     "shell.execute_reply.started": "2021-10-17T23:01:29.905529Z"
    },
    "papermill": {
     "duration": 0.020487,
     "end_time": "2021-10-17T23:13:13.512116",
     "exception": false,
     "start_time": "2021-10-17T23:13:13.491629",
     "status": "completed"
    },
    "tags": []
   },
   "outputs": [
    {
     "data": {
      "text/plain": [
       "[0, 1, 4, 9, 16, 25, 36, 49, 64, 81, 100]"
      ]
     },
     "execution_count": 4,
     "metadata": {},
     "output_type": "execute_result"
    }
   ],
   "source": [
    "#Squared version\n",
    "\n",
    "mylist = [num**2 for num in range(0,11)]\n",
    "mylist"
   ]
  },
  {
   "cell_type": "code",
   "execution_count": 5,
   "id": "a692ca53",
   "metadata": {
    "execution": {
     "iopub.execute_input": "2021-10-17T23:13:13.538521Z",
     "iopub.status.busy": "2021-10-17T23:13:13.535270Z",
     "iopub.status.idle": "2021-10-17T23:13:13.542108Z",
     "shell.execute_reply": "2021-10-17T23:13:13.541605Z",
     "shell.execute_reply.started": "2021-10-17T23:02:22.855579Z"
    },
    "papermill": {
     "duration": 0.02001,
     "end_time": "2021-10-17T23:13:13.542247",
     "exception": false,
     "start_time": "2021-10-17T23:13:13.522237",
     "status": "completed"
    },
    "tags": []
   },
   "outputs": [
    {
     "data": {
      "text/plain": [
       "[1, 3, 5, 7, 9]"
      ]
     },
     "execution_count": 5,
     "metadata": {},
     "output_type": "execute_result"
    }
   ],
   "source": [
    "#If/Odd numbers\n",
    "\n",
    "mylist = [num for num in range(0,11) if num % 2 == 1]\n",
    "mylist"
   ]
  },
  {
   "cell_type": "code",
   "execution_count": 6,
   "id": "3612034a",
   "metadata": {
    "execution": {
     "iopub.execute_input": "2021-10-17T23:13:13.569203Z",
     "iopub.status.busy": "2021-10-17T23:13:13.568501Z",
     "iopub.status.idle": "2021-10-17T23:13:13.571297Z",
     "shell.execute_reply": "2021-10-17T23:13:13.571843Z",
     "shell.execute_reply.started": "2021-10-17T23:04:51.806611Z"
    },
    "papermill": {
     "duration": 0.019469,
     "end_time": "2021-10-17T23:13:13.572024",
     "exception": false,
     "start_time": "2021-10-17T23:13:13.552555",
     "status": "completed"
    },
    "tags": []
   },
   "outputs": [
    {
     "name": "stdout",
     "output_type": "stream",
     "text": [
      "[-63.0, -53.5, -44.0, -34.5, -25.0, -15.5, -6.0, 3.5, 13.0, 22.5, 32.0, 41.5, 51.0, 60.5, 70.0, 79.5, 89.0, 98.5, 108.0, 117.5]\n"
     ]
    }
   ],
   "source": [
    "# Convert Celsius (from -10 to 10) to Fahrenheit\n",
    "\n",
    "celcius = list(range(-10,10))\n",
    "\n",
    "fahrenheit = [((9.5) * temp +32) for temp in celcius]\n",
    "print(fahrenheit)"
   ]
  },
  {
   "cell_type": "markdown",
   "id": "c95a62b2",
   "metadata": {
    "papermill": {
     "duration": 0.010595,
     "end_time": "2021-10-17T23:13:13.593901",
     "exception": false,
     "start_time": "2021-10-17T23:13:13.583306",
     "status": "completed"
    },
    "tags": []
   },
   "source": [
    "Worth noting is that <code>list comprehensions</code> can be used to create complex lists, but that could make it difficult to read and write the actual code. This is why it's usually recommended to use them only on simple lists and simply using a for loop to create complex lists."
   ]
  },
  {
   "cell_type": "code",
   "execution_count": 7,
   "id": "a549e9c8",
   "metadata": {
    "execution": {
     "iopub.execute_input": "2021-10-17T23:13:13.618669Z",
     "iopub.status.busy": "2021-10-17T23:13:13.618047Z",
     "iopub.status.idle": "2021-10-17T23:13:13.622839Z",
     "shell.execute_reply": "2021-10-17T23:13:13.623290Z",
     "shell.execute_reply.started": "2021-10-17T23:07:28.045739Z"
    },
    "papermill": {
     "duration": 0.018835,
     "end_time": "2021-10-17T23:13:13.623458",
     "exception": false,
     "start_time": "2021-10-17T23:13:13.604623",
     "status": "completed"
    },
    "tags": []
   },
   "outputs": [
    {
     "name": "stdout",
     "output_type": "stream",
     "text": [
      "[0, 'Odd Number', 2, 'Odd Number', 4, 'Odd Number', 6, 'Odd Number', 8, 'Odd Number', 10]\n"
     ]
    }
   ],
   "source": [
    "#Complex list comprehension... maybe not very complex, but harder to read\n",
    "\n",
    "results = [num if num % 2 == 0 else 'Odd Number' for num in range (0,11)]\n",
    "print(results)"
   ]
  },
  {
   "cell_type": "code",
   "execution_count": 8,
   "id": "c3a633e1",
   "metadata": {
    "execution": {
     "iopub.execute_input": "2021-10-17T23:13:13.648706Z",
     "iopub.status.busy": "2021-10-17T23:13:13.648053Z",
     "iopub.status.idle": "2021-10-17T23:13:13.654173Z",
     "shell.execute_reply": "2021-10-17T23:13:13.653529Z",
     "shell.execute_reply.started": "2021-10-17T23:11:03.853560Z"
    },
    "papermill": {
     "duration": 0.019708,
     "end_time": "2021-10-17T23:13:13.654315",
     "exception": false,
     "start_time": "2021-10-17T23:13:13.634607",
     "status": "completed"
    },
    "tags": []
   },
   "outputs": [
    {
     "name": "stdout",
     "output_type": "stream",
     "text": [
      "[0, 'Odd Number', 2, 'Odd Number', 4, 'Odd Number', 6, 'Odd Number', 8, 'Odd Number', 10]\n"
     ]
    }
   ],
   "source": [
    "#Same result using a for loop\n",
    "\n",
    "results = []\n",
    "\n",
    "for num in range (0,11):\n",
    "    if num % 2 == 0:\n",
    "        results.append(num)\n",
    "    else:\n",
    "        results.append(\"Odd Number\")\n",
    "\n",
    "print(results)"
   ]
  }
 ],
 "metadata": {
  "kernelspec": {
   "display_name": "Python 3",
   "language": "python",
   "name": "python3"
  },
  "language_info": {
   "codemirror_mode": {
    "name": "ipython",
    "version": 3
   },
   "file_extension": ".py",
   "mimetype": "text/x-python",
   "name": "python",
   "nbconvert_exporter": "python",
   "pygments_lexer": "ipython3",
   "version": "3.7.10"
  },
  "papermill": {
   "default_parameters": {},
   "duration": 10.310408,
   "end_time": "2021-10-17T23:13:14.276858",
   "environment_variables": {},
   "exception": null,
   "input_path": "__notebook__.ipynb",
   "output_path": "__notebook__.ipynb",
   "parameters": {},
   "start_time": "2021-10-17T23:13:03.966450",
   "version": "2.3.3"
  }
 },
 "nbformat": 4,
 "nbformat_minor": 5
}
