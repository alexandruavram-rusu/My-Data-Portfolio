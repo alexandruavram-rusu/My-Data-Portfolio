{
 "cells": [
  {
   "cell_type": "markdown",
   "id": "8404b8e0",
   "metadata": {
    "papermill": {
     "duration": 0.048942,
     "end_time": "2022-01-07T12:08:06.791198",
     "exception": false,
     "start_time": "2022-01-07T12:08:06.742256",
     "status": "completed"
    },
    "tags": []
   },
   "source": [
    "# Regular Expressions\n",
    "\n",
    "**Regular expressions** (also called **regex**) are a powerul tool for various kinds of string manipulation. They are very useful in veryfying if a string matches a pattern or searching for patterns in a string (say that a string is in the form of a phone number or e-mail address) and performing substitutions (such as correcting spelling or data entry errors). \n",
    "\n",
    "Regex are employed called upon using the `re` library."
   ]
  },
  {
   "cell_type": "code",
   "execution_count": 1,
   "id": "bcc46123",
   "metadata": {
    "execution": {
     "iopub.execute_input": "2022-01-07T12:08:06.891343Z",
     "iopub.status.busy": "2022-01-07T12:08:06.890112Z",
     "iopub.status.idle": "2022-01-07T12:08:06.900192Z",
     "shell.execute_reply": "2022-01-07T12:08:06.899569Z",
     "shell.execute_reply.started": "2022-01-07T12:07:01.115209Z"
    },
    "papermill": {
     "duration": 0.061205,
     "end_time": "2022-01-07T12:08:06.900358",
     "exception": false,
     "start_time": "2022-01-07T12:08:06.839153",
     "status": "completed"
    },
    "tags": []
   },
   "outputs": [],
   "source": [
    "import re"
   ]
  },
  {
   "cell_type": "markdown",
   "id": "45f485d2",
   "metadata": {
    "papermill": {
     "duration": 0.04705,
     "end_time": "2022-01-07T12:08:06.997222",
     "exception": false,
     "start_time": "2022-01-07T12:08:06.950172",
     "status": "completed"
    },
    "tags": []
   },
   "source": [
    "# Basic String Patterns\n",
    "\n",
    "The main skill needed for understanding them is understanding the special syntax for pattern strings. These might be difficult to understand or remember."
   ]
  },
  {
   "cell_type": "code",
   "execution_count": 2,
   "id": "027d98f4",
   "metadata": {
    "execution": {
     "iopub.execute_input": "2022-01-07T12:08:07.108217Z",
     "iopub.status.busy": "2022-01-07T12:08:07.107158Z",
     "iopub.status.idle": "2022-01-07T12:08:07.110480Z",
     "shell.execute_reply": "2022-01-07T12:08:07.111438Z",
     "shell.execute_reply.started": "2022-01-07T12:07:01.122551Z"
    },
    "papermill": {
     "duration": 0.066598,
     "end_time": "2022-01-07T12:08:07.111718",
     "exception": false,
     "start_time": "2022-01-07T12:08:07.045120",
     "status": "completed"
    },
    "tags": []
   },
   "outputs": [],
   "source": [
    "# Creating a phone string message\n",
    "\n",
    "text = \"My phone number is 555-012-1234. Please reach out to me as soon it is possible.\""
   ]
  },
  {
   "cell_type": "code",
   "execution_count": 3,
   "id": "082165a5",
   "metadata": {
    "execution": {
     "iopub.execute_input": "2022-01-07T12:08:07.220113Z",
     "iopub.status.busy": "2022-01-07T12:08:07.219412Z",
     "iopub.status.idle": "2022-01-07T12:08:07.225955Z",
     "shell.execute_reply": "2022-01-07T12:08:07.226509Z",
     "shell.execute_reply.started": "2022-01-07T12:07:01.137971Z"
    },
    "papermill": {
     "duration": 0.0596,
     "end_time": "2022-01-07T12:08:07.226689",
     "exception": false,
     "start_time": "2022-01-07T12:08:07.167089",
     "status": "completed"
    },
    "tags": []
   },
   "outputs": [
    {
     "data": {
      "text/plain": [
       "True"
      ]
     },
     "execution_count": 3,
     "metadata": {},
     "output_type": "execute_result"
    }
   ],
   "source": [
    "# Simple search\n",
    "\n",
    "\"phone\" in text"
   ]
  },
  {
   "cell_type": "code",
   "execution_count": 4,
   "id": "71b05367",
   "metadata": {
    "execution": {
     "iopub.execute_input": "2022-01-07T12:08:07.326249Z",
     "iopub.status.busy": "2022-01-07T12:08:07.325587Z",
     "iopub.status.idle": "2022-01-07T12:08:07.328454Z",
     "shell.execute_reply": "2022-01-07T12:08:07.329016Z",
     "shell.execute_reply.started": "2022-01-07T12:07:01.156704Z"
    },
    "papermill": {
     "duration": 0.053999,
     "end_time": "2022-01-07T12:08:07.329185",
     "exception": false,
     "start_time": "2022-01-07T12:08:07.275186",
     "status": "completed"
    },
    "tags": []
   },
   "outputs": [],
   "source": [
    "# Assgining a variable \"pattern\" to contain \"phone\"\n",
    "\n",
    "pattern = \"phone\""
   ]
  },
  {
   "cell_type": "markdown",
   "id": "da094239",
   "metadata": {
    "papermill": {
     "duration": 0.04759,
     "end_time": "2022-01-07T12:08:07.424994",
     "exception": false,
     "start_time": "2022-01-07T12:08:07.377404",
     "status": "completed"
    },
    "tags": []
   },
   "source": [
    "Using the **re.search()** function, we are able to find the mattching pattern, and also have access to more info, such as the span index, where our pattern is found in the text."
   ]
  },
  {
   "cell_type": "code",
   "execution_count": 5,
   "id": "fdf5bbee",
   "metadata": {
    "execution": {
     "iopub.execute_input": "2022-01-07T12:08:07.525561Z",
     "iopub.status.busy": "2022-01-07T12:08:07.524915Z",
     "iopub.status.idle": "2022-01-07T12:08:07.529279Z",
     "shell.execute_reply": "2022-01-07T12:08:07.529870Z",
     "shell.execute_reply.started": "2022-01-07T12:07:01.166310Z"
    },
    "papermill": {
     "duration": 0.055702,
     "end_time": "2022-01-07T12:08:07.530052",
     "exception": false,
     "start_time": "2022-01-07T12:08:07.474350",
     "status": "completed"
    },
    "tags": []
   },
   "outputs": [
    {
     "data": {
      "text/plain": [
       "<re.Match object; span=(3, 8), match='phone'>"
      ]
     },
     "execution_count": 5,
     "metadata": {},
     "output_type": "execute_result"
    }
   ],
   "source": [
    "# Searching for the pattern in the text using re.search()\n",
    "\n",
    "re.search(pattern,text)"
   ]
  },
  {
   "cell_type": "code",
   "execution_count": 6,
   "id": "62850971",
   "metadata": {
    "execution": {
     "iopub.execute_input": "2022-01-07T12:08:07.629820Z",
     "iopub.status.busy": "2022-01-07T12:08:07.629188Z",
     "iopub.status.idle": "2022-01-07T12:08:07.632363Z",
     "shell.execute_reply": "2022-01-07T12:08:07.632877Z",
     "shell.execute_reply.started": "2022-01-07T12:07:01.180581Z"
    },
    "papermill": {
     "duration": 0.054951,
     "end_time": "2022-01-07T12:08:07.633063",
     "exception": false,
     "start_time": "2022-01-07T12:08:07.578112",
     "status": "completed"
    },
    "tags": []
   },
   "outputs": [],
   "source": [
    "# Searching for a pattern not in the text\n",
    "\n",
    "pattern2 = \"not in text\"\n",
    "re.search(pattern2, text)"
   ]
  },
  {
   "cell_type": "markdown",
   "id": "d4fed2ab",
   "metadata": {
    "papermill": {
     "duration": 0.047665,
     "end_time": "2022-01-07T12:08:07.728914",
     "exception": false,
     "start_time": "2022-01-07T12:08:07.681249",
     "status": "completed"
    },
    "tags": []
   },
   "source": [
    "We are able to assign the `re.search()` result to an object. If no pattern is found, a none type object is obtained."
   ]
  },
  {
   "cell_type": "code",
   "execution_count": 7,
   "id": "eacd01a3",
   "metadata": {
    "execution": {
     "iopub.execute_input": "2022-01-07T12:08:07.828256Z",
     "iopub.status.busy": "2022-01-07T12:08:07.827650Z",
     "iopub.status.idle": "2022-01-07T12:08:07.832108Z",
     "shell.execute_reply": "2022-01-07T12:08:07.832664Z",
     "shell.execute_reply.started": "2022-01-07T12:07:01.192201Z"
    },
    "papermill": {
     "duration": 0.055854,
     "end_time": "2022-01-07T12:08:07.832839",
     "exception": false,
     "start_time": "2022-01-07T12:08:07.776985",
     "status": "completed"
    },
    "tags": []
   },
   "outputs": [
    {
     "data": {
      "text/plain": [
       "<re.Match object; span=(3, 8), match='phone'>"
      ]
     },
     "execution_count": 7,
     "metadata": {},
     "output_type": "execute_result"
    }
   ],
   "source": [
    "# Our object will be named match for convenience\n",
    "\n",
    "match = re.search(pattern,text)\n",
    "match"
   ]
  },
  {
   "cell_type": "markdown",
   "id": "c6126e8f",
   "metadata": {
    "papermill": {
     "duration": 0.048558,
     "end_time": "2022-01-07T12:08:07.930210",
     "exception": false,
     "start_time": "2022-01-07T12:08:07.881652",
     "status": "completed"
    },
    "tags": []
   },
   "source": [
    "We cab employ multiple methods basic methods such as `span()`, `start()` or `end()` to help us in indexing information. `span()` will result in a tuple."
   ]
  },
  {
   "cell_type": "code",
   "execution_count": 8,
   "id": "0a70bb3d",
   "metadata": {
    "execution": {
     "iopub.execute_input": "2022-01-07T12:08:08.033561Z",
     "iopub.status.busy": "2022-01-07T12:08:08.032841Z",
     "iopub.status.idle": "2022-01-07T12:08:08.036779Z",
     "shell.execute_reply": "2022-01-07T12:08:08.037313Z",
     "shell.execute_reply.started": "2022-01-07T12:07:01.207796Z"
    },
    "papermill": {
     "duration": 0.058061,
     "end_time": "2022-01-07T12:08:08.037491",
     "exception": false,
     "start_time": "2022-01-07T12:08:07.979430",
     "status": "completed"
    },
    "tags": []
   },
   "outputs": [
    {
     "name": "stdout",
     "output_type": "stream",
     "text": [
      "Span is  (3, 8)\n",
      "Start is  3\n",
      "End is  8\n"
     ]
    }
   ],
   "source": [
    "print(\"Span is \", match.span())\n",
    "print(\"Start is \", match.start())\n",
    "print(\"End is \", match.end())"
   ]
  },
  {
   "cell_type": "markdown",
   "id": "d96e48b9",
   "metadata": {
    "papermill": {
     "duration": 0.048314,
     "end_time": "2022-01-07T12:08:08.135547",
     "exception": false,
     "start_time": "2022-01-07T12:08:08.087233",
     "status": "completed"
    },
    "tags": []
   },
   "source": [
    "If we have multiple matches, such as *is*, which is found twice in our text, we need another method. We can use `re.findall()` in this instance."
   ]
  },
  {
   "cell_type": "code",
   "execution_count": 9,
   "id": "060e7671",
   "metadata": {
    "execution": {
     "iopub.execute_input": "2022-01-07T12:08:08.238402Z",
     "iopub.status.busy": "2022-01-07T12:08:08.237743Z",
     "iopub.status.idle": "2022-01-07T12:08:08.240534Z",
     "shell.execute_reply": "2022-01-07T12:08:08.241073Z",
     "shell.execute_reply.started": "2022-01-07T12:07:01.223297Z"
    },
    "papermill": {
     "duration": 0.057207,
     "end_time": "2022-01-07T12:08:08.241238",
     "exception": false,
     "start_time": "2022-01-07T12:08:08.184031",
     "status": "completed"
    },
    "tags": []
   },
   "outputs": [
    {
     "data": {
      "text/plain": [
       "['is', 'is']"
      ]
     },
     "execution_count": 9,
     "metadata": {},
     "output_type": "execute_result"
    }
   ],
   "source": [
    "#Will result in a list\n",
    "\n",
    "matches = re.findall(\"is\",text)\n",
    "matches"
   ]
  },
  {
   "cell_type": "code",
   "execution_count": 10,
   "id": "fb248261",
   "metadata": {
    "execution": {
     "iopub.execute_input": "2022-01-07T12:08:08.345180Z",
     "iopub.status.busy": "2022-01-07T12:08:08.342601Z",
     "iopub.status.idle": "2022-01-07T12:08:08.348209Z",
     "shell.execute_reply": "2022-01-07T12:08:08.348653Z",
     "shell.execute_reply.started": "2022-01-07T12:07:01.238265Z"
    },
    "papermill": {
     "duration": 0.058382,
     "end_time": "2022-01-07T12:08:08.348818",
     "exception": false,
     "start_time": "2022-01-07T12:08:08.290436",
     "status": "completed"
    },
    "tags": []
   },
   "outputs": [
    {
     "data": {
      "text/plain": [
       "2"
      ]
     },
     "execution_count": 10,
     "metadata": {},
     "output_type": "execute_result"
    }
   ],
   "source": [
    "len(matches)"
   ]
  },
  {
   "cell_type": "markdown",
   "id": "f81abffd",
   "metadata": {
    "papermill": {
     "duration": 0.049245,
     "end_time": "2022-01-07T12:08:08.447705",
     "exception": false,
     "start_time": "2022-01-07T12:08:08.398460",
     "status": "completed"
    },
    "tags": []
   },
   "source": [
    "`finadall()` is usually used in an loop in order to get the span of our pattern.\n",
    "We can use `group()` method to return the actual text that matches"
   ]
  },
  {
   "cell_type": "code",
   "execution_count": 11,
   "id": "888de649",
   "metadata": {
    "execution": {
     "iopub.execute_input": "2022-01-07T12:08:08.552381Z",
     "iopub.status.busy": "2022-01-07T12:08:08.551360Z",
     "iopub.status.idle": "2022-01-07T12:08:08.554634Z",
     "shell.execute_reply": "2022-01-07T12:08:08.555343Z",
     "shell.execute_reply.started": "2022-01-07T12:07:01.251855Z"
    },
    "papermill": {
     "duration": 0.058567,
     "end_time": "2022-01-07T12:08:08.555566",
     "exception": false,
     "start_time": "2022-01-07T12:08:08.496999",
     "status": "completed"
    },
    "tags": []
   },
   "outputs": [
    {
     "name": "stdout",
     "output_type": "stream",
     "text": [
      "(16, 18)\n",
      "is\n",
      "(67, 69)\n",
      "is\n"
     ]
    }
   ],
   "source": [
    "# To get actual match objects, use the iterator:\n",
    "\n",
    "for match in re.finditer(\"is\",text):\n",
    "    print(match.span())\n",
    "    print(match.group())"
   ]
  },
  {
   "cell_type": "markdown",
   "id": "5f77ec96",
   "metadata": {
    "papermill": {
     "duration": 0.050377,
     "end_time": "2022-01-07T12:08:08.657222",
     "exception": false,
     "start_time": "2022-01-07T12:08:08.606845",
     "status": "completed"
    },
    "tags": []
   },
   "source": []
  },
  {
   "cell_type": "markdown",
   "id": "cd622668",
   "metadata": {
    "papermill": {
     "duration": 0.049224,
     "end_time": "2022-01-07T12:08:08.756282",
     "exception": false,
     "start_time": "2022-01-07T12:08:08.707058",
     "status": "completed"
    },
    "tags": []
   },
   "source": [
    "We can also use `re.match()` in order to see if a pattern is matching at the begging of a text. If it does not, it returns a `None` type object."
   ]
  },
  {
   "cell_type": "code",
   "execution_count": 12,
   "id": "1219e18c",
   "metadata": {
    "execution": {
     "iopub.execute_input": "2022-01-07T12:08:08.861083Z",
     "iopub.status.busy": "2022-01-07T12:08:08.860060Z",
     "iopub.status.idle": "2022-01-07T12:08:08.862242Z",
     "shell.execute_reply": "2022-01-07T12:08:08.862679Z",
     "shell.execute_reply.started": "2022-01-07T12:07:01.264771Z"
    },
    "papermill": {
     "duration": 0.056778,
     "end_time": "2022-01-07T12:08:08.862843",
     "exception": false,
     "start_time": "2022-01-07T12:08:08.806065",
     "status": "completed"
    },
    "tags": []
   },
   "outputs": [],
   "source": [
    "re.match(pattern, text)"
   ]
  },
  {
   "cell_type": "code",
   "execution_count": 13,
   "id": "1da86704",
   "metadata": {
    "execution": {
     "iopub.execute_input": "2022-01-07T12:08:08.969686Z",
     "iopub.status.busy": "2022-01-07T12:08:08.969041Z",
     "iopub.status.idle": "2022-01-07T12:08:08.973165Z",
     "shell.execute_reply": "2022-01-07T12:08:08.973670Z",
     "shell.execute_reply.started": "2022-01-07T12:07:01.276856Z"
    },
    "papermill": {
     "duration": 0.06136,
     "end_time": "2022-01-07T12:08:08.973831",
     "exception": false,
     "start_time": "2022-01-07T12:08:08.912471",
     "status": "completed"
    },
    "tags": []
   },
   "outputs": [
    {
     "name": "stdout",
     "output_type": "stream",
     "text": [
      "1. No match\n",
      "2. Match\n",
      "3. ['is', 'is']\n"
     ]
    }
   ],
   "source": [
    "#Using all expressions with if\n",
    "\n",
    "if re.match(pattern, text):\n",
    "    print(\"1. Match\")\n",
    "else:\n",
    "    print(\"1. No match\")\n",
    "    \n",
    "if re.search(\"My\", text):\n",
    "    print(\"2. Match\")\n",
    "else:\n",
    "    print(\"2. No match\")\n",
    "    \n",
    "print(\"3.\", re.findall(\"is\", text))"
   ]
  },
  {
   "cell_type": "markdown",
   "id": "5984a445",
   "metadata": {
    "papermill": {
     "duration": 0.049834,
     "end_time": "2022-01-07T12:08:09.073578",
     "exception": false,
     "start_time": "2022-01-07T12:08:09.023744",
     "status": "completed"
    },
    "tags": []
   },
   "source": [
    "# Character Identifiers\n",
    "\n",
    "* `\\d` Matches any decimal digit; this is equivalent to the class [0-9].\n",
    "\n",
    "* `\\D` Matches any non-digit character; this is equivalent to the class [^0-9].\n",
    "\n",
    "* `\\s` Matches any whitespace character; this is equivalent to the class [ \\t\\n\\r\\f\\v].\n",
    "\n",
    "* `\\S` Matches any non-whitespace character; this is equivalent to the class [^ \\t\\n\\r\\f\\v].\n",
    "\n",
    "* `\\w` Matches any alphanumeric character; this is equivalent to the class [a-zA-Z0-9_].\n",
    "\n",
    "* `\\W` Matches any non-alphanumeric character; this is equivalent to the class [^a-zA-Z0-9_].\n",
    "\n",
    "\n",
    "To tell python that these charachers are not *string formatting characters* (such as \\t or \\n), we should use `r` in front of the pattern of strings we are searching for."
   ]
  },
  {
   "cell_type": "code",
   "execution_count": 14,
   "id": "b4573f0b",
   "metadata": {
    "execution": {
     "iopub.execute_input": "2022-01-07T12:08:09.177503Z",
     "iopub.status.busy": "2022-01-07T12:08:09.176533Z",
     "iopub.status.idle": "2022-01-07T12:08:09.182217Z",
     "shell.execute_reply": "2022-01-07T12:08:09.182800Z",
     "shell.execute_reply.started": "2022-01-07T12:07:01.296707Z"
    },
    "papermill": {
     "duration": 0.059425,
     "end_time": "2022-01-07T12:08:09.182980",
     "exception": false,
     "start_time": "2022-01-07T12:08:09.123555",
     "status": "completed"
    },
    "tags": []
   },
   "outputs": [
    {
     "data": {
      "text/plain": [
       "<re.Match object; span=(19, 31), match='408-555-1234'>"
      ]
     },
     "execution_count": 14,
     "metadata": {},
     "output_type": "execute_result"
    }
   ],
   "source": [
    "#Recreating previous example\n",
    "text = \"My phone number is 408-555-1234.\"\n",
    "\n",
    "phone = re.search(\"408-555-1234\", text)\n",
    "phone"
   ]
  },
  {
   "cell_type": "code",
   "execution_count": 15,
   "id": "fcbf31dc",
   "metadata": {
    "execution": {
     "iopub.execute_input": "2022-01-07T12:08:09.287089Z",
     "iopub.status.busy": "2022-01-07T12:08:09.286095Z",
     "iopub.status.idle": "2022-01-07T12:08:09.291547Z",
     "shell.execute_reply": "2022-01-07T12:08:09.292142Z",
     "shell.execute_reply.started": "2022-01-07T12:07:01.307618Z"
    },
    "papermill": {
     "duration": 0.059064,
     "end_time": "2022-01-07T12:08:09.292309",
     "exception": false,
     "start_time": "2022-01-07T12:08:09.233245",
     "status": "completed"
    },
    "tags": []
   },
   "outputs": [
    {
     "data": {
      "text/plain": [
       "<re.Match object; span=(19, 31), match='408-555-1234'>"
      ]
     },
     "execution_count": 15,
     "metadata": {},
     "output_type": "execute_result"
    }
   ],
   "source": [
    "#Replacing phone actual number with a pattern\n",
    "\n",
    "phone = re.search(r\"\\d\\d\\d-\\d\\d\\d-\\d\\d\\d\\d\",text)\n",
    "phone"
   ]
  },
  {
   "cell_type": "code",
   "execution_count": 16,
   "id": "7b28695e",
   "metadata": {
    "execution": {
     "iopub.execute_input": "2022-01-07T12:08:09.398816Z",
     "iopub.status.busy": "2022-01-07T12:08:09.398048Z",
     "iopub.status.idle": "2022-01-07T12:08:09.401135Z",
     "shell.execute_reply": "2022-01-07T12:08:09.401612Z",
     "shell.execute_reply.started": "2022-01-07T12:07:01.321552Z"
    },
    "papermill": {
     "duration": 0.059246,
     "end_time": "2022-01-07T12:08:09.401772",
     "exception": false,
     "start_time": "2022-01-07T12:08:09.342526",
     "status": "completed"
    },
    "tags": []
   },
   "outputs": [
    {
     "data": {
      "text/plain": [
       "'408-555-1234'"
      ]
     },
     "execution_count": 16,
     "metadata": {},
     "output_type": "execute_result"
    }
   ],
   "source": [
    "phone.group()"
   ]
  },
  {
   "cell_type": "markdown",
   "id": "c31f386e",
   "metadata": {
    "papermill": {
     "duration": 0.050422,
     "end_time": "2022-01-07T12:08:09.503043",
     "exception": false,
     "start_time": "2022-01-07T12:08:09.452621",
     "status": "completed"
    },
    "tags": []
   },
   "source": [
    "# Quantifiers\n",
    "\n",
    "In case of more complex patterns, in order to avoid writing `\\d` a 100 times, we are able to use *quantifiers*.\n",
    "\n",
    "| Character      |   Description   |   Example Code   |  Example Match    |\n",
    "| :---           |    :----:       |    :----:        |              ---: |\n",
    "| +           |    Occurs one or more times      |    Version \\w\\w+        |              Version A-b1_1 |\n",
    "| {3}           |    Occurs exactly 3 times      |    \\D{3}        |              abc |\n",
    "| {2,4}           |    Occurs 2 to 4 times      |    \\d{2,4}        |              123 |\n",
    "| {3,}           |    Occurs 3 times or more     |    \\w{3,}        |        blablablabla |\n",
    "| \\*           |    Occurs zero or more times     |    A\\*B\\*C*        | AAACC |\n",
    "| ?           |    Once or none    |    plurals?        | plural |\n",
    "\n"
   ]
  },
  {
   "cell_type": "code",
   "execution_count": 17,
   "id": "788cff25",
   "metadata": {
    "execution": {
     "iopub.execute_input": "2022-01-07T12:08:09.610150Z",
     "iopub.status.busy": "2022-01-07T12:08:09.609337Z",
     "iopub.status.idle": "2022-01-07T12:08:09.612411Z",
     "shell.execute_reply": "2022-01-07T12:08:09.612885Z",
     "shell.execute_reply.started": "2022-01-07T12:07:01.334681Z"
    },
    "papermill": {
     "duration": 0.05961,
     "end_time": "2022-01-07T12:08:09.613062",
     "exception": false,
     "start_time": "2022-01-07T12:08:09.553452",
     "status": "completed"
    },
    "tags": []
   },
   "outputs": [
    {
     "data": {
      "text/plain": [
       "<re.Match object; span=(19, 31), match='408-555-1234'>"
      ]
     },
     "execution_count": 17,
     "metadata": {},
     "output_type": "execute_result"
    }
   ],
   "source": [
    "#Searching for a phone pattern with quantifiers\n",
    "text = \"My phone number is 408-555-1234.\"\n",
    "\n",
    "phone = re.search(r\"\\d{3}-\\d{3}-\\d{4}\", text)\n",
    "phone"
   ]
  },
  {
   "cell_type": "code",
   "execution_count": 18,
   "id": "147218a7",
   "metadata": {
    "execution": {
     "iopub.execute_input": "2022-01-07T12:08:09.719036Z",
     "iopub.status.busy": "2022-01-07T12:08:09.718066Z",
     "iopub.status.idle": "2022-01-07T12:08:09.724631Z",
     "shell.execute_reply": "2022-01-07T12:08:09.725172Z",
     "shell.execute_reply.started": "2022-01-07T12:07:01.348263Z"
    },
    "papermill": {
     "duration": 0.061295,
     "end_time": "2022-01-07T12:08:09.725333",
     "exception": false,
     "start_time": "2022-01-07T12:08:09.664038",
     "status": "completed"
    },
    "tags": []
   },
   "outputs": [
    {
     "name": "stdout",
     "output_type": "stream",
     "text": [
      "1. Match color\n",
      "2. Match colour\n"
     ]
    }
   ],
   "source": [
    "#Using the ? quantifier\n",
    "\n",
    "pattern = r\"colo(u)?r\"\n",
    "\n",
    "if re.match(pattern, \"color\"):\n",
    "    print(\"1. Match color\")\n",
    "else:\n",
    "    print(\"1. No match color\")\n",
    "    \n",
    "if re.search(pattern, \"colour\"):\n",
    "    print(\"2. Match colour\")\n",
    "else:\n",
    "    print(\"2. No match colour\")"
   ]
  },
  {
   "cell_type": "markdown",
   "id": "8d958f94",
   "metadata": {
    "papermill": {
     "duration": 0.051268,
     "end_time": "2022-01-07T12:08:09.828180",
     "exception": false,
     "start_time": "2022-01-07T12:08:09.776912",
     "status": "completed"
    },
    "tags": []
   },
   "source": [
    "# Groups\n",
    "\n",
    "What if we wanted to do two tasks, find phone numbers, but also be able to quickly extract their area code (the first three digits). We can use groups for any general task that involves grouping together regular expressions (so that we can later break them down).\n",
    "\n",
    "Using the phone number example, we can separate groups of regular expressions using `re.compile()` and grouping them in paranthesis."
   ]
  },
  {
   "cell_type": "code",
   "execution_count": 19,
   "id": "6ac36215",
   "metadata": {
    "execution": {
     "iopub.execute_input": "2022-01-07T12:08:09.935610Z",
     "iopub.status.busy": "2022-01-07T12:08:09.934521Z",
     "iopub.status.idle": "2022-01-07T12:08:09.938627Z",
     "shell.execute_reply": "2022-01-07T12:08:09.939243Z",
     "shell.execute_reply.started": "2022-01-07T12:07:01.361407Z"
    },
    "papermill": {
     "duration": 0.059743,
     "end_time": "2022-01-07T12:08:09.939412",
     "exception": false,
     "start_time": "2022-01-07T12:08:09.879669",
     "status": "completed"
    },
    "tags": []
   },
   "outputs": [],
   "source": [
    "#re.complie with grouping of phone number\n",
    "\n",
    "phone_pattern = re.compile(r\"(\\d{3})-(\\d{3})-(\\d{4})\")"
   ]
  },
  {
   "cell_type": "code",
   "execution_count": 20,
   "id": "c7f5c27a",
   "metadata": {
    "execution": {
     "iopub.execute_input": "2022-01-07T12:08:10.048036Z",
     "iopub.status.busy": "2022-01-07T12:08:10.047301Z",
     "iopub.status.idle": "2022-01-07T12:08:10.049870Z",
     "shell.execute_reply": "2022-01-07T12:08:10.050359Z",
     "shell.execute_reply.started": "2022-01-07T12:07:01.372645Z"
    },
    "papermill": {
     "duration": 0.059539,
     "end_time": "2022-01-07T12:08:10.050528",
     "exception": false,
     "start_time": "2022-01-07T12:08:09.990989",
     "status": "completed"
    },
    "tags": []
   },
   "outputs": [
    {
     "data": {
      "text/plain": [
       "'408-555-1234'"
      ]
     },
     "execution_count": 20,
     "metadata": {},
     "output_type": "execute_result"
    }
   ],
   "source": [
    "# Assigning the phone_pattern to results and grouping results compiled\n",
    "\n",
    "results = re.search(phone_pattern, text)\n",
    "results.group()"
   ]
  },
  {
   "cell_type": "code",
   "execution_count": 21,
   "id": "96655e8b",
   "metadata": {
    "execution": {
     "iopub.execute_input": "2022-01-07T12:08:10.157652Z",
     "iopub.status.busy": "2022-01-07T12:08:10.156683Z",
     "iopub.status.idle": "2022-01-07T12:08:10.161640Z",
     "shell.execute_reply": "2022-01-07T12:08:10.162239Z",
     "shell.execute_reply.started": "2022-01-07T12:07:01.392145Z"
    },
    "papermill": {
     "duration": 0.060044,
     "end_time": "2022-01-07T12:08:10.162402",
     "exception": false,
     "start_time": "2022-01-07T12:08:10.102358",
     "status": "completed"
    },
    "tags": []
   },
   "outputs": [
    {
     "data": {
      "text/plain": [
       "'408'"
      ]
     },
     "execution_count": 21,
     "metadata": {},
     "output_type": "execute_result"
    }
   ],
   "source": [
    "# Calling out the first group\n",
    "\n",
    "results.group(1)"
   ]
  },
  {
   "cell_type": "markdown",
   "id": "e7696cfc",
   "metadata": {
    "papermill": {
     "duration": 0.051299,
     "end_time": "2022-01-07T12:08:10.265472",
     "exception": false,
     "start_time": "2022-01-07T12:08:10.214173",
     "status": "completed"
    },
    "tags": []
   },
   "source": [
    "There are different kinds of special groups, including *named groups* and *non-capturing groups*.\n",
    "\n",
    "*Named groups* have the format `(?P<name>...)`. They behave like normal groups, but they can be accessed by the *name* given, in addition to its number\n",
    "\n",
    "*Non-capturing groups* have the format `(?:...)`. These are not accessible by the group method, they can be added to an existing regular expression without breaking the number."
   ]
  },
  {
   "cell_type": "code",
   "execution_count": 22,
   "id": "0e4cb505",
   "metadata": {
    "execution": {
     "iopub.execute_input": "2022-01-07T12:08:10.374508Z",
     "iopub.status.busy": "2022-01-07T12:08:10.373495Z",
     "iopub.status.idle": "2022-01-07T12:08:10.375618Z",
     "shell.execute_reply": "2022-01-07T12:08:10.376209Z",
     "shell.execute_reply.started": "2022-01-07T12:07:01.408608Z"
    },
    "papermill": {
     "duration": 0.058915,
     "end_time": "2022-01-07T12:08:10.376370",
     "exception": false,
     "start_time": "2022-01-07T12:08:10.317455",
     "status": "completed"
    },
    "tags": []
   },
   "outputs": [],
   "source": [
    "text = \"abcdefghi\"\n",
    "pattern = r\"(?P<first>abc)(?:def)(ghi)\""
   ]
  },
  {
   "cell_type": "code",
   "execution_count": 23,
   "id": "02ceb53a",
   "metadata": {
    "execution": {
     "iopub.execute_input": "2022-01-07T12:08:10.484577Z",
     "iopub.status.busy": "2022-01-07T12:08:10.483604Z",
     "iopub.status.idle": "2022-01-07T12:08:10.489386Z",
     "shell.execute_reply": "2022-01-07T12:08:10.489976Z",
     "shell.execute_reply.started": "2022-01-07T12:07:01.418411Z"
    },
    "papermill": {
     "duration": 0.062259,
     "end_time": "2022-01-07T12:08:10.490168",
     "exception": false,
     "start_time": "2022-01-07T12:08:10.427909",
     "status": "completed"
    },
    "tags": []
   },
   "outputs": [
    {
     "data": {
      "text/plain": [
       "'abcdefghi'"
      ]
     },
     "execution_count": 23,
     "metadata": {},
     "output_type": "execute_result"
    }
   ],
   "source": [
    "match = re.search(pattern, text)\n",
    "match.group()"
   ]
  },
  {
   "cell_type": "code",
   "execution_count": 24,
   "id": "0ac87842",
   "metadata": {
    "execution": {
     "iopub.execute_input": "2022-01-07T12:08:10.599990Z",
     "iopub.status.busy": "2022-01-07T12:08:10.599241Z",
     "iopub.status.idle": "2022-01-07T12:08:10.602181Z",
     "shell.execute_reply": "2022-01-07T12:08:10.602660Z",
     "shell.execute_reply.started": "2022-01-07T12:07:01.432796Z"
    },
    "papermill": {
     "duration": 0.060581,
     "end_time": "2022-01-07T12:08:10.602816",
     "exception": false,
     "start_time": "2022-01-07T12:08:10.542235",
     "status": "completed"
    },
    "tags": []
   },
   "outputs": [
    {
     "name": "stdout",
     "output_type": "stream",
     "text": [
      "abc\n",
      "ghi\n",
      "('abc', 'ghi')\n"
     ]
    }
   ],
   "source": [
    "#Calling out \"first\"\n",
    "print(match.group(\"first\"))\n",
    "\n",
    "#Group 2\n",
    "print(match.group(2))\n",
    "\n",
    "#All groups\n",
    "print(match.groups())"
   ]
  },
  {
   "cell_type": "markdown",
   "id": "21fca733",
   "metadata": {
    "papermill": {
     "duration": 0.052138,
     "end_time": "2022-01-07T12:08:10.707464",
     "exception": false,
     "start_time": "2022-01-07T12:08:10.655326",
     "status": "completed"
    },
    "tags": []
   },
   "source": [
    "# Special Sequences\n",
    "\n",
    "There are various special sequences you can use in regular expressions. They are written as a backslah, followed by another character. \n",
    "\n",
    "One useful special sequence is a backslash followed by a number between 1 and 99. It matches the group."
   ]
  },
  {
   "cell_type": "code",
   "execution_count": 25,
   "id": "4539713e",
   "metadata": {
    "execution": {
     "iopub.execute_input": "2022-01-07T12:08:10.819154Z",
     "iopub.status.busy": "2022-01-07T12:08:10.818310Z",
     "iopub.status.idle": "2022-01-07T12:08:10.821374Z",
     "shell.execute_reply": "2022-01-07T12:08:10.821866Z",
     "shell.execute_reply.started": "2022-01-07T12:07:01.443513Z"
    },
    "papermill": {
     "duration": 0.062213,
     "end_time": "2022-01-07T12:08:10.822046",
     "exception": false,
     "start_time": "2022-01-07T12:08:10.759833",
     "status": "completed"
    },
    "tags": []
   },
   "outputs": [
    {
     "name": "stdout",
     "output_type": "stream",
     "text": [
      "Match 1\n",
      "No match 2\n"
     ]
    }
   ],
   "source": [
    "# seeing if two groups match\n",
    "\n",
    "pattern = r\"(.+) \\1\"\n",
    "\n",
    "match = re.match(pattern, \"word word\")\n",
    "if match:\n",
    "    print(\"Match 1\")\n",
    "    \n",
    "match = re.match(pattern, \"abc cba\") #will not match\n",
    "if match:\n",
    "    print(\"No Match 1\")\n",
    "else:\n",
    "    print(\"No match 2\")"
   ]
  },
  {
   "cell_type": "markdown",
   "id": "947a03c5",
   "metadata": {
    "papermill": {
     "duration": 0.052768,
     "end_time": "2022-01-07T12:08:10.927552",
     "exception": false,
     "start_time": "2022-01-07T12:08:10.874784",
     "status": "completed"
    },
    "tags": []
   },
   "source": [
    "Additional special sequence use `\\A`, `\\Z`,  `\\b` and `\\B`.\n",
    "\n",
    "The sequences `\\A` and `\\Z` match the beginning and end of a string respectively. \n",
    "\n",
    "The `\\b` matches the empty strings between `\\w` and `\\W` characters. It represents the boundry between words.\n",
    "\n",
    "The `\\B` sequence matches the empty string anywhere else."
   ]
  },
  {
   "cell_type": "code",
   "execution_count": 26,
   "id": "2ad60810",
   "metadata": {
    "execution": {
     "iopub.execute_input": "2022-01-07T12:08:11.037556Z",
     "iopub.status.busy": "2022-01-07T12:08:11.036569Z",
     "iopub.status.idle": "2022-01-07T12:08:11.042262Z",
     "shell.execute_reply": "2022-01-07T12:08:11.042759Z",
     "shell.execute_reply.started": "2022-01-07T12:07:01.457344Z"
    },
    "papermill": {
     "duration": 0.062378,
     "end_time": "2022-01-07T12:08:11.042923",
     "exception": false,
     "start_time": "2022-01-07T12:08:10.980545",
     "status": "completed"
    },
    "tags": []
   },
   "outputs": [
    {
     "data": {
      "text/plain": [
       "['cat', 'cat']"
      ]
     },
     "execution_count": 26,
     "metadata": {},
     "output_type": "execute_result"
    }
   ],
   "source": [
    "re.findall(r\"\\b(cat)\\b\",\"My cat is blue. Your cat is orange.\")"
   ]
  },
  {
   "cell_type": "markdown",
   "id": "54a0bfe0",
   "metadata": {
    "papermill": {
     "duration": 0.052811,
     "end_time": "2022-01-07T12:08:11.148775",
     "exception": false,
     "start_time": "2022-01-07T12:08:11.095964",
     "status": "completed"
    },
    "tags": []
   },
   "source": [
    "# Additional Metacharacters\n",
    "\n",
    "On top of previously shown quantifiers, regex methods are additionally helped by multiple additional metacharacters that expand the syntax and functionality. \n",
    "\n",
    "Their existance pose an issue beucase if such a character appears in your string, it can have an impact on your code. Avoid this by placing a `\\` in the string or by using a `raw_string()` whenever possible. "
   ]
  },
  {
   "cell_type": "markdown",
   "id": "e3149903",
   "metadata": {
    "papermill": {
     "duration": 0.052913,
     "end_time": "2022-01-07T12:08:11.255321",
     "exception": false,
     "start_time": "2022-01-07T12:08:11.202408",
     "status": "completed"
    },
    "tags": []
   },
   "source": [
    "## Or operator |\n",
    "\n",
    "Use the pipe operator to have an or statment."
   ]
  },
  {
   "cell_type": "code",
   "execution_count": 27,
   "id": "216d0bdc",
   "metadata": {
    "execution": {
     "iopub.execute_input": "2022-01-07T12:08:11.367431Z",
     "iopub.status.busy": "2022-01-07T12:08:11.364799Z",
     "iopub.status.idle": "2022-01-07T12:08:11.370457Z",
     "shell.execute_reply": "2022-01-07T12:08:11.370958Z",
     "shell.execute_reply.started": "2022-01-07T12:07:01.473191Z"
    },
    "papermill": {
     "duration": 0.062489,
     "end_time": "2022-01-07T12:08:11.371123",
     "exception": false,
     "start_time": "2022-01-07T12:08:11.308634",
     "status": "completed"
    },
    "tags": []
   },
   "outputs": [
    {
     "data": {
      "text/plain": [
       "<re.Match object; span=(5, 8), match='man'>"
      ]
     },
     "execution_count": 27,
     "metadata": {},
     "output_type": "execute_result"
    }
   ],
   "source": [
    "re.search(r\"man|woman\",\"This man was here.\")"
   ]
  },
  {
   "cell_type": "markdown",
   "id": "2342a2ad",
   "metadata": {
    "papermill": {
     "duration": 0.0542,
     "end_time": "2022-01-07T12:08:11.480814",
     "exception": false,
     "start_time": "2022-01-07T12:08:11.426614",
     "status": "completed"
    },
    "tags": []
   },
   "source": [
    "## Wildcard Character .\n",
    "\n",
    "Use a \"wildcard\" as a placement that will match any character placed there. You can use a simple period . for this."
   ]
  },
  {
   "cell_type": "code",
   "execution_count": 28,
   "id": "c3fce783",
   "metadata": {
    "execution": {
     "iopub.execute_input": "2022-01-07T12:08:11.591809Z",
     "iopub.status.busy": "2022-01-07T12:08:11.590818Z",
     "iopub.status.idle": "2022-01-07T12:08:11.596745Z",
     "shell.execute_reply": "2022-01-07T12:08:11.597417Z",
     "shell.execute_reply.started": "2022-01-07T12:07:01.489352Z"
    },
    "papermill": {
     "duration": 0.063274,
     "end_time": "2022-01-07T12:08:11.597588",
     "exception": false,
     "start_time": "2022-01-07T12:08:11.534314",
     "status": "completed"
    },
    "tags": []
   },
   "outputs": [
    {
     "data": {
      "text/plain": [
       "['cat', 'hat', 'sat']"
      ]
     },
     "execution_count": 28,
     "metadata": {},
     "output_type": "execute_result"
    }
   ],
   "source": [
    "re.findall(r\".at\",\"The cat in the hat sat here.\")"
   ]
  },
  {
   "cell_type": "markdown",
   "id": "1d399409",
   "metadata": {
    "papermill": {
     "duration": 0.053671,
     "end_time": "2022-01-07T12:08:11.705260",
     "exception": false,
     "start_time": "2022-01-07T12:08:11.651589",
     "status": "completed"
    },
    "tags": []
   },
   "source": [
    "Notice how we only matched the first 3 letters, that is because we need a . for each wildcard letter. Or use the quantifiers described above to set its own rules."
   ]
  },
  {
   "cell_type": "code",
   "execution_count": 29,
   "id": "4900a0cf",
   "metadata": {
    "execution": {
     "iopub.execute_input": "2022-01-07T12:08:11.820337Z",
     "iopub.status.busy": "2022-01-07T12:08:11.819489Z",
     "iopub.status.idle": "2022-01-07T12:08:11.822683Z",
     "shell.execute_reply": "2022-01-07T12:08:11.823302Z",
     "shell.execute_reply.started": "2022-01-07T12:07:01.499901Z"
    },
    "papermill": {
     "duration": 0.064034,
     "end_time": "2022-01-07T12:08:11.823497",
     "exception": false,
     "start_time": "2022-01-07T12:08:11.759463",
     "status": "completed"
    },
    "tags": []
   },
   "outputs": [
    {
     "data": {
      "text/plain": [
       "['e cat', 'e hat']"
      ]
     },
     "execution_count": 29,
     "metadata": {},
     "output_type": "execute_result"
    }
   ],
   "source": [
    "re.findall(r\"...at\",\"The cat in the hat sat here.\")"
   ]
  },
  {
   "cell_type": "markdown",
   "id": "8d3cc755",
   "metadata": {
    "papermill": {
     "duration": 0.053844,
     "end_time": "2022-01-07T12:08:11.932368",
     "exception": false,
     "start_time": "2022-01-07T12:08:11.878524",
     "status": "completed"
    },
    "tags": []
   },
   "source": [
    "Really we only want words that end with \"at\"."
   ]
  },
  {
   "cell_type": "code",
   "execution_count": 30,
   "id": "910a056d",
   "metadata": {
    "execution": {
     "iopub.execute_input": "2022-01-07T12:08:12.048544Z",
     "iopub.status.busy": "2022-01-07T12:08:12.046597Z",
     "iopub.status.idle": "2022-01-07T12:08:12.050720Z",
     "shell.execute_reply": "2022-01-07T12:08:12.051217Z",
     "shell.execute_reply.started": "2022-01-07T12:07:01.515671Z"
    },
    "papermill": {
     "duration": 0.064987,
     "end_time": "2022-01-07T12:08:12.051374",
     "exception": false,
     "start_time": "2022-01-07T12:08:11.986387",
     "status": "completed"
    },
    "tags": []
   },
   "outputs": [
    {
     "data": {
      "text/plain": [
       "['cat', 'hat', 'sat']"
      ]
     },
     "execution_count": 30,
     "metadata": {},
     "output_type": "execute_result"
    }
   ],
   "source": [
    "# One or more non-whitespace that ends with 'at'\n",
    "re.findall(r'\\S+at',\"The cat in the hat sat here.\")"
   ]
  },
  {
   "cell_type": "markdown",
   "id": "37b78095",
   "metadata": {
    "papermill": {
     "duration": 0.054346,
     "end_time": "2022-01-07T12:08:12.160341",
     "exception": false,
     "start_time": "2022-01-07T12:08:12.105995",
     "status": "completed"
    },
    "tags": []
   },
   "source": [
    "## Starts with ^ and Ends With $\n",
    "\n",
    "We can use the ^ to signal starts with, and the $ to signal ends with:"
   ]
  },
  {
   "cell_type": "code",
   "execution_count": 31,
   "id": "8a9b81bb",
   "metadata": {
    "execution": {
     "iopub.execute_input": "2022-01-07T12:08:12.273860Z",
     "iopub.status.busy": "2022-01-07T12:08:12.273258Z",
     "iopub.status.idle": "2022-01-07T12:08:12.277412Z",
     "shell.execute_reply": "2022-01-07T12:08:12.277988Z",
     "shell.execute_reply.started": "2022-01-07T12:07:01.526594Z"
    },
    "papermill": {
     "duration": 0.062598,
     "end_time": "2022-01-07T12:08:12.278154",
     "exception": false,
     "start_time": "2022-01-07T12:08:12.215556",
     "status": "completed"
    },
    "tags": []
   },
   "outputs": [
    {
     "data": {
      "text/plain": [
       "['1']"
      ]
     },
     "execution_count": 31,
     "metadata": {},
     "output_type": "execute_result"
    }
   ],
   "source": [
    "# Starts with a number\n",
    "re.findall(r'^\\d','1 is the loneliest number.')"
   ]
  },
  {
   "cell_type": "code",
   "execution_count": 32,
   "id": "3bf870fa",
   "metadata": {
    "execution": {
     "iopub.execute_input": "2022-01-07T12:08:12.392526Z",
     "iopub.status.busy": "2022-01-07T12:08:12.391519Z",
     "iopub.status.idle": "2022-01-07T12:08:12.396590Z",
     "shell.execute_reply": "2022-01-07T12:08:12.397047Z",
     "shell.execute_reply.started": "2022-01-07T12:07:01.541102Z"
    },
    "papermill": {
     "duration": 0.063926,
     "end_time": "2022-01-07T12:08:12.397212",
     "exception": false,
     "start_time": "2022-01-07T12:08:12.333286",
     "status": "completed"
    },
    "tags": []
   },
   "outputs": [
    {
     "data": {
      "text/plain": [
       "['2']"
      ]
     },
     "execution_count": 32,
     "metadata": {},
     "output_type": "execute_result"
    }
   ],
   "source": [
    "# Ends with a number\n",
    "re.findall(r'\\d$','This ends with a number 2')"
   ]
  },
  {
   "cell_type": "markdown",
   "id": "4641d071",
   "metadata": {
    "papermill": {
     "duration": 0.056296,
     "end_time": "2022-01-07T12:08:12.509349",
     "exception": false,
     "start_time": "2022-01-07T12:08:12.453053",
     "status": "completed"
    },
    "tags": []
   },
   "source": [
    "## Exclusion [^ ]\n",
    "\n",
    "To exclude characters, we can use the ^ symbol in conjunction with a set of brackets []. Anything inside the brackets is excluded."
   ]
  },
  {
   "cell_type": "code",
   "execution_count": 33,
   "id": "297f993d",
   "metadata": {
    "execution": {
     "iopub.execute_input": "2022-01-07T12:08:12.626783Z",
     "iopub.status.busy": "2022-01-07T12:08:12.626054Z",
     "iopub.status.idle": "2022-01-07T12:08:12.629080Z",
     "shell.execute_reply": "2022-01-07T12:08:12.629547Z",
     "shell.execute_reply.started": "2022-01-07T12:07:01.554313Z"
    },
    "papermill": {
     "duration": 0.065026,
     "end_time": "2022-01-07T12:08:12.629703",
     "exception": false,
     "start_time": "2022-01-07T12:08:12.564677",
     "status": "completed"
    },
    "tags": []
   },
   "outputs": [
    {
     "data": {
      "text/plain": [
       "['t',\n",
       " 'h',\n",
       " 'e',\n",
       " 'r',\n",
       " 'e',\n",
       " ' ',\n",
       " 'a',\n",
       " 'r',\n",
       " 'e',\n",
       " ' ',\n",
       " ' ',\n",
       " 'n',\n",
       " 'u',\n",
       " 'm',\n",
       " 'b',\n",
       " 'e',\n",
       " 'r',\n",
       " 's',\n",
       " ' ',\n",
       " ' ',\n",
       " 'i',\n",
       " 'n',\n",
       " 's',\n",
       " 'i',\n",
       " 'd',\n",
       " 'e',\n",
       " ' ',\n",
       " ' ',\n",
       " 't',\n",
       " 'h',\n",
       " 'i',\n",
       " 's',\n",
       " ' ',\n",
       " 's',\n",
       " 'e',\n",
       " 'n',\n",
       " 't',\n",
       " 'e',\n",
       " 'n',\n",
       " 'c',\n",
       " 'e',\n",
       " '.']"
      ]
     },
     "execution_count": 33,
     "metadata": {},
     "output_type": "execute_result"
    }
   ],
   "source": [
    "phrase = \"there are 3 numbers 34 inside 5 this sentence.\"\n",
    "re.findall(r'[^\\d]',phrase)"
   ]
  },
  {
   "cell_type": "code",
   "execution_count": 34,
   "id": "6dff687b",
   "metadata": {
    "execution": {
     "iopub.execute_input": "2022-01-07T12:08:12.744627Z",
     "iopub.status.busy": "2022-01-07T12:08:12.743901Z",
     "iopub.status.idle": "2022-01-07T12:08:12.748091Z",
     "shell.execute_reply": "2022-01-07T12:08:12.748604Z",
     "shell.execute_reply.started": "2022-01-07T12:07:01.569534Z"
    },
    "papermill": {
     "duration": 0.063546,
     "end_time": "2022-01-07T12:08:12.748773",
     "exception": false,
     "start_time": "2022-01-07T12:08:12.685227",
     "status": "completed"
    },
    "tags": []
   },
   "outputs": [
    {
     "data": {
      "text/plain": [
       "['there are ', ' numbers ', ' inside ', ' this sentence.']"
      ]
     },
     "execution_count": 34,
     "metadata": {},
     "output_type": "execute_result"
    }
   ],
   "source": [
    "#To get words back together\n",
    "re.findall(r'[^\\d]+',phrase)"
   ]
  },
  {
   "cell_type": "code",
   "execution_count": 35,
   "id": "2df74eab",
   "metadata": {
    "execution": {
     "iopub.execute_input": "2022-01-07T12:08:12.866107Z",
     "iopub.status.busy": "2022-01-07T12:08:12.865422Z",
     "iopub.status.idle": "2022-01-07T12:08:12.869753Z",
     "shell.execute_reply": "2022-01-07T12:08:12.870309Z",
     "shell.execute_reply.started": "2022-01-07T12:07:01.582125Z"
    },
    "papermill": {
     "duration": 0.064479,
     "end_time": "2022-01-07T12:08:12.870479",
     "exception": false,
     "start_time": "2022-01-07T12:08:12.806000",
     "status": "completed"
    },
    "tags": []
   },
   "outputs": [
    {
     "data": {
      "text/plain": [
       "['This is a string', ' But it has punctuation', ' How can we remove it']"
      ]
     },
     "execution_count": 35,
     "metadata": {},
     "output_type": "execute_result"
    }
   ],
   "source": [
    "# Removing punctuation\n",
    "\n",
    "phrase = 'This is a string! But it has punctuation. How can we remove it?'\n",
    "re.findall(\"[^!.?]+\",phrase)"
   ]
  },
  {
   "cell_type": "code",
   "execution_count": 36,
   "id": "94f97218",
   "metadata": {
    "execution": {
     "iopub.execute_input": "2022-01-07T12:08:12.987366Z",
     "iopub.status.busy": "2022-01-07T12:08:12.986671Z",
     "iopub.status.idle": "2022-01-07T12:08:12.990514Z",
     "shell.execute_reply": "2022-01-07T12:08:12.991032Z",
     "shell.execute_reply.started": "2022-01-07T12:07:01.595832Z"
    },
    "papermill": {
     "duration": 0.063678,
     "end_time": "2022-01-07T12:08:12.991322",
     "exception": false,
     "start_time": "2022-01-07T12:08:12.927644",
     "status": "completed"
    },
    "tags": []
   },
   "outputs": [],
   "source": [
    "# Getting a list of words in a text\n",
    "# Add a space at the end\n",
    "\n",
    "phrase = 'This is a string! But it has punctuation. How can we remove it?'\n",
    "my_list = re.findall(\"[^!.? ]+\",phrase)"
   ]
  },
  {
   "cell_type": "code",
   "execution_count": 37,
   "id": "87e68cd1",
   "metadata": {
    "execution": {
     "iopub.execute_input": "2022-01-07T12:08:13.108057Z",
     "iopub.status.busy": "2022-01-07T12:08:13.107401Z",
     "iopub.status.idle": "2022-01-07T12:08:13.111843Z",
     "shell.execute_reply": "2022-01-07T12:08:13.112409Z",
     "shell.execute_reply.started": "2022-01-07T12:07:01.606573Z"
    },
    "papermill": {
     "duration": 0.064212,
     "end_time": "2022-01-07T12:08:13.112576",
     "exception": false,
     "start_time": "2022-01-07T12:08:13.048364",
     "status": "completed"
    },
    "tags": []
   },
   "outputs": [
    {
     "data": {
      "text/plain": [
       "'is'"
      ]
     },
     "execution_count": 37,
     "metadata": {},
     "output_type": "execute_result"
    }
   ],
   "source": [
    "my_list[1]"
   ]
  },
  {
   "cell_type": "code",
   "execution_count": 38,
   "id": "f73e6887",
   "metadata": {
    "execution": {
     "iopub.execute_input": "2022-01-07T12:08:13.229975Z",
     "iopub.status.busy": "2022-01-07T12:08:13.229360Z",
     "iopub.status.idle": "2022-01-07T12:08:13.233856Z",
     "shell.execute_reply": "2022-01-07T12:08:13.234360Z",
     "shell.execute_reply.started": "2022-01-07T12:07:26.132277Z"
    },
    "papermill": {
     "duration": 0.064652,
     "end_time": "2022-01-07T12:08:13.234527",
     "exception": false,
     "start_time": "2022-01-07T12:08:13.169875",
     "status": "completed"
    },
    "tags": []
   },
   "outputs": [
    {
     "name": "stdout",
     "output_type": "stream",
     "text": [
      "This is a string But it has punctuation How can we remove it\n"
     ]
    }
   ],
   "source": [
    "print(\" \".join(re.findall('[^!.? ]+',phrase)))"
   ]
  },
  {
   "cell_type": "markdown",
   "id": "2bfb4719",
   "metadata": {
    "papermill": {
     "duration": 0.056668,
     "end_time": "2022-01-07T12:08:13.348725",
     "exception": false,
     "start_time": "2022-01-07T12:08:13.292057",
     "status": "completed"
    },
    "tags": []
   },
   "source": [
    "## Brackets for Grouping\n",
    "\n",
    "As we showed above we can use brackets to group together options, for example if we wanted to find hyphenated."
   ]
  },
  {
   "cell_type": "code",
   "execution_count": 39,
   "id": "07ebdbeb",
   "metadata": {
    "execution": {
     "iopub.execute_input": "2022-01-07T12:08:13.469648Z",
     "iopub.status.busy": "2022-01-07T12:08:13.468840Z",
     "iopub.status.idle": "2022-01-07T12:08:13.471912Z",
     "shell.execute_reply": "2022-01-07T12:08:13.472438Z",
     "shell.execute_reply.started": "2022-01-07T12:07:31.786763Z"
    },
    "papermill": {
     "duration": 0.066884,
     "end_time": "2022-01-07T12:08:13.472601",
     "exception": false,
     "start_time": "2022-01-07T12:08:13.405717",
     "status": "completed"
    },
    "tags": []
   },
   "outputs": [
    {
     "data": {
      "text/plain": [
       "['hypen-words', 'long-ish']"
      ]
     },
     "execution_count": 39,
     "metadata": {},
     "output_type": "execute_result"
    }
   ],
   "source": [
    "text = 'Only find the hypen-words in this sentence. But you do not know how long-ish they are'\n",
    "re.findall(r'[\\w]+-[\\w]+',text)"
   ]
  },
  {
   "cell_type": "markdown",
   "id": "72add65e",
   "metadata": {
    "papermill": {
     "duration": 0.058347,
     "end_time": "2022-01-07T12:08:13.589425",
     "exception": false,
     "start_time": "2022-01-07T12:08:13.531078",
     "status": "completed"
    },
    "tags": []
   },
   "source": [
    "# Character Classes\n",
    "\n",
    "Character classess provide a way to match only one specific set of characters. A class is created by putting the caracters inside square brackets."
   ]
  },
  {
   "cell_type": "code",
   "execution_count": 40,
   "id": "9c710b95",
   "metadata": {
    "execution": {
     "iopub.execute_input": "2022-01-07T12:08:13.710983Z",
     "iopub.status.busy": "2022-01-07T12:08:13.710316Z",
     "iopub.status.idle": "2022-01-07T12:08:13.716127Z",
     "shell.execute_reply": "2022-01-07T12:08:13.716650Z",
     "shell.execute_reply.started": "2022-01-07T12:07:33.536214Z"
    },
    "papermill": {
     "duration": 0.068052,
     "end_time": "2022-01-07T12:08:13.716814",
     "exception": false,
     "start_time": "2022-01-07T12:08:13.648762",
     "status": "completed"
    },
    "tags": []
   },
   "outputs": [
    {
     "data": {
      "text/plain": [
       "['e', 'u', 'i', 'o', 'a']"
      ]
     },
     "execution_count": 40,
     "metadata": {},
     "output_type": "execute_result"
    }
   ],
   "source": [
    "#vowels pattern\n",
    "pattern = r\"[aeiou]\"\n",
    "\n",
    "re.findall(pattern, \"qwertyuiopasdfghjklzxcvbnm\")"
   ]
  },
  {
   "cell_type": "markdown",
   "id": "f224ee86",
   "metadata": {
    "papermill": {
     "duration": 0.05834,
     "end_time": "2022-01-07T12:08:13.833711",
     "exception": false,
     "start_time": "2022-01-07T12:08:13.775371",
     "status": "completed"
    },
    "tags": []
   },
   "source": [
    "Characters can also match ranges such as numbers, lower case letters or upper case letters."
   ]
  },
  {
   "cell_type": "code",
   "execution_count": 41,
   "id": "e9710e79",
   "metadata": {
    "execution": {
     "iopub.execute_input": "2022-01-07T12:08:13.953233Z",
     "iopub.status.busy": "2022-01-07T12:08:13.952603Z",
     "iopub.status.idle": "2022-01-07T12:08:13.957573Z",
     "shell.execute_reply": "2022-01-07T12:08:13.958157Z",
     "shell.execute_reply.started": "2022-01-07T12:07:34.984230Z"
    },
    "papermill": {
     "duration": 0.065813,
     "end_time": "2022-01-07T12:08:13.958322",
     "exception": false,
     "start_time": "2022-01-07T12:08:13.892509",
     "status": "completed"
    },
    "tags": []
   },
   "outputs": [
    {
     "data": {
      "text/plain": [
       "['A', 'L', 'W', 'J']"
      ]
     },
     "execution_count": 41,
     "metadata": {},
     "output_type": "execute_result"
    }
   ],
   "source": [
    "pattern = r\"[A-Z]\"\n",
    "re.findall(pattern, \"A nice day to take a walk in London. What do you say, John?\")"
   ]
  },
  {
   "cell_type": "code",
   "execution_count": 42,
   "id": "8e65097a",
   "metadata": {
    "execution": {
     "iopub.execute_input": "2022-01-07T12:08:14.078428Z",
     "iopub.status.busy": "2022-01-07T12:08:14.077678Z",
     "iopub.status.idle": "2022-01-07T12:08:14.083964Z",
     "shell.execute_reply": "2022-01-07T12:08:14.083438Z",
     "shell.execute_reply.started": "2022-01-07T12:07:36.047059Z"
    },
    "papermill": {
     "duration": 0.067698,
     "end_time": "2022-01-07T12:08:14.084107",
     "exception": false,
     "start_time": "2022-01-07T12:08:14.016409",
     "status": "completed"
    },
    "tags": []
   },
   "outputs": [
    {
     "data": {
      "text/plain": [
       "['E9']"
      ]
     },
     "execution_count": 42,
     "metadata": {},
     "output_type": "execute_result"
    }
   ],
   "source": [
    "# Using two classes\n",
    "\n",
    "pattern = r\"[A-Z][0-9]\"\n",
    "re.findall(pattern, \"My appartment number is E9.\")"
   ]
  },
  {
   "cell_type": "markdown",
   "id": "b9f3397d",
   "metadata": {
    "papermill": {
     "duration": 0.058927,
     "end_time": "2022-01-07T12:08:14.203688",
     "exception": false,
     "start_time": "2022-01-07T12:08:14.144761",
     "status": "completed"
    },
    "tags": []
   },
   "source": [
    "We can even use multiple ranges in one class. For example, using [A-Za-z] will match any letter."
   ]
  },
  {
   "cell_type": "code",
   "execution_count": 43,
   "id": "3569579c",
   "metadata": {
    "execution": {
     "iopub.execute_input": "2022-01-07T12:08:14.324996Z",
     "iopub.status.busy": "2022-01-07T12:08:14.324350Z",
     "iopub.status.idle": "2022-01-07T12:08:14.330092Z",
     "shell.execute_reply": "2022-01-07T12:08:14.330598Z",
     "shell.execute_reply.started": "2022-01-07T12:07:41.039192Z"
    },
    "papermill": {
     "duration": 0.067485,
     "end_time": "2022-01-07T12:08:14.330769",
     "exception": false,
     "start_time": "2022-01-07T12:08:14.263284",
     "status": "completed"
    },
    "tags": []
   },
   "outputs": [
    {
     "data": {
      "text/plain": [
       "['h', 'm', 'm', 'm', 'l', 'y']"
      ]
     },
     "execution_count": 43,
     "metadata": {},
     "output_type": "execute_result"
    }
   ],
   "source": [
    "pattern = r\"[A-Za-z]\"\n",
    "\n",
    "re.findall(pattern, \"h1. 1'm 3mm1ly\")"
   ]
  },
  {
   "cell_type": "markdown",
   "id": "65222913",
   "metadata": {
    "papermill": {
     "duration": 0.059145,
     "end_time": "2022-01-07T12:08:14.450682",
     "exception": false,
     "start_time": "2022-01-07T12:08:14.391537",
     "status": "completed"
    },
    "tags": []
   },
   "source": [
    "We can even exclude a class by placing a `^`."
   ]
  },
  {
   "cell_type": "code",
   "execution_count": 44,
   "id": "2d2c3349",
   "metadata": {
    "execution": {
     "iopub.execute_input": "2022-01-07T12:08:14.574291Z",
     "iopub.status.busy": "2022-01-07T12:08:14.573673Z",
     "iopub.status.idle": "2022-01-07T12:08:14.576020Z",
     "shell.execute_reply": "2022-01-07T12:08:14.576496Z",
     "shell.execute_reply.started": "2022-01-07T12:07:39.419512Z"
    },
    "papermill": {
     "duration": 0.067204,
     "end_time": "2022-01-07T12:08:14.576652",
     "exception": false,
     "start_time": "2022-01-07T12:08:14.509448",
     "status": "completed"
    },
    "tags": []
   },
   "outputs": [
    {
     "data": {
      "text/plain": [
       "['1', '.', '1', \"'\", '3', '1']"
      ]
     },
     "execution_count": 44,
     "metadata": {},
     "output_type": "execute_result"
    }
   ],
   "source": [
    "pattern = r\"[^A-Za-z ]\" #also excluding a space\n",
    "\n",
    "re.findall(pattern, \"h1. 1'm 3mm1ly\")"
   ]
  }
 ],
 "metadata": {
  "kernelspec": {
   "display_name": "Python 3",
   "language": "python",
   "name": "python3"
  },
  "language_info": {
   "codemirror_mode": {
    "name": "ipython",
    "version": 3
   },
   "file_extension": ".py",
   "mimetype": "text/x-python",
   "name": "python",
   "nbconvert_exporter": "python",
   "pygments_lexer": "ipython3",
   "version": "3.7.12"
  },
  "papermill": {
   "default_parameters": {},
   "duration": 18.490031,
   "end_time": "2022-01-07T12:08:15.246378",
   "environment_variables": {},
   "exception": null,
   "input_path": "__notebook__.ipynb",
   "output_path": "__notebook__.ipynb",
   "parameters": {},
   "start_time": "2022-01-07T12:07:56.756347",
   "version": "2.3.3"
  }
 },
 "nbformat": 4,
 "nbformat_minor": 5
}
