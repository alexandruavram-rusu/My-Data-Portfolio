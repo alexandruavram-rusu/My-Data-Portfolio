{
 "cells": [
  {
   "cell_type": "markdown",
   "id": "1eda3025",
   "metadata": {
    "papermill": {
     "duration": 0.01043,
     "end_time": "2022-01-10T14:46:53.218569",
     "exception": false,
     "start_time": "2022-01-10T14:46:53.208139",
     "status": "completed"
    },
    "tags": []
   },
   "source": [
    "# Timing Code\n",
    "\n",
    "Sometimes, you might need to time how long does it take for your code to run. Either because you are running scripts for a process, or you might need to uncover which part of your code is slowing your project down. There are multiple ways and modules for this.\n",
    "\n",
    "To show how you can do this, we are going to first create two functions that do the same thing like, say, create a list of items, and then measure their code execution time."
   ]
  },
  {
   "cell_type": "code",
   "execution_count": 1,
   "id": "b14b6f9c",
   "metadata": {
    "execution": {
     "iopub.execute_input": "2022-01-10T14:46:53.242638Z",
     "iopub.status.busy": "2022-01-10T14:46:53.241530Z",
     "iopub.status.idle": "2022-01-10T14:46:53.252864Z",
     "shell.execute_reply": "2022-01-10T14:46:53.252190Z",
     "shell.execute_reply.started": "2022-01-10T14:31:54.702684Z"
    },
    "papermill": {
     "duration": 0.02414,
     "end_time": "2022-01-10T14:46:53.253003",
     "exception": false,
     "start_time": "2022-01-10T14:46:53.228863",
     "status": "completed"
    },
    "tags": []
   },
   "outputs": [],
   "source": [
    "# Creating two functions that create two lists from 0 to a number given\n",
    "\n",
    "#First with list comprehension\n",
    "def func_one(n):\n",
    "    return [str(num) for num in range(n+1)]\n",
    "\n",
    "# Second with mapping\n",
    "def func_two(n):\n",
    "    return list(map(str,range(n+1)))"
   ]
  },
  {
   "cell_type": "code",
   "execution_count": 2,
   "id": "3d1b0f8b",
   "metadata": {
    "execution": {
     "iopub.execute_input": "2022-01-10T14:46:53.279386Z",
     "iopub.status.busy": "2022-01-10T14:46:53.278718Z",
     "iopub.status.idle": "2022-01-10T14:46:53.282539Z",
     "shell.execute_reply": "2022-01-10T14:46:53.281955Z",
     "shell.execute_reply.started": "2022-01-10T14:31:56.769081Z"
    },
    "papermill": {
     "duration": 0.019822,
     "end_time": "2022-01-10T14:46:53.282665",
     "exception": false,
     "start_time": "2022-01-10T14:46:53.262843",
     "status": "completed"
    },
    "tags": []
   },
   "outputs": [
    {
     "data": {
      "text/plain": [
       "['0', '1', '2', '3', '4', '5', '6', '7', '8', '9', '10']"
      ]
     },
     "execution_count": 2,
     "metadata": {},
     "output_type": "execute_result"
    }
   ],
   "source": [
    "func_one(10)"
   ]
  },
  {
   "cell_type": "code",
   "execution_count": 3,
   "id": "227023c3",
   "metadata": {
    "execution": {
     "iopub.execute_input": "2022-01-10T14:46:53.306695Z",
     "iopub.status.busy": "2022-01-10T14:46:53.305775Z",
     "iopub.status.idle": "2022-01-10T14:46:53.310717Z",
     "shell.execute_reply": "2022-01-10T14:46:53.311140Z",
     "shell.execute_reply.started": "2022-01-10T14:31:58.203032Z"
    },
    "papermill": {
     "duration": 0.018062,
     "end_time": "2022-01-10T14:46:53.311327",
     "exception": false,
     "start_time": "2022-01-10T14:46:53.293265",
     "status": "completed"
    },
    "tags": []
   },
   "outputs": [
    {
     "data": {
      "text/plain": [
       "['0', '1', '2', '3', '4', '5', '6', '7', '8', '9', '10']"
      ]
     },
     "execution_count": 3,
     "metadata": {},
     "output_type": "execute_result"
    }
   ],
   "source": [
    "func_two(10)"
   ]
  },
  {
   "cell_type": "markdown",
   "id": "5eff0ed6",
   "metadata": {
    "papermill": {
     "duration": 0.010066,
     "end_time": "2022-01-10T14:46:53.331653",
     "exception": false,
     "start_time": "2022-01-10T14:46:53.321587",
     "status": "completed"
    },
    "tags": []
   },
   "source": [
    "# Timing Start and Stop\n",
    "\n",
    "We can try using the `time` module to simply calculate the elapsed time for the code. Keep in mind, due to the time module's precision, the code needs to take at least 0.1 seconds to complete."
   ]
  },
  {
   "cell_type": "code",
   "execution_count": 4,
   "id": "a40fef84",
   "metadata": {
    "execution": {
     "iopub.execute_input": "2022-01-10T14:46:53.355772Z",
     "iopub.status.busy": "2022-01-10T14:46:53.354902Z",
     "iopub.status.idle": "2022-01-10T14:46:53.358446Z",
     "shell.execute_reply": "2022-01-10T14:46:53.358868Z",
     "shell.execute_reply.started": "2022-01-10T14:33:40.312071Z"
    },
    "papermill": {
     "duration": 0.016973,
     "end_time": "2022-01-10T14:46:53.359049",
     "exception": false,
     "start_time": "2022-01-10T14:46:53.342076",
     "status": "completed"
    },
    "tags": []
   },
   "outputs": [],
   "source": [
    "import time"
   ]
  },
  {
   "cell_type": "code",
   "execution_count": 5,
   "id": "8beefe6f",
   "metadata": {
    "execution": {
     "iopub.execute_input": "2022-01-10T14:46:53.382624Z",
     "iopub.status.busy": "2022-01-10T14:46:53.381696Z",
     "iopub.status.idle": "2022-01-10T14:46:53.615884Z",
     "shell.execute_reply": "2022-01-10T14:46:53.616385Z",
     "shell.execute_reply.started": "2022-01-10T14:35:12.188688Z"
    },
    "papermill": {
     "duration": 0.247251,
     "end_time": "2022-01-10T14:46:53.616550",
     "exception": false,
     "start_time": "2022-01-10T14:46:53.369299",
     "status": "completed"
    },
    "tags": []
   },
   "outputs": [
    {
     "data": {
      "text/plain": [
       "0.2279648780822754"
      ]
     },
     "execution_count": 5,
     "metadata": {},
     "output_type": "execute_result"
    }
   ],
   "source": [
    "#func_one\n",
    "\n",
    "# STEP 1: Get start time\n",
    "start_time = time.time()\n",
    "\n",
    "# Step 2: Run your code you want to time\n",
    "result = func_one(1000000)\n",
    "\n",
    "# Step 3: Calculate total time elapsed\n",
    "end_time = time.time() - start_time\n",
    "\n",
    "#Check end time\n",
    "end_time"
   ]
  },
  {
   "cell_type": "code",
   "execution_count": 6,
   "id": "aa76c972",
   "metadata": {
    "execution": {
     "iopub.execute_input": "2022-01-10T14:46:53.641183Z",
     "iopub.status.busy": "2022-01-10T14:46:53.640252Z",
     "iopub.status.idle": "2022-01-10T14:46:53.872393Z",
     "shell.execute_reply": "2022-01-10T14:46:53.871827Z",
     "shell.execute_reply.started": "2022-01-10T14:35:14.522471Z"
    },
    "papermill": {
     "duration": 0.245377,
     "end_time": "2022-01-10T14:46:53.872515",
     "exception": false,
     "start_time": "2022-01-10T14:46:53.627138",
     "status": "completed"
    },
    "tags": []
   },
   "outputs": [
    {
     "data": {
      "text/plain": [
       "0.2234973907470703"
      ]
     },
     "execution_count": 6,
     "metadata": {},
     "output_type": "execute_result"
    }
   ],
   "source": [
    "#func_two\n",
    "\n",
    "# STEP 1: Get start time\n",
    "start_time = time.time()\n",
    "\n",
    "# Step 2: Run your code you want to time\n",
    "result = func_two(1000000)\n",
    "\n",
    "# Step 3: Calculate total time elapsed\n",
    "end_time = time.time() - start_time\n",
    "\n",
    "#Check end time\n",
    "end_time"
   ]
  },
  {
   "cell_type": "markdown",
   "id": "bd007941",
   "metadata": {
    "papermill": {
     "duration": 0.010376,
     "end_time": "2022-01-10T14:46:53.894199",
     "exception": false,
     "start_time": "2022-01-10T14:46:53.883823",
     "status": "completed"
    },
    "tags": []
   },
   "source": [
    "# Timeit Module\n",
    "\n",
    "The timeit module takes in two strings, a statement `(stmt)` and a `setup`. It then runs the setup code and runs the stmt code some n number of times and reports back average length of time it took.\n",
    "\n",
    "The setup and statement should be passed as strings. The setup needs to be defined before, in your code."
   ]
  },
  {
   "cell_type": "code",
   "execution_count": 7,
   "id": "af6aca1d",
   "metadata": {
    "execution": {
     "iopub.execute_input": "2022-01-10T14:46:53.918288Z",
     "iopub.status.busy": "2022-01-10T14:46:53.917430Z",
     "iopub.status.idle": "2022-01-10T14:46:53.920774Z",
     "shell.execute_reply": "2022-01-10T14:46:53.921365Z",
     "shell.execute_reply.started": "2022-01-10T14:40:35.317788Z"
    },
    "papermill": {
     "duration": 0.016851,
     "end_time": "2022-01-10T14:46:53.921511",
     "exception": false,
     "start_time": "2022-01-10T14:46:53.904660",
     "status": "completed"
    },
    "tags": []
   },
   "outputs": [],
   "source": [
    "import timeit"
   ]
  },
  {
   "cell_type": "code",
   "execution_count": 8,
   "id": "65cb63c3",
   "metadata": {
    "execution": {
     "iopub.execute_input": "2022-01-10T14:46:53.945642Z",
     "iopub.status.busy": "2022-01-10T14:46:53.944785Z",
     "iopub.status.idle": "2022-01-10T14:46:55.743572Z",
     "shell.execute_reply": "2022-01-10T14:46:55.744051Z",
     "shell.execute_reply.started": "2022-01-10T14:42:43.780431Z"
    },
    "papermill": {
     "duration": 1.812472,
     "end_time": "2022-01-10T14:46:55.744229",
     "exception": false,
     "start_time": "2022-01-10T14:46:53.931757",
     "status": "completed"
    },
    "tags": []
   },
   "outputs": [
    {
     "data": {
      "text/plain": [
       "1.7919839980000063"
      ]
     },
     "execution_count": 8,
     "metadata": {},
     "output_type": "execute_result"
    }
   ],
   "source": [
    "setup = '''\n",
    "def func_one(n):\n",
    "    return [str(num) for num in range(n)]\n",
    "'''\n",
    "\n",
    "#statement\n",
    "stmt = 'func_one(100)'\n",
    "\n",
    "#running the code 10k times (number)\n",
    "timeit.timeit(stmt,setup,number=100000)"
   ]
  },
  {
   "cell_type": "code",
   "execution_count": 9,
   "id": "4a8a096a",
   "metadata": {
    "execution": {
     "iopub.execute_input": "2022-01-10T14:46:55.770407Z",
     "iopub.status.busy": "2022-01-10T14:46:55.769504Z",
     "iopub.status.idle": "2022-01-10T14:46:57.231726Z",
     "shell.execute_reply": "2022-01-10T14:46:57.232346Z",
     "shell.execute_reply.started": "2022-01-10T14:43:42.537964Z"
    },
    "papermill": {
     "duration": 1.476593,
     "end_time": "2022-01-10T14:46:57.232514",
     "exception": false,
     "start_time": "2022-01-10T14:46:55.755921",
     "status": "completed"
    },
    "tags": []
   },
   "outputs": [
    {
     "data": {
      "text/plain": [
       "1.4557959560000029"
      ]
     },
     "execution_count": 9,
     "metadata": {},
     "output_type": "execute_result"
    }
   ],
   "source": [
    "setup2 = '''\n",
    "def func_two(n):\n",
    "    return list(map(str,range(n)))\n",
    "'''\n",
    "\n",
    "#statement\n",
    "stmt2 = 'func_two(100)'\n",
    "\n",
    "#running the code 10k times (number)\n",
    "timeit.timeit(stmt2,setup2,number=100000)"
   ]
  },
  {
   "cell_type": "markdown",
   "id": "203420c7",
   "metadata": {
    "papermill": {
     "duration": 0.010975,
     "end_time": "2022-01-10T14:46:57.255083",
     "exception": false,
     "start_time": "2022-01-10T14:46:57.244108",
     "status": "completed"
    },
    "tags": []
   },
   "source": [
    "We can thus conclude that it's faster to use `map()` than list comprehension."
   ]
  }
 ],
 "metadata": {
  "kernelspec": {
   "display_name": "Python 3",
   "language": "python",
   "name": "python3"
  },
  "language_info": {
   "codemirror_mode": {
    "name": "ipython",
    "version": 3
   },
   "file_extension": ".py",
   "mimetype": "text/x-python",
   "name": "python",
   "nbconvert_exporter": "python",
   "pygments_lexer": "ipython3",
   "version": "3.7.12"
  },
  "papermill": {
   "default_parameters": {},
   "duration": 13.59125,
   "end_time": "2022-01-10T14:46:57.875355",
   "environment_variables": {},
   "exception": null,
   "input_path": "__notebook__.ipynb",
   "output_path": "__notebook__.ipynb",
   "parameters": {},
   "start_time": "2022-01-10T14:46:44.284105",
   "version": "2.3.3"
  }
 },
 "nbformat": 4,
 "nbformat_minor": 5
}
