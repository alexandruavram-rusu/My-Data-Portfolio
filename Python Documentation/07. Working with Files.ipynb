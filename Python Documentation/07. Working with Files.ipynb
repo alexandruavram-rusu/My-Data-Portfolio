{
 "cells": [
  {
   "cell_type": "markdown",
   "id": "e0ab6e7b",
   "metadata": {
    "papermill": {
     "duration": 0.027805,
     "end_time": "2021-10-12T14:16:49.239668",
     "exception": false,
     "start_time": "2021-10-12T14:16:49.211863",
     "status": "completed"
    },
    "tags": []
   },
   "source": [
    "# Working with Files\n",
    "\n",
    "Python code can interact with external files, either on a computer, or a cloud storage drive, or a dataset. These files can be text files, spreadsheet files like Excel documents, audio files, e-mails, video, etc. Basic Python has a built-in open function that allows us to open, read and write basic file types (like .txt files). Some file types might require the installation of a certain library or module.\n",
    "\n",
    "# Writing a File\n",
    "\n",
    "First, we have to create a file for our dataset. You do this by using *%%writefile*, followed by name and type of the file.\n",
    "\n",
    "NOTE: you cannot use comments on lines used to write new files."
   ]
  },
  {
   "cell_type": "code",
   "execution_count": 1,
   "id": "54948119",
   "metadata": {
    "execution": {
     "iopub.execute_input": "2021-10-12T14:16:49.302211Z",
     "iopub.status.busy": "2021-10-12T14:16:49.301504Z",
     "iopub.status.idle": "2021-10-12T14:16:49.307825Z",
     "shell.execute_reply": "2021-10-12T14:16:49.308737Z",
     "shell.execute_reply.started": "2021-10-12T13:14:23.632797Z"
    },
    "papermill": {
     "duration": 0.04415,
     "end_time": "2021-10-12T14:16:49.309053",
     "exception": false,
     "start_time": "2021-10-12T14:16:49.264903",
     "status": "completed"
    },
    "tags": []
   },
   "outputs": [
    {
     "name": "stdout",
     "output_type": "stream",
     "text": [
      "Writing myfile.txt\n"
     ]
    }
   ],
   "source": [
    "%%writefile myfile.txt\n",
    "Hello, this is the first file.\n",
    "Hi again, this is the second line."
   ]
  },
  {
   "cell_type": "markdown",
   "id": "6ac6e1ee",
   "metadata": {
    "papermill": {
     "duration": 0.027013,
     "end_time": "2021-10-12T14:16:49.362356",
     "exception": false,
     "start_time": "2021-10-12T14:16:49.335343",
     "status": "completed"
    },
    "tags": []
   },
   "source": [
    "# Opening a File\n",
    "\n",
    "Opening a file in the same notebook or in the same folder is easy as just using the built in function *open*. However, there might be instances where you need to open files from a different folder.\n",
    "\n",
    "On Windows: use double \\ so python doesn't treat the second \\ as an escape character:\n",
    "\n",
    "    \"C:\\\\Users\\\\YourUserName\\\\Home\\\\Folder\\\\myfile.txt\"\n",
    "\n",
    "MacOS and Linux: use slashes in the opposite direction:\n",
    "\n",
    "    \"/Users/YouUserName/Folder/myfile.txt\"\n",
    "    \n",
    "Finding the current location is done using *pwd*:"
   ]
  },
  {
   "cell_type": "code",
   "execution_count": 2,
   "id": "3ab0df80",
   "metadata": {
    "execution": {
     "iopub.execute_input": "2021-10-12T14:16:49.424500Z",
     "iopub.status.busy": "2021-10-12T14:16:49.423757Z",
     "iopub.status.idle": "2021-10-12T14:16:49.427770Z",
     "shell.execute_reply": "2021-10-12T14:16:49.427234Z",
     "shell.execute_reply.started": "2021-10-12T12:53:15.780588Z"
    },
    "papermill": {
     "duration": 0.038072,
     "end_time": "2021-10-12T14:16:49.427909",
     "exception": false,
     "start_time": "2021-10-12T14:16:49.389837",
     "status": "completed"
    },
    "tags": []
   },
   "outputs": [
    {
     "data": {
      "text/plain": [
       "'/kaggle/working'"
      ]
     },
     "execution_count": 2,
     "metadata": {},
     "output_type": "execute_result"
    }
   ],
   "source": [
    "pwd"
   ]
  },
  {
   "cell_type": "code",
   "execution_count": 3,
   "id": "f22d9458",
   "metadata": {
    "execution": {
     "iopub.execute_input": "2021-10-12T14:16:49.488497Z",
     "iopub.status.busy": "2021-10-12T14:16:49.487788Z",
     "iopub.status.idle": "2021-10-12T14:16:49.492449Z",
     "shell.execute_reply": "2021-10-12T14:16:49.492929Z",
     "shell.execute_reply.started": "2021-10-12T13:14:26.763582Z"
    },
    "papermill": {
     "duration": 0.036498,
     "end_time": "2021-10-12T14:16:49.493108",
     "exception": false,
     "start_time": "2021-10-12T14:16:49.456610",
     "status": "completed"
    },
    "tags": []
   },
   "outputs": [],
   "source": [
    "#As mentioned, in order to open a file, use open:\n",
    "\n",
    "my_file = open(\"myfile.txt\")"
   ]
  },
  {
   "cell_type": "markdown",
   "id": "b0a56674",
   "metadata": {
    "papermill": {
     "duration": 0.025679,
     "end_time": "2021-10-12T14:16:49.546224",
     "exception": false,
     "start_time": "2021-10-12T14:16:49.520545",
     "status": "completed"
    },
    "tags": []
   },
   "source": [
    "# Reading a File\n",
    "\n",
    "After opening a file, different operations can be used with the file. The most basic one is reading it."
   ]
  },
  {
   "cell_type": "code",
   "execution_count": 4,
   "id": "00caa5d5",
   "metadata": {
    "execution": {
     "iopub.execute_input": "2021-10-12T14:16:49.603736Z",
     "iopub.status.busy": "2021-10-12T14:16:49.602969Z",
     "iopub.status.idle": "2021-10-12T14:16:49.607199Z",
     "shell.execute_reply": "2021-10-12T14:16:49.606671Z",
     "shell.execute_reply.started": "2021-10-12T13:14:43.844985Z"
    },
    "papermill": {
     "duration": 0.03503,
     "end_time": "2021-10-12T14:16:49.607344",
     "exception": false,
     "start_time": "2021-10-12T14:16:49.572314",
     "status": "completed"
    },
    "tags": []
   },
   "outputs": [
    {
     "data": {
      "text/plain": [
       "'Hello, this is the first file.\\nHi again, this is the second line.\\n'"
      ]
     },
     "execution_count": 4,
     "metadata": {},
     "output_type": "execute_result"
    }
   ],
   "source": [
    "#Reading the file: file.read()\n",
    "\n",
    "my_file.read()"
   ]
  },
  {
   "cell_type": "code",
   "execution_count": 5,
   "id": "b8d4165b",
   "metadata": {
    "execution": {
     "iopub.execute_input": "2021-10-12T14:16:49.668092Z",
     "iopub.status.busy": "2021-10-12T14:16:49.666839Z",
     "iopub.status.idle": "2021-10-12T14:16:49.671994Z",
     "shell.execute_reply": "2021-10-12T14:16:49.672552Z",
     "shell.execute_reply.started": "2021-10-12T13:14:45.730093Z"
    },
    "papermill": {
     "duration": 0.038474,
     "end_time": "2021-10-12T14:16:49.672742",
     "exception": false,
     "start_time": "2021-10-12T14:16:49.634268",
     "status": "completed"
    },
    "tags": []
   },
   "outputs": [
    {
     "data": {
      "text/plain": [
       "''"
      ]
     },
     "execution_count": 5,
     "metadata": {},
     "output_type": "execute_result"
    }
   ],
   "source": [
    "#Reading it again:\n",
    "\n",
    "my_file.read()"
   ]
  },
  {
   "cell_type": "markdown",
   "id": "66eb41eb",
   "metadata": {
    "papermill": {
     "duration": 0.025591,
     "end_time": "2021-10-12T14:16:49.724271",
     "exception": false,
     "start_time": "2021-10-12T14:16:49.698680",
     "status": "completed"
    },
    "tags": []
   },
   "source": [
    "Trying to read the file again will result in an empty output ''. This happens because you can imagine the reading *cursor* is at the end of the file after having read it. So there is nothing left to read. "
   ]
  },
  {
   "cell_type": "code",
   "execution_count": 6,
   "id": "e153d25e",
   "metadata": {
    "execution": {
     "iopub.execute_input": "2021-10-12T14:16:49.781696Z",
     "iopub.status.busy": "2021-10-12T14:16:49.781010Z",
     "iopub.status.idle": "2021-10-12T14:16:49.786052Z",
     "shell.execute_reply": "2021-10-12T14:16:49.785225Z",
     "shell.execute_reply.started": "2021-10-12T13:14:47.468624Z"
    },
    "papermill": {
     "duration": 0.036255,
     "end_time": "2021-10-12T14:16:49.786224",
     "exception": false,
     "start_time": "2021-10-12T14:16:49.749969",
     "status": "completed"
    },
    "tags": []
   },
   "outputs": [
    {
     "data": {
      "text/plain": [
       "0"
      ]
     },
     "execution_count": 6,
     "metadata": {},
     "output_type": "execute_result"
    }
   ],
   "source": [
    "#Reseting the cursor: file.seek(0)\n",
    "\n",
    "my_file.seek(0)"
   ]
  },
  {
   "cell_type": "code",
   "execution_count": 7,
   "id": "91e9c9d3",
   "metadata": {
    "execution": {
     "iopub.execute_input": "2021-10-12T14:16:49.845158Z",
     "iopub.status.busy": "2021-10-12T14:16:49.844338Z",
     "iopub.status.idle": "2021-10-12T14:16:49.847537Z",
     "shell.execute_reply": "2021-10-12T14:16:49.847981Z",
     "shell.execute_reply.started": "2021-10-12T13:14:49.452308Z"
    },
    "papermill": {
     "duration": 0.03484,
     "end_time": "2021-10-12T14:16:49.848165",
     "exception": false,
     "start_time": "2021-10-12T14:16:49.813325",
     "status": "completed"
    },
    "tags": []
   },
   "outputs": [
    {
     "data": {
      "text/plain": [
       "'Hello, this is the first file.\\nHi again, this is the second line.\\n'"
      ]
     },
     "execution_count": 7,
     "metadata": {},
     "output_type": "execute_result"
    }
   ],
   "source": [
    "#Reading it again\n",
    "\n",
    "my_file.read()"
   ]
  },
  {
   "cell_type": "code",
   "execution_count": 8,
   "id": "bd60a731",
   "metadata": {
    "execution": {
     "iopub.execute_input": "2021-10-12T14:16:49.906564Z",
     "iopub.status.busy": "2021-10-12T14:16:49.905898Z",
     "iopub.status.idle": "2021-10-12T14:16:49.909911Z",
     "shell.execute_reply": "2021-10-12T14:16:49.909380Z",
     "shell.execute_reply.started": "2021-10-12T13:15:24.259516Z"
    },
    "papermill": {
     "duration": 0.035492,
     "end_time": "2021-10-12T14:16:49.910046",
     "exception": false,
     "start_time": "2021-10-12T14:16:49.874554",
     "status": "completed"
    },
    "tags": []
   },
   "outputs": [
    {
     "data": {
      "text/plain": [
       "31"
      ]
     },
     "execution_count": 8,
     "metadata": {},
     "output_type": "execute_result"
    }
   ],
   "source": [
    "#The cursor can be planced on any other character.\n",
    "\n",
    "my_file.seek(31)"
   ]
  },
  {
   "cell_type": "code",
   "execution_count": 9,
   "id": "9d3b47f3",
   "metadata": {
    "execution": {
     "iopub.execute_input": "2021-10-12T14:16:49.969882Z",
     "iopub.status.busy": "2021-10-12T14:16:49.969169Z",
     "iopub.status.idle": "2021-10-12T14:16:49.971679Z",
     "shell.execute_reply": "2021-10-12T14:16:49.972162Z",
     "shell.execute_reply.started": "2021-10-12T13:15:25.746825Z"
    },
    "papermill": {
     "duration": 0.035365,
     "end_time": "2021-10-12T14:16:49.972372",
     "exception": false,
     "start_time": "2021-10-12T14:16:49.937007",
     "status": "completed"
    },
    "tags": []
   },
   "outputs": [
    {
     "data": {
      "text/plain": [
       "'Hi again, this is the second line.\\n'"
      ]
     },
     "execution_count": 9,
     "metadata": {},
     "output_type": "execute_result"
    }
   ],
   "source": [
    "my_file.read()"
   ]
  },
  {
   "cell_type": "code",
   "execution_count": 10,
   "id": "15887824",
   "metadata": {
    "execution": {
     "iopub.execute_input": "2021-10-12T14:16:50.041034Z",
     "iopub.status.busy": "2021-10-12T14:16:50.040057Z",
     "iopub.status.idle": "2021-10-12T14:16:50.048394Z",
     "shell.execute_reply": "2021-10-12T14:16:50.049059Z",
     "shell.execute_reply.started": "2021-10-12T13:18:03.162160Z"
    },
    "papermill": {
     "duration": 0.047394,
     "end_time": "2021-10-12T14:16:50.049315",
     "exception": false,
     "start_time": "2021-10-12T14:16:50.001921",
     "status": "completed"
    },
    "tags": []
   },
   "outputs": [
    {
     "data": {
      "text/plain": [
       "'Hi again, this is the second line.\\n'"
      ]
     },
     "execution_count": 10,
     "metadata": {},
     "output_type": "execute_result"
    }
   ],
   "source": [
    "#The text in a file can be assigned to a string\n",
    "\n",
    "my_file.seek(31)\n",
    "second_line = my_file.read()\n",
    "second_line"
   ]
  },
  {
   "cell_type": "markdown",
   "id": "1852765a",
   "metadata": {
    "papermill": {
     "duration": 0.034103,
     "end_time": "2021-10-12T14:16:50.120951",
     "exception": false,
     "start_time": "2021-10-12T14:16:50.086848",
     "status": "completed"
    },
    "tags": []
   },
   "source": [
    "There is a workaround this, so that we don't have to use *seek()* every time. You can read a file line by line using the *readlines* method. However, this method should be used with caution as it can cause issues when trying to read large files."
   ]
  },
  {
   "cell_type": "code",
   "execution_count": 11,
   "id": "237f0404",
   "metadata": {
    "execution": {
     "iopub.execute_input": "2021-10-12T14:16:50.187231Z",
     "iopub.status.busy": "2021-10-12T14:16:50.185456Z",
     "iopub.status.idle": "2021-10-12T14:16:50.192459Z",
     "shell.execute_reply": "2021-10-12T14:16:50.191937Z",
     "shell.execute_reply.started": "2021-10-12T13:18:05.035235Z"
    },
    "papermill": {
     "duration": 0.037648,
     "end_time": "2021-10-12T14:16:50.192596",
     "exception": false,
     "start_time": "2021-10-12T14:16:50.154948",
     "status": "completed"
    },
    "tags": []
   },
   "outputs": [
    {
     "data": {
      "text/plain": [
       "['Hello, this is the first file.\\n', 'Hi again, this is the second line.\\n']"
      ]
     },
     "execution_count": 11,
     "metadata": {},
     "output_type": "execute_result"
    }
   ],
   "source": [
    "#First, reset the cursor to the first character\n",
    "\n",
    "my_file.seek(0)\n",
    "\n",
    "#Using the readlines method: file.readlines()\n",
    "\n",
    "my_file.readlines()"
   ]
  },
  {
   "cell_type": "markdown",
   "id": "20e98dcb",
   "metadata": {
    "papermill": {
     "duration": 0.027724,
     "end_time": "2021-10-12T14:16:50.248280",
     "exception": false,
     "start_time": "2021-10-12T14:16:50.220556",
     "status": "completed"
    },
    "tags": []
   },
   "source": [
    "# Closing a File\n",
    "\n",
    "It's important that, after using a file and no longer needing to work with, that you close the file. Otherwise, you will not be able to delete it, for example."
   ]
  },
  {
   "cell_type": "code",
   "execution_count": 12,
   "id": "b74be175",
   "metadata": {
    "execution": {
     "iopub.execute_input": "2021-10-12T14:16:50.308331Z",
     "iopub.status.busy": "2021-10-12T14:16:50.307646Z",
     "iopub.status.idle": "2021-10-12T14:16:50.310164Z",
     "shell.execute_reply": "2021-10-12T14:16:50.309652Z",
     "shell.execute_reply.started": "2021-10-12T13:21:29.253092Z"
    },
    "papermill": {
     "duration": 0.034437,
     "end_time": "2021-10-12T14:16:50.310300",
     "exception": false,
     "start_time": "2021-10-12T14:16:50.275863",
     "status": "completed"
    },
    "tags": []
   },
   "outputs": [],
   "source": [
    "#Closing a file: file.close()\n",
    "\n",
    "my_file.close()"
   ]
  },
  {
   "cell_type": "markdown",
   "id": "74e3b20e",
   "metadata": {
    "papermill": {
     "duration": 0.027303,
     "end_time": "2021-10-12T14:16:50.366750",
     "exception": false,
     "start_time": "2021-10-12T14:16:50.339447",
     "status": "completed"
    },
    "tags": []
   },
   "source": [
    "# Writing to a File\n",
    "\n",
    "By using de simple default *open*, we are able to only read the file. In order to write to a file, we need to pass an argument. Below, a table with all available arguments when opening a file in Pyhton:\n",
    "\n",
    "<table class=\"table table-bordered\">\n",
    "<tr>\n",
    "<th style=\"width:10%\">Argument</th><th style=\"width:45%\">Description</th>\n",
    "</tr>\n",
    "\n",
    "<tr>\n",
    "<td>r</td>\n",
    "<td>Read ony. Just reading the file.</td>\n",
    "</tr>\n",
    "\n",
    "<tr>\n",
    "<td>w</td>\n",
    "<td>Write Only. Overwriting a file or creating new files.</td>\n",
    "</tr>\n",
    "\n",
    "<tr>\n",
    "    <td> a </td>\n",
    "    <td>Append. Adding a line at the end of the file</td>\n",
    "</tr>\n",
    "    \n",
    "<tr>\n",
    "    <td> r+ </td>\n",
    "    <td>ReadWrite. Being able to both read and write the file</td>\n",
    "</tr>\n",
    "    \n",
    "<tr>\n",
    "    <td> w+ </td>\n",
    "    <td>WriteRead. Writing and reading, able to overwrite files or create new files.</td>\n",
    "</tr>\n",
    "    \n",
    "<tr>\n",
    "    <td> a+ </td>\n",
    "    <td>AppendRead. Adding a line at the end of the file and the ability to read it.</td>\n",
    "</tr>\n",
    "</table>\n",
    "\n",
    "Opening a file with *w* or *w+* truncates the original, meaning that anything that was in the original file **is deleted**.\n",
    "\n",
    "Using these arguments in Python is called **The File Mode**."
   ]
  },
  {
   "cell_type": "code",
   "execution_count": 13,
   "id": "8a5403d8",
   "metadata": {
    "execution": {
     "iopub.execute_input": "2021-10-12T14:16:50.432555Z",
     "iopub.status.busy": "2021-10-12T14:16:50.431883Z",
     "iopub.status.idle": "2021-10-12T14:16:50.433817Z",
     "shell.execute_reply": "2021-10-12T14:16:50.434282Z",
     "shell.execute_reply.started": "2021-10-12T14:04:14.415238Z"
    },
    "papermill": {
     "duration": 0.038895,
     "end_time": "2021-10-12T14:16:50.434457",
     "exception": false,
     "start_time": "2021-10-12T14:16:50.395562",
     "status": "completed"
    },
    "tags": []
   },
   "outputs": [],
   "source": [
    "#Using the w+ argument to create a new file\n",
    "\n",
    "my_file = open('myfile2.txt', 'w+')"
   ]
  },
  {
   "cell_type": "code",
   "execution_count": 14,
   "id": "6e9048f1",
   "metadata": {
    "execution": {
     "iopub.execute_input": "2021-10-12T14:16:50.494747Z",
     "iopub.status.busy": "2021-10-12T14:16:50.494065Z",
     "iopub.status.idle": "2021-10-12T14:16:50.499402Z",
     "shell.execute_reply": "2021-10-12T14:16:50.499914Z",
     "shell.execute_reply.started": "2021-10-12T14:04:16.276995Z"
    },
    "papermill": {
     "duration": 0.036825,
     "end_time": "2021-10-12T14:16:50.500085",
     "exception": false,
     "start_time": "2021-10-12T14:16:50.463260",
     "status": "completed"
    },
    "tags": []
   },
   "outputs": [
    {
     "data": {
      "text/plain": [
       "14"
      ]
     },
     "execution_count": 14,
     "metadata": {},
     "output_type": "execute_result"
    }
   ],
   "source": [
    "#Writing to the file\n",
    "\n",
    "my_file.write('The first line')"
   ]
  },
  {
   "cell_type": "markdown",
   "id": "3c456d6c",
   "metadata": {
    "papermill": {
     "duration": 0.03012,
     "end_time": "2021-10-12T14:16:50.562816",
     "exception": false,
     "start_time": "2021-10-12T14:16:50.532696",
     "status": "completed"
    },
    "tags": []
   },
   "source": [
    "Note that the output of running the previous cell is the number of characters indexed in the file we wrote."
   ]
  },
  {
   "cell_type": "code",
   "execution_count": 15,
   "id": "2a951de0",
   "metadata": {
    "execution": {
     "iopub.execute_input": "2021-10-12T14:16:50.628135Z",
     "iopub.status.busy": "2021-10-12T14:16:50.627447Z",
     "iopub.status.idle": "2021-10-12T14:16:50.633304Z",
     "shell.execute_reply": "2021-10-12T14:16:50.633828Z",
     "shell.execute_reply.started": "2021-10-12T14:04:19.567513Z"
    },
    "papermill": {
     "duration": 0.039548,
     "end_time": "2021-10-12T14:16:50.633998",
     "exception": false,
     "start_time": "2021-10-12T14:16:50.594450",
     "status": "completed"
    },
    "tags": []
   },
   "outputs": [
    {
     "data": {
      "text/plain": [
       "['The first line']"
      ]
     },
     "execution_count": 15,
     "metadata": {},
     "output_type": "execute_result"
    }
   ],
   "source": [
    "#Reading the file\n",
    "\n",
    "my_file.seek(0)\n",
    "my_file.readlines()"
   ]
  },
  {
   "cell_type": "code",
   "execution_count": 16,
   "id": "d0794e32",
   "metadata": {
    "execution": {
     "iopub.execute_input": "2021-10-12T14:16:50.702790Z",
     "iopub.status.busy": "2021-10-12T14:16:50.701109Z",
     "iopub.status.idle": "2021-10-12T14:16:50.704825Z",
     "shell.execute_reply": "2021-10-12T14:16:50.705310Z",
     "shell.execute_reply.started": "2021-10-12T14:04:23.595994Z"
    },
    "papermill": {
     "duration": 0.041078,
     "end_time": "2021-10-12T14:16:50.705485",
     "exception": false,
     "start_time": "2021-10-12T14:16:50.664407",
     "status": "completed"
    },
    "tags": []
   },
   "outputs": [],
   "source": [
    "#Close the file after it's been used\n",
    "\n",
    "my_file.close()"
   ]
  },
  {
   "cell_type": "markdown",
   "id": "4f05603c",
   "metadata": {
    "papermill": {
     "duration": 0.031729,
     "end_time": "2021-10-12T14:16:50.766508",
     "exception": false,
     "start_time": "2021-10-12T14:16:50.734779",
     "status": "completed"
    },
    "tags": []
   },
   "source": [
    "## Appending\n",
    "\n",
    "Passing the *a+* argument allows us to open the file and puts the pointer at the end, so anything written is appended. If the file doesn't exist, a new one will be created."
   ]
  },
  {
   "cell_type": "code",
   "execution_count": 17,
   "id": "3959aa66",
   "metadata": {
    "execution": {
     "iopub.execute_input": "2021-10-12T14:16:50.830888Z",
     "iopub.status.busy": "2021-10-12T14:16:50.829870Z",
     "iopub.status.idle": "2021-10-12T14:16:50.837324Z",
     "shell.execute_reply": "2021-10-12T14:16:50.836798Z",
     "shell.execute_reply.started": "2021-10-12T14:04:54.040321Z"
    },
    "papermill": {
     "duration": 0.041442,
     "end_time": "2021-10-12T14:16:50.837474",
     "exception": false,
     "start_time": "2021-10-12T14:16:50.796032",
     "status": "completed"
    },
    "tags": []
   },
   "outputs": [
    {
     "data": {
      "text/plain": [
       "35"
      ]
     },
     "execution_count": 17,
     "metadata": {},
     "output_type": "execute_result"
    }
   ],
   "source": [
    "#Opening the file used previously\n",
    "\n",
    "my_file = open('myfile2.txt', 'a+')\n",
    "my_file.write('. And this, stil on the first line.')"
   ]
  },
  {
   "cell_type": "code",
   "execution_count": 18,
   "id": "a2d3bc38",
   "metadata": {
    "execution": {
     "iopub.execute_input": "2021-10-12T14:16:50.900469Z",
     "iopub.status.busy": "2021-10-12T14:16:50.899721Z",
     "iopub.status.idle": "2021-10-12T14:16:50.903908Z",
     "shell.execute_reply": "2021-10-12T14:16:50.903255Z",
     "shell.execute_reply.started": "2021-10-12T14:05:26.920680Z"
    },
    "papermill": {
     "duration": 0.038014,
     "end_time": "2021-10-12T14:16:50.904049",
     "exception": false,
     "start_time": "2021-10-12T14:16:50.866035",
     "status": "completed"
    },
    "tags": []
   },
   "outputs": [
    {
     "data": {
      "text/plain": [
       "25"
      ]
     },
     "execution_count": 18,
     "metadata": {},
     "output_type": "execute_result"
    }
   ],
   "source": [
    "#Use \\n to add the item you are writing to a new line\n",
    "\n",
    "my_file.write('\\nThis is the second line.')"
   ]
  },
  {
   "cell_type": "code",
   "execution_count": 19,
   "id": "53489af5",
   "metadata": {
    "execution": {
     "iopub.execute_input": "2021-10-12T14:16:50.969578Z",
     "iopub.status.busy": "2021-10-12T14:16:50.968506Z",
     "iopub.status.idle": "2021-10-12T14:16:50.973673Z",
     "shell.execute_reply": "2021-10-12T14:16:50.974387Z",
     "shell.execute_reply.started": "2021-10-12T14:05:29.043146Z"
    },
    "papermill": {
     "duration": 0.039554,
     "end_time": "2021-10-12T14:16:50.974630",
     "exception": false,
     "start_time": "2021-10-12T14:16:50.935076",
     "status": "completed"
    },
    "tags": []
   },
   "outputs": [
    {
     "name": "stdout",
     "output_type": "stream",
     "text": [
      "The first line. And this, stil on the first line.\n",
      "This is the second line.\n"
     ]
    }
   ],
   "source": [
    "my_file.seek(0)\n",
    "print(my_file.read())"
   ]
  },
  {
   "cell_type": "code",
   "execution_count": 20,
   "id": "e167cf7b",
   "metadata": {
    "execution": {
     "iopub.execute_input": "2021-10-12T14:16:51.039774Z",
     "iopub.status.busy": "2021-10-12T14:16:51.039105Z",
     "iopub.status.idle": "2021-10-12T14:16:51.042053Z",
     "shell.execute_reply": "2021-10-12T14:16:51.042610Z",
     "shell.execute_reply.started": "2021-10-12T14:06:03.269352Z"
    },
    "papermill": {
     "duration": 0.036905,
     "end_time": "2021-10-12T14:16:51.042791",
     "exception": false,
     "start_time": "2021-10-12T14:16:51.005886",
     "status": "completed"
    },
    "tags": []
   },
   "outputs": [],
   "source": [
    "#Remember to close the file after it's been used\n",
    "\n",
    "my_file.close()"
   ]
  },
  {
   "cell_type": "markdown",
   "id": "ee343098",
   "metadata": {
    "papermill": {
     "duration": 0.032083,
     "end_time": "2021-10-12T14:16:51.105582",
     "exception": false,
     "start_time": "2021-10-12T14:16:51.073499",
     "status": "completed"
    },
    "tags": []
   },
   "source": [
    "# Alternative File Mode\n",
    "\n",
    "There is a different way to work in file mode, which can also help with the anoying part of having to close the file every time you use one. Using the *width* function, enables us to enter File Mode and not have to use close() at the end."
   ]
  },
  {
   "cell_type": "code",
   "execution_count": 21,
   "id": "7726f4b6",
   "metadata": {
    "execution": {
     "iopub.execute_input": "2021-10-12T14:16:51.169925Z",
     "iopub.status.busy": "2021-10-12T14:16:51.169029Z",
     "iopub.status.idle": "2021-10-12T14:16:51.175350Z",
     "shell.execute_reply": "2021-10-12T14:16:51.174781Z",
     "shell.execute_reply.started": "2021-10-12T14:15:34.208111Z"
    },
    "papermill": {
     "duration": 0.038965,
     "end_time": "2021-10-12T14:16:51.175490",
     "exception": false,
     "start_time": "2021-10-12T14:16:51.136525",
     "status": "completed"
    },
    "tags": []
   },
   "outputs": [
    {
     "name": "stdout",
     "output_type": "stream",
     "text": [
      "Writing myfile3.txt\n"
     ]
    }
   ],
   "source": [
    "%%writefile myfile3.txt\n",
    "ONE FIRST\n",
    "TWO SECOND\n",
    "THREE THIRD"
   ]
  },
  {
   "cell_type": "code",
   "execution_count": 22,
   "id": "1cf7dec0",
   "metadata": {
    "execution": {
     "iopub.execute_input": "2021-10-12T14:16:51.245819Z",
     "iopub.status.busy": "2021-10-12T14:16:51.245077Z",
     "iopub.status.idle": "2021-10-12T14:16:51.249758Z",
     "shell.execute_reply": "2021-10-12T14:16:51.249232Z",
     "shell.execute_reply.started": "2021-10-12T14:14:17.923321Z"
    },
    "papermill": {
     "duration": 0.040562,
     "end_time": "2021-10-12T14:16:51.249902",
     "exception": false,
     "start_time": "2021-10-12T14:16:51.209340",
     "status": "completed"
    },
    "tags": []
   },
   "outputs": [
    {
     "name": "stdout",
     "output_type": "stream",
     "text": [
      "ONE FIRST\n",
      "TWO SECOND\n",
      "THREE THIRD\n",
      "FOUR FORTH\n"
     ]
    }
   ],
   "source": [
    "#Append\n",
    "\n",
    "with open('myfile3.txt', 'a+') as f:\n",
    "    f.write('FOUR FORTH')\n",
    "    f.seek(0)\n",
    "    print(f.read())"
   ]
  },
  {
   "cell_type": "code",
   "execution_count": 23,
   "id": "10665d47",
   "metadata": {
    "execution": {
     "iopub.execute_input": "2021-10-12T14:16:51.318949Z",
     "iopub.status.busy": "2021-10-12T14:16:51.318294Z",
     "iopub.status.idle": "2021-10-12T14:16:51.321583Z",
     "shell.execute_reply": "2021-10-12T14:16:51.322064Z",
     "shell.execute_reply.started": "2021-10-12T14:15:38.178773Z"
    },
    "papermill": {
     "duration": 0.040986,
     "end_time": "2021-10-12T14:16:51.322297",
     "exception": false,
     "start_time": "2021-10-12T14:16:51.281311",
     "status": "completed"
    },
    "tags": []
   },
   "outputs": [
    {
     "name": "stdout",
     "output_type": "stream",
     "text": [
      "ONE FIRST\n",
      "TWO SECOND\n",
      "THREE THIRD\n",
      "FOUR FORTH\n"
     ]
    }
   ],
   "source": [
    "#Read\n",
    "\n",
    "with open('myfile3.txt', 'r') as f:\n",
    "    print(f.read())"
   ]
  },
  {
   "cell_type": "code",
   "execution_count": 24,
   "id": "e11c6038",
   "metadata": {
    "execution": {
     "iopub.execute_input": "2021-10-12T14:16:51.389845Z",
     "iopub.status.busy": "2021-10-12T14:16:51.389071Z",
     "iopub.status.idle": "2021-10-12T14:16:51.393064Z",
     "shell.execute_reply": "2021-10-12T14:16:51.392525Z",
     "shell.execute_reply.started": "2021-10-12T14:16:17.871229Z"
    },
    "papermill": {
     "duration": 0.039767,
     "end_time": "2021-10-12T14:16:51.393222",
     "exception": false,
     "start_time": "2021-10-12T14:16:51.353455",
     "status": "completed"
    },
    "tags": []
   },
   "outputs": [
    {
     "name": "stdout",
     "output_type": "stream",
     "text": [
      "ONE FIRST\n",
      "TWO SECOND\n",
      "THREE THIRD\n",
      "FOUR FORTH\n"
     ]
    }
   ],
   "source": [
    "#The contents in a file can be assigned to a variable\n",
    "\n",
    "with open ('myfile3.txt') as my_new_file:\n",
    "    contents = my_new_file.read()\n",
    "    \n",
    "print(contents)"
   ]
  }
 ],
 "metadata": {
  "kernelspec": {
   "display_name": "Python 3",
   "language": "python",
   "name": "python3"
  },
  "language_info": {
   "codemirror_mode": {
    "name": "ipython",
    "version": 3
   },
   "file_extension": ".py",
   "mimetype": "text/x-python",
   "name": "python",
   "nbconvert_exporter": "python",
   "pygments_lexer": "ipython3",
   "version": "3.7.10"
  },
  "papermill": {
   "default_parameters": {},
   "duration": 12.967279,
   "end_time": "2021-10-12T14:16:52.910387",
   "environment_variables": {},
   "exception": null,
   "input_path": "__notebook__.ipynb",
   "output_path": "__notebook__.ipynb",
   "parameters": {},
   "start_time": "2021-10-12T14:16:39.943108",
   "version": "2.3.3"
  }
 },
 "nbformat": 4,
 "nbformat_minor": 5
}
