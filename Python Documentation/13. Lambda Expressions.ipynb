{
 "cells": [
  {
   "cell_type": "markdown",
   "id": "de4e65c7",
   "metadata": {
    "papermill": {
     "duration": 0.00973,
     "end_time": "2021-10-25T11:47:30.899282",
     "exception": false,
     "start_time": "2021-10-25T11:47:30.889552",
     "status": "completed"
    },
    "tags": []
   },
   "source": [
    "# Lamba Expressions\n",
    "\n",
    "### lambda variable: expression\n",
    "\n",
    "<code>Lambda</code> expressions allow us to create quick *anonymous* functions. The difference between using <code>lambda</code> and <code>def</code> is that lambda's body is a single expression, not a block of statements. The lambda's body is similar to what we would put in a def body's return statement. We simply type the result as an expression instead of explicitly returning it."
   ]
  },
  {
   "cell_type": "code",
   "execution_count": 1,
   "id": "b8aab705",
   "metadata": {
    "execution": {
     "iopub.execute_input": "2021-10-25T11:47:30.923115Z",
     "iopub.status.busy": "2021-10-25T11:47:30.921333Z",
     "iopub.status.idle": "2021-10-25T11:47:30.938865Z",
     "shell.execute_reply": "2021-10-25T11:47:30.938012Z",
     "shell.execute_reply.started": "2021-10-23T07:47:29.008277Z"
    },
    "papermill": {
     "duration": 0.030839,
     "end_time": "2021-10-25T11:47:30.939086",
     "exception": false,
     "start_time": "2021-10-25T11:47:30.908247",
     "status": "completed"
    },
    "tags": []
   },
   "outputs": [
    {
     "data": {
      "text/plain": [
       "<function __main__.<lambda>(num)>"
      ]
     },
     "execution_count": 1,
     "metadata": {},
     "output_type": "execute_result"
    }
   ],
   "source": [
    "# Lambda expression that squares a number\n",
    "\n",
    "lambda num: num ** 2"
   ]
  },
  {
   "cell_type": "code",
   "execution_count": 2,
   "id": "5aa571fd",
   "metadata": {
    "execution": {
     "iopub.execute_input": "2021-10-25T11:47:30.964383Z",
     "iopub.status.busy": "2021-10-25T11:47:30.963491Z",
     "iopub.status.idle": "2021-10-25T11:47:30.966856Z",
     "shell.execute_reply": "2021-10-25T11:47:30.967449Z",
     "shell.execute_reply.started": "2021-10-23T07:48:30.46711Z"
    },
    "papermill": {
     "duration": 0.018702,
     "end_time": "2021-10-25T11:47:30.967635",
     "exception": false,
     "start_time": "2021-10-25T11:47:30.948933",
     "status": "completed"
    },
    "tags": []
   },
   "outputs": [
    {
     "name": "stdout",
     "output_type": "stream",
     "text": [
      "4\n"
     ]
    }
   ],
   "source": [
    "#Using it in conjunction with print\n",
    "\n",
    "print((lambda num: num **2) (2))"
   ]
  },
  {
   "cell_type": "markdown",
   "id": "5081642c",
   "metadata": {
    "papermill": {
     "duration": 0.00902,
     "end_time": "2021-10-25T11:47:30.988438",
     "exception": false,
     "start_time": "2021-10-25T11:47:30.979418",
     "status": "completed"
    },
    "tags": []
   },
   "source": [
    "We assign a name to a <code>lambda</code> expression, thus making it a more simplified version of creating a function."
   ]
  },
  {
   "cell_type": "code",
   "execution_count": 3,
   "id": "7cb0b1ed",
   "metadata": {
    "execution": {
     "iopub.execute_input": "2021-10-25T11:47:31.013519Z",
     "iopub.status.busy": "2021-10-25T11:47:31.012821Z",
     "iopub.status.idle": "2021-10-25T11:47:31.015318Z",
     "shell.execute_reply": "2021-10-25T11:47:31.015813Z",
     "shell.execute_reply.started": "2021-10-23T07:56:21.961692Z"
    },
    "papermill": {
     "duration": 0.018237,
     "end_time": "2021-10-25T11:47:31.015978",
     "exception": false,
     "start_time": "2021-10-25T11:47:30.997741",
     "status": "completed"
    },
    "tags": []
   },
   "outputs": [
    {
     "data": {
      "text/plain": [
       "10"
      ]
     },
     "execution_count": 3,
     "metadata": {},
     "output_type": "execute_result"
    }
   ],
   "source": [
    "add_numbers = lambda x,y: x + y\n",
    "\n",
    "add_numbers(4,6)"
   ]
  },
  {
   "cell_type": "markdown",
   "id": "630b2996",
   "metadata": {
    "papermill": {
     "duration": 0.009675,
     "end_time": "2021-10-25T11:47:31.035196",
     "exception": false,
     "start_time": "2021-10-25T11:47:31.025521",
     "status": "completed"
    },
    "tags": []
   },
   "source": [
    "# Map & Filter\n",
    "\n",
    "Often you only need to use the function you are passing in once, so instead of formally defining it, you just use the lambda expression. Combining lambda with map & filter with lambda is useful and it expands Pyhton abilities and allows us to save time.\n",
    "\n",
    "### map(function, object)\n",
    "Map is a built-in Python function that takes another function and an iterable oject as arguments and allows us to map the object.\n",
    "\n",
    "### filter(function, object)\n",
    "The filter function allows us to filter through an object and return the result that matches a condition. Filtering is a basic concept in Data Science, very useful when using spreadsheets."
   ]
  },
  {
   "cell_type": "code",
   "execution_count": 4,
   "id": "9d192e12",
   "metadata": {
    "execution": {
     "iopub.execute_input": "2021-10-25T11:47:31.057301Z",
     "iopub.status.busy": "2021-10-25T11:47:31.056657Z",
     "iopub.status.idle": "2021-10-25T11:47:31.061604Z",
     "shell.execute_reply": "2021-10-25T11:47:31.062204Z",
     "shell.execute_reply.started": "2021-10-25T11:46:58.784263Z"
    },
    "papermill": {
     "duration": 0.017747,
     "end_time": "2021-10-25T11:47:31.062395",
     "exception": false,
     "start_time": "2021-10-25T11:47:31.044648",
     "status": "completed"
    },
    "tags": []
   },
   "outputs": [
    {
     "data": {
      "text/plain": [
       "[0, 1, 2, 3, 4, 5, 6, 7, 8, 9, 10]"
      ]
     },
     "execution_count": 4,
     "metadata": {},
     "output_type": "execute_result"
    }
   ],
   "source": [
    "# Creating a simple list from 0 to 10\n",
    "\n",
    "my_list = list(range(0,11))\n",
    "my_list"
   ]
  },
  {
   "cell_type": "code",
   "execution_count": 5,
   "id": "9b36bfcf",
   "metadata": {
    "execution": {
     "iopub.execute_input": "2021-10-25T11:47:31.085344Z",
     "iopub.status.busy": "2021-10-25T11:47:31.084660Z",
     "iopub.status.idle": "2021-10-25T11:47:31.090103Z",
     "shell.execute_reply": "2021-10-25T11:47:31.090663Z",
     "shell.execute_reply.started": "2021-10-25T11:47:02.032310Z"
    },
    "papermill": {
     "duration": 0.018635,
     "end_time": "2021-10-25T11:47:31.090846",
     "exception": false,
     "start_time": "2021-10-25T11:47:31.072211",
     "status": "completed"
    },
    "tags": []
   },
   "outputs": [
    {
     "data": {
      "text/plain": [
       "[0, 2, 4, 6, 8, 10, 12, 14, 16, 18, 20]"
      ]
     },
     "execution_count": 5,
     "metadata": {},
     "output_type": "execute_result"
    }
   ],
   "source": [
    "#Map with lambda\n",
    "\n",
    "list(map(lambda num: num * 2, my_list))"
   ]
  },
  {
   "cell_type": "code",
   "execution_count": 6,
   "id": "6fefdc60",
   "metadata": {
    "execution": {
     "iopub.execute_input": "2021-10-25T11:47:31.114825Z",
     "iopub.status.busy": "2021-10-25T11:47:31.114091Z",
     "iopub.status.idle": "2021-10-25T11:47:31.119506Z",
     "shell.execute_reply": "2021-10-25T11:47:31.120067Z",
     "shell.execute_reply.started": "2021-10-25T11:47:04.065861Z"
    },
    "papermill": {
     "duration": 0.019133,
     "end_time": "2021-10-25T11:47:31.120265",
     "exception": false,
     "start_time": "2021-10-25T11:47:31.101132",
     "status": "completed"
    },
    "tags": []
   },
   "outputs": [
    {
     "data": {
      "text/plain": [
       "[0, 2, 4, 6, 8, 10]"
      ]
     },
     "execution_count": 6,
     "metadata": {},
     "output_type": "execute_result"
    }
   ],
   "source": [
    "#Filter with lambda\n",
    "\n",
    "list(filter(lambda num: num % 2 == 0, my_list))"
   ]
  },
  {
   "cell_type": "code",
   "execution_count": 7,
   "id": "9d73af19",
   "metadata": {
    "execution": {
     "iopub.execute_input": "2021-10-25T11:47:31.144947Z",
     "iopub.status.busy": "2021-10-25T11:47:31.144263Z",
     "iopub.status.idle": "2021-10-25T11:47:31.149947Z",
     "shell.execute_reply": "2021-10-25T11:47:31.150528Z",
     "shell.execute_reply.started": "2021-10-25T11:47:08.475876Z"
    },
    "papermill": {
     "duration": 0.019799,
     "end_time": "2021-10-25T11:47:31.150703",
     "exception": false,
     "start_time": "2021-10-25T11:47:31.130904",
     "status": "completed"
    },
    "tags": []
   },
   "outputs": [
    {
     "data": {
      "text/plain": [
       "[0, 4, 8, 12, 16, 20]"
      ]
     },
     "execution_count": 7,
     "metadata": {},
     "output_type": "execute_result"
    }
   ],
   "source": [
    "#Creating a list, that doubles even numbers from my_list, combining both map & filter with lambda\n",
    "\n",
    "new_list = list(map(lambda num: num * 2,list(filter(lambda num: num % 2 == 0, my_list))))\n",
    "\n",
    "new_list"
   ]
  }
 ],
 "metadata": {
  "kernelspec": {
   "display_name": "Python 3",
   "language": "python",
   "name": "python3"
  },
  "language_info": {
   "codemirror_mode": {
    "name": "ipython",
    "version": 3
   },
   "file_extension": ".py",
   "mimetype": "text/x-python",
   "name": "python",
   "nbconvert_exporter": "python",
   "pygments_lexer": "ipython3",
   "version": "3.7.10"
  },
  "papermill": {
   "default_parameters": {},
   "duration": 11.03648,
   "end_time": "2021-10-25T11:47:31.771987",
   "environment_variables": {},
   "exception": null,
   "input_path": "__notebook__.ipynb",
   "output_path": "__notebook__.ipynb",
   "parameters": {},
   "start_time": "2021-10-25T11:47:20.735507",
   "version": "2.3.3"
  }
 },
 "nbformat": 4,
 "nbformat_minor": 5
}
