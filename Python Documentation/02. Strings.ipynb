{
 "cells": [
  {
   "cell_type": "markdown",
   "id": "567c3484",
   "metadata": {
    "papermill": {
     "duration": 0.038743,
     "end_time": "2021-12-08T17:03:40.373239",
     "exception": false,
     "start_time": "2021-12-08T17:03:40.334496",
     "status": "completed"
    },
    "tags": []
   },
   "source": [
    "# Strings\n",
    "\n",
    "Strings are used in Python to record text information, such as names or locations. Full sentences are also counted as strings."
   ]
  },
  {
   "cell_type": "markdown",
   "id": "a40f1100",
   "metadata": {
    "papermill": {
     "duration": 0.038117,
     "end_time": "2021-12-08T17:03:40.453458",
     "exception": false,
     "start_time": "2021-12-08T17:03:40.415341",
     "status": "completed"
    },
    "tags": []
   },
   "source": [
    "# Creating Strings\n",
    "\n",
    "\n",
    "Creating a string is done by using either single quotes or double quotes."
   ]
  },
  {
   "cell_type": "code",
   "execution_count": 1,
   "id": "de0847ac",
   "metadata": {
    "execution": {
     "iopub.execute_input": "2021-12-08T17:03:40.541738Z",
     "iopub.status.busy": "2021-12-08T17:03:40.541037Z",
     "iopub.status.idle": "2021-12-08T17:03:40.548952Z",
     "shell.execute_reply": "2021-12-08T17:03:40.548269Z",
     "shell.execute_reply.started": "2021-12-08T17:02:59.446126Z"
    },
    "papermill": {
     "duration": 0.057308,
     "end_time": "2021-12-08T17:03:40.549116",
     "exception": false,
     "start_time": "2021-12-08T17:03:40.491808",
     "status": "completed"
    },
    "tags": []
   },
   "outputs": [
    {
     "data": {
      "text/plain": [
       "'hello'"
      ]
     },
     "execution_count": 1,
     "metadata": {},
     "output_type": "execute_result"
    }
   ],
   "source": [
    "'hello'"
   ]
  },
  {
   "cell_type": "code",
   "execution_count": 2,
   "id": "27e83cf6",
   "metadata": {
    "execution": {
     "iopub.execute_input": "2021-12-08T17:03:40.630774Z",
     "iopub.status.busy": "2021-12-08T17:03:40.630100Z",
     "iopub.status.idle": "2021-12-08T17:03:40.632858Z",
     "shell.execute_reply": "2021-12-08T17:03:40.633300Z",
     "shell.execute_reply.started": "2021-12-08T17:02:59.481897Z"
    },
    "papermill": {
     "duration": 0.045683,
     "end_time": "2021-12-08T17:03:40.633487",
     "exception": false,
     "start_time": "2021-12-08T17:03:40.587804",
     "status": "completed"
    },
    "tags": []
   },
   "outputs": [
    {
     "data": {
      "text/plain": [
       "'hello world'"
      ]
     },
     "execution_count": 2,
     "metadata": {},
     "output_type": "execute_result"
    }
   ],
   "source": [
    "'hello world'"
   ]
  },
  {
   "cell_type": "code",
   "execution_count": 3,
   "id": "fa8091d2",
   "metadata": {
    "execution": {
     "iopub.execute_input": "2021-12-08T17:03:40.717471Z",
     "iopub.status.busy": "2021-12-08T17:03:40.716764Z",
     "iopub.status.idle": "2021-12-08T17:03:40.719169Z",
     "shell.execute_reply": "2021-12-08T17:03:40.719766Z",
     "shell.execute_reply.started": "2021-12-08T17:02:59.489912Z"
    },
    "papermill": {
     "duration": 0.048161,
     "end_time": "2021-12-08T17:03:40.719937",
     "exception": false,
     "start_time": "2021-12-08T17:03:40.671776",
     "status": "completed"
    },
    "tags": []
   },
   "outputs": [
    {
     "data": {
      "text/plain": [
       "\"I'm worried that this might be too long and too borring for you.\""
      ]
     },
     "execution_count": 3,
     "metadata": {},
     "output_type": "execute_result"
    }
   ],
   "source": [
    "#Full sentences can be include\n",
    "\n",
    "\"I'm worried that this might be too long and too borring for you.\""
   ]
  },
  {
   "cell_type": "markdown",
   "id": "6f50be12",
   "metadata": {
    "papermill": {
     "duration": 0.037904,
     "end_time": "2021-12-08T17:03:40.796239",
     "exception": false,
     "start_time": "2021-12-08T17:03:40.758335",
     "status": "completed"
    },
    "tags": []
   },
   "source": [
    "Strings can also take the shape of numbers if they are written in quotes."
   ]
  },
  {
   "cell_type": "code",
   "execution_count": 4,
   "id": "82908104",
   "metadata": {
    "execution": {
     "iopub.execute_input": "2021-12-08T17:03:40.876133Z",
     "iopub.status.busy": "2021-12-08T17:03:40.875517Z",
     "iopub.status.idle": "2021-12-08T17:03:40.880831Z",
     "shell.execute_reply": "2021-12-08T17:03:40.881323Z",
     "shell.execute_reply.started": "2021-12-08T17:02:59.503889Z"
    },
    "papermill": {
     "duration": 0.046695,
     "end_time": "2021-12-08T17:03:40.881522",
     "exception": false,
     "start_time": "2021-12-08T17:03:40.834827",
     "status": "completed"
    },
    "tags": []
   },
   "outputs": [
    {
     "data": {
      "text/plain": [
       "str"
      ]
     },
     "execution_count": 4,
     "metadata": {},
     "output_type": "execute_result"
    }
   ],
   "source": [
    "type('2')"
   ]
  },
  {
   "cell_type": "markdown",
   "id": "49a6f49a",
   "metadata": {
    "papermill": {
     "duration": 0.039948,
     "end_time": "2021-12-08T17:03:40.960306",
     "exception": false,
     "start_time": "2021-12-08T17:03:40.920358",
     "status": "completed"
    },
    "tags": []
   },
   "source": [
    "Multiple strings can be combined by using *+*, in oder to create a single string."
   ]
  },
  {
   "cell_type": "code",
   "execution_count": 5,
   "id": "a4e338ca",
   "metadata": {
    "execution": {
     "iopub.execute_input": "2021-12-08T17:03:41.042802Z",
     "iopub.status.busy": "2021-12-08T17:03:41.041984Z",
     "iopub.status.idle": "2021-12-08T17:03:41.046314Z",
     "shell.execute_reply": "2021-12-08T17:03:41.046821Z",
     "shell.execute_reply.started": "2021-12-08T17:02:59.517005Z"
    },
    "papermill": {
     "duration": 0.046266,
     "end_time": "2021-12-08T17:03:41.046993",
     "exception": false,
     "start_time": "2021-12-08T17:03:41.000727",
     "status": "completed"
    },
    "tags": []
   },
   "outputs": [
    {
     "data": {
      "text/plain": [
       "'hello world'"
      ]
     },
     "execution_count": 5,
     "metadata": {},
     "output_type": "execute_result"
    }
   ],
   "source": [
    "'hello' + ' ' + 'world'"
   ]
  },
  {
   "cell_type": "markdown",
   "id": "8dc242f5",
   "metadata": {
    "papermill": {
     "duration": 0.038839,
     "end_time": "2021-12-08T17:03:41.126139",
     "exception": false,
     "start_time": "2021-12-08T17:03:41.087300",
     "status": "completed"
    },
    "tags": []
   },
   "source": [
    "# String Printing\n",
    "\n",
    "*Print* is an universal function which is used in, possibly, most programming languages. In Python, it can be used in order to display multiple lines, apart from just one simple 'hello world'. I've used it before in the NUMBERS section, but now I'm going to take a deaper dive in it, including formatting."
   ]
  },
  {
   "cell_type": "code",
   "execution_count": 6,
   "id": "62b2edf2",
   "metadata": {
    "execution": {
     "iopub.execute_input": "2021-12-08T17:03:41.220515Z",
     "iopub.status.busy": "2021-12-08T17:03:41.219529Z",
     "iopub.status.idle": "2021-12-08T17:03:41.224401Z",
     "shell.execute_reply": "2021-12-08T17:03:41.225046Z",
     "shell.execute_reply.started": "2021-12-08T17:02:59.530434Z"
    },
    "papermill": {
     "duration": 0.055769,
     "end_time": "2021-12-08T17:03:41.225222",
     "exception": false,
     "start_time": "2021-12-08T17:03:41.169453",
     "status": "completed"
    },
    "tags": []
   },
   "outputs": [
    {
     "name": "stdout",
     "output_type": "stream",
     "text": [
      "Hello World 1\n",
      "Hello World 2\n"
     ]
    }
   ],
   "source": [
    "#PRINT: print('')\n",
    "\n",
    "print('Hello World 1')\n",
    "print('Hello World 2')\n"
   ]
  },
  {
   "cell_type": "markdown",
   "id": "7385e19f",
   "metadata": {
    "papermill": {
     "duration": 0.042007,
     "end_time": "2021-12-08T17:03:41.317063",
     "exception": false,
     "start_time": "2021-12-08T17:03:41.275056",
     "status": "completed"
    },
    "tags": []
   },
   "source": [
    "Print can be used with variables."
   ]
  },
  {
   "cell_type": "code",
   "execution_count": 7,
   "id": "36887939",
   "metadata": {
    "execution": {
     "iopub.execute_input": "2021-12-08T17:03:41.399321Z",
     "iopub.status.busy": "2021-12-08T17:03:41.398346Z",
     "iopub.status.idle": "2021-12-08T17:03:41.404124Z",
     "shell.execute_reply": "2021-12-08T17:03:41.404967Z",
     "shell.execute_reply.started": "2021-12-08T17:02:59.543306Z"
    },
    "papermill": {
     "duration": 0.048843,
     "end_time": "2021-12-08T17:03:41.405190",
     "exception": false,
     "start_time": "2021-12-08T17:03:41.356347",
     "status": "completed"
    },
    "tags": []
   },
   "outputs": [
    {
     "name": "stdout",
     "output_type": "stream",
     "text": [
      "hello world!\n"
     ]
    }
   ],
   "source": [
    "a = 'hello'\n",
    "b = 'world'\n",
    "print(a,b+\"!\")"
   ]
  },
  {
   "cell_type": "markdown",
   "id": "e61914d9",
   "metadata": {
    "papermill": {
     "duration": 0.040651,
     "end_time": "2021-12-08T17:03:41.486268",
     "exception": false,
     "start_time": "2021-12-08T17:03:41.445617",
     "status": "completed"
    },
    "tags": []
   },
   "source": [
    "Special characters are used to customize the text further."
   ]
  },
  {
   "cell_type": "code",
   "execution_count": 8,
   "id": "c3994551",
   "metadata": {
    "execution": {
     "iopub.execute_input": "2021-12-08T17:03:41.571837Z",
     "iopub.status.busy": "2021-12-08T17:03:41.571069Z",
     "iopub.status.idle": "2021-12-08T17:03:41.574009Z",
     "shell.execute_reply": "2021-12-08T17:03:41.574547Z",
     "shell.execute_reply.started": "2021-12-08T17:02:59.554897Z"
    },
    "papermill": {
     "duration": 0.04818,
     "end_time": "2021-12-08T17:03:41.574726",
     "exception": false,
     "start_time": "2021-12-08T17:03:41.526546",
     "status": "completed"
    },
    "tags": []
   },
   "outputs": [
    {
     "name": "stdout",
     "output_type": "stream",
     "text": [
      "Hello \n",
      "world\n"
     ]
    }
   ],
   "source": [
    "#NEW LINE: \\n\n",
    "\n",
    "print('Hello \\nworld')"
   ]
  },
  {
   "cell_type": "code",
   "execution_count": 9,
   "id": "47ad6242",
   "metadata": {
    "execution": {
     "iopub.execute_input": "2021-12-08T17:03:41.660692Z",
     "iopub.status.busy": "2021-12-08T17:03:41.659832Z",
     "iopub.status.idle": "2021-12-08T17:03:41.662998Z",
     "shell.execute_reply": "2021-12-08T17:03:41.663533Z",
     "shell.execute_reply.started": "2021-12-08T17:02:59.567835Z"
    },
    "papermill": {
     "duration": 0.048755,
     "end_time": "2021-12-08T17:03:41.663709",
     "exception": false,
     "start_time": "2021-12-08T17:03:41.614954",
     "status": "completed"
    },
    "tags": []
   },
   "outputs": [
    {
     "name": "stdout",
     "output_type": "stream",
     "text": [
      "Hello \tworld\n"
     ]
    }
   ],
   "source": [
    "#TAB: \\t\n",
    "\n",
    "print('Hello \\tworld')"
   ]
  },
  {
   "cell_type": "code",
   "execution_count": 10,
   "id": "e5dbab00",
   "metadata": {
    "execution": {
     "iopub.execute_input": "2021-12-08T17:03:41.750279Z",
     "iopub.status.busy": "2021-12-08T17:03:41.749642Z",
     "iopub.status.idle": "2021-12-08T17:03:41.752771Z",
     "shell.execute_reply": "2021-12-08T17:03:41.752172Z",
     "shell.execute_reply.started": "2021-12-08T17:02:59.584625Z"
    },
    "papermill": {
     "duration": 0.047996,
     "end_time": "2021-12-08T17:03:41.752915",
     "exception": false,
     "start_time": "2021-12-08T17:03:41.704919",
     "status": "completed"
    },
    "tags": []
   },
   "outputs": [
    {
     "name": "stdout",
     "output_type": "stream",
     "text": [
      "hello!\n"
     ]
    }
   ],
   "source": [
    "#SEPARATOR: print(..., sep =\"\")\n",
    "\n",
    "print(a,\"!\",sep=\"\")"
   ]
  },
  {
   "cell_type": "markdown",
   "id": "2afe6a81",
   "metadata": {
    "papermill": {
     "duration": 0.040217,
     "end_time": "2021-12-08T17:03:41.834468",
     "exception": false,
     "start_time": "2021-12-08T17:03:41.794251",
     "status": "completed"
    },
    "tags": []
   },
   "source": [
    "# Built-in String Methods\n",
    "\n",
    "Methods are functions which are used in order to perform operations on the string. We call methods with a period and then the method name, followed by brackets which can include one or multiple parameters. Methods take the following form:\n",
    "\n",
    "> object.method(parameters)\n",
    "\n",
    "\n",
    "An important function to first touch on is *len*, which counts the number of characters in a string, or in a multitude of strings or variables that contain strings."
   ]
  },
  {
   "cell_type": "code",
   "execution_count": 11,
   "id": "21617566",
   "metadata": {
    "execution": {
     "iopub.execute_input": "2021-12-08T17:03:41.919098Z",
     "iopub.status.busy": "2021-12-08T17:03:41.918421Z",
     "iopub.status.idle": "2021-12-08T17:03:41.921627Z",
     "shell.execute_reply": "2021-12-08T17:03:41.922243Z",
     "shell.execute_reply.started": "2021-12-08T17:02:59.593869Z"
    },
    "papermill": {
     "duration": 0.047105,
     "end_time": "2021-12-08T17:03:41.922412",
     "exception": false,
     "start_time": "2021-12-08T17:03:41.875307",
     "status": "completed"
    },
    "tags": []
   },
   "outputs": [],
   "source": [
    "s = \"I'm going to use this string for now. I'm happy with it. I guess\""
   ]
  },
  {
   "cell_type": "code",
   "execution_count": 12,
   "id": "5c6daae4",
   "metadata": {
    "execution": {
     "iopub.execute_input": "2021-12-08T17:03:42.007617Z",
     "iopub.status.busy": "2021-12-08T17:03:42.006931Z",
     "iopub.status.idle": "2021-12-08T17:03:42.011338Z",
     "shell.execute_reply": "2021-12-08T17:03:42.011927Z",
     "shell.execute_reply.started": "2021-12-08T17:02:59.603483Z"
    },
    "papermill": {
     "duration": 0.049088,
     "end_time": "2021-12-08T17:03:42.012099",
     "exception": false,
     "start_time": "2021-12-08T17:03:41.963011",
     "status": "completed"
    },
    "tags": []
   },
   "outputs": [
    {
     "data": {
      "text/plain": [
       "5"
      ]
     },
     "execution_count": 12,
     "metadata": {},
     "output_type": "execute_result"
    }
   ],
   "source": [
    "#LENGTH: len(...)\n",
    "\n",
    "len('hello')"
   ]
  },
  {
   "cell_type": "code",
   "execution_count": 13,
   "id": "83614493",
   "metadata": {
    "execution": {
     "iopub.execute_input": "2021-12-08T17:03:42.097919Z",
     "iopub.status.busy": "2021-12-08T17:03:42.097252Z",
     "iopub.status.idle": "2021-12-08T17:03:42.102369Z",
     "shell.execute_reply": "2021-12-08T17:03:42.102921Z",
     "shell.execute_reply.started": "2021-12-08T17:02:59.619757Z"
    },
    "papermill": {
     "duration": 0.049262,
     "end_time": "2021-12-08T17:03:42.103097",
     "exception": false,
     "start_time": "2021-12-08T17:03:42.053835",
     "status": "completed"
    },
    "tags": []
   },
   "outputs": [
    {
     "data": {
      "text/plain": [
       "64"
      ]
     },
     "execution_count": 13,
     "metadata": {},
     "output_type": "execute_result"
    }
   ],
   "source": [
    "len(s)"
   ]
  },
  {
   "cell_type": "code",
   "execution_count": 14,
   "id": "84cb9aa2",
   "metadata": {
    "execution": {
     "iopub.execute_input": "2021-12-08T17:03:42.188888Z",
     "iopub.status.busy": "2021-12-08T17:03:42.188235Z",
     "iopub.status.idle": "2021-12-08T17:03:42.193309Z",
     "shell.execute_reply": "2021-12-08T17:03:42.194206Z",
     "shell.execute_reply.started": "2021-12-08T17:02:59.630905Z"
    },
    "papermill": {
     "duration": 0.050133,
     "end_time": "2021-12-08T17:03:42.194470",
     "exception": false,
     "start_time": "2021-12-08T17:03:42.144337",
     "status": "completed"
    },
    "tags": []
   },
   "outputs": [
    {
     "data": {
      "text/plain": [
       "11"
      ]
     },
     "execution_count": 14,
     "metadata": {},
     "output_type": "execute_result"
    }
   ],
   "source": [
    "len(a+b+\"!\")"
   ]
  },
  {
   "cell_type": "markdown",
   "id": "6e024318",
   "metadata": {
    "papermill": {
     "duration": 0.041136,
     "end_time": "2021-12-08T17:03:42.280181",
     "exception": false,
     "start_time": "2021-12-08T17:03:42.239045",
     "status": "completed"
    },
    "tags": []
   },
   "source": [
    "Other most basic methods for beginners are SPLIT (splitting a string by a character, default is by space), UPPER (makes the string upper case)."
   ]
  },
  {
   "cell_type": "code",
   "execution_count": 15,
   "id": "558408b1",
   "metadata": {
    "execution": {
     "iopub.execute_input": "2021-12-08T17:03:42.367183Z",
     "iopub.status.busy": "2021-12-08T17:03:42.366565Z",
     "iopub.status.idle": "2021-12-08T17:03:42.371254Z",
     "shell.execute_reply": "2021-12-08T17:03:42.371806Z",
     "shell.execute_reply.started": "2021-12-08T17:02:59.644787Z"
    },
    "papermill": {
     "duration": 0.049198,
     "end_time": "2021-12-08T17:03:42.371978",
     "exception": false,
     "start_time": "2021-12-08T17:03:42.322780",
     "status": "completed"
    },
    "tags": []
   },
   "outputs": [
    {
     "data": {
      "text/plain": [
       "[\"I'm going \",\n",
       " 'o use ',\n",
       " 'his s',\n",
       " \"ring for now. I'm happy wi\",\n",
       " 'h i',\n",
       " '. I guess']"
      ]
     },
     "execution_count": 15,
     "metadata": {},
     "output_type": "execute_result"
    }
   ],
   "source": [
    "#SPLIT: string.split(\"\")\n",
    "\n",
    "s.split(\"t\")"
   ]
  },
  {
   "cell_type": "code",
   "execution_count": 16,
   "id": "69ad27ba",
   "metadata": {
    "execution": {
     "iopub.execute_input": "2021-12-08T17:03:42.459165Z",
     "iopub.status.busy": "2021-12-08T17:03:42.458540Z",
     "iopub.status.idle": "2021-12-08T17:03:42.462988Z",
     "shell.execute_reply": "2021-12-08T17:03:42.463513Z",
     "shell.execute_reply.started": "2021-12-08T17:02:59.657125Z"
    },
    "papermill": {
     "duration": 0.049467,
     "end_time": "2021-12-08T17:03:42.463679",
     "exception": false,
     "start_time": "2021-12-08T17:03:42.414212",
     "status": "completed"
    },
    "tags": []
   },
   "outputs": [
    {
     "data": {
      "text/plain": [
       "\"I'M GOING TO USE THIS STRING FOR NOW. I'M HAPPY WITH IT. I GUESS\""
      ]
     },
     "execution_count": 16,
     "metadata": {},
     "output_type": "execute_result"
    }
   ],
   "source": [
    "#UPPER: string.upper()\n",
    "\n",
    "s.upper()"
   ]
  },
  {
   "cell_type": "code",
   "execution_count": 17,
   "id": "38b5b1cd",
   "metadata": {
    "execution": {
     "iopub.execute_input": "2021-12-08T17:03:42.552243Z",
     "iopub.status.busy": "2021-12-08T17:03:42.551616Z",
     "iopub.status.idle": "2021-12-08T17:03:42.555946Z",
     "shell.execute_reply": "2021-12-08T17:03:42.556475Z",
     "shell.execute_reply.started": "2021-12-08T17:02:59.669486Z"
    },
    "papermill": {
     "duration": 0.049714,
     "end_time": "2021-12-08T17:03:42.556651",
     "exception": false,
     "start_time": "2021-12-08T17:03:42.506937",
     "status": "completed"
    },
    "tags": []
   },
   "outputs": [
    {
     "data": {
      "text/plain": [
       "\"i'm going to use this string for now. i'm happy with it. i guess\""
      ]
     },
     "execution_count": 17,
     "metadata": {},
     "output_type": "execute_result"
    }
   ],
   "source": [
    "#LOWER string.lower()\n",
    "\n",
    "s.lower()"
   ]
  },
  {
   "cell_type": "markdown",
   "id": "bce8d653",
   "metadata": {
    "papermill": {
     "duration": 0.042619,
     "end_time": "2021-12-08T17:03:42.642522",
     "exception": false,
     "start_time": "2021-12-08T17:03:42.599903",
     "status": "completed"
    },
    "tags": []
   },
   "source": [
    "# Indexing & Slicing\n",
    "\n",
    "### [start:stop:step]\n",
    "\n",
    "Strings in Python are sequences of characters, aranged in a specific order by the user. This means that we are able to use indexing in order to grab a particular letter from a string."
   ]
  },
  {
   "cell_type": "code",
   "execution_count": 18,
   "id": "63d9c160",
   "metadata": {
    "execution": {
     "iopub.execute_input": "2021-12-08T17:03:42.733173Z",
     "iopub.status.busy": "2021-12-08T17:03:42.732546Z",
     "iopub.status.idle": "2021-12-08T17:03:42.734334Z",
     "shell.execute_reply": "2021-12-08T17:03:42.734846Z",
     "shell.execute_reply.started": "2021-12-08T17:02:59.682263Z"
    },
    "papermill": {
     "duration": 0.049443,
     "end_time": "2021-12-08T17:03:42.735030",
     "exception": false,
     "start_time": "2021-12-08T17:03:42.685587",
     "status": "completed"
    },
    "tags": []
   },
   "outputs": [],
   "source": [
    "mystring = \"Hello World\""
   ]
  },
  {
   "cell_type": "code",
   "execution_count": 19,
   "id": "2b721c7f",
   "metadata": {
    "execution": {
     "iopub.execute_input": "2021-12-08T17:03:42.823709Z",
     "iopub.status.busy": "2021-12-08T17:03:42.823084Z",
     "iopub.status.idle": "2021-12-08T17:03:42.827498Z",
     "shell.execute_reply": "2021-12-08T17:03:42.828015Z",
     "shell.execute_reply.started": "2021-12-08T17:02:59.694665Z"
    },
    "papermill": {
     "duration": 0.050273,
     "end_time": "2021-12-08T17:03:42.828182",
     "exception": false,
     "start_time": "2021-12-08T17:03:42.777909",
     "status": "completed"
    },
    "tags": []
   },
   "outputs": [
    {
     "data": {
      "text/plain": [
       "'H'"
      ]
     },
     "execution_count": 19,
     "metadata": {},
     "output_type": "execute_result"
    }
   ],
   "source": [
    "#First letter from string starts with 0\n",
    "\n",
    "mystring[0]"
   ]
  },
  {
   "cell_type": "code",
   "execution_count": 20,
   "id": "3d7d8706",
   "metadata": {
    "execution": {
     "iopub.execute_input": "2021-12-08T17:03:42.917154Z",
     "iopub.status.busy": "2021-12-08T17:03:42.916196Z",
     "iopub.status.idle": "2021-12-08T17:03:42.921142Z",
     "shell.execute_reply": "2021-12-08T17:03:42.921733Z",
     "shell.execute_reply.started": "2021-12-08T17:02:59.705191Z"
    },
    "papermill": {
     "duration": 0.051028,
     "end_time": "2021-12-08T17:03:42.921899",
     "exception": false,
     "start_time": "2021-12-08T17:03:42.870871",
     "status": "completed"
    },
    "tags": []
   },
   "outputs": [
    {
     "data": {
      "text/plain": [
       "'d'"
      ]
     },
     "execution_count": 20,
     "metadata": {},
     "output_type": "execute_result"
    }
   ],
   "source": [
    "#Last letter from string starts with -1\n",
    "\n",
    "mystring[-1]"
   ]
  },
  {
   "cell_type": "code",
   "execution_count": 21,
   "id": "6b7e451e",
   "metadata": {
    "execution": {
     "iopub.execute_input": "2021-12-08T17:03:43.013219Z",
     "iopub.status.busy": "2021-12-08T17:03:43.012591Z",
     "iopub.status.idle": "2021-12-08T17:03:43.017325Z",
     "shell.execute_reply": "2021-12-08T17:03:43.018031Z",
     "shell.execute_reply.started": "2021-12-08T17:02:59.719618Z"
    },
    "papermill": {
     "duration": 0.053133,
     "end_time": "2021-12-08T17:03:43.018207",
     "exception": false,
     "start_time": "2021-12-08T17:03:42.965074",
     "status": "completed"
    },
    "tags": []
   },
   "outputs": [
    {
     "data": {
      "text/plain": [
       "'Hello'"
      ]
     },
     "execution_count": 21,
     "metadata": {},
     "output_type": "execute_result"
    }
   ],
   "source": [
    "#Goes up to, but does not include\n",
    "\n",
    "mystring[:5]"
   ]
  },
  {
   "cell_type": "code",
   "execution_count": 22,
   "id": "4d52a881",
   "metadata": {
    "execution": {
     "iopub.execute_input": "2021-12-08T17:03:43.111072Z",
     "iopub.status.busy": "2021-12-08T17:03:43.110345Z",
     "iopub.status.idle": "2021-12-08T17:03:43.114892Z",
     "shell.execute_reply": "2021-12-08T17:03:43.115416Z",
     "shell.execute_reply.started": "2021-12-08T17:02:59.728619Z"
    },
    "papermill": {
     "duration": 0.051948,
     "end_time": "2021-12-08T17:03:43.115613",
     "exception": false,
     "start_time": "2021-12-08T17:03:43.063665",
     "status": "completed"
    },
    "tags": []
   },
   "outputs": [
    {
     "data": {
      "text/plain": [
       "'World'"
      ]
     },
     "execution_count": 22,
     "metadata": {},
     "output_type": "execute_result"
    }
   ],
   "source": [
    "#From the end\n",
    "\n",
    "mystring[6:]"
   ]
  },
  {
   "cell_type": "code",
   "execution_count": 23,
   "id": "c91f4f8c",
   "metadata": {
    "execution": {
     "iopub.execute_input": "2021-12-08T17:03:43.207800Z",
     "iopub.status.busy": "2021-12-08T17:03:43.207081Z",
     "iopub.status.idle": "2021-12-08T17:03:43.211479Z",
     "shell.execute_reply": "2021-12-08T17:03:43.212077Z",
     "shell.execute_reply.started": "2021-12-08T17:02:59.742220Z"
    },
    "papermill": {
     "duration": 0.051975,
     "end_time": "2021-12-08T17:03:43.212245",
     "exception": false,
     "start_time": "2021-12-08T17:03:43.160270",
     "status": "completed"
    },
    "tags": []
   },
   "outputs": [
    {
     "data": {
      "text/plain": [
       "'Hello W'"
      ]
     },
     "execution_count": 23,
     "metadata": {},
     "output_type": "execute_result"
    }
   ],
   "source": [
    "mystring[0:7]"
   ]
  },
  {
   "cell_type": "code",
   "execution_count": 24,
   "id": "fafabb03",
   "metadata": {
    "execution": {
     "iopub.execute_input": "2021-12-08T17:03:43.305044Z",
     "iopub.status.busy": "2021-12-08T17:03:43.304353Z",
     "iopub.status.idle": "2021-12-08T17:03:43.309102Z",
     "shell.execute_reply": "2021-12-08T17:03:43.309613Z",
     "shell.execute_reply.started": "2021-12-08T17:02:59.752679Z"
    },
    "papermill": {
     "duration": 0.053113,
     "end_time": "2021-12-08T17:03:43.309780",
     "exception": false,
     "start_time": "2021-12-08T17:03:43.256667",
     "status": "completed"
    },
    "tags": []
   },
   "outputs": [
    {
     "data": {
      "text/plain": [
       "'HloWrd'"
      ]
     },
     "execution_count": 24,
     "metadata": {},
     "output_type": "execute_result"
    }
   ],
   "source": [
    "#jump letters\n",
    "\n",
    "mystring[::2]"
   ]
  },
  {
   "cell_type": "code",
   "execution_count": 25,
   "id": "23899b22",
   "metadata": {
    "execution": {
     "iopub.execute_input": "2021-12-08T17:03:43.405212Z",
     "iopub.status.busy": "2021-12-08T17:03:43.404539Z",
     "iopub.status.idle": "2021-12-08T17:03:43.408323Z",
     "shell.execute_reply": "2021-12-08T17:03:43.407775Z",
     "shell.execute_reply.started": "2021-12-08T17:02:59.764285Z"
    },
    "papermill": {
     "duration": 0.054052,
     "end_time": "2021-12-08T17:03:43.408509",
     "exception": false,
     "start_time": "2021-12-08T17:03:43.354457",
     "status": "completed"
    },
    "tags": []
   },
   "outputs": [
    {
     "data": {
      "text/plain": [
       "'dlroW olleH'"
      ]
     },
     "execution_count": 25,
     "metadata": {},
     "output_type": "execute_result"
    }
   ],
   "source": [
    "#Reverse string trick\n",
    "\n",
    "mystring[::-1]"
   ]
  },
  {
   "cell_type": "code",
   "execution_count": 26,
   "id": "ee7bf275",
   "metadata": {
    "execution": {
     "iopub.execute_input": "2021-12-08T17:03:43.504697Z",
     "iopub.status.busy": "2021-12-08T17:03:43.503983Z",
     "iopub.status.idle": "2021-12-08T17:03:43.508954Z",
     "shell.execute_reply": "2021-12-08T17:03:43.509545Z",
     "shell.execute_reply.started": "2021-12-08T17:02:59.776167Z"
    },
    "papermill": {
     "duration": 0.055895,
     "end_time": "2021-12-08T17:03:43.509712",
     "exception": false,
     "start_time": "2021-12-08T17:03:43.453817",
     "status": "completed"
    },
    "tags": []
   },
   "outputs": [
    {
     "data": {
      "text/plain": [
       "'el o'"
      ]
     },
     "execution_count": 26,
     "metadata": {},
     "output_type": "execute_result"
    }
   ],
   "source": [
    "#Complete Indexing & Slicing\n",
    "\n",
    "mystring[1:8:2]"
   ]
  },
  {
   "cell_type": "markdown",
   "id": "12ef7b01",
   "metadata": {
    "papermill": {
     "duration": 0.044968,
     "end_time": "2021-12-08T17:03:43.600525",
     "exception": false,
     "start_time": "2021-12-08T17:03:43.555557",
     "status": "completed"
    },
    "tags": []
   },
   "source": [
    "# Print Formatting\n",
    "\n",
    "There are two methods which are used in order to format printed string statements, the *f.format* method, or the *F-strings* (formatted string literals)."
   ]
  },
  {
   "cell_type": "markdown",
   "id": "5953dc86",
   "metadata": {
    "papermill": {
     "duration": 0.044853,
     "end_time": "2021-12-08T17:03:43.690678",
     "exception": false,
     "start_time": "2021-12-08T17:03:43.645825",
     "status": "completed"
    },
    "tags": []
   },
   "source": [
    "## .format() method\n",
    "\n",
    "### \"string {} string {}\".format(x, y)\n",
    "\n",
    "This is the simples and most widely used type of print formatting."
   ]
  },
  {
   "cell_type": "code",
   "execution_count": 27,
   "id": "3d6ab1fb",
   "metadata": {
    "execution": {
     "iopub.execute_input": "2021-12-08T17:03:43.784595Z",
     "iopub.status.busy": "2021-12-08T17:03:43.783920Z",
     "iopub.status.idle": "2021-12-08T17:03:43.788584Z",
     "shell.execute_reply": "2021-12-08T17:03:43.789190Z",
     "shell.execute_reply.started": "2021-12-08T17:02:59.789565Z"
    },
    "papermill": {
     "duration": 0.053144,
     "end_time": "2021-12-08T17:03:43.789360",
     "exception": false,
     "start_time": "2021-12-08T17:03:43.736216",
     "status": "completed"
    },
    "tags": []
   },
   "outputs": [
    {
     "name": "stdout",
     "output_type": "stream",
     "text": [
      "This is a string INSERTED\n"
     ]
    }
   ],
   "source": [
    "print('This is a string {}'.format('INSERTED'))"
   ]
  },
  {
   "cell_type": "code",
   "execution_count": 28,
   "id": "86228106",
   "metadata": {
    "execution": {
     "iopub.execute_input": "2021-12-08T17:03:43.884133Z",
     "iopub.status.busy": "2021-12-08T17:03:43.883504Z",
     "iopub.status.idle": "2021-12-08T17:03:43.888767Z",
     "shell.execute_reply": "2021-12-08T17:03:43.889271Z",
     "shell.execute_reply.started": "2021-12-08T17:02:59.799425Z"
    },
    "papermill": {
     "duration": 0.053875,
     "end_time": "2021-12-08T17:03:43.889463",
     "exception": false,
     "start_time": "2021-12-08T17:03:43.835588",
     "status": "completed"
    },
    "tags": []
   },
   "outputs": [
    {
     "name": "stdout",
     "output_type": "stream",
     "text": [
      "My name is Alex\n"
     ]
    }
   ],
   "source": [
    "#It can take on a variable\n",
    "my_name = 'Alex'\n",
    "\n",
    "print('My name is {}'.format(my_name))"
   ]
  },
  {
   "cell_type": "code",
   "execution_count": 29,
   "id": "847da83f",
   "metadata": {
    "execution": {
     "iopub.execute_input": "2021-12-08T17:03:43.986838Z",
     "iopub.status.busy": "2021-12-08T17:03:43.985850Z",
     "iopub.status.idle": "2021-12-08T17:03:43.991848Z",
     "shell.execute_reply": "2021-12-08T17:03:43.991147Z",
     "shell.execute_reply.started": "2021-12-08T17:02:59.809597Z"
    },
    "papermill": {
     "duration": 0.056126,
     "end_time": "2021-12-08T17:03:43.992039",
     "exception": false,
     "start_time": "2021-12-08T17:03:43.935913",
     "status": "completed"
    },
    "tags": []
   },
   "outputs": [
    {
     "name": "stdout",
     "output_type": "stream",
     "text": [
      "The fox brown quick\n"
     ]
    }
   ],
   "source": [
    "#It can take on multiple variables or strings\n",
    "\n",
    "print('The {} {} {}'.format('fox','brown','quick'))"
   ]
  },
  {
   "cell_type": "code",
   "execution_count": 30,
   "id": "b30e6e93",
   "metadata": {
    "execution": {
     "iopub.execute_input": "2021-12-08T17:03:44.091459Z",
     "iopub.status.busy": "2021-12-08T17:03:44.090406Z",
     "iopub.status.idle": "2021-12-08T17:03:44.095980Z",
     "shell.execute_reply": "2021-12-08T17:03:44.096724Z",
     "shell.execute_reply.started": "2021-12-08T17:02:59.821431Z"
    },
    "papermill": {
     "duration": 0.058524,
     "end_time": "2021-12-08T17:03:44.096911",
     "exception": false,
     "start_time": "2021-12-08T17:03:44.038387",
     "status": "completed"
    },
    "tags": []
   },
   "outputs": [
    {
     "name": "stdout",
     "output_type": "stream",
     "text": [
      "The quick brow fox\n"
     ]
    }
   ],
   "source": [
    "#Indexing can be used, in our case, to make a better sentance.\n",
    "\n",
    "print('The {2} {1} {0}'.format('fox','brow','quick'))"
   ]
  },
  {
   "cell_type": "code",
   "execution_count": 31,
   "id": "873d9db2",
   "metadata": {
    "execution": {
     "iopub.execute_input": "2021-12-08T17:03:44.197307Z",
     "iopub.status.busy": "2021-12-08T17:03:44.196301Z",
     "iopub.status.idle": "2021-12-08T17:03:44.199752Z",
     "shell.execute_reply": "2021-12-08T17:03:44.200412Z",
     "shell.execute_reply.started": "2021-12-08T17:02:59.831090Z"
    },
    "papermill": {
     "duration": 0.055931,
     "end_time": "2021-12-08T17:03:44.200659",
     "exception": false,
     "start_time": "2021-12-08T17:03:44.144728",
     "status": "completed"
    },
    "tags": []
   },
   "outputs": [
    {
     "name": "stdout",
     "output_type": "stream",
     "text": [
      "The fox fox fox\n"
     ]
    }
   ],
   "source": [
    "#You can even repeat an index\n",
    "\n",
    "print('The {0} {0} {0}'.format('fox','brow','quick'))"
   ]
  },
  {
   "cell_type": "code",
   "execution_count": 32,
   "id": "29bcdcaf",
   "metadata": {
    "execution": {
     "iopub.execute_input": "2021-12-08T17:03:44.299324Z",
     "iopub.status.busy": "2021-12-08T17:03:44.298359Z",
     "iopub.status.idle": "2021-12-08T17:03:44.304347Z",
     "shell.execute_reply": "2021-12-08T17:03:44.305194Z",
     "shell.execute_reply.started": "2021-12-08T17:02:59.841685Z"
    },
    "papermill": {
     "duration": 0.056411,
     "end_time": "2021-12-08T17:03:44.305417",
     "exception": false,
     "start_time": "2021-12-08T17:03:44.249006",
     "status": "completed"
    },
    "tags": []
   },
   "outputs": [
    {
     "name": "stdout",
     "output_type": "stream",
     "text": [
      "The quick brow fox\n"
     ]
    }
   ],
   "source": [
    "#Index by assigning variables to strings (key words)\n",
    "\n",
    "print('The {q} {b} {f}'.format(f='fox',b='brow',q='quick'))"
   ]
  },
  {
   "cell_type": "markdown",
   "id": "17976ccc",
   "metadata": {
    "papermill": {
     "duration": 0.046613,
     "end_time": "2021-12-08T17:03:44.400127",
     "exception": false,
     "start_time": "2021-12-08T17:03:44.353514",
     "status": "completed"
    },
    "tags": []
   },
   "source": [
    "Numbers can also be formated in a print, for example to round up to just a number of digits in the case of a long decimal number."
   ]
  },
  {
   "cell_type": "code",
   "execution_count": 33,
   "id": "a3d54c38",
   "metadata": {
    "execution": {
     "iopub.execute_input": "2021-12-08T17:03:44.500298Z",
     "iopub.status.busy": "2021-12-08T17:03:44.499346Z",
     "iopub.status.idle": "2021-12-08T17:03:44.502605Z",
     "shell.execute_reply": "2021-12-08T17:03:44.503097Z",
     "shell.execute_reply.started": "2021-12-08T17:02:59.853613Z"
    },
    "papermill": {
     "duration": 0.056152,
     "end_time": "2021-12-08T17:03:44.503266",
     "exception": false,
     "start_time": "2021-12-08T17:03:44.447114",
     "status": "completed"
    },
    "tags": []
   },
   "outputs": [
    {
     "name": "stdout",
     "output_type": "stream",
     "text": [
      "1.2987012987012987\n"
     ]
    }
   ],
   "source": [
    "result = 100/77\n",
    "print(result)"
   ]
  },
  {
   "cell_type": "code",
   "execution_count": 34,
   "id": "874faae2",
   "metadata": {
    "execution": {
     "iopub.execute_input": "2021-12-08T17:03:44.602786Z",
     "iopub.status.busy": "2021-12-08T17:03:44.602111Z",
     "iopub.status.idle": "2021-12-08T17:03:44.604663Z",
     "shell.execute_reply": "2021-12-08T17:03:44.605253Z",
     "shell.execute_reply.started": "2021-12-08T17:02:59.863672Z"
    },
    "papermill": {
     "duration": 0.054526,
     "end_time": "2021-12-08T17:03:44.605438",
     "exception": false,
     "start_time": "2021-12-08T17:03:44.550912",
     "status": "completed"
    },
    "tags": []
   },
   "outputs": [
    {
     "name": "stdout",
     "output_type": "stream",
     "text": [
      "The result was 1.2987012987012987\n"
     ]
    }
   ],
   "source": [
    "print(\"The result was {}\".format(result))"
   ]
  },
  {
   "cell_type": "code",
   "execution_count": 35,
   "id": "90cc2b39",
   "metadata": {
    "execution": {
     "iopub.execute_input": "2021-12-08T17:03:44.707140Z",
     "iopub.status.busy": "2021-12-08T17:03:44.706448Z",
     "iopub.status.idle": "2021-12-08T17:03:44.709145Z",
     "shell.execute_reply": "2021-12-08T17:03:44.709656Z",
     "shell.execute_reply.started": "2021-12-08T17:02:59.875757Z"
    },
    "papermill": {
     "duration": 0.056566,
     "end_time": "2021-12-08T17:03:44.709830",
     "exception": false,
     "start_time": "2021-12-08T17:03:44.653264",
     "status": "completed"
    },
    "tags": []
   },
   "outputs": [
    {
     "name": "stdout",
     "output_type": "stream",
     "text": [
      "The result was 1.299\n"
     ]
    }
   ],
   "source": [
    "#The form it takes is: value:width.precision\n",
    "\n",
    "print(\"The result was {r:1.3f}\".format(r=result))"
   ]
  },
  {
   "cell_type": "code",
   "execution_count": 36,
   "id": "923c709f",
   "metadata": {
    "execution": {
     "iopub.execute_input": "2021-12-08T17:03:44.811165Z",
     "iopub.status.busy": "2021-12-08T17:03:44.810514Z",
     "iopub.status.idle": "2021-12-08T17:03:44.815342Z",
     "shell.execute_reply": "2021-12-08T17:03:44.815995Z",
     "shell.execute_reply.started": "2021-12-08T17:02:59.886024Z"
    },
    "papermill": {
     "duration": 0.057101,
     "end_time": "2021-12-08T17:03:44.816166",
     "exception": false,
     "start_time": "2021-12-08T17:03:44.759065",
     "status": "completed"
    },
    "tags": []
   },
   "outputs": [
    {
     "name": "stdout",
     "output_type": "stream",
     "text": [
      "The result was      1.299\n"
     ]
    }
   ],
   "source": [
    "#You can add witespace by having a bigger width\n",
    "\n",
    "print(\"The result was {r:10.3f}\".format(r=result))"
   ]
  },
  {
   "cell_type": "markdown",
   "id": "464c9408",
   "metadata": {
    "papermill": {
     "duration": 0.048577,
     "end_time": "2021-12-08T17:03:44.913466",
     "exception": false,
     "start_time": "2021-12-08T17:03:44.864889",
     "status": "completed"
    },
    "tags": []
   },
   "source": [
    "## f-strings\n",
    "\n",
    "### f ' String {variable name}'\n",
    "\n",
    "The second way to format a printed string. Most would preffer the other one, but it's okey that we can show this as well."
   ]
  },
  {
   "cell_type": "code",
   "execution_count": 37,
   "id": "a14a6988",
   "metadata": {
    "execution": {
     "iopub.execute_input": "2021-12-08T17:03:45.014773Z",
     "iopub.status.busy": "2021-12-08T17:03:45.013795Z",
     "iopub.status.idle": "2021-12-08T17:03:45.018252Z",
     "shell.execute_reply": "2021-12-08T17:03:45.017750Z",
     "shell.execute_reply.started": "2021-12-08T17:02:59.897488Z"
    },
    "papermill": {
     "duration": 0.056317,
     "end_time": "2021-12-08T17:03:45.018408",
     "exception": false,
     "start_time": "2021-12-08T17:03:44.962091",
     "status": "completed"
    },
    "tags": []
   },
   "outputs": [],
   "source": [
    "# First, my name and my age (or maybe just the first part of it).\n",
    "\n",
    "my_name = 'Alex'\n",
    "my_age = '3'"
   ]
  },
  {
   "cell_type": "code",
   "execution_count": 38,
   "id": "b77a0eec",
   "metadata": {
    "execution": {
     "iopub.execute_input": "2021-12-08T17:03:45.124784Z",
     "iopub.status.busy": "2021-12-08T17:03:45.124027Z",
     "iopub.status.idle": "2021-12-08T17:03:45.126893Z",
     "shell.execute_reply": "2021-12-08T17:03:45.127617Z",
     "shell.execute_reply.started": "2021-12-08T17:02:59.908158Z"
    },
    "papermill": {
     "duration": 0.059324,
     "end_time": "2021-12-08T17:03:45.127844",
     "exception": false,
     "start_time": "2021-12-08T17:03:45.068520",
     "status": "completed"
    },
    "tags": []
   },
   "outputs": [
    {
     "name": "stdout",
     "output_type": "stream",
     "text": [
      "Hello, this is my name: Alex\n"
     ]
    }
   ],
   "source": [
    "print(f'Hello, this is my name: {my_name}')"
   ]
  },
  {
   "cell_type": "code",
   "execution_count": 39,
   "id": "7d42b55a",
   "metadata": {
    "execution": {
     "iopub.execute_input": "2021-12-08T17:03:45.230824Z",
     "iopub.status.busy": "2021-12-08T17:03:45.230154Z",
     "iopub.status.idle": "2021-12-08T17:03:45.234617Z",
     "shell.execute_reply": "2021-12-08T17:03:45.235087Z",
     "shell.execute_reply.started": "2021-12-08T17:02:59.921385Z"
    },
    "papermill": {
     "duration": 0.057108,
     "end_time": "2021-12-08T17:03:45.235263",
     "exception": false,
     "start_time": "2021-12-08T17:03:45.178155",
     "status": "completed"
    },
    "tags": []
   },
   "outputs": [
    {
     "name": "stdout",
     "output_type": "stream",
     "text": [
      "Alex is 3 years old.\n"
     ]
    }
   ],
   "source": [
    "print(f'{my_name} is {my_age} years old.')"
   ]
  }
 ],
 "metadata": {
  "kernelspec": {
   "display_name": "Python 3",
   "language": "python",
   "name": "python3"
  },
  "language_info": {
   "codemirror_mode": {
    "name": "ipython",
    "version": 3
   },
   "file_extension": ".py",
   "mimetype": "text/x-python",
   "name": "python",
   "nbconvert_exporter": "python",
   "pygments_lexer": "ipython3",
   "version": "3.7.10"
  },
  "papermill": {
   "default_parameters": {},
   "duration": 14.879788,
   "end_time": "2021-12-08T17:03:46.486785",
   "environment_variables": {},
   "exception": null,
   "input_path": "__notebook__.ipynb",
   "output_path": "__notebook__.ipynb",
   "parameters": {},
   "start_time": "2021-12-08T17:03:31.606997",
   "version": "2.3.3"
  }
 },
 "nbformat": 4,
 "nbformat_minor": 5
}
