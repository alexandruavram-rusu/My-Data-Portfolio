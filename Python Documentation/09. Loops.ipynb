{
 "cells": [
  {
   "cell_type": "markdown",
   "id": "45c3d832",
   "metadata": {
    "papermill": {
     "duration": 0.02286,
     "end_time": "2021-10-15T14:23:34.006736",
     "exception": false,
     "start_time": "2021-10-15T14:23:33.983876",
     "status": "completed"
    },
    "tags": []
   },
   "source": [
    "# Python Loops\n",
    "\n",
    "Loops allow to repeat similar operations in your code, until the loop has iterated over an object. It makes your jobs a lot easier, especially in complex and long operations.\n",
    "\n",
    "There are two types of loops in Python:\n",
    "*     <code>for</code> loops\n",
    "*     <code>while</code> loops\n",
    "    \n",
    "Loops can also be nested, a nested loop being sometimes mentioned as a 3rd type of loops in Python basic.\n",
    "\n",
    "# for Loops\n",
    "\n",
    "    for item in object:\n",
    "        execute something\n",
    "\n",
    "A <code>for</code> loop goes through items that are iterable (including strings, numbers, lists, dictionaries, variables)."
   ]
  },
  {
   "cell_type": "code",
   "execution_count": 1,
   "id": "e4afd2fb",
   "metadata": {
    "execution": {
     "iopub.execute_input": "2021-10-15T14:23:34.059353Z",
     "iopub.status.busy": "2021-10-15T14:23:34.053244Z",
     "iopub.status.idle": "2021-10-15T14:23:34.067654Z",
     "shell.execute_reply": "2021-10-15T14:23:34.066900Z",
     "shell.execute_reply.started": "2021-10-15T12:38:44.827148Z"
    },
    "papermill": {
     "duration": 0.039551,
     "end_time": "2021-10-15T14:23:34.067831",
     "exception": false,
     "start_time": "2021-10-15T14:23:34.028280",
     "status": "completed"
    },
    "tags": []
   },
   "outputs": [],
   "source": [
    "# Creating a list\n",
    "\n",
    "my_list = [1,2,3,4,5,6,7,8,9,10]"
   ]
  },
  {
   "cell_type": "code",
   "execution_count": 2,
   "id": "a8843ee0",
   "metadata": {
    "execution": {
     "iopub.execute_input": "2021-10-15T14:23:34.115762Z",
     "iopub.status.busy": "2021-10-15T14:23:34.114962Z",
     "iopub.status.idle": "2021-10-15T14:23:34.117897Z",
     "shell.execute_reply": "2021-10-15T14:23:34.118751Z",
     "shell.execute_reply.started": "2021-10-15T12:43:08.000440Z"
    },
    "papermill": {
     "duration": 0.029725,
     "end_time": "2021-10-15T14:23:34.118970",
     "exception": false,
     "start_time": "2021-10-15T14:23:34.089245",
     "status": "completed"
    },
    "tags": []
   },
   "outputs": [
    {
     "name": "stdout",
     "output_type": "stream",
     "text": [
      "1\n",
      "2\n",
      "3\n",
      "4\n",
      "5\n",
      "6\n",
      "7\n",
      "8\n",
      "9\n",
      "10\n"
     ]
    }
   ],
   "source": [
    "#Using a for loop\n",
    "\n",
    "for num in my_list:\n",
    "    print(num)"
   ]
  },
  {
   "cell_type": "code",
   "execution_count": 3,
   "id": "41f737ec",
   "metadata": {
    "execution": {
     "iopub.execute_input": "2021-10-15T14:23:34.166237Z",
     "iopub.status.busy": "2021-10-15T14:23:34.165557Z",
     "iopub.status.idle": "2021-10-15T14:23:34.171927Z",
     "shell.execute_reply": "2021-10-15T14:23:34.171384Z",
     "shell.execute_reply.started": "2021-10-15T12:44:10.790131Z"
    },
    "papermill": {
     "duration": 0.030346,
     "end_time": "2021-10-15T14:23:34.172179",
     "exception": false,
     "start_time": "2021-10-15T14:23:34.141833",
     "status": "completed"
    },
    "tags": []
   },
   "outputs": [
    {
     "name": "stdout",
     "output_type": "stream",
     "text": [
      "hi\n",
      "hi\n",
      "hi\n",
      "hi\n",
      "hi\n",
      "hi\n",
      "hi\n",
      "hi\n",
      "hi\n",
      "hi\n"
     ]
    }
   ],
   "source": [
    "#Using a for loop to print out something multiple times\n",
    "\n",
    "for num in my_list:\n",
    "    print(\"hi\")"
   ]
  },
  {
   "cell_type": "code",
   "execution_count": 4,
   "id": "69f7a1a0",
   "metadata": {
    "execution": {
     "iopub.execute_input": "2021-10-15T14:23:34.222998Z",
     "iopub.status.busy": "2021-10-15T14:23:34.221960Z",
     "iopub.status.idle": "2021-10-15T14:23:34.227996Z",
     "shell.execute_reply": "2021-10-15T14:23:34.229013Z",
     "shell.execute_reply.started": "2021-10-15T12:44:23.729286Z"
    },
    "papermill": {
     "duration": 0.034734,
     "end_time": "2021-10-15T14:23:34.229284",
     "exception": false,
     "start_time": "2021-10-15T14:23:34.194550",
     "status": "completed"
    },
    "tags": []
   },
   "outputs": [
    {
     "name": "stdout",
     "output_type": "stream",
     "text": [
      "1 . hi\n",
      "2 . hi\n",
      "3 . hi\n",
      "4 . hi\n",
      "5 . hi\n",
      "6 . hi\n",
      "7 . hi\n",
      "8 . hi\n",
      "9 . hi\n",
      "10 . hi\n"
     ]
    }
   ],
   "source": [
    "#Expanding on the previous for loop\n",
    "\n",
    "a = 1\n",
    "\n",
    "for num in my_list:\n",
    "    print(a, '. hi')\n",
    "    a += 1"
   ]
  },
  {
   "cell_type": "code",
   "execution_count": 5,
   "id": "dc04ed22",
   "metadata": {
    "execution": {
     "iopub.execute_input": "2021-10-15T14:23:34.280718Z",
     "iopub.status.busy": "2021-10-15T14:23:34.279984Z",
     "iopub.status.idle": "2021-10-15T14:23:34.283596Z",
     "shell.execute_reply": "2021-10-15T14:23:34.282914Z",
     "shell.execute_reply.started": "2021-10-15T12:46:34.257132Z"
    },
    "papermill": {
     "duration": 0.030495,
     "end_time": "2021-10-15T14:23:34.283737",
     "exception": false,
     "start_time": "2021-10-15T14:23:34.253242",
     "status": "completed"
    },
    "tags": []
   },
   "outputs": [
    {
     "name": "stdout",
     "output_type": "stream",
     "text": [
      "55\n"
     ]
    }
   ],
   "source": [
    "#A for loop that sums up the list\n",
    "\n",
    "list_sum = 0\n",
    "\n",
    "for num in my_list:\n",
    "    list_sum += num\n",
    "\n",
    "#Print below is not in the foor loop\n",
    "print(list_sum)"
   ]
  },
  {
   "cell_type": "code",
   "execution_count": 6,
   "id": "892277fc",
   "metadata": {
    "execution": {
     "iopub.execute_input": "2021-10-15T14:23:34.334350Z",
     "iopub.status.busy": "2021-10-15T14:23:34.333687Z",
     "iopub.status.idle": "2021-10-15T14:23:34.337202Z",
     "shell.execute_reply": "2021-10-15T14:23:34.336632Z",
     "shell.execute_reply.started": "2021-10-15T12:58:35.347723Z"
    },
    "papermill": {
     "duration": 0.03126,
     "end_time": "2021-10-15T14:23:34.337337",
     "exception": false,
     "start_time": "2021-10-15T14:23:34.306077",
     "status": "completed"
    },
    "tags": []
   },
   "outputs": [
    {
     "name": "stdout",
     "output_type": "stream",
     "text": [
      "H\n",
      "e\n",
      "l\n",
      "l\n",
      "o\n",
      " \n",
      "W\n",
      "o\n",
      "r\n",
      "l\n",
      "d\n"
     ]
    }
   ],
   "source": [
    "#We can even use strings\n",
    "\n",
    "for letter in \"Hello World\":\n",
    "    print(letter)"
   ]
  },
  {
   "cell_type": "code",
   "execution_count": 7,
   "id": "4b47ca54",
   "metadata": {
    "execution": {
     "iopub.execute_input": "2021-10-15T14:23:34.388513Z",
     "iopub.status.busy": "2021-10-15T14:23:34.387685Z",
     "iopub.status.idle": "2021-10-15T14:23:34.391169Z",
     "shell.execute_reply": "2021-10-15T14:23:34.391646Z",
     "shell.execute_reply.started": "2021-10-15T12:59:49.865938Z"
    },
    "papermill": {
     "duration": 0.031786,
     "end_time": "2021-10-15T14:23:34.391818",
     "exception": false,
     "start_time": "2021-10-15T14:23:34.360032",
     "status": "completed"
    },
    "tags": []
   },
   "outputs": [
    {
     "name": "stdout",
     "output_type": "stream",
     "text": [
      "Cool\n",
      "Cool\n",
      "Cool\n",
      "Cool\n",
      "Cool\n"
     ]
    }
   ],
   "source": [
    "#Using strings, part 2... just to show how versatile loops can be\n",
    "\n",
    "for letter in \"Hello\":\n",
    "    print('Cool')"
   ]
  },
  {
   "cell_type": "markdown",
   "id": "e005f514",
   "metadata": {
    "papermill": {
     "duration": 0.023412,
     "end_time": "2021-10-15T14:23:34.438610",
     "exception": false,
     "start_time": "2021-10-15T14:23:34.415198",
     "status": "completed"
    },
    "tags": []
   },
   "source": [
    "Dictionaries are a little harder to operate on in a <code>for</code> loop, but we are able to perform a *dictionary unpacking*, separating keys and values using the methods: **.keys()**, **.values()** and **.items()**."
   ]
  },
  {
   "cell_type": "code",
   "execution_count": 8,
   "id": "d72f497b",
   "metadata": {
    "execution": {
     "iopub.execute_input": "2021-10-15T14:23:34.492689Z",
     "iopub.status.busy": "2021-10-15T14:23:34.491893Z",
     "iopub.status.idle": "2021-10-15T14:23:34.495158Z",
     "shell.execute_reply": "2021-10-15T14:23:34.495660Z",
     "shell.execute_reply.started": "2021-10-15T12:52:08.291759Z"
    },
    "papermill": {
     "duration": 0.0343,
     "end_time": "2021-10-15T14:23:34.495828",
     "exception": false,
     "start_time": "2021-10-15T14:23:34.461528",
     "status": "completed"
    },
    "tags": []
   },
   "outputs": [
    {
     "data": {
      "text/plain": [
       "{'k1': 1, 'k2': 2, 'k3': 3}"
      ]
     },
     "execution_count": 8,
     "metadata": {},
     "output_type": "execute_result"
    }
   ],
   "source": [
    "#Creating a dictionary\n",
    "\n",
    "d = {'k1':1,'k2':2,'k3':3}\n",
    "d"
   ]
  },
  {
   "cell_type": "code",
   "execution_count": 9,
   "id": "2b6e83d4",
   "metadata": {
    "execution": {
     "iopub.execute_input": "2021-10-15T14:23:34.549702Z",
     "iopub.status.busy": "2021-10-15T14:23:34.548672Z",
     "iopub.status.idle": "2021-10-15T14:23:34.552841Z",
     "shell.execute_reply": "2021-10-15T14:23:34.553362Z",
     "shell.execute_reply.started": "2021-10-15T12:54:36.460855Z"
    },
    "papermill": {
     "duration": 0.033253,
     "end_time": "2021-10-15T14:23:34.553550",
     "exception": false,
     "start_time": "2021-10-15T14:23:34.520297",
     "status": "completed"
    },
    "tags": []
   },
   "outputs": [
    {
     "name": "stdout",
     "output_type": "stream",
     "text": [
      "k1\n",
      "1\n",
      "k2\n",
      "2\n",
      "k3\n",
      "3\n"
     ]
    }
   ],
   "source": [
    "#Dictionary unpacking\n",
    "\n",
    "for key, value in d.items():\n",
    "    print(key)\n",
    "    print(value)"
   ]
  },
  {
   "cell_type": "code",
   "execution_count": 10,
   "id": "eb212160",
   "metadata": {
    "execution": {
     "iopub.execute_input": "2021-10-15T14:23:34.607377Z",
     "iopub.status.busy": "2021-10-15T14:23:34.606643Z",
     "iopub.status.idle": "2021-10-15T14:23:34.610229Z",
     "shell.execute_reply": "2021-10-15T14:23:34.609357Z",
     "shell.execute_reply.started": "2021-10-15T12:55:49.510181Z"
    },
    "papermill": {
     "duration": 0.033185,
     "end_time": "2021-10-15T14:23:34.610382",
     "exception": false,
     "start_time": "2021-10-15T14:23:34.577197",
     "status": "completed"
    },
    "tags": []
   },
   "outputs": [
    {
     "name": "stdout",
     "output_type": "stream",
     "text": [
      "k1\n",
      "k2\n",
      "k3\n"
     ]
    }
   ],
   "source": [
    "#Printing keys\n",
    "\n",
    "for key, value in d.items():\n",
    "    print(key)"
   ]
  },
  {
   "cell_type": "code",
   "execution_count": 11,
   "id": "e74ff150",
   "metadata": {
    "execution": {
     "iopub.execute_input": "2021-10-15T14:23:34.665800Z",
     "iopub.status.busy": "2021-10-15T14:23:34.664774Z",
     "iopub.status.idle": "2021-10-15T14:23:34.669387Z",
     "shell.execute_reply": "2021-10-15T14:23:34.668675Z",
     "shell.execute_reply.started": "2021-10-15T12:56:32.975616Z"
    },
    "papermill": {
     "duration": 0.034653,
     "end_time": "2021-10-15T14:23:34.669538",
     "exception": false,
     "start_time": "2021-10-15T14:23:34.634885",
     "status": "completed"
    },
    "tags": []
   },
   "outputs": [
    {
     "name": "stdout",
     "output_type": "stream",
     "text": [
      "1\n",
      "2\n",
      "3\n"
     ]
    }
   ],
   "source": [
    "#Printing values\n",
    "\n",
    "for value in d.values():\n",
    "    print(value)"
   ]
  },
  {
   "cell_type": "code",
   "execution_count": 12,
   "id": "d6033ecd",
   "metadata": {
    "execution": {
     "iopub.execute_input": "2021-10-15T14:23:34.723969Z",
     "iopub.status.busy": "2021-10-15T14:23:34.722038Z",
     "iopub.status.idle": "2021-10-15T14:23:34.729377Z",
     "shell.execute_reply": "2021-10-15T14:23:34.728765Z",
     "shell.execute_reply.started": "2021-10-15T12:57:39.594884Z"
    },
    "papermill": {
     "duration": 0.034997,
     "end_time": "2021-10-15T14:23:34.729515",
     "exception": false,
     "start_time": "2021-10-15T14:23:34.694518",
     "status": "completed"
    },
    "tags": []
   },
   "outputs": [
    {
     "name": "stdout",
     "output_type": "stream",
     "text": [
      "The key k1 has the value 1\n",
      "The key k2 has the value 2\n",
      "The key k3 has the value 3\n"
     ]
    }
   ],
   "source": [
    "#Printing them in an orderly manner\n",
    "\n",
    "for key, value in d.items():\n",
    "    print('The key',key,'has the value',value)"
   ]
  },
  {
   "cell_type": "markdown",
   "id": "4c5f8b16",
   "metadata": {
    "papermill": {
     "duration": 0.025191,
     "end_time": "2021-10-15T14:23:34.779595",
     "exception": false,
     "start_time": "2021-10-15T14:23:34.754404",
     "status": "completed"
    },
    "tags": []
   },
   "source": [
    "Apart from dictionary, we can also employ *tuple unpacking*."
   ]
  },
  {
   "cell_type": "code",
   "execution_count": 13,
   "id": "5e5edf79",
   "metadata": {
    "execution": {
     "iopub.execute_input": "2021-10-15T14:23:34.836421Z",
     "iopub.status.busy": "2021-10-15T14:23:34.835739Z",
     "iopub.status.idle": "2021-10-15T14:23:34.839581Z",
     "shell.execute_reply": "2021-10-15T14:23:34.838865Z",
     "shell.execute_reply.started": "2021-10-15T13:16:19.683716Z"
    },
    "papermill": {
     "duration": 0.03571,
     "end_time": "2021-10-15T14:23:34.839723",
     "exception": false,
     "start_time": "2021-10-15T14:23:34.804013",
     "status": "completed"
    },
    "tags": []
   },
   "outputs": [
    {
     "data": {
      "text/plain": [
       "[(1, 2), (3, 4), (5, 6), (7, 8), (9, 10)]"
      ]
     },
     "execution_count": 13,
     "metadata": {},
     "output_type": "execute_result"
    }
   ],
   "source": [
    "#Creating another list\n",
    "\n",
    "my_list = [(1,2),(3,4),(5,6),(7,8),(9,10)]\n",
    "\n",
    "my_list"
   ]
  },
  {
   "cell_type": "code",
   "execution_count": 14,
   "id": "994be5b4",
   "metadata": {
    "execution": {
     "iopub.execute_input": "2021-10-15T14:23:34.895264Z",
     "iopub.status.busy": "2021-10-15T14:23:34.894548Z",
     "iopub.status.idle": "2021-10-15T14:23:34.898917Z",
     "shell.execute_reply": "2021-10-15T14:23:34.899479Z",
     "shell.execute_reply.started": "2021-10-15T13:16:53.570154Z"
    },
    "papermill": {
     "duration": 0.034656,
     "end_time": "2021-10-15T14:23:34.899670",
     "exception": false,
     "start_time": "2021-10-15T14:23:34.865014",
     "status": "completed"
    },
    "tags": []
   },
   "outputs": [
    {
     "name": "stdout",
     "output_type": "stream",
     "text": [
      "(1, 2)\n",
      "(3, 4)\n",
      "(5, 6)\n",
      "(7, 8)\n",
      "(9, 10)\n"
     ]
    }
   ],
   "source": [
    "for tup in my_list:\n",
    "    print(tup)"
   ]
  },
  {
   "cell_type": "code",
   "execution_count": 15,
   "id": "b8d3209d",
   "metadata": {
    "execution": {
     "iopub.execute_input": "2021-10-15T14:23:34.956804Z",
     "iopub.status.busy": "2021-10-15T14:23:34.954209Z",
     "iopub.status.idle": "2021-10-15T14:23:34.962004Z",
     "shell.execute_reply": "2021-10-15T14:23:34.961143Z",
     "shell.execute_reply.started": "2021-10-15T13:17:57.059991Z"
    },
    "papermill": {
     "duration": 0.036362,
     "end_time": "2021-10-15T14:23:34.962211",
     "exception": false,
     "start_time": "2021-10-15T14:23:34.925849",
     "status": "completed"
    },
    "tags": []
   },
   "outputs": [
    {
     "name": "stdout",
     "output_type": "stream",
     "text": [
      "1\n",
      "2\n",
      "3\n",
      "4\n",
      "5\n",
      "6\n",
      "7\n",
      "8\n",
      "9\n",
      "10\n"
     ]
    }
   ],
   "source": [
    "#Unpacking the tuple\n",
    "\n",
    "for (tup1, tup2) in my_list:\n",
    "    print(tup1)\n",
    "    print(tup2)"
   ]
  },
  {
   "cell_type": "markdown",
   "id": "ff4c8ba8",
   "metadata": {
    "papermill": {
     "duration": 0.02531,
     "end_time": "2021-10-15T14:23:35.014890",
     "exception": false,
     "start_time": "2021-10-15T14:23:34.989580",
     "status": "completed"
    },
    "tags": []
   },
   "source": [
    "We can also employ an if statement in a <code>for</code> loop in order to expand on the loop. This will prove very helpful in expanding Python functionality."
   ]
  },
  {
   "cell_type": "code",
   "execution_count": 16,
   "id": "e4e5672a",
   "metadata": {
    "execution": {
     "iopub.execute_input": "2021-10-15T14:23:35.075249Z",
     "iopub.status.busy": "2021-10-15T14:23:35.074402Z",
     "iopub.status.idle": "2021-10-15T14:23:35.078288Z",
     "shell.execute_reply": "2021-10-15T14:23:35.078801Z",
     "shell.execute_reply.started": "2021-10-15T13:38:25.875752Z"
    },
    "papermill": {
     "duration": 0.03899,
     "end_time": "2021-10-15T14:23:35.079338",
     "exception": false,
     "start_time": "2021-10-15T14:23:35.040348",
     "status": "completed"
    },
    "tags": []
   },
   "outputs": [
    {
     "name": "stdout",
     "output_type": "stream",
     "text": [
      "FIRST NUMBER: 0\n",
      "Odd number: 1\n",
      "Even number: 2\n",
      "Odd number: 3\n",
      "Even number: 4\n",
      "Odd number: 5\n",
      "Even number: 6\n",
      "Odd number: 7\n",
      "Even number: 8\n",
      "Odd number: 9\n",
      "LAST NUMBER: 10\n"
     ]
    }
   ],
   "source": [
    "#Printing even and odd numbers:\n",
    "\n",
    "my_list =[0,1,2,3,4,5,6,7,8,9,10]\n",
    "\n",
    "for num in my_list:\n",
    "    if num == 0:\n",
    "        print('FIRST NUMBER: {}'.format(num))\n",
    "    elif num == 10:\n",
    "        print('LAST NUMBER: {}'.format(num))\n",
    "    elif num % 2 == 1:\n",
    "        print(\"Odd number: {}\".format(num))\n",
    "    elif num % 2 == 0:\n",
    "        print('Even number: {}'.format(num))"
   ]
  },
  {
   "cell_type": "markdown",
   "id": "741ddc85",
   "metadata": {
    "papermill": {
     "duration": 0.027149,
     "end_time": "2021-10-15T14:23:35.133310",
     "exception": false,
     "start_time": "2021-10-15T14:23:35.106161",
     "status": "completed"
    },
    "tags": []
   },
   "source": [
    "# while Loops\n",
    "\n",
    "    while condition:\n",
    "        execute something\n",
    "\n",
    "While <code>for</code> loops might be more popular, <code>while</code> loops are can be extremely useful and expand the functionality of the code. The loop will repeatedly execute a single or more statements as long as the condition is true. It can act sort of an if statement, but in a loop\n",
    "\n",
    "A word of caution: You can very easily create a <code>while</code> loop that can run infinitely, thus breaking the code."
   ]
  },
  {
   "cell_type": "code",
   "execution_count": 17,
   "id": "d9823ecf",
   "metadata": {
    "execution": {
     "iopub.execute_input": "2021-10-15T14:23:35.191396Z",
     "iopub.status.busy": "2021-10-15T14:23:35.190682Z",
     "iopub.status.idle": "2021-10-15T14:23:35.198206Z",
     "shell.execute_reply": "2021-10-15T14:23:35.197435Z",
     "shell.execute_reply.started": "2021-10-15T13:55:43.516627Z"
    },
    "papermill": {
     "duration": 0.038589,
     "end_time": "2021-10-15T14:23:35.198353",
     "exception": false,
     "start_time": "2021-10-15T14:23:35.159764",
     "status": "completed"
    },
    "tags": []
   },
   "outputs": [
    {
     "name": "stdout",
     "output_type": "stream",
     "text": [
      "The number is 10\n",
      "The number is 9\n",
      "The number is 8\n",
      "The number is 7\n",
      "The number is 6\n",
      "The number is 5\n",
      "The number is 4\n",
      "The number is 3\n",
      "The number is 2\n",
      "The number is 1\n",
      "0 is less than 1\n"
     ]
    }
   ],
   "source": [
    "#Simple while loop\n",
    "\n",
    "num = 10\n",
    "\n",
    "while num > 0:\n",
    "    print('The number is {}'.format(num))\n",
    "    num -= 1\n",
    "else:\n",
    "    print('{} is less than 1'.format(num))"
   ]
  },
  {
   "cell_type": "markdown",
   "id": "848933c1",
   "metadata": {
    "papermill": {
     "duration": 0.026846,
     "end_time": "2021-10-15T14:23:35.252582",
     "exception": false,
     "start_time": "2021-10-15T14:23:35.225736",
     "status": "completed"
    },
    "tags": []
   },
   "source": [
    "# Break, Continue, Pass\n",
    "\n",
    "    while test: \n",
    "        code statement\n",
    "        if test: \n",
    "            break\n",
    "        if test: \n",
    "            continue \n",
    "    else:\n",
    "\n",
    "\n",
    "Loops employ three main statements that help us in a loop functionality. They are usually used in <code>while</code> loops.\n",
    "    \n",
    "    \n",
    "    break: Breaks out of the current closest enclosing loop.\n",
    "    continue: Goes to the top of the closest enclosing loop.\n",
    "    pass: Does nothing at all.\n",
    "\n"
   ]
  },
  {
   "cell_type": "code",
   "execution_count": 18,
   "id": "1a72708a",
   "metadata": {
    "execution": {
     "iopub.execute_input": "2021-10-15T14:23:35.310460Z",
     "iopub.status.busy": "2021-10-15T14:23:35.309670Z",
     "iopub.status.idle": "2021-10-15T14:23:35.315318Z",
     "shell.execute_reply": "2021-10-15T14:23:35.315877Z",
     "shell.execute_reply.started": "2021-10-15T14:13:06.930334Z"
    },
    "papermill": {
     "duration": 0.037155,
     "end_time": "2021-10-15T14:23:35.316076",
     "exception": false,
     "start_time": "2021-10-15T14:23:35.278921",
     "status": "completed"
    },
    "tags": []
   },
   "outputs": [
    {
     "name": "stdout",
     "output_type": "stream",
     "text": [
      "0\n",
      "1\n",
      "2\n",
      "3\n"
     ]
    }
   ],
   "source": [
    "#Break\n",
    "\n",
    "num = 0\n",
    "\n",
    "while num < 5:\n",
    "    \n",
    "    if num == 4:\n",
    "        break\n",
    "    print(num)\n",
    "    num += 1"
   ]
  },
  {
   "cell_type": "code",
   "execution_count": 19,
   "id": "91cfc982",
   "metadata": {
    "execution": {
     "iopub.execute_input": "2021-10-15T14:23:35.379569Z",
     "iopub.status.busy": "2021-10-15T14:23:35.378527Z",
     "iopub.status.idle": "2021-10-15T14:23:35.383846Z",
     "shell.execute_reply": "2021-10-15T14:23:35.383285Z",
     "shell.execute_reply.started": "2021-10-15T14:11:46.488313Z"
    },
    "papermill": {
     "duration": 0.039647,
     "end_time": "2021-10-15T14:23:35.383984",
     "exception": false,
     "start_time": "2021-10-15T14:23:35.344337",
     "status": "completed"
    },
    "tags": []
   },
   "outputs": [
    {
     "name": "stdout",
     "output_type": "stream",
     "text": [
      "Num is currently: 10\n",
      "Num is currently: 9\n",
      "\n",
      "\n",
      "I hate even numbers\n",
      "Num is currently: 8\n",
      "Num is currently: 7\n",
      "\n",
      "\n",
      "I hate even numbers\n",
      "Num is currently: 6\n",
      "Num is currently: 5\n",
      "\n",
      "\n",
      "I hate even numbers\n",
      "Num is currently: 4\n",
      "Num is currently: 3\n",
      "\n",
      "\n",
      "I hate even numbers\n",
      "Num is currently: 2\n",
      "Num is currently: 1\n",
      "\n",
      "\n",
      "I hate even numbers\n"
     ]
    }
   ],
   "source": [
    "#Continue\n",
    "\n",
    "num = 10\n",
    "\n",
    "while num > 0:\n",
    "    print('Num is currently: {}'.format(num))\n",
    "    num -= 1\n",
    "    if num % 2 == 0:\n",
    "        print(\"\\n\")\n",
    "        print('I hate even numbers')\n",
    "    else:\n",
    "        continue"
   ]
  },
  {
   "cell_type": "code",
   "execution_count": 20,
   "id": "07f8e7a1",
   "metadata": {
    "execution": {
     "iopub.execute_input": "2021-10-15T14:23:35.445076Z",
     "iopub.status.busy": "2021-10-15T14:23:35.444243Z",
     "iopub.status.idle": "2021-10-15T14:23:35.448279Z",
     "shell.execute_reply": "2021-10-15T14:23:35.448808Z",
     "shell.execute_reply.started": "2021-10-15T14:12:53.177260Z"
    },
    "papermill": {
     "duration": 0.037862,
     "end_time": "2021-10-15T14:23:35.448989",
     "exception": false,
     "start_time": "2021-10-15T14:23:35.411127",
     "status": "completed"
    },
    "tags": []
   },
   "outputs": [
    {
     "name": "stdout",
     "output_type": "stream",
     "text": [
      "Even number is currently: 10\n",
      "Even number is currently: 8\n",
      "Even number is currently: 6\n",
      "Even number is currently: 4\n",
      "Even number is currently: 2\n"
     ]
    }
   ],
   "source": [
    "#Pass\n",
    "\n",
    "num = 10\n",
    "\n",
    "while num > 0:\n",
    "    \n",
    "    if num % 2 == 0:\n",
    "        print('Even number is currently: {}'.format(num))\n",
    "        \n",
    "    else:\n",
    "        pass\n",
    "    num -= 1"
   ]
  },
  {
   "cell_type": "markdown",
   "id": "c7f223aa",
   "metadata": {
    "papermill": {
     "duration": 0.029383,
     "end_time": "2021-10-15T14:23:35.507588",
     "exception": false,
     "start_time": "2021-10-15T14:23:35.478205",
     "status": "completed"
    },
    "tags": []
   },
   "source": [
    "# Nested Loops\n",
    "\n",
    "A nested loop is a loop inside a loop... and it can even be a loop inside a loop inside a loop and so on. Just a simple example."
   ]
  },
  {
   "cell_type": "code",
   "execution_count": 21,
   "id": "4f49534f",
   "metadata": {
    "execution": {
     "iopub.execute_input": "2021-10-15T14:23:35.573331Z",
     "iopub.status.busy": "2021-10-15T14:23:35.572540Z",
     "iopub.status.idle": "2021-10-15T14:23:35.581506Z",
     "shell.execute_reply": "2021-10-15T14:23:35.580856Z",
     "shell.execute_reply.started": "2021-10-15T14:17:14.525532Z"
    },
    "papermill": {
     "duration": 0.045256,
     "end_time": "2021-10-15T14:23:35.581648",
     "exception": false,
     "start_time": "2021-10-15T14:23:35.536392",
     "status": "completed"
    },
    "tags": []
   },
   "outputs": [
    {
     "name": "stdout",
     "output_type": "stream",
     "text": [
      "Apples are 1.5\n",
      "Apples are 5.2\n",
      "Apples are 3.8\n",
      "Plums are 1.5\n",
      "Plums are 5.2\n",
      "Plums are 3.8\n",
      "Oranges are 1.5\n",
      "Oranges are 5.2\n",
      "Oranges are 3.8\n"
     ]
    }
   ],
   "source": [
    "#Creating two lists and a nested loop\n",
    "\n",
    "list1 = ['Apples','Plums','Oranges']\n",
    "list2 = [1.5, 5.2, 3.8]\n",
    "\n",
    "for x in list1:\n",
    "    for y in list2:\n",
    "        print(x,'are',y)"
   ]
  }
 ],
 "metadata": {
  "kernelspec": {
   "display_name": "Python 3",
   "language": "python",
   "name": "python3"
  },
  "language_info": {
   "codemirror_mode": {
    "name": "ipython",
    "version": 3
   },
   "file_extension": ".py",
   "mimetype": "text/x-python",
   "name": "python",
   "nbconvert_exporter": "python",
   "pygments_lexer": "ipython3",
   "version": "3.7.10"
  },
  "papermill": {
   "default_parameters": {},
   "duration": 12.022339,
   "end_time": "2021-10-15T14:23:36.221788",
   "environment_variables": {},
   "exception": null,
   "input_path": "__notebook__.ipynb",
   "output_path": "__notebook__.ipynb",
   "parameters": {},
   "start_time": "2021-10-15T14:23:24.199449",
   "version": "2.3.3"
  }
 },
 "nbformat": 4,
 "nbformat_minor": 5
}
